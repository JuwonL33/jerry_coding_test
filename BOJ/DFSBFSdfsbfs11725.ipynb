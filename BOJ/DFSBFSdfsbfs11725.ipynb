# 트리의 부모 찾기
# https://www.acmicpc.net/problem/11725

import sys
sys.setrecursionlimit(10**6)                # Recursion 에러 발생 시 해당 코드 입력해주면 해결 됨. 
                                            # 에러 발생 원인은 Python이 정한 최대 재귀 깊이보다 재귀의 깊이가 더 깊어졌기 때문.
vendor = int(input())

maps = [ [] for _ in range(vendor+1) ]

for i in range(vendor-1) : 
    a, b = map(int, input().split())
    maps[a].append(b)
    maps[b].append(a)
    
visited_dfs = [False] * (vendor+1)

arr = []

def dfs(start) : 
    for i in maps[start] : 
        print(i)
        if visited_dfs[i] == False : 
            visited_dfs[i] = start
            dfs(i)
            
dfs(1)

for x in range(2, vendor+1) : 
    print(visited_dfs[x])
