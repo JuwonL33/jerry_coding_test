# 최댓값
# https://www.acmicpc.net/problem/2566

arr = []
for _ in range(9) : 
    arr.append(list(map(int, input().split())))

x, y = 1, 1
max_val = 0
for i in range(9) : 
    for j in range(len(arr[i])) :
        if arr[i][j] > max_val :
            max_val = arr[i][j]
            x, y = i+1, j+1
            
print(max_val)
print(x, y)
