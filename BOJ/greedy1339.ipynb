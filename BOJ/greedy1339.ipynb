{
 "cells": [
  {
   "cell_type": "code",
   "execution_count": 16,
   "metadata": {},
   "outputs": [
    {
     "name": "stdout",
     "output_type": "stream",
     "text": [
      "{'A': 222}\n",
      "1998\n"
     ]
    }
   ],
   "source": [
    "# Greedy 1339 단어수학\n",
    "# 자릿수가 클수록 큰 숫자 부여하기\n",
    "\n",
    "n = int(input())\n",
    "dic = dict()\n",
    "\n",
    "for _ in range(n) : \n",
    "    s = input()\n",
    "    l = len(s)\n",
    "    for i, x in enumerate(s) : \n",
    "        dic[x] = dic.get(x, 0) + 10 ** (l-1-i)\n",
    "\n",
    "dd = list(dic.items())\n",
    "dd.sort(key= lambda x : x[1], reverse=True)\n",
    "\n",
    "sum = 0\n",
    "\n",
    "for i, (_, x) in enumerate(dd) : \n",
    "    sum += x * (9-i)\n",
    "\n",
    "print(sum)"
   ]
  }
 ],
 "metadata": {
  "kernelspec": {
   "display_name": "Python 3.10.3 64-bit",
   "metadata": {
    "interpreter": {
     "hash": "98590ff4fe04c8543246b2a01debd3de3c5ca9b666f43f1fa87d5110c692004c"
    }
   },
   "name": "python3"
  },
  "language_info": {
   "codemirror_mode": {
    "name": "ipython",
    "version": 3
   },
   "file_extension": ".py",
   "mimetype": "text/x-python",
   "name": "python",
   "nbconvert_exporter": "python",
   "pygments_lexer": "ipython3",
   "version": "3.10.3"
  },
  "orig_nbformat": 2
 },
 "nbformat": 4,
 "nbformat_minor": 2
}