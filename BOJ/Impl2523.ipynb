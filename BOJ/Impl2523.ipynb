# 별 찍기 - 13
# https://www.acmicpc.net/problem/2523

n = int(input())
for i in range(n) : print('*'*(i+1))
for j in range(n-1, 0, -1) : print('*'*j)
