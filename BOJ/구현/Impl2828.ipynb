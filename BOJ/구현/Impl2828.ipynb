# 사과 담기 게임
# https://www.acmicpc.net/problem/2828

N, M = map(int, input().split())            # N : 스크린 개수, M : 바구니의 길이
j = int(input())                            # 떨어지는 사과의 개수
result = 0                                  # 모든 사과를 담기 위해 바구니가 이동해야 하는 거리의 최솟값

now = 1
apples = []
answer = 0
for _ in range(j) : 
    apples.append(int(input()))

for apple in apples : 
    if now <= apple and now + (M-1) >= apple :  # 움직일 필요 없음
        pass
    elif now > apple : 
        answer += abs(apple - now)              # 상근이가 왼쪽으로 이동해야 할 때
        now = apple                             # 현재 위치를 사과 위치로 변경
    else : 
        answer += apple - (M-1) - now           # 상근이가 오른쪽으로 이동해야 할 때
        now = apple - (M-1)                     # 현재 위치를 사과 위치로 변경

print(answer)
        
