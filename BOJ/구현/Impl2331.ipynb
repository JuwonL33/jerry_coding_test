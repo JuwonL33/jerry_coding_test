# 반복수열
# https://www.acmicpc.net/problem/2331

A, P = map(int, input().split())
arr = [A]

while True : 
    tmp = 0
    for s in str(arr[-1]) : 
        tmp += int(s) ** P 
        
    if tmp in arr : 
        break
    
    arr.append(tmp)
    
print(arr.index(tmp))
