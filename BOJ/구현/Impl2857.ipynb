{
 "cells": [
  {
   "cell_type": "code",
   "execution_count": 5,
   "metadata": {},
   "outputs": [
    {
     "name": "stdout",
     "output_type": "stream",
     "text": [
      "1 3 5 "
     ]
    }
   ],
   "source": [
    "# FBI\n",
    "# https://www.acmicpc.net/problem/2857 \n",
    "\n",
    "arr = list(input() for i in range(5))\n",
    "\n",
    "answer = []\n",
    "for i in range(5) : \n",
    "    if arr[i].find(\"FBI\") > -1 :  \n",
    "        answer.append(i+1)\n",
    "\n",
    "if len(answer) > 0 : \n",
    "    for ans in answer : \n",
    "        print(ans, end = ' ')\n",
    "else : print(\"HE GOT AWAY!\")"
   ]
  }
 ],
 "metadata": {
  "kernelspec": {
   "display_name": "Python 3.10.3 64-bit",
   "metadata": {
    "interpreter": {
     "hash": "98590ff4fe04c8543246b2a01debd3de3c5ca9b666f43f1fa87d5110c692004c"
    }
   },
   "name": "python3"
  },
  "language_info": {
   "codemirror_mode": {
    "name": "ipython",
    "version": 3
   },
   "file_extension": ".py",
   "mimetype": "text/x-python",
   "name": "python",
   "nbconvert_exporter": "python",
   "pygments_lexer": "ipython3",
   "version": "3.10.3-final"
  },
  "orig_nbformat": 2
 },
 "nbformat": 4,
 "nbformat_minor": 2
}