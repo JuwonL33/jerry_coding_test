# 빙고
# https://www.acmicpc.net/problem/2578

bingoCanvas = []                                              # 빙고판
cnt = 0                                                 # 호명하는 숫자 카운트
call = []                                               # 호명하는 순서 담음

def check() : 
    bingo = 0

    # 가로 확인
    for c in bingoCanvas : 
        if c.count(0) == 5 : 
            bingo += 1
    # 세로 확인
    for i in range(5) : 
        y = 0
        for j in range(5) : 
            if bingoCanvas[j][i] == 0 :
                y += 1
                
        if y == 5 : bingo += 1
        
    # 왼쪽위 시작 대각선
    l1 = 0
    for i in range(5) : 
        if bingoCanvas[i][i] == 0 : l1 += 1
    
    if l1 == 5 : bingo += 1
    
    # 오른쪽위 시작 대각선
    r1 = 0
    for i in range(5) : 
        if bingoCanvas[i][4-i] == 0 : r1 += 1
        
    if r1 == 5 : bingo += 1

    return bingo


for _ in range(5) : bingoCanvas.append(list(map(int, input().split())))       # 1~5줄 빙고판에 들어갈 값
 
for _ in range(5) : call += list(map(int, input().split()))             # 6~10줄 호명하는 순서를 입력받음
    
for i in range(25) : 
    for x in range(5) : 
        for y in range(5) : 
            if bingoCanvas[x][y] == call[i] : 
                bingoCanvas[x][y] = 0
                cnt += 1
    if cnt >= 12 : 
        answer = check()
        
        if answer >= 3 : 
            print(i+1)
            break
