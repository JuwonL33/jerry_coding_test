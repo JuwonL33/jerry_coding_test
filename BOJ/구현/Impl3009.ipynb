{
 "cells": [
  {
   "cell_type": "code",
   "execution_count": 2,
   "metadata": {},
   "outputs": [
    {
     "name": "stdout",
     "output_type": "stream",
     "text": [
      "30 10\n"
     ]
    }
   ],
   "source": [
    "# 네 번째 점\n",
    "# https://www.acmicpc.net/problem/3009\n",
    "\n",
    "x = []\n",
    "y = []\n",
    "for _ in range(3) : \n",
    "    tmp = list(map(int, input().split()))\n",
    "    x.append(tmp[0])\n",
    "    y.append(tmp[1])\n",
    "    \n",
    "answer_x, answer_y = 0, 0\n",
    "\n",
    "for i in range(3) : \n",
    "    if x.count(x[i]) == 1 : \n",
    "        answer_x = x[i]\n",
    "    if y.count(y[i]) == 1 : \n",
    "        answer_y = y[i]\n",
    "\n",
    "print(answer_x, answer_y)"
   ]
  }
 ],
 "metadata": {
  "kernelspec": {
   "display_name": "Python 3.10.3 64-bit",
   "metadata": {
    "interpreter": {
     "hash": "98590ff4fe04c8543246b2a01debd3de3c5ca9b666f43f1fa87d5110c692004c"
    }
   },
   "name": "python3"
  },
  "language_info": {
   "codemirror_mode": {
    "name": "ipython",
    "version": 3
   },
   "file_extension": ".py",
   "mimetype": "text/x-python",
   "name": "python",
   "nbconvert_exporter": "python",
   "pygments_lexer": "ipython3",
   "version": "3.10.3"
  },
  "orig_nbformat": 2
 },
 "nbformat": 4,
 "nbformat_minor": 2
}