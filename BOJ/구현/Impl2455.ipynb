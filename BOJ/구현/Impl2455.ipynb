{
 "cells": [
  {
   "cell_type": "code",
   "execution_count": 6,
   "metadata": {},
   "outputs": [
    {
     "name": "stdout",
     "output_type": "stream",
     "text": [
      "74\n"
     ]
    }
   ],
   "source": [
    "# 지능형 기차\n",
    "# https://www.acmicpc.net/problem/2455\n",
    "\n",
    "b = [ list(map(int, input().split())) for _ in range(4) ]\n",
    "passengers = [b[0][1]]\n",
    "for i in range(1, 4) : \n",
    "    tmp = passengers[-1] - b[i][0]+b[i][1]\n",
    "    passengers.append(tmp)\n",
    "print(max(passengers))"
   ]
  },
  {
   "cell_type": "code",
   "execution_count": 5,
   "metadata": {},
   "outputs": [
    {
     "name": "stdout",
     "output_type": "stream",
     "text": [
      "42\n"
     ]
    }
   ],
   "source": [
    "result = 0\n",
    "for _ in range(4) : \n",
    "    x, y = map(int, input().split())\n",
    "    result = max(result, result + y - x)\n",
    "\n",
    "print(result)"
   ]
  }
 ],
 "metadata": {
  "kernelspec": {
   "display_name": "Python 3.10.3 64-bit",
   "metadata": {
    "interpreter": {
     "hash": "98590ff4fe04c8543246b2a01debd3de3c5ca9b666f43f1fa87d5110c692004c"
    }
   },
   "name": "python3"
  },
  "language_info": {
   "codemirror_mode": {
    "name": "ipython",
    "version": 3
   },
   "file_extension": ".py",
   "mimetype": "text/x-python",
   "name": "python",
   "nbconvert_exporter": "python",
   "pygments_lexer": "ipython3",
   "version": "3.10.3"
  },
  "orig_nbformat": 2
 },
 "nbformat": 4,
 "nbformat_minor": 2
}