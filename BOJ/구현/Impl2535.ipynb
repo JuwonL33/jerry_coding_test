{
 "cells": [
  {
   "cell_type": "code",
   "execution_count": 2,
   "metadata": {},
   "outputs": [
    {
     "name": "stdout",
     "output_type": "stream",
     "text": [
      "1 1\n",
      "1 2\n",
      "3 4\n"
     ]
    }
   ],
   "source": [
    "# 아시아 정보올림피아드\n",
    "# https://www.acmicpc.net/problem/2535\n",
    "\n",
    "T = int(input())\n",
    "arr = []\n",
    "cnt = 0\n",
    "for _ in range(T) : \n",
    "    case = list(map(int, input().split()))\n",
    "    arr.append(case)\n",
    "\n",
    "arr = sorted(arr, key=lambda x: -x[2])\n",
    "print(arr[0][0], arr[0][1])\n",
    "print(arr[1][0], arr[1][1])\n",
    "if arr[0][0] == arr[1][0] : cnt = 1\n",
    "\n",
    "for i in range(2, T) : \n",
    "    if cnt == 0 : \n",
    "        print(arr[i][0], arr[i][1])\n",
    "        break\n",
    "    else : \n",
    "        if arr[1][0] != arr[i][0] : \n",
    "            print(arr[i][0], arr[i][1])\n",
    "            break"
   ]
  }
 ],
 "metadata": {
  "kernelspec": {
   "display_name": "Python 3.10.3 64-bit",
   "metadata": {
    "interpreter": {
     "hash": "98590ff4fe04c8543246b2a01debd3de3c5ca9b666f43f1fa87d5110c692004c"
    }
   },
   "name": "python3"
  },
  "language_info": {
   "codemirror_mode": {
    "name": "ipython",
    "version": 3
   },
   "file_extension": ".py",
   "mimetype": "text/x-python",
   "name": "python",
   "nbconvert_exporter": "python",
   "pygments_lexer": "ipython3",
   "version": "3.10.3"
  },
  "orig_nbformat": 2
 },
 "nbformat": 4,
 "nbformat_minor": 2
}