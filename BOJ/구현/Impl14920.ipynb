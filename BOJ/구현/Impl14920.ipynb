# 3n+1 수열
# https://www.acmicpc.net/problem/14920

n = int(input())
i = 1 

while n != 1 : 
    if n % 2 :
        n = 3*n + 1
    else : 
        n = n // 2
    i += 1

print(i)
