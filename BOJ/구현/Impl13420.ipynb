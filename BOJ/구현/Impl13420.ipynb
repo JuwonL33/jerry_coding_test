# 사칙연산
# https://www.acmicpc.net/problem/13420

for _ in range(int(input())) : 
    case, answer = map(str, input().split('='))
    
    if eval(case) == int(answer) : 
        print("correct")
    else : print("wrong answer")
