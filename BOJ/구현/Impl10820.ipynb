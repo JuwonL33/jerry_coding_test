# 문자열 분석
# https://www.acmicpc.net/problem/10820

while True : 
    try : 
        case = input()
        l, u, d, b = 0, 0, 0, 0
        for c in case : 
            if c.islower() : l += 1
            elif c.isupper() : u += 1
            elif c.isdigit() : d += 1
            else : b += 1
        
        print(l, u, d, b)
    except EOFError : 
        break
