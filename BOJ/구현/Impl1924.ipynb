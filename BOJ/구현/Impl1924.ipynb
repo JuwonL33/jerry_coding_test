{
 "cells": [
  {
   "cell_type": "code",
   "execution_count": 7,
   "metadata": {},
   "outputs": [
    {
     "name": "stdout",
     "output_type": "stream",
     "text": [
      "SUN\n"
     ]
    }
   ],
   "source": [
    "# 2007년\n",
    "# https://www.acmicpc.net/problem/1924\n",
    "\n",
    "x, y = map(int, input().split())                            # x월 y일\n",
    "dayofweek = ['SUN', 'MON', 'TUE', 'WED', 'THU', 'FRI', 'SAT']\n",
    "monList = [31, 28, 31, 30, 31, 30, 31, 31, 30, 31, 30, 31]\n",
    "day = 0\n",
    "for i in range(x-1) : \n",
    "    day = day + monList[i]\n",
    "\n",
    "day = (day + y) % 7\n",
    "\n",
    "print(dayofweek[day])\n"
   ]
  },
  {
   "cell_type": "code",
   "execution_count": null,
   "metadata": {},
   "outputs": [],
   "source": [
    "# 2007년\n",
    "# https://www.acmicpc.net/problem/1924\n",
    "\n",
    "x, y = map(int, input().split())                            # x월 y일\n",
    "dayofweek = ['SUN', 'MON', 'TUE', 'WED', 'THU', 'FRI', 'SAT']\n",
    "mon = [0, 0, 3, 3, 6, 1, 4, 6, 2, 5, 0, 3, 5]\n",
    "num = (mon[x] + y) % 7\n",
    "print(dayofweek[num])\n"
   ]
  }
 ],
 "metadata": {
  "kernelspec": {
   "display_name": "Python 3.10.3 64-bit",
   "metadata": {
    "interpreter": {
     "hash": "98590ff4fe04c8543246b2a01debd3de3c5ca9b666f43f1fa87d5110c692004c"
    }
   },
   "name": "python3"
  },
  "language_info": {
   "codemirror_mode": {
    "name": "ipython",
    "version": 3
   },
   "file_extension": ".py",
   "mimetype": "text/x-python",
   "name": "python",
   "nbconvert_exporter": "python",
   "pygments_lexer": "ipython3",
   "version": "3.10.3"
  },
  "orig_nbformat": 2
 },
 "nbformat": 4,
 "nbformat_minor": 2
}