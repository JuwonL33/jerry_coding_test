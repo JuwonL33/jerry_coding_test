# 17배
# https://www.acmicpc.net/problem/5893

N = input()
convert10 = int(N, 2)
if str(bin(convert10*17))[:2] == '0b' : print(str(bin(convert10*17))[2:])
else : str(bin(convert10*17))
