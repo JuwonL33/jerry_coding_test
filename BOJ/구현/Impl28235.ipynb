{
 "cells": [
  {
   "cell_type": "code",
   "execution_count": null,
   "metadata": {},
   "outputs": [],
   "source": [
    "# 코드마스터 2023\n",
    "# https://www.acmicpc.net/problem/28235\n",
    "\n",
    "case = input()\n",
    "\n",
    "if case == 'SONGDO' : \n",
    "    print(\"HIGHSCHOOL\")\n",
    "elif case == 'CODE' : \n",
    "    print(\"MASTER\")\n",
    "elif case == '2023' : \n",
    "    print(\"0611\")\n",
    "else : \n",
    "    print(\"CONTEST\")"
   ]
  }
 ],
 "metadata": {
  "kernelspec": {
   "display_name": "Python 3.10.3 64-bit",
   "metadata": {
    "interpreter": {
     "hash": "98590ff4fe04c8543246b2a01debd3de3c5ca9b666f43f1fa87d5110c692004c"
    }
   },
   "name": "python3"
  },
  "language_info": {
   "name": "python",
   "nbconvert_exporter": "python",
   "version": "3.10.3-final"
  },
  "orig_nbformat": 2
 },
 "nbformat": 4,
 "nbformat_minor": 2
}