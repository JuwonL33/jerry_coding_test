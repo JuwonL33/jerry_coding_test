# 심부름 가는 길
# https://www.acmicpc.net/problem/5554

arr = []
for _ in range(4) : 
    arr.append(int(input()))
    
x = sum(arr) // 60
y = sum(arr) % 60

print(x)
print(y)
