# 커트라인
# https://www.acmicpc.net/problem/25305

n, k = map(int, input().split())
arr = list(map(int, input().split()))
arr = sorted(arr, reverse=True)

print(arr[k-1])
