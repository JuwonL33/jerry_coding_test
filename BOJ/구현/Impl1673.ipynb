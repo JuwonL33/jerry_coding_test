{
 "cells": [
  {
   "cell_type": "code",
   "execution_count": 4,
   "metadata": {},
   "outputs": [],
   "source": [
    "# 치킨 쿠폰\n",
    "# https://www.acmicpc.net/problem/1673\n",
    "\n",
    "while 1 : \n",
    "    try : \n",
    "        n, k = map(int, input().split())\n",
    "        chicken = 0\n",
    "        chicken += n\n",
    "        while n // k : \n",
    "            chicken += n // k\n",
    "            n = n//k + n%k\n",
    "        print(chicken)\n",
    "    except : # except EOFError : 생략해도 알아서 예외처리 해줌\n",
    "        break"
   ]
  }
 ],
 "metadata": {
  "kernelspec": {
   "display_name": "Python 3.10.3 64-bit",
   "metadata": {
    "interpreter": {
     "hash": "98590ff4fe04c8543246b2a01debd3de3c5ca9b666f43f1fa87d5110c692004c"
    }
   },
   "name": "python3"
  },
  "language_info": {
   "codemirror_mode": {
    "name": "ipython",
    "version": 3
   },
   "file_extension": ".py",
   "mimetype": "text/x-python",
   "name": "python",
   "nbconvert_exporter": "python",
   "pygments_lexer": "ipython3",
   "version": "3.10.3"
  },
  "orig_nbformat": 2
 },
 "nbformat": 4,
 "nbformat_minor": 2
}