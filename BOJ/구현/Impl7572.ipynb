# 간지
# https://www.acmicpc.net/problem/7572

TEN = [ str(i) for i in range(0, 10) ]
TWELVE = [ chr(65+i).upper() for i in range(0, 12) ]


ten = [4,5,6,7,8,9,0,1,2,3]
twelve = [4,5,6,7,8,9,10,11,0,1,2,3]

case = input()

a=ten.index(int(case[-1]))
b=twelve.index(int(case) % 12)

print(TWELVE[b]+TEN[a])
