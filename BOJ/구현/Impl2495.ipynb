# 연속구간
# https://www.acmicpc.net/problem/2495

for _ in range(3) :
    case = input()
    current_max = 1
    result = 1              # 연속해서 나온 구간의 길이

    for i in range(1, 8) : 
        if case[i-1] == case[i] : result += 1
        else : 
            current_max = max(current_max, result)
            result = 1
    current_max = max(current_max, result)
    print(current_max)
