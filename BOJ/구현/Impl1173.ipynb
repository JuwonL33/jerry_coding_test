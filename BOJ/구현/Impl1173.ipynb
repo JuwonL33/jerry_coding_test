# 운동
# https://www.acmicpc.net/problem/1173

N, m, M, T, R = map(int, input().split())

time = total = 0
X = m

if m + T > M : 
    print(-1)
else : 
    while time < N : 
        if X + T <= M : 
            X += T
            time += 1
            total += 1
        else : 
            X -= R
            if X < m : 
                X = m
            total += 1
    print(total)
