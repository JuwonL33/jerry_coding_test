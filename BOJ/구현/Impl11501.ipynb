{
 "cells": [
  {
   "cell_type": "code",
   "execution_count": 1,
   "metadata": {},
   "outputs": [
    {
     "name": "stdout",
     "output_type": "stream",
     "text": [
      "0\n",
      "10\n",
      "5\n"
     ]
    }
   ],
   "source": [
    "# 주식\n",
    "# https://www.acmicpc.net/problem/11501\n",
    "\n",
    "T = int(input()) \n",
    "for _ in range(T) :   \n",
    "    day = int(input())\n",
    "    stock = list(map(int, input().split()))\n",
    "    stock.reverse()\n",
    "    max_stock = stock[0]\n",
    "    result = 0                               # 최대 이익이 될 정수\n",
    "    \n",
    "    for i in range(1, day) : \n",
    "        if max_stock < stock[i] : \n",
    "            max_stock = stock[i]\n",
    "            continue\n",
    "        result += max_stock - stock[i] \n",
    "    \n",
    "    print(result) "
   ]
  }
 ],
 "metadata": {
  "kernelspec": {
   "display_name": "Python 3.10.3 64-bit",
   "metadata": {
    "interpreter": {
     "hash": "98590ff4fe04c8543246b2a01debd3de3c5ca9b666f43f1fa87d5110c692004c"
    }
   },
   "name": "python3"
  },
  "language_info": {
   "codemirror_mode": {
    "name": "ipython",
    "version": 3
   },
   "file_extension": ".py",
   "mimetype": "text/x-python",
   "name": "python",
   "nbconvert_exporter": "python",
   "pygments_lexer": "ipython3",
   "version": "3.10.3"
  },
  "orig_nbformat": 2
 },
 "nbformat": 4,
 "nbformat_minor": 2
}