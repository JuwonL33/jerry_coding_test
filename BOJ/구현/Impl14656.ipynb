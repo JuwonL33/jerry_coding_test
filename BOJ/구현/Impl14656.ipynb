# 조교는 새디스트야!!
# https://www.acmicpc.net/problem/14656

N = int(input())
arr = list(map(int, input().split()))

result = 0

for i in range(N) : 
    if arr[i] != i+1 : 
        result += 1

print(result)
