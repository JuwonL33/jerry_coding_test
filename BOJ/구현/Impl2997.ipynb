{
 "cells": [
  {
   "cell_type": "code",
   "execution_count": 8,
   "metadata": {},
   "outputs": [
    {
     "name": "stdout",
     "output_type": "stream",
     "text": [
      "5\n"
     ]
    }
   ],
   "source": [
    "# 네 번째 수\n",
    "# https://www.acmicpc.net/problem/2997\n",
    "\n",
    "arr = list(map(int, input().split()))\n",
    "arr.sort()\n",
    "\n",
    "gap1, gap2 = arr[1]-arr[0], arr[2]-arr[1]\n",
    "# print(gap1, gap2)\n",
    "\n",
    "if gap1 == gap2 : \n",
    "    if arr[-1] + gap1 <= 100 : \n",
    "        print(arr[-1]+gap1)\n",
    "    else : \n",
    "        print(arr[0]-gap1)\n",
    "elif gap1 * 2 == gap2 : \n",
    "    print(arr[1] + gap1)\n",
    "elif gap1 == gap2 * 2 : \n",
    "    print(arr[0]+gap2)"
   ]
  }
 ],
 "metadata": {
  "kernelspec": {
   "display_name": "Python 3.10.3 64-bit",
   "metadata": {
    "interpreter": {
     "hash": "98590ff4fe04c8543246b2a01debd3de3c5ca9b666f43f1fa87d5110c692004c"
    }
   },
   "name": "python3"
  },
  "language_info": {
   "codemirror_mode": {
    "name": "ipython",
    "version": 3
   },
   "file_extension": ".py",
   "mimetype": "text/x-python",
   "name": "python",
   "nbconvert_exporter": "python",
   "pygments_lexer": "ipython3",
   "version": "3.10.3"
  },
  "orig_nbformat": 2
 },
 "nbformat": 4,
 "nbformat_minor": 2
}