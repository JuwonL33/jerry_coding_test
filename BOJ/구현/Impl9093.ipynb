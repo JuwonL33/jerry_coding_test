# 단어 뒤집기
# https://www.acmicpc.net/problem/9093

n = int(input())            # Test Case 수
while True : 
    if n == 0 :
        break
    arr = list(map(str, input().split()))
    for a in arr : 
        print(a[::-1], end = ' ')
    print()
    n -= 1
