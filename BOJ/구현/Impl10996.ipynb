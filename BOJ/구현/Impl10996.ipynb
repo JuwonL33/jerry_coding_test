{
 "cells": [
  {
   "cell_type": "code",
   "execution_count": 9,
   "metadata": {},
   "outputs": [
    {
     "name": "stdout",
     "output_type": "stream",
     "text": [
      "* * *\n",
      " * *\n",
      "* * *\n",
      " * *\n",
      "* * *\n",
      " * *\n",
      "* * *\n",
      " * *\n",
      "* * *\n",
      " * *\n"
     ]
    }
   ],
   "source": [
    "# 별 찍기 - 21\n",
    "# https://www.acmicpc.net/problem/10996\n",
    "\n",
    "n = int(input())\n",
    "if n == 1 : \n",
    "    print(\"*\")\n",
    "else : \n",
    "    for i in range(n*2) : \n",
    "        if i % 2 == 0 : \n",
    "            if n % 2 == 1 : \n",
    "                print(\"* \"*(n//2)+\"*\")\n",
    "            else : print(\"* \"*(n//2))\n",
    "        else : \n",
    "            print(\" *\"*(n//2))\n"
   ]
  }
 ],
 "metadata": {
  "kernelspec": {
   "display_name": "Python 3.10.3 64-bit",
   "metadata": {
    "interpreter": {
     "hash": "98590ff4fe04c8543246b2a01debd3de3c5ca9b666f43f1fa87d5110c692004c"
    }
   },
   "name": "python3"
  },
  "language_info": {
   "codemirror_mode": {
    "name": "ipython",
    "version": 3
   },
   "file_extension": ".py",
   "mimetype": "text/x-python",
   "name": "python",
   "nbconvert_exporter": "python",
   "pygments_lexer": "ipython3",
   "version": "3.10.3"
  },
  "orig_nbformat": 2
 },
 "nbformat": 4,
 "nbformat_minor": 2
}