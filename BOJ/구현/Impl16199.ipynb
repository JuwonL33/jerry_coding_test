# 나이 계산하기
# https://www.acmicpc.net/problem/16199

birth_y, birth_m, birth_d = map(int, input().split())
curr_y, curr_m, curr_d = map(int, input().split())

# 만 나이
if curr_m > birth_m or (curr_m == birth_m and curr_d >= birth_d) : 
    print(curr_y - birth_y)
else : 
    print(curr_y - birth_y - 1)

# 세는 나이
print(curr_y - birth_y + 1)

# 연나이
print(curr_y - birth_y)
