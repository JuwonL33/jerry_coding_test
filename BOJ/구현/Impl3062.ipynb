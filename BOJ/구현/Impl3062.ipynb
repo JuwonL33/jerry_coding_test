# 수 뒤집기
# https://www.acmicpc.net/problem/3062

T = int(input())
for _ in range(T) : 
    case = int(input())
    tmp_result = case + int(str(case)[::-1])
    A, B = str(tmp_result), str(tmp_result)[::-1]
    if A == B : print("YES")
    else : print("NO")
