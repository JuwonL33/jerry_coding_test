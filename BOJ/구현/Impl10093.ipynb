# 숫자
# https://www.acmicpc.net/problem/10093

A, B = map(int, input().split())

big, small = max(A, B), min(A, B)
if big != small : 
    print(big-small-1)
    for i in range(small+1, big) : 
        print(i, end = ' ')
elif big - small == 1 or small == big: 
    print(0)
