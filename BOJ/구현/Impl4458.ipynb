# 첫 글자를 대문자로
# https://www.acmicpc.net/problem/4458

for _ in range(int(input())) : 
    case = input()
    print(case[0].upper()+case[1:])
