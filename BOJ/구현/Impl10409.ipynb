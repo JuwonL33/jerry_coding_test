# 서버
# https://www.acmicpc.net/problem/10409

n, t = map(int, input().split())
arr = list(map(int, input().split()))

for i in range(n) : 
    if sum(arr[:i+1]) > t : 
        print(i)
        break
    elif i == n-1 : 
        print(n)
