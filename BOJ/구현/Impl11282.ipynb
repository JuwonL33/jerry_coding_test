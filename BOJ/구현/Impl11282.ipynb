# 제출
# https://www.acmicpc.net/submit/11282

# 한글 유니코드 44032부터 시작함

print(chr(44031+int(input())))
