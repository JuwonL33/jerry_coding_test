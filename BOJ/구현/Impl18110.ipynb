{
 "cells": [
  {
   "cell_type": "code",
   "execution_count": 8,
   "metadata": {},
   "outputs": [
    {
     "name": "stdout",
     "output_type": "stream",
     "text": [
      "6\n"
     ]
    }
   ],
   "source": [
    "# solved.ac\n",
    "# https://www.acmicpc.net/problem/18110\n",
    "\n",
    "import sys\n",
    "\n",
    "def trimmedAvg(val) : \n",
    "    return int(val) + (1 if val - int(val) >= 0.5 else 0)\n",
    "\n",
    "n = int(input())                                # 난이도 의견 개수\n",
    "arr = []\n",
    "if n == 0 : \n",
    "    print(0)\n",
    "else : \n",
    "    for i in range(n) : \n",
    "        arr.append(int(sys.stdin.readline().strip()))\n",
    "    trunc = trimmedAvg(n * 0.15)\n",
    "    arr2 = sorted(arr)[trunc:n-trunc]            # 상하위 30%를 제하기 위해 배열 정렬\n",
    "    print(trimmedAvg(sum(arr2) / len(arr2)))"
   ]
  }
 ],
 "metadata": {
  "kernelspec": {
   "display_name": "Python 3.10.3 64-bit",
   "metadata": {
    "interpreter": {
     "hash": "98590ff4fe04c8543246b2a01debd3de3c5ca9b666f43f1fa87d5110c692004c"
    }
   },
   "name": "python3"
  },
  "language_info": {
   "codemirror_mode": {
    "name": "ipython",
    "version": 3
   },
   "file_extension": ".py",
   "mimetype": "text/x-python",
   "name": "python",
   "nbconvert_exporter": "python",
   "pygments_lexer": "ipython3",
   "version": "3.10.3"
  },
  "orig_nbformat": 2
 },
 "nbformat": 4,
 "nbformat_minor": 2
}