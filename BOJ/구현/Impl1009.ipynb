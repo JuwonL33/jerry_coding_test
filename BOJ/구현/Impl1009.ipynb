{
 "cells": [
  {
   "cell_type": "code",
   "execution_count": 24,
   "metadata": {},
   "outputs": [
    {
     "name": "stdout",
     "output_type": "stream",
     "text": [
      "6\n"
     ]
    }
   ],
   "source": [
    "# 분산처리\n",
    "# https://www.acmicpc.net/problem/1009\n",
    "\n",
    "t = int(input())\n",
    "\n",
    "for _ in range(t) : \n",
    "    a, b = map(int, input().split())\n",
    "    a = a % 10\n",
    "    if a == 0 : \n",
    "        res = 10\n",
    "    elif a in [1, 5, 6] : \n",
    "        res = a\n",
    "    elif a in [4, 9] : \n",
    "        b = b % 2\n",
    "        if b == 1 : \n",
    "            res = a\n",
    "        else : \n",
    "            res = (a*a)% 10\n",
    "    else : \n",
    "        b = b % 4\n",
    "        if b == 0 : \n",
    "            res = ((a ** 4) % 10 % 10 % 10)\n",
    "        else : \n",
    "            res = ((a ** b) % 10 % 10 % 10)\n",
    "    print(res)"
   ]
  }
 ],
 "metadata": {
  "kernelspec": {
   "display_name": "Python 3.10.3 64-bit",
   "metadata": {
    "interpreter": {
     "hash": "98590ff4fe04c8543246b2a01debd3de3c5ca9b666f43f1fa87d5110c692004c"
    }
   },
   "name": "python3"
  },
  "language_info": {
   "codemirror_mode": {
    "name": "ipython",
    "version": 3
   },
   "file_extension": ".py",
   "mimetype": "text/x-python",
   "name": "python",
   "nbconvert_exporter": "python",
   "pygments_lexer": "ipython3",
   "version": "3.10.3"
  },
  "orig_nbformat": 2
 },
 "nbformat": 4,
 "nbformat_minor": 2
}