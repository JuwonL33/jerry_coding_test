# 삼각수의 합
# https://www.acmicpc.net/problem/2721

T = int(input())
for _ in range(T) : 
    n = int(input())
    res = sum(k*sum(range(k+2)) for k in range(1, n+1))
    print(res)
