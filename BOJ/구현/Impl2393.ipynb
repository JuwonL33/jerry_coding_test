{
 "cells": [
  {
   "cell_type": "code",
   "execution_count": 1,
   "metadata": {},
   "outputs": [
    {
     "ename": "SyntaxError",
     "evalue": "unterminated string literal (detected at line 15) (1851582141.py, line 15)",
     "output_type": "error",
     "traceback": [
      "\u001b[0;36m  Input \u001b[0;32mIn [1]\u001b[0;36m\u001b[0m\n\u001b[0;31m    print(\" /             \\\")\u001b[0m\n\u001b[0m          ^\u001b[0m\n\u001b[0;31mSyntaxError\u001b[0m\u001b[0;31m:\u001b[0m unterminated string literal (detected at line 15)\n"
     ]
    }
   ],
   "source": [
    "# Rook\n",
    "# https://www.acmicpc.net/problem/2393\n",
    "\n",
    "print(\"  ___  ___  ___\")\n",
    "print(\"  | |__| |__| |\")\n",
    "print(\"  |           |\")\n",
    "print(\"   \\_________/\")\n",
    "print(\"    \\_______/\")\n",
    "print(\"     |     |\")\n",
    "print(\"     |     |\")\n",
    "print(\"     |     |\")\n",
    "print(\"     |     |\")\n",
    "print(\"     |_____|\")\n",
    "print(\"  __/       \\__\")\n",
    "print(\" /             \\\\\")\n",
    "print(\"/_______________\\\\\")"
   ]
  }
 ],
 "metadata": {
  "kernelspec": {
   "display_name": "Python 3.10.3 64-bit",
   "metadata": {
    "interpreter": {
     "hash": "98590ff4fe04c8543246b2a01debd3de3c5ca9b666f43f1fa87d5110c692004c"
    }
   },
   "name": "python3"
  },
  "language_info": {
   "codemirror_mode": {
    "name": "ipython",
    "version": 3
   },
   "file_extension": ".py",
   "mimetype": "text/x-python",
   "name": "python",
   "nbconvert_exporter": "python",
   "pygments_lexer": "ipython3",
   "version": "3.10.3"
  },
  "orig_nbformat": 2
 },
 "nbformat": 4,
 "nbformat_minor": 2
}