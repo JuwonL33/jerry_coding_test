# 이진수 변환
# https://www.acmicpc.net/problem/10829

N = int(input())
print(str(bin(N))[2:])
