# 팀 이름 정하기#
# https://www.acmicpc.net/problem/1296

from collections import Counter
from itertools import combinations

L, O, V, E = 0, 0, 0, 0

def calPercentage(name, case) : 
    percentage = 0
    love_dict = {
        "L" : 0,
        "O" : 0,
        "V" : 0,
        "E" : 0
    }
    for n in "LOVE" : 
        love_dict[n] += name.count(n)
        love_dict[n] += case.count(n)
    
    tmp_percentage = 1             

    for i in combinations(list(love_dict.values()), 2) : 
        tmp_percentage *= sum(i)
    percentage = tmp_percentage % 100
    return percentage

dic = dict()
name = input()
T = int(input())
for _ in range(T) : 
    case = input()
    dic[case] = calPercentage(name, case)

dic = sorted(dic.items(), key = lambda x : (-x[1], x[0]))       # 정렬 key값 앞에 -를 붙이면 desc, 표시가 없으면 asc
print(dic[0][0])
