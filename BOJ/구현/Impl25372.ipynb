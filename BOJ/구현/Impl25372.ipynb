{
 "cells": [
  {
   "cell_type": "code",
   "execution_count": null,
   "metadata": {},
   "outputs": [],
   "source": [
    "# 성택이의 은밀한 비밀번호\n",
    "# https://www.acmicpc.net/problem/25372\n",
    "\n",
    "for _ in range(int(input())) : \n",
    "    password = input()\n",
    "    if len(password) >= 6 and len(password) <= 9 : print(\"yes\")\n",
    "    else : print(\"no\")"
   ]
  }
 ],
 "metadata": {
  "kernelspec": {
   "display_name": "Python 3.10.3 64-bit",
   "metadata": {
    "interpreter": {
     "hash": "98590ff4fe04c8543246b2a01debd3de3c5ca9b666f43f1fa87d5110c692004c"
    }
   },
   "name": "python3"
  },
  "language_info": {
   "name": "python",
   "nbconvert_exporter": "python",
   "version": "3.10.3-final"
  },
  "orig_nbformat": 2
 },
 "nbformat": 4,
 "nbformat_minor": 2
}