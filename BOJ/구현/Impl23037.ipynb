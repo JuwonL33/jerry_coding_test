# 5의 수난
# https://www.acmicpc.net/problem/23037

num = input()
result = 0

for i in num : result += int(i) ** 5

print(result)
