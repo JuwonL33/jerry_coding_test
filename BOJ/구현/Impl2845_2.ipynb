# 파티가 끝나고 난 뒤
# https://www.acmicpc.net/problem/2845

num, width = map(int, input().split())
peoples = list(map(int, input().split()))

for people in peoples : print(people-(num*width), end=' ')
