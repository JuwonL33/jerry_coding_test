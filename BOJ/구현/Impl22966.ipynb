{
 "cells": [
  {
   "cell_type": "code",
   "execution_count": 4,
   "metadata": {},
   "outputs": [
    {
     "name": "stdout",
     "output_type": "stream",
     "text": [
      "[('BCDEF', 2), ('CDEFG', 3), ('ABCDE', 4)]\n"
     ]
    }
   ],
   "source": [
    "# 가장 쉬운 문제를 찾는 문제\n",
    "# https://www.acmicpc.net/problem/22966\n",
    "\n",
    "N = int(input())\n",
    "dic = {}\n",
    "\n",
    "for _ in range(N) : \n",
    "    title, level = map(str, input().split())\n",
    "    dic[title] = int(level)\n",
    "\n",
    "result = sorted(dic.items(), key=lambda x:x[1])\n",
    "print(result[0][0])"
   ]
  }
 ],
 "metadata": {
  "kernelspec": {
   "display_name": "Python 3.10.3 64-bit",
   "metadata": {
    "interpreter": {
     "hash": "98590ff4fe04c8543246b2a01debd3de3c5ca9b666f43f1fa87d5110c692004c"
    }
   },
   "name": "python3"
  },
  "language_info": {
   "codemirror_mode": {
    "name": "ipython",
    "version": 3
   },
   "file_extension": ".py",
   "mimetype": "text/x-python",
   "name": "python",
   "nbconvert_exporter": "python",
   "pygments_lexer": "ipython3",
   "version": "3.10.3"
  },
  "orig_nbformat": 2
 },
 "nbformat": 4,
 "nbformat_minor": 2
}