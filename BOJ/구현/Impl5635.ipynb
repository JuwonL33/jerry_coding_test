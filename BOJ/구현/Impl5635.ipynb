{
 "cells": [
  {
   "cell_type": "code",
   "execution_count": 9,
   "metadata": {},
   "outputs": [
    {
     "name": "stdout",
     "output_type": "stream",
     "text": [
      "Tom\n",
      "Jerry\n"
     ]
    }
   ],
   "source": [
    "# 생일\n",
    "# https://www.acmicpc.net/problem/5635\n",
    "\n",
    "from datetime import datetime\n",
    "\n",
    "T = int(input())\n",
    "arr = {}\n",
    "for _ in range(T) : \n",
    "    name, day, month, year = map(str, input().split())\n",
    "    today = datetime.today()\n",
    "    curr_age = today - datetime(int(year), int(month), int(day))\n",
    "    arr[name] = curr_age\n",
    "# print(arr)\n",
    "print(min(arr, key=arr.get))\n",
    "print(max(arr, key=arr.get))"
   ]
  }
 ],
 "metadata": {
  "kernelspec": {
   "display_name": "Python 3.10.3 64-bit",
   "metadata": {
    "interpreter": {
     "hash": "98590ff4fe04c8543246b2a01debd3de3c5ca9b666f43f1fa87d5110c692004c"
    }
   },
   "name": "python3"
  },
  "language_info": {
   "codemirror_mode": {
    "name": "ipython",
    "version": 3
   },
   "file_extension": ".py",
   "mimetype": "text/x-python",
   "name": "python",
   "nbconvert_exporter": "python",
   "pygments_lexer": "ipython3",
   "version": "3.10.3"
  },
  "orig_nbformat": 2
 },
 "nbformat": 4,
 "nbformat_minor": 2
}