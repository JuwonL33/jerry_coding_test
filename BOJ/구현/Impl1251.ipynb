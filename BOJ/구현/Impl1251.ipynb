# 단어 나누기
# https://www.acmicpc.net/problem/1251

case = list(input())
answer, tmp = [], []

for i in range(1, len(case)-1) : 
    for j in range(i+1, len(case)) : 
        a = case[:i]
        b = case[i:j]
        c = case[j:]
        a.reverse()
        b.reverse()
        c.reverse()
        tmp.append(a+b+c)

for t in tmp : 
    answer.append(''.join(t))
    
print(sorted(answer)[0])
