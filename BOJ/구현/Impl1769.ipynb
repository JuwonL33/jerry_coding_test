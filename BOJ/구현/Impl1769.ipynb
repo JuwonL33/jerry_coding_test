# 3의 배수
# https://www.acmicpc.net/problem/1769

n = input()
cnt = 0

x = [int(i) for i in n ]

while True : 
    if len(x) == 1 : break
    tmp = sum(x)
    x = [int(i) for i in str(tmp) ]
    cnt += 1
    
print(cnt)
if x[0] % 3 == 0 : print("YES")
else : print("NO")
