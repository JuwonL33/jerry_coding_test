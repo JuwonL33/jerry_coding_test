# R2
# https://www.acmicpc.net/problem/3046

r1, s = map(int, input().split())
r2 = 2*s - r1
print(r2)
