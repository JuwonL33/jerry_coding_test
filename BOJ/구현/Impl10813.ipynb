# 공 바꾸기
# https://www.acmicpc.net/problem/10813

n, m = map(int, input().split())
balls = [ i for i in range(1, n+1) ]

for j in range(m) : 
    a, b = map(int, input().split())
    balls[a-1], balls[b-1] = balls[b-1], balls[a-1]
    
for ball in balls : 
    print(ball, end = ' ')
