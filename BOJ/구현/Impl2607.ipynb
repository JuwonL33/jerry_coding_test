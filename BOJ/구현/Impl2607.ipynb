# 비슷한 단어
# https://www.acmicpc.net/problem/2607

T = int(input())
result = 0              # 비슷한 단어의 갯수
first = list(input())   # 첫번째 단어

for i in range(T-1) : 
    compare = first[:]  # [:] : 리스트의 맨 앞에서부터 맨 뒤 끝까지
    word = input()      # 비교할 단어들
    count = 0 
    
    for w in word : 
        if w in compare :
            compare.remove(w)
        else : 
            count += 1
    
    if count < 2 and len(compare) < 2 : 
        result += 1
        
print(result)
