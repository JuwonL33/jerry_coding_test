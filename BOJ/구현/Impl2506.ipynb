# 점수계산
# https://www.acmicpc.net/problem/2506

n = int(input())
score_arr = list(map(int, input().split()))

accu_cnt = 0
tot_cnt = 0

for i in range(n) : 
    if score_arr[i] == 1 : 
        accu_cnt += 1
        tot_cnt += accu_cnt
    else : 
        accu_cnt = 0
        
print(tot_cnt)
