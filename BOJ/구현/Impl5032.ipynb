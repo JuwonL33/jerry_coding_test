{
 "cells": [
  {
   "cell_type": "code",
   "execution_count": 5,
   "metadata": {},
   "outputs": [
    {
     "name": "stdout",
     "output_type": "stream",
     "text": [
      "4\n"
     ]
    }
   ],
   "source": [
    "# 탄산 음료\n",
    "# https://www.acmicpc.net/problem/5032\n",
    "\n",
    "e, f, c = map(int, input().split())     # e : 준민이가 가진 빈병의 수, f : 그날 발견한 빈병 수, c : 새 병으로 바꾸는데 필요한 빈 병의 개수\n",
    "\n",
    "k = (e+f) // c + (e+f) % c\n",
    "result = (e+f) // c\n",
    "while k // c : \n",
    "    result += k // c\n",
    "    k = k // c + k % c\n",
    "print(result) "
   ]
  }
 ],
 "metadata": {
  "kernelspec": {
   "display_name": "Python 3.10.3 64-bit",
   "metadata": {
    "interpreter": {
     "hash": "98590ff4fe04c8543246b2a01debd3de3c5ca9b666f43f1fa87d5110c692004c"
    }
   },
   "name": "python3"
  },
  "language_info": {
   "codemirror_mode": {
    "name": "ipython",
    "version": 3
   },
   "file_extension": ".py",
   "mimetype": "text/x-python",
   "name": "python",
   "nbconvert_exporter": "python",
   "pygments_lexer": "ipython3",
   "version": "3.10.3-final"
  },
  "orig_nbformat": 2
 },
 "nbformat": 4,
 "nbformat_minor": 2
}