{
 "cells": [
  {
   "cell_type": "code",
   "execution_count": 12,
   "metadata": {},
   "outputs": [
    {
     "name": "stdout",
     "output_type": "stream",
     "text": [
      "OK\n",
      "FAKE\n",
      "FAKE\n"
     ]
    }
   ],
   "source": [
    "# 진짜 메시지\n",
    "# https://www.acmicpc.net/problem/9324\n",
    "\n",
    "t = int(input())\n",
    "\n",
    "for _ in range(t) : \n",
    "    dic = {\n",
    "    \"A\" : 0, \"B\" : 0, \"C\" : 0, \"D\" : 0, \"E\" : 0, \"F\" : 0, \"G\" : 0, \"H\" : 0, \"I\" : 0, \"J\" : 0, \"K\" : 0, \"L\" : 0, \"M\" : 0, \"N\" : 0, \"O\" : 0, \"P\" : 0, \"Q\" : 0, \"R\" : 0, \"S\" : 0, \"T\" : 0, \"U\" : 0, \"V\" : 0, \"W\" : 0, \"X\" : 0, \"Y\" : 0, \"Z\" : 0\n",
    "    }\n",
    "    case = input()\n",
    "    answer = \"\"\n",
    "    for c in case : \n",
    "        dic[c] += 1\n",
    "        if dic[c] % 3 == 0 : \n",
    "            answer += c\n",
    "        answer += c\n",
    "    \n",
    "    if answer == case : \n",
    "        print(\"OK\")\n",
    "    else : \n",
    "        print(answer)\n",
    "        print(\"FAKE\")"
   ]
  }
 ],
 "metadata": {
  "kernelspec": {
   "display_name": "Python 3.10.3 64-bit",
   "metadata": {
    "interpreter": {
     "hash": "98590ff4fe04c8543246b2a01debd3de3c5ca9b666f43f1fa87d5110c692004c"
    }
   },
   "name": "python3"
  },
  "language_info": {
   "codemirror_mode": {
    "name": "ipython",
    "version": 3
   },
   "file_extension": ".py",
   "mimetype": "text/x-python",
   "name": "python",
   "nbconvert_exporter": "python",
   "pygments_lexer": "ipython3",
   "version": "3.10.3"
  },
  "orig_nbformat": 2
 },
 "nbformat": 4,
 "nbformat_minor": 2
}