# 카드 1
# https://www.acmicpc.net/problem/2161

N = int(input())
arr = [i for i in range(1, N+1)]

while arr : 
    if len(arr) == 0 : break
    print(arr[0], end = ' ')
    arr.remove(arr[0])
    if len(arr) == 0 : break
    arr.append(arr[0])
    arr.remove(arr[0])
