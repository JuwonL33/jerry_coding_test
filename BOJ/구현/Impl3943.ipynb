{
 "cells": [
  {
   "cell_type": "code",
   "execution_count": 9,
   "metadata": {},
   "outputs": [
    {
     "name": "stdout",
     "output_type": "stream",
     "text": [
      "1\n",
      "16\n",
      "101248\n",
      "100000\n"
     ]
    }
   ],
   "source": [
    "# 헤일스톤 수열\n",
    "# https://www.acmicpc.net/problem/3943\n",
    "\n",
    "import sys\n",
    "\n",
    "for _ in range(int(sys.stdin.readline())) : \n",
    "    num = int(sys.stdin.readline())\n",
    "    arr = []\n",
    "    while True : \n",
    "        if 1 in arr : break\n",
    "        arr.append(num)\n",
    "        if num % 2 == 0 : \n",
    "            num //= 2 \n",
    "        else : \n",
    "            num = num * 3 + 1\n",
    "    print(max(arr))\n"
   ]
  }
 ],
 "metadata": {
  "kernelspec": {
   "display_name": "Python 3.10.3 64-bit",
   "metadata": {
    "interpreter": {
     "hash": "98590ff4fe04c8543246b2a01debd3de3c5ca9b666f43f1fa87d5110c692004c"
    }
   },
   "name": "python3"
  },
  "language_info": {
   "codemirror_mode": {
    "name": "ipython",
    "version": 3
   },
   "file_extension": ".py",
   "mimetype": "text/x-python",
   "name": "python",
   "nbconvert_exporter": "python",
   "pygments_lexer": "ipython3",
   "version": "3.10.3"
  },
  "orig_nbformat": 2
 },
 "nbformat": 4,
 "nbformat_minor": 2
}