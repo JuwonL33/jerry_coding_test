# 6749
# https://www.acmicpc.net/problem/6749

y = int(input())
m = int(input())
print(m+(m-y))
