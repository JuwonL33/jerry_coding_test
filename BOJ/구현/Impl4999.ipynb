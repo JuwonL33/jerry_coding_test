# 아!
# https://www.acmicpc.net/problem/4999

jaehwan = input()
doctor = input()

if len(jaehwan) >= len(doctor) : print("go")
else : print("no")
