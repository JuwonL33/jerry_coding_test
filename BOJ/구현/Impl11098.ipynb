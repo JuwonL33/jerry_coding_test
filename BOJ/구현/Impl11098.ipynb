{
 "cells": [
  {
   "cell_type": "code",
   "execution_count": null,
   "metadata": {},
   "outputs": [],
   "source": [
    "# 첼시를 도와줘!\n",
    "# https://www.acmicpc.net/problem/11098\n",
    "\n",
    "T = int(input())\n",
    "for _ in range(T) :\n",
    "    t = int(input())\n",
    "    di = dict()\n",
    "    for _ in range(t) : \n",
    "        money, name = map(str, input().split())\n",
    "        di[name] = int(money)\n",
    "    print(max(di, key=di.get))"
   ]
  }
 ],
 "metadata": {
  "kernelspec": {
   "display_name": "Python 3.10.3 64-bit",
   "metadata": {
    "interpreter": {
     "hash": "98590ff4fe04c8543246b2a01debd3de3c5ca9b666f43f1fa87d5110c692004c"
    }
   },
   "name": "python3"
  },
  "language_info": {
   "name": "python",
   "nbconvert_exporter": "python",
   "version": "3.10.3-final"
  },
  "orig_nbformat": 2
 },
 "nbformat": 4,
 "nbformat_minor": 2
}