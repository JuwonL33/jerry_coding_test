{
 "cells": [
  {
   "cell_type": "code",
   "execution_count": 1,
   "metadata": {},
   "outputs": [
    {
     "name": "stdout",
     "output_type": "stream",
     "text": [
      "Ronaldinho\n",
      "Maradona\n"
     ]
    }
   ],
   "source": [
    "# 첼시를 도와줘!\n",
    "# https://www.acmicpc.net/problem/11098 \n",
    "\n",
    "T = int(input())\n",
    "for _ in range(T) :\n",
    "    t = int(input())\n",
    "    di = dict()\n",
    "    for _ in range(t) : \n",
    "        money, name = map(str, input().split())\n",
    "        di[name] = int(money)\n",
    "    print(max(di, key=di.get))"
   ]
  }
 ],
 "metadata": {
  "kernelspec": {
   "display_name": "Python 3.10.3 64-bit",
   "metadata": {
    "interpreter": {
     "hash": "98590ff4fe04c8543246b2a01debd3de3c5ca9b666f43f1fa87d5110c692004c"
    }
   },
   "name": "python3"
  },
  "language_info": {
   "codemirror_mode": {
    "name": "ipython",
    "version": 3
   },
   "file_extension": ".py",
   "mimetype": "text/x-python",
   "name": "python",
   "nbconvert_exporter": "python",
   "pygments_lexer": "ipython3",
   "version": "3.10.3"
  },
  "orig_nbformat": 2
 },
 "nbformat": 4,
 "nbformat_minor": 2
}