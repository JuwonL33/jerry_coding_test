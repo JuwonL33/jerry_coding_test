# 럭비 클럽
# https://www.acmicpc.net/problem/2083

while True : 
    name, age, weight = map(str, input().split())
    if name == "#" : break
    
    if int(age) > 17 or int(weight) >= 80 : 
        print("{} Senior".format(name))
    else : 
        print("{} Junior".format(name))
