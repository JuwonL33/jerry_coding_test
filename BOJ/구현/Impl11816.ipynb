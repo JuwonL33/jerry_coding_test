# 8진수, 10진수, 16진수
# https://www.acmicpc.net/problem/11816

x = input()
result = 0
if x[0] == '0' : 
    if x[:2] == '0x' : print(int(x, 16))
    else : print(int(x, 8))
else : print(int(x))
