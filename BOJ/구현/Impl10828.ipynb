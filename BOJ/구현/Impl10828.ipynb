# 스택
# https://www.acmicpc.net/problem/10828

N = int(input())
arr = list( input() for _ in range(N) )
stack = []
for i in range(N) : 
    if arr[i].find(" ") > 0 : 
        push, num = arr[i].split()
        stack.append(num)
    elif arr[i] == 'top' : 
        if len(stack) == 0 : 
            print(-1)
        else : 
            print(stack[-1])
    elif arr[i] == 'empty' : 
        if len(stack) == 0 : 
            print(1)
        else : 
            print(0)
    elif arr[i] == 'size' : 
        print(len(stack))
    else : 
        if len(stack) == 0 : 
            print(-1)
        else : 
            print(stack[-1])
            stack.pop()
