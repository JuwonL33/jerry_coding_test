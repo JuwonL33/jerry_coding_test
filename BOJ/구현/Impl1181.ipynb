# 단어 정렬
# https://www.acmicpc.net/problem/1181

T = int(input())
dic = dict()

for _ in range(T) : 
    voca = input()
    dic[voca] = len(voca)
    
dic = sorted(dic.items(), key = lambda x : (x[1], x[0]))   
for key in dic : 
    print(key[0])
