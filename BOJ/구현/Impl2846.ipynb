# 오르막길
# https://www.acmicpc.net/problem/2846

N = int(input())
arr = list(map(int, input().split()))

tmp = 0         # 현재 오르막길의 길이
tmp_arr = []
for i in range(N-1) : 
    if arr[i] < arr[i+1] : 
        tmp += arr[i+1] - arr[i]
    else : 
        tmp_arr.append(tmp)
        tmp = 0

tmp_arr.append(tmp)
print(max(tmp_arr))
