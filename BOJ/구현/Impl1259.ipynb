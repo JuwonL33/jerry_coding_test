# 팰린드롬 수
# https://www.acmicpc.net/problem/1259

while True : 
    case = input()
    if int(case) == 0 : 
        break
    if len(case) % 2 == 0 : 
        # 짝수일때 절반으로 나눠서 비교
        test_1 = case[:len(case)//2]
        test_2 = case[len(case)//2:]
    else : 
        # 홀수일땐 가운데 하나 빼고 비교
        test_1 = case[:len(case)//2]
        test_2 = case[len(case)//2+1:]
    if test_2[::-1] == test_1 : 
        print("yes")
    else : 
        print("no")
