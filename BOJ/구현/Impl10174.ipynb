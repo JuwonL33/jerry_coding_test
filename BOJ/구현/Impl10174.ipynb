# 팰린드롬
# https://www.acmicpc.net/problem/10174

for _ in range(int(input())) : 
    case = input().lower()
    if case == case[::-1] : print("Yes")
    else : print("No")
