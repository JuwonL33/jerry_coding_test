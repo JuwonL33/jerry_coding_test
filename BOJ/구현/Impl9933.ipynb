{
 "cells": [
  {
   "cell_type": "code",
   "execution_count": null,
   "metadata": {},
   "outputs": [
    {
     "ename": "Error",
     "evalue": "Session cannot generate requests",
     "output_type": "error",
     "traceback": [
      "Error: Session cannot generate requests",
      "at b.executeCodeCell (/Users/juwonlee/.vscode/extensions/ms-toolsai.jupyter-2021.2.603412351/out/client/extension.js:49:710513)",
      "at b.execute (/Users/juwonlee/.vscode/extensions/ms-toolsai.jupyter-2021.2.603412351/out/client/extension.js:49:709953)",
      "at b.start (/Users/juwonlee/.vscode/extensions/ms-toolsai.jupyter-2021.2.603412351/out/client/extension.js:49:706098)",
      "at runMicrotasks (<anonymous>)",
      "at processTicksAndRejections (internal/process/task_queues.js:97:5)",
      "at t.CellExecutionQueue.executeQueuedCells (/Users/juwonlee/.vscode/extensions/ms-toolsai.jupyter-2021.2.603412351/out/client/extension.js:49:718710)",
      "at t.CellExecutionQueue.start (/Users/juwonlee/.vscode/extensions/ms-toolsai.jupyter-2021.2.603412351/out/client/extension.js:49:718250)"
     ]
    }
   ],
   "source": [
    "# 민균이의 비밀번호\n",
    "# https://www.acmicpc.net/problem/9933\n",
    "\n",
    "N = int(input())\n",
    "files = [ input() for _ in range(N) ]\n",
    "\n",
    "for word in files : \n",
    "    if word[::-1] in files : \n",
    "        print(len(word), word[len(word)//2])\n",
    "        break\n",
    "\n"
   ]
  }
 ],
 "metadata": {
  "kernelspec": {
   "display_name": "Python 3.10.3 64-bit",
   "metadata": {
    "interpreter": {
     "hash": "98590ff4fe04c8543246b2a01debd3de3c5ca9b666f43f1fa87d5110c692004c"
    }
   },
   "name": "python3"
  },
  "language_info": {
   "codemirror_mode": {
    "name": "ipython",
    "version": 3
   },
   "file_extension": ".py",
   "mimetype": "text/x-python",
   "name": "python",
   "nbconvert_exporter": "python",
   "pygments_lexer": "ipython3",
   "version": "3.10.3"
  },
  "orig_nbformat": 2
 },
 "nbformat": 4,
 "nbformat_minor": 2
}