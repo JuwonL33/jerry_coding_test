{
 "cells": [
  {
   "cell_type": "code",
   "execution_count": 3,
   "metadata": {},
   "outputs": [
    {
     "name": "stdout",
     "output_type": "stream",
     "text": [
      "0.0\n"
     ]
    }
   ],
   "source": [
    "# 학점계산\n",
    "# https://www.acmicpc.net/problem/2754\n",
    "\n",
    "n = input() \n",
    "score = 0.0\n",
    "if len(n) == 2 : \n",
    "    if n[0] == 'A' : \n",
    "        score += 4.0\n",
    "    elif n[0] == 'B' : \n",
    "        score += 3.0\n",
    "    elif n[0] == 'C' : \n",
    "        score += 2.0\n",
    "    else : \n",
    "        score += 1.0\n",
    "\n",
    "    if n[1] == '+' : \n",
    "        score += 0.3\n",
    "    elif n[1] == '0' :\n",
    "        pass\n",
    "    else : score -= 0.3\n",
    "\n",
    "print(score)"
   ]
  }
 ],
 "metadata": {
  "kernelspec": {
   "display_name": "Python 3.10.3 64-bit",
   "metadata": {
    "interpreter": {
     "hash": "98590ff4fe04c8543246b2a01debd3de3c5ca9b666f43f1fa87d5110c692004c"
    }
   },
   "name": "python3"
  },
  "language_info": {
   "codemirror_mode": {
    "name": "ipython",
    "version": 3
   },
   "file_extension": ".py",
   "mimetype": "text/x-python",
   "name": "python",
   "nbconvert_exporter": "python",
   "pygments_lexer": "ipython3",
   "version": "3.10.3-final"
  },
  "orig_nbformat": 2
 },
 "nbformat": 4,
 "nbformat_minor": 2
}