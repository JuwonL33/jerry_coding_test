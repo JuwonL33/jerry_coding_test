# 애너그램
# https://www.acmicpc.net/problem/6996

T = int(input())
for _ in range(T) : 
    A, B = map(str, input().split())
    A_Sort = sorted(list(A))
    B_Sort = sorted(list(B))
    if A_Sort == B_Sort : 
        print("{} & {} are anagrams.".format(A, B))
    else : 
        print("{} & {} are NOT anagrams.".format(A, B))
