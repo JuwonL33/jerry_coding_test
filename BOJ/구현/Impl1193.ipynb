# 분수찾기
# https://www.acmicpc.net/problem/1193

x = int(input())
arr = []
i, j = 1, 1         # i : 분자, j : 분모
idx = 1
while True : 
    if idx == x : 
        break
    
    if (i+j) % 2 == 0 : # 대각선 방향으로 이동할 때 분자와 분모를 갱신한다.
        if i == 1 : # 분자가 1인 경우, 분모가 1이 아닌 경우에만 대각선 방향으로 이동.
            j += 1
        else :      # 분자가 1이 아닌 경우, 대각선 방향으로 이동.
            i -= 1
            j += 1
    else :              # 대각선 방향으로 이동할 때 분자와 분모를 갱신한다.  
        if j ==  1 :    # 분모가 1인 경우, 분자가 1이 아닌 경우에만 대각선으로 이동
            i += 1
        else :          # 분모가 1이 아닌 경우, 대각선 방향으로 이동한다.
            i += 1
            j -= 1
    idx += 1
            
print("{}/{}".format(i, j))
