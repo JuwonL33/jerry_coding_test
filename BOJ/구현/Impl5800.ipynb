{
 "cells": [
  {
   "cell_type": "code",
   "execution_count": 8,
   "metadata": {},
   "outputs": [
    {
     "name": "stdout",
     "output_type": "stream",
     "text": [
      "Class 4\n",
      "Max 78, Min 23, Largest gap 46\n",
      "Class 5\n",
      "Max 99, Min 25, Largest gap 25\n"
     ]
    }
   ],
   "source": [
    "# 성적 통계\n",
    "# https://www.acmicpc.net/problem/5800\n",
    "\n",
    "k = int(input())\n",
    "for i in range(1, k+1) : \n",
    "    arr = list(map(int, input().split()))\n",
    "    arr = arr[1:]\n",
    "    arr.sort(reverse=True)\n",
    "    between_arr = arr[0]-arr[1]\n",
    "    for j in range(2, len(arr)) : \n",
    "        between_arr = max(between_arr, arr[j-1] - arr[j])\n",
    "    print(\"Class {}\".format(i))\n",
    "    print(\"Max {}, Min {}, Largest gap {}\".format(arr[0], arr[-1], between_arr))"
   ]
  }
 ],
 "metadata": {
  "kernelspec": {
   "display_name": "Python 3.10.3 64-bit",
   "metadata": {
    "interpreter": {
     "hash": "98590ff4fe04c8543246b2a01debd3de3c5ca9b666f43f1fa87d5110c692004c"
    }
   },
   "name": "python3"
  },
  "language_info": {
   "codemirror_mode": {
    "name": "ipython",
    "version": 3
   },
   "file_extension": ".py",
   "mimetype": "text/x-python",
   "name": "python",
   "nbconvert_exporter": "python",
   "pygments_lexer": "ipython3",
   "version": "3.10.3"
  },
  "orig_nbformat": 2
 },
 "nbformat": 4,
 "nbformat_minor": 2
}