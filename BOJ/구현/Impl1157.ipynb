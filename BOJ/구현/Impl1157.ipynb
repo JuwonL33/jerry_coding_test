{
 "cells": [
  {
   "cell_type": "code",
   "execution_count": 26,
   "metadata": {},
   "outputs": [
    {
     "name": "stdout",
     "output_type": "stream",
     "text": [
      "['I', 'M', 'S', 'P']\n",
      "['I', 'M', 'S', 'P']\n",
      "['I', 'M', 'S', 'P']\n",
      "['I', 'M', 'S', 'P']\n",
      "?\n"
     ]
    }
   ],
   "source": [
    "# 단어 공부\n",
    "# https://www.acmicpc.net/problem/1157\n",
    "\n",
    "string = input().upper()\n",
    "counter = list(set(string))\n",
    "\n",
    "cnt = []\n",
    "for i in counter : \n",
    "    count = string.count\n",
    "    cnt.append(count(i))\n",
    "\n",
    "if cnt.count(max(cnt)) > 1 : \n",
    "    print(\"?\")\n",
    "else : \n",
    "    print(counter[(cnt.index(max(cnt)))])\n",
    "\n",
    "\n"
   ]
  }
 ],
 "metadata": {
  "kernelspec": {
   "display_name": "Python 3.10.3 64-bit",
   "metadata": {
    "interpreter": {
     "hash": "98590ff4fe04c8543246b2a01debd3de3c5ca9b666f43f1fa87d5110c692004c"
    }
   },
   "name": "python3"
  },
  "language_info": {
   "codemirror_mode": {
    "name": "ipython",
    "version": 3
   },
   "file_extension": ".py",
   "mimetype": "text/x-python",
   "name": "python",
   "nbconvert_exporter": "python",
   "pygments_lexer": "ipython3",
   "version": "3.10.3"
  },
  "orig_nbformat": 2
 },
 "nbformat": 4,
 "nbformat_minor": 2
}