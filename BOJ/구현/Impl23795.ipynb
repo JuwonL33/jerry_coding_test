# 사장님 도박은 재미로
# https://www.acmicpc.net/problem/23795

result = 0

while True : 
    number = int(input())
    if number == -1 : break
    result += number

print(result)
