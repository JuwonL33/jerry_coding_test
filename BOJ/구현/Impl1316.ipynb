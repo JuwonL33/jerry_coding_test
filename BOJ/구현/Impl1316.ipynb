# 그룹 단어 체커
# https://www.acmicpc.net/problem/1316

t = int(input())
arr = []
for _ in range(t) : 
    arr.append(input())
    
cnt = 0
for a in arr : 
    tmp = []
    status = 1
    for i in range(len(a)) : 
        if a[i] not in tmp : 
            tmp.append(a[i])
        elif tmp[-1] == a[i] :
            continue
        else : 
            status = 0
    if status == 1 : cnt += 1
        
print(cnt)

