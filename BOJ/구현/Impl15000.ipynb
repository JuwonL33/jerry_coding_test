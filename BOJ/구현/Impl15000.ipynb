# CAPS
# https://www.acmicpc.net/problem/15000
case = input()
print(case.upper())
