# 막대기
# https://www.acmicpc.net/problem/17608

t = int(input())
arr = [ int(input()) for _ in range(t) ]
arr = arr[::-1]
cnt = 1
standard = arr[0]
for i in range(1, len(arr)) :
    if arr[i] > standard : 
        cnt += 1
        standard = arr[i]

print(cnt)
