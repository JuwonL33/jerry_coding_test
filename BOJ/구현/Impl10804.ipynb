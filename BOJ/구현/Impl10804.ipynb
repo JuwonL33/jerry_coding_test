# 카드 역배치
# https://www.acmicpc.net/problem/10804

cards = [1,2,3,4,5,6,7,8,9,10,11,12,13,14,15,16,17,18,19,20]

for _ in range(10) : 
    a, b = map(int, input().split())
    a = a-1
    cards[a:b] = list(reversed(cards[a:b]))

for i in range(20) : 
    print(cards[i], end = ' ')
