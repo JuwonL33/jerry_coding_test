# Lunacy
# https://www.acmicpc.net/problem/4714

while True : 
    num = float(input())
    if num < 0 : break
    print("Objects weighing %.2f on Earth will weigh %.2f on the moon." % (num, num * 0.167))
