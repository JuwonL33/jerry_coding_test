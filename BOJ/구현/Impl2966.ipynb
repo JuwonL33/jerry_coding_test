# 찍기
# https://www.acmicpc.net/problem/2966

N = int(input())            # 필기시험의 문제 수
answer = input()            # 답

Adrian = 'ABC' * (N // 3) + 'ABC'[:N%3]
Bruno = 'BABC' * (N // 4) + 'BABC'[:N%4]
Goran = 'CCAABB' * (N // 6) + 'CCAABB'[:N%6]

A, B, G = 0, 0, 0

for i in range(N) : 
    if answer[i] == Adrian[i] : A += 1
    if answer[i] == Bruno[i] : B += 1
    if answer[i] == Goran[i] : G += 1
    
print(max(A, B, G))

if max(A, B, G) == A : print('Adrian')
if max(A, B, G) == B : print('Bruno')
if max(A, B, G) == G : print('Goran')
