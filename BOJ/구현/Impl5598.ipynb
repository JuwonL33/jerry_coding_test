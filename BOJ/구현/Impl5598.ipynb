# 카이사르 암호
# https://www.acmicpc.net/problem/5598

ordinary_arr = ['A','B','C','D','E','F','G','H','I','J','K','L','M','N','O','P','Q','R','S','T','U','V','W','X','Y','Z']
caesar_arr=    ['D','E','F','G','H','I','J','K','L','M','N','O','P','Q','R','S','T','U','V','W','X','Y','Z','A','B','C']

caesar_str = input()
answer = ''
for c in caesar_str : 
    answer += ordinary_arr[caesar_arr.index(c)]
    
print(answer)
