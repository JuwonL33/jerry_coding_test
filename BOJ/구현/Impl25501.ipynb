{
 "cells": [
  {
   "cell_type": "code",
   "execution_count": 13,
   "metadata": {},
   "outputs": [
    {
     "name": "stdout",
     "output_type": "stream",
     "text": [
      "1 2\n",
      "None\n",
      "1 3\n",
      "None\n",
      "1 3\n",
      "None\n",
      "0 2\n",
      "None\n",
      "0 1\n",
      "None\n"
     ]
    }
   ],
   "source": [
    "# 재귀의 귀재\n",
    "# https://www.acmicpc.net/problem/25501\n",
    "\n",
    "def recursion(s, l, r, result) : \n",
    "    result += 1\n",
    "    if(l >= r) : return print(\"{} {}\".format(1, result))\n",
    "    elif(s[l] != s[r]) : return print(\"{} {}\".format(0, result))\n",
    "    else : return recursion(s, l+1, r-1, result)\n",
    "\n",
    "\n",
    "def isPalindrome(s, result) : \n",
    "    return recursion(s, 0, len(s)-1, result)\n",
    "\n",
    "T = int(input())                        # 테스트 케이스\n",
    "\n",
    "for _ in range(T) : \n",
    "    case = input()\n",
    "    result = 0\n",
    "    isPalindrome(case, result)"
   ]
  },
  {
   "cell_type": "code",
   "execution_count": 3,
   "metadata": {},
   "outputs": [
    {
     "ename": "SyntaxError",
     "evalue": "expected ':' (1041688930.py, line 4)",
     "output_type": "error",
     "traceback": [
      "\u001b[0;36m  Cell \u001b[0;32mIn[3], line 4\u001b[0;36m\u001b[0m\n\u001b[0;31m    def recursion(s, l, r){\u001b[0m\n\u001b[0m                          ^\u001b[0m\n\u001b[0;31mSyntaxError\u001b[0m\u001b[0;31m:\u001b[0m expected ':'\n"
     ]
    }
   ],
   "source": [
    "# 재귀의 귀재\n",
    "# https://www.acmicpc.net/problem/25501\n",
    "\n",
    "def recursion(s, l, r){\n",
    "    if(l >= r) return 1;\n",
    "    else if(s[l] != s[r]) return 0;\n",
    "    else return recursion(s, l+1, r-1);\n",
    "}\n",
    "\n",
    "def isPalindrome(const s){\n",
    "    return recursion(s, 0, len(s)-1);\n",
    "}\n",
    "\n",
    "T = int(input())                        # 테스트 케이스\n",
    "\n",
    "for _ in range(T) : \n",
    "    case = input()\n",
    "    print(isPalindrome(case))"
   ]
  }
 ],
 "metadata": {
  "kernelspec": {
   "display_name": "base",
   "language": "python",
   "name": "python3"
  },
  "language_info": {
   "codemirror_mode": {
    "name": "ipython",
    "version": 3
   },
   "file_extension": ".py",
   "mimetype": "text/x-python",
   "name": "python",
   "nbconvert_exporter": "python",
   "pygments_lexer": "ipython3",
   "version": "3.11.7"
  }
 },
 "nbformat": 4,
 "nbformat_minor": 2
}
