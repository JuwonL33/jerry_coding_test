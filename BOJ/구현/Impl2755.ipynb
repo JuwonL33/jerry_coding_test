# 이번학기 평점은 몇점?
# https://www.acmicpc.net/problem/2755


def roundTraditional(val, digits):
    return round(val+10**(-len(str(val))-1), digits)

N = int(input())
total = 0
dic = {
    "A+" : 4.3,
    "A0" : 4.0,
    "A-" : 3.7,
    "B+" : 3.3,
    "B0" : 3.0,
    "B-" : 2.7,
    "C+" : 2.3,
    "C0" : 2.0,
    "C-" : 1.7,
    "D+" : 1.3,
    "D0" : 1.0,
    "D-" : 0.7,
    "F" : 0.0
}

div = 0
for _ in range(N) : 
    subject, grade, score = map(str, input().split())
    total += int(grade) * dic[score]
    div += int(grade)

result = (total / div) * 1000
if result % 10 > 4 : 
    result += (10 - result % 10)
result = result / 1000

print(f"{result:.2f}")
