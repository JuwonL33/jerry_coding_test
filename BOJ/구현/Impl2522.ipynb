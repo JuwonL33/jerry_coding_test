# 별 찍기 - 12
# https://www.acmicpc.net/problem/2523

n = int(input())
for i in range(n) : print(' ' * (n-(i+1)) + '*'*(i+1))
for j in range(n-1, 0, -1) : print(' ' * (n-j) + '*'*j)
