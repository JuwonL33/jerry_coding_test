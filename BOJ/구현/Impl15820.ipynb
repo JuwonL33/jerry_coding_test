{
 "cells": [
  {
   "cell_type": "code",
   "execution_count": 2,
   "metadata": {},
   "outputs": [
    {
     "name": "stdout",
     "output_type": "stream",
     "text": [
      "Accepted\n"
     ]
    }
   ],
   "source": [
    "# 맞았는데 왜 틀리죠?\n",
    "# https://www.acmicpc.net/problem/15820\n",
    "\n",
    "s1, s2 = map(int, input().split())\n",
    "\n",
    "li1 = [ list(map(int ,input().split())) for _ in range(s1) ]\n",
    "li2 = [ list(map(int ,input().split())) for _ in range(s2) ]\n",
    "\n",
    "for i in range(s1) : \n",
    "    if li1[i][0] != li1[i][1] : \n",
    "        print(\"Wrong Answer\")\n",
    "        exit()\n",
    "\n",
    "for i in range(s2) : \n",
    "    if li2[i][0] != li2[i][1] : \n",
    "        print(\"Why Wrong!!!\")\n",
    "        exit()\n",
    "\n",
    "print(\"Accepted\")"
   ]
  },
  {
   "cell_type": "code",
   "execution_count": null,
   "metadata": {},
   "outputs": [],
   "source": []
  }
 ],
 "metadata": {
  "kernelspec": {
   "display_name": "Python 3.10.3 64-bit",
   "metadata": {
    "interpreter": {
     "hash": "98590ff4fe04c8543246b2a01debd3de3c5ca9b666f43f1fa87d5110c692004c"
    }
   },
   "name": "python3"
  },
  "language_info": {
   "codemirror_mode": {
    "name": "ipython",
    "version": 3
   },
   "file_extension": ".py",
   "mimetype": "text/x-python",
   "name": "python",
   "nbconvert_exporter": "python",
   "pygments_lexer": "ipython3",
   "version": "3.10.3"
  },
  "orig_nbformat": 2
 },
 "nbformat": 4,
 "nbformat_minor": 2
}