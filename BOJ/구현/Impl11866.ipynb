{
 "cells": [
  {
   "cell_type": "code",
   "execution_count": 6,
   "metadata": {},
   "outputs": [
    {
     "name": "stdout",
     "output_type": "stream",
     "text": [
      "<3, 6, 2, 7, 5, 1, 4>\n"
     ]
    }
   ],
   "source": [
    "# 요세푸스 문제 0 \n",
    "# https://www.acmicpc.net/problem/11866\n",
    "from collections import deque\n",
    "n, k = map(int, input().split())\n",
    "arr = deque([])\n",
    "for i in range(1, n+1) : \n",
    "    arr.append(i)\n",
    "print('<', end ='')\n",
    "while arr : \n",
    "    for i in range(k - 1) : \n",
    "        arr.append(arr[0])\n",
    "        arr.popleft()\n",
    "    print(arr.popleft(), end='')\n",
    "    if arr : \n",
    "        print(', ', end='')\n",
    "print('>')"
   ]
  }
 ],
 "metadata": {
  "kernelspec": {
   "display_name": "Python 3.10.3 64-bit",
   "metadata": {
    "interpreter": {
     "hash": "98590ff4fe04c8543246b2a01debd3de3c5ca9b666f43f1fa87d5110c692004c"
    }
   },
   "name": "python3"
  },
  "language_info": {
   "codemirror_mode": {
    "name": "ipython",
    "version": 3
   },
   "file_extension": ".py",
   "mimetype": "text/x-python",
   "name": "python",
   "nbconvert_exporter": "python",
   "pygments_lexer": "ipython3",
   "version": "3.10.3-final"
  },
  "orig_nbformat": 2
 },
 "nbformat": 4,
 "nbformat_minor": 2
}