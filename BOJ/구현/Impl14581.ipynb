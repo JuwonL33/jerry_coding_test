{
 "cells": [
  {
   "cell_type": "code",
   "execution_count": 1,
   "metadata": {},
   "outputs": [
    {
     "name": "stdout",
     "output_type": "stream",
     "text": [
      ":fan::fan::fan:\n",
      ":fan:appa:fan:\n",
      ":fan::fan::fan:\n"
     ]
    }
   ],
   "source": [
    "# 팬들에게 둘러싸인 홍준\n",
    "# https://www.acmicpc.net/problem/14581\n",
    "\n",
    "n = input()\n",
    "print(\":fan::fan::fan:\")\n",
    "print(\":fan::{}::fan:\".format(n))\n",
    "print(\":fan::fan::fan:\")"
   ]
  }
 ],
 "metadata": {
  "kernelspec": {
   "display_name": "Python 3.10.3 64-bit",
   "metadata": {
    "interpreter": {
     "hash": "98590ff4fe04c8543246b2a01debd3de3c5ca9b666f43f1fa87d5110c692004c"
    }
   },
   "name": "python3"
  },
  "language_info": {
   "codemirror_mode": {
    "name": "ipython",
    "version": 3
   },
   "file_extension": ".py",
   "mimetype": "text/x-python",
   "name": "python",
   "nbconvert_exporter": "python",
   "pygments_lexer": "ipython3",
   "version": "3.10.3"
  },
  "orig_nbformat": 2
 },
 "nbformat": 4,
 "nbformat_minor": 2
}