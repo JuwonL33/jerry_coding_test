{
 "cells": [
  {
   "cell_type": "code",
   "execution_count": null,
   "metadata": {},
   "outputs": [],
   "source": [
    "# 영수증\n",
    "# https://www.acmicpc.net/problem/25304\n",
    "\n",
    "tot = int(input())\n",
    "cnt = int(input())\n",
    "sum_amt = 0\n",
    "for _ in range(cnt) : \n",
    "    a, b = map(int, input().split())\n",
    "    sum_amt += a*b\n",
    "\n",
    "if sum_amt == tot : \n",
    "    print(\"Yes\")\n",
    "else : \n",
    "    print(\"No\")"
   ]
  }
 ],
 "metadata": {
  "kernelspec": {
   "display_name": "Python 3.10.3 64-bit",
   "metadata": {
    "interpreter": {
     "hash": "98590ff4fe04c8543246b2a01debd3de3c5ca9b666f43f1fa87d5110c692004c"
    }
   },
   "name": "python3"
  },
  "language_info": {
   "name": "python",
   "nbconvert_exporter": "python",
   "version": "3.10.3-final"
  },
  "orig_nbformat": 2
 },
 "nbformat": 4,
 "nbformat_minor": 2
}