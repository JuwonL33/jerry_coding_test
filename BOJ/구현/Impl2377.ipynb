{
 "cells": [
  {
   "cell_type": "code",
   "execution_count": null,
   "metadata": {},
   "outputs": [
    {
     "name": "stdout",
     "output_type": "stream",
     "text": [
      " _________\n",
      " \\_     _/\n",
      "   \\   /\n",
      "    | |\n",
      "   /   \\\n",
      "  /     \\\n",
      " |       |\n",
      "/---------\\\n",
      "| \\-/ \\-/ |\n",
      "\\---------/\n",
      " \\_______/\n"
     ]
    }
   ],
   "source": [
    "# Pottery\n",
    "# https://www.acmicpc.net/problem/2377\n",
    "\n",
    "\n",
    "PRINT \" _________\"\n",
    "PRINT \" \\_     _/\"\n",
    "PRINT \"   \\   /\"\n",
    "PRINT \"    | |\"\n",
    "PRINT \"   /   \\\"\n",
    "PRINT \"  /     \\\"\n",
    "PRINT \" |       |\"\n",
    "PRINT \"/---------\\\"\n",
    "PRINT \"| \\-/ \\-/ |\"\n",
    "PRINT \"\\---------/\"\n",
    "PRINT \" \\_______/\"\n",
    "\n"
   ]
  }
 ],
 "metadata": {
  "kernelspec": {
   "display_name": "Python 3.10.3 64-bit",
   "metadata": {
    "interpreter": {
     "hash": "98590ff4fe04c8543246b2a01debd3de3c5ca9b666f43f1fa87d5110c692004c"
    }
   },
   "name": "python3"
  },
  "language_info": {
   "name": "python",
   "nbconvert_exporter": "python",
   "version": "3.10.3-final"
  },
  "orig_nbformat": 2
 },
 "nbformat": 4,
 "nbformat_minor": 2
}