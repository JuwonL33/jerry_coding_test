# 만취한 상범
# https://www.acmicpc.net/problem/6359

T = int(input())
for _ in range(T) : 
    case = int(input())
    answer = 0
    for i in range(1, case) : 
        if i ** 2 <= case : 
            answer += 1
        if i ** 2 > case : 
            break
    print(answer)
