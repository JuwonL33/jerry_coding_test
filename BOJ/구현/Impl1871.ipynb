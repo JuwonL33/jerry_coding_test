# 좋은 자동차 번호판
# https://www.acmicpc.net/problem/1871

T = int(input())
for _ in range(T) : 
    spell, num = map(str, input().split('-'))
    result = 0
    for i in range(len(spell)) : result += (ord(spell[i])-65) * 26**(len(spell)-i-1)
    if abs(result-int(num)) <= 100 : print("nice")
    else : print("not nice")
