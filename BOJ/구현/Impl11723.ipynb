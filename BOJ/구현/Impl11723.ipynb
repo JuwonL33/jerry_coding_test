# 집합
# https://www.acmicpc.net/problem/11723

from sys import stdin

arr = set()
trial = int(input())
for _ in range(trial) : 
    order = list(map(str, stdin.readline().split()))
    if len(order) == 1 : 
        if order[0] == 'all' : 
            arr = { i for i in range(1, 21) }
        else : 
            arr = set()
    else : 
        num = int(order[-1])
        if order[0] == 'add' : 
            arr.add(num)
        elif order[0] == 'remove' : 
            if num in arr : 
                arr.remove(num)
            else : 
                continue
        elif order[0] == 'check' : 
            if num in arr : 
                print(1)
            else : 
                print(0)
        else : 
            if num in arr : 
                arr.remove(num)
            else : 
                arr.add(num)
