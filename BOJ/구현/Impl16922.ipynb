# 로마 숫자 만들기
# https://www.acmicpc.net/problem/16922

from itertools import combinations_with_replacement

n = int(input())
arr = [1, 5, 10, 50]
result = []
for temp in combinations_with_replacement(range(4), n) : 
    s = 0
    for i in temp : 
        s += arr[i]
    result.append(s)

print(len(set(result)))
