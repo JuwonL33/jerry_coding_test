# 콘테스트
# https://www.acmicpc.net/problem/5576

W, K = [], []
for _ in range(10) : W.append(int(input()))
for _ in range(10) : K.append(int(input()))
    
W, K = sorted(W, reverse=True), sorted(K, reverse=True)

print(sum(W[:3]), sum(K[:3]))
