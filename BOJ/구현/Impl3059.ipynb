# 등장하지 않는 문자의 합
# https://www.acmicpc.net/problem/3059

T = int(input())
for _ in range(T) : 
    arr = [ chr(i) for i in range(65, 91) ]
    result = ((90-65+1)*(65+90))//2
    case = input()
    for c in case : 
        if arr.count(c) > 0 : 
            result -= ord(c)
            arr.remove(c)
    print(result)
