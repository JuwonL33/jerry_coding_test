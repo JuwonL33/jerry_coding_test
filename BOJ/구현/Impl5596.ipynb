# 시험 점수
# https://www.acmicpc.net/problem/5596

minkuk = sum(list(map(int, input().split())))
manse = sum(list(map(int, input().split())))

print(minkuk if minkuk == manse else max(minkuk, manse))
