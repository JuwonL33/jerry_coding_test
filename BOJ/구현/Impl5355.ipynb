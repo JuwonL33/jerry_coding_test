# 화성 수학
# https://www.acmicpc.net/problem/5355

T = int(input())
for _ in range(T) : 
    arr = map(str, input().split())
    result = 0.00
    for a in arr : 
        if a == '@' : result *= 3
        elif a == '%' : result += 5
        elif a == '#' : result -= 7
        else : result += float(a)
    print("{:.2f}".format(result))
