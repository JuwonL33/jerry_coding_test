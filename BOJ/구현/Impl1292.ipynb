# 쉽게 푸는 문제
# https://www.acmicpc.net/problem/1292

arr = []
start, end = map(int, input().split())
for i in range(end+1) : 
    for j in range(i) : 
        arr.append(i)

print(sum(arr[start-1:end]))
