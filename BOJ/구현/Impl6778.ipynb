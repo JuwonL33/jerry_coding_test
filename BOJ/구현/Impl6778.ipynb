{
 "cells": [
  {
   "cell_type": "code",
   "execution_count": 7,
   "metadata": {},
   "outputs": [],
   "source": [
    "# Which Alien?\n",
    "# https://www.acmicpc.net/problem/6778\n",
    "\n",
    "antenna = int(input())\n",
    "eyes = int(input())\n",
    "if antenna >= 3 and eyes <= 4 : \n",
    "    print(\"TroyMartian\")\n",
    "if antenna <= 6 and eyes >= 2 : \n",
    "    print(\"VladSaturnian\")\n",
    "if antenna <= 2 and eyes <= 3 : \n",
    "    print(\"GraemeMercurian\")\n",
    "\n"
   ]
  }
 ],
 "metadata": {
  "kernelspec": {
   "display_name": "Python 3.10.3 64-bit",
   "metadata": {
    "interpreter": {
     "hash": "98590ff4fe04c8543246b2a01debd3de3c5ca9b666f43f1fa87d5110c692004c"
    }
   },
   "name": "python3"
  },
  "language_info": {
   "codemirror_mode": {
    "name": "ipython",
    "version": 3
   },
   "file_extension": ".py",
   "mimetype": "text/x-python",
   "name": "python",
   "nbconvert_exporter": "python",
   "pygments_lexer": "ipython3",
   "version": "3.10.3"
  },
  "orig_nbformat": 2
 },
 "nbformat": 4,
 "nbformat_minor": 2
}