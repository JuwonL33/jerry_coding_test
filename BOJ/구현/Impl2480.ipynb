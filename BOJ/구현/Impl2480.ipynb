{
 "cells": [
  {
   "cell_type": "code",
   "execution_count": 7,
   "metadata": {},
   "outputs": [
    {
     "name": "stdout",
     "output_type": "stream",
     "text": [
      "1300\n"
     ]
    }
   ],
   "source": [
    "# 주사위 세개\n",
    "# https://www.acmicpc.net/problem/2480\n",
    "\n",
    "from collections import Counter\n",
    "\n",
    "dices = list(map(int, input().split()))\n",
    "\n",
    "common_cnt, common_num = Counter(dices).most_common()[0][1], Counter(dices).most_common()[0][0]\n",
    "if common_cnt == 3 : \n",
    "    print(10000+(common_num*1000))\n",
    "elif common_cnt == 2 : \n",
    "    print(1000+(common_num*100))\n",
    "else : \n",
    "    print(max(Counter(dices))*100)"
   ]
  }
 ],
 "metadata": {
  "kernelspec": {
   "display_name": "Python 3.10.3 64-bit",
   "metadata": {
    "interpreter": {
     "hash": "98590ff4fe04c8543246b2a01debd3de3c5ca9b666f43f1fa87d5110c692004c"
    }
   },
   "name": "python3"
  },
  "language_info": {
   "codemirror_mode": {
    "name": "ipython",
    "version": 3
   },
   "file_extension": ".py",
   "mimetype": "text/x-python",
   "name": "python",
   "nbconvert_exporter": "python",
   "pygments_lexer": "ipython3",
   "version": "3.10.3"
  },
  "orig_nbformat": 2
 },
 "nbformat": 4,
 "nbformat_minor": 2
}