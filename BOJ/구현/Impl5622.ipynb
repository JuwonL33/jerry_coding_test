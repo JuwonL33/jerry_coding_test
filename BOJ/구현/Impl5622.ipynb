# 다이얼
# https://www.acmicpc.net/problem/5622

dial = input()
result = 0

for a in dial : 
    if a in "ABC" : result += 3
    elif a in "DEF" : result += 4
    elif a in "GHI" : result += 5
    elif a in "JKL" : result += 6
    elif a in "MNO" : result += 7
    elif a in "PQRS" : result += 8
    elif a in "TUV" : result += 9
    elif a in "WXYZ" : result += 10
    else : continue
print(result)
