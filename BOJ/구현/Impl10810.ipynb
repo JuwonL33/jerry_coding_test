# 공 넣기
# https://www.acmicpc.net/problem/10810

n, m = map(int, input().split())
buckets = [ 0 for i in range(n) ]

for z in range(m) : 
    i, j, k = map(int, input().split())
    i = i-1
    j = j-1
    for y in range(i, j+1) : 
        buckets[y] = k
        
for bucket in buckets : 
    print(bucket, end = ' ')
