# 영수증
# https://www.acmicpc.net/problem/5565

total = int(input())
n = 9
arr = []
while True : 
    if n == 0 : break
    arr.append(int(input()))
    n -= 1
    
print(total-sum(arr))
