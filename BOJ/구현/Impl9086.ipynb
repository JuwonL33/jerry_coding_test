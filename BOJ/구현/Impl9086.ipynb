# 문자열
# https://www.acmicpc.net/problem/9086

T = int(input())
while True : 
    if T == 0 : 
        break
    case = input()
    if len(case) == 1 : 
        print(case+case)
    else : 
        print(case[0]+case[-1])
    T -= 1
