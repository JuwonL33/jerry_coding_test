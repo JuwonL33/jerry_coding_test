{
 "cells": [
  {
   "cell_type": "code",
   "execution_count": 2,
   "metadata": {},
   "outputs": [
    {
     "name": "stdout",
     "output_type": "stream",
     "text": [
      "2\n"
     ]
    }
   ],
   "source": [
    "# 올바른 배열\n",
    "# https://www.acmicpc.net/problem/1337\n",
    "\n",
    "N = int(input())\n",
    "arr = []\n",
    "answer = 5\n",
    "for i in range(N) : \n",
    "    arr.append(int(input()))\n",
    "for i in range(N) : \n",
    "    c1, c2 = 4, 4\n",
    "    for j in range(N) : \n",
    "        if arr[i]+5 > arr[j] and arr[i] < arr[j] : \n",
    "            c1 -= 1\n",
    "        elif arr[i]-5 < arr[j] and arr[i] > arr[j] : \n",
    "            c2 -= 1\n",
    "    answer = min(answer, c1, c2)\n",
    "print(answer)"
   ]
  },
  {
   "cell_type": "code",
   "execution_count": null,
   "metadata": {},
   "outputs": [],
   "source": []
  }
 ],
 "metadata": {
  "kernelspec": {
   "display_name": "Python 3.10.3 64-bit",
   "metadata": {
    "interpreter": {
     "hash": "98590ff4fe04c8543246b2a01debd3de3c5ca9b666f43f1fa87d5110c692004c"
    }
   },
   "name": "python3"
  },
  "language_info": {
   "codemirror_mode": {
    "name": "ipython",
    "version": 3
   },
   "file_extension": ".py",
   "mimetype": "text/x-python",
   "name": "python",
   "nbconvert_exporter": "python",
   "pygments_lexer": "ipython3",
   "version": "3.10.3-final"
  },
  "orig_nbformat": 2
 },
 "nbformat": 4,
 "nbformat_minor": 2
}