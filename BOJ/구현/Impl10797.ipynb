# 10부제
# https://www.acmicpc.net/problem/10797

n = int(input())
arr = list(map(int, input().split()))

print(arr.count(n))
