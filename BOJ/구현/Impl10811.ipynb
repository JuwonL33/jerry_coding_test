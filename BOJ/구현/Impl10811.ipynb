# 바구니 뒤집기
# https://www.acmicpc.net/problem/10811

n, m = map(int, input().split())

baskets = [ i for i in range(1, n+1) ]
for _ in range(m) : 
    i, j = map(int, input().split())
    tmp = baskets[i-1:j:]
    tmp.reverse()
    baskets = baskets[:i-1:] + tmp + baskets[j::]

for basket in baskets : 
    print(basket, end = ' ')
