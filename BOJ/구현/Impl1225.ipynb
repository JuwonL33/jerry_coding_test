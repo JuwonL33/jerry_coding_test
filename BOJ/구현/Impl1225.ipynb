# 이상한 곱셈
# https://www.acmicpc.net/problem/1225

from itertools import combinations

A, B = map(str, input().split())
A, B = list(map(int, A)), list(map(int, B))

print(sum(A)*sum(B))
