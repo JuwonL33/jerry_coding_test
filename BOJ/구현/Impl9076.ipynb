# 점수 집계
# https://www.acmicpc.net/problem/9076

t = int(input())

for _ in range(t) : 
    arr = list(map(int, input().split()))
    arr.remove(min(arr))
    arr.remove(max(arr))
    if max(arr)-min(arr)>=4 : 
        print("KIN")
    else : 
        print(sum(arr))
