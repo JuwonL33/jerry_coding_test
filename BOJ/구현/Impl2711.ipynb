{
 "cells": [
  {
   "cell_type": "code",
   "execution_count": 2,
   "metadata": {},
   "outputs": [
    {
     "name": "stdout",
     "output_type": "stream",
     "text": [
      "MISPELL\n",
      "ROGRAMMING\n",
      "CONTES\n",
      "BALOON\n"
     ]
    }
   ],
   "source": [
    "# 오타맨 고창영\n",
    "# https://www.acmicpc.net/problem/2711\n",
    "\n",
    "for _ in range(int(input())) : \n",
    "    index, string = map(str, input().split())\n",
    "    answer = \"\"\n",
    "    for i in range(len(string)) : \n",
    "        if i != int(index) - 1 : \n",
    "            answer += string[i]\n",
    "    print(answer)\n"
   ]
  }
 ],
 "metadata": {
  "kernelspec": {
   "display_name": "Python 3.10.3 64-bit",
   "metadata": {
    "interpreter": {
     "hash": "98590ff4fe04c8543246b2a01debd3de3c5ca9b666f43f1fa87d5110c692004c"
    }
   },
   "name": "python3"
  },
  "language_info": {
   "codemirror_mode": {
    "name": "ipython",
    "version": 3
   },
   "file_extension": ".py",
   "mimetype": "text/x-python",
   "name": "python",
   "nbconvert_exporter": "python",
   "pygments_lexer": "ipython3",
   "version": "3.10.3"
  },
  "orig_nbformat": 2
 },
 "nbformat": 4,
 "nbformat_minor": 2
}