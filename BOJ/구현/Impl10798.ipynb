# 세로 읽기
# https://www.acmicpc.net/problem/10798

arr = [ [''] * 15 for _ in range(5) ]
for i in range(5) : 
    tmp = input()
    for j in range(len(tmp)) : 
        arr[i][j] = tmp[j]
        
result = ''
for i in range(len(arr[0])) : 
    for j in range(len(arr)) : 
        result += arr[j][i]
        
print(result)
