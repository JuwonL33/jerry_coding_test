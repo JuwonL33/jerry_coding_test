# 아이 러브 크로아티아
# https://www.acmicpc.net/problem/9517

K = int(input())
N = int(input())
time = 0
for _ in range(N) : 
    t, z = input().split()
    t = int(t)
    time += t
    if time >= 210 : 
        print(K)
        break
    if z == 'T' : 
        K = (K+1)%9
        if K == 0 : K += 1
