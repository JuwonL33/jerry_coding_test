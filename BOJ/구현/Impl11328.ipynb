# Strfry
# https://www.acmicpc.net/problem/11328

N = int(input())

for _ in range(N) : 
    one, two = map(str, input().split())
    l1, l2 = sorted(list(one)), sorted(list(two))
    if l1 == l2 : 
        print("Possible")
    else : print("Impossible")
