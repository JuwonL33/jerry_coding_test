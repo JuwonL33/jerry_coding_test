{
 "cells": [
  {
   "cell_type": "code",
   "execution_count": 8,
   "metadata": {},
   "outputs": [
    {
     "name": "stdout",
     "output_type": "stream",
     "text": [
      "2\n",
      "3\n"
     ]
    }
   ],
   "source": [
    "# JOI와 IOI\n",
    "# https://www.acmicpc.net/problem/5586\n",
    "\n",
    "case = input()\n",
    "\n",
    "j_cnt, i_cnt = 0, 0 \n",
    " \n",
    "for i in range(len(case)-2) : \n",
    "    if case[i] == 'J' and case[i+1] == 'O' and case[i+2] == 'I' : j_cnt += 1\n",
    "    if case[i] == 'I' and case[i+1] == 'O' and case[i+2] == 'I' : i_cnt += 1\n",
    "\n",
    "print(j_cnt)\n",
    "print(i_cnt)"
   ]
  }
 ],
 "metadata": {
  "kernelspec": {
   "display_name": "Python 3.10.3 64-bit",
   "metadata": {
    "interpreter": {
     "hash": "98590ff4fe04c8543246b2a01debd3de3c5ca9b666f43f1fa87d5110c692004c"
    }
   },
   "name": "python3"
  },
  "language_info": {
   "codemirror_mode": {
    "name": "ipython",
    "version": 3
   },
   "file_extension": ".py",
   "mimetype": "text/x-python",
   "name": "python",
   "nbconvert_exporter": "python",
   "pygments_lexer": "ipython3",
   "version": "3.10.3-final"
  },
  "orig_nbformat": 2
 },
 "nbformat": 4,
 "nbformat_minor": 2
}