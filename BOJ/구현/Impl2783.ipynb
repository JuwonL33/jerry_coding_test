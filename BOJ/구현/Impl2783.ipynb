# 삼각 김밥
# https://www.acmicpc.net/problem/2783

x, y = map(int, input().split())        # 세븐 25의 삼각 김밥 가격

n = int(input())

result = [x/y]

for _ in range(n) :
    x, y = map(int, input().split())
    result.append(x/y)
    
print("%.2f" % (min(result)*1000))
