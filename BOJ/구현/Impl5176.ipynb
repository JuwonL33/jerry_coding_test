# 대회 자리
# https://www.acmicpc.net/problem/5176

K = int(input())                        # 테스트 케이스의 개수
for _ in range(K) : 
    P, M = map(int, input().split())    # P : 참가자의 수, M : 자리의 수
    arr = set([ int(input()) for _ in range(P) ])
    print(P - len(arr))
