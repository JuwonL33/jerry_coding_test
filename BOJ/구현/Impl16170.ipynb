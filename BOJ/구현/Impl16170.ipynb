# 오늘의 날짜
# https://www.acmicpc.net/problem/16170

from datetime import datetime

today = datetime.today()
print(today.year)
print('0'+str(today.month) if len(str(today.month)) == 1 else today.month )
print(today.day)
