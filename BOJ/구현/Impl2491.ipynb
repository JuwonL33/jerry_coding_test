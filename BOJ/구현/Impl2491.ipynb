# 수열
# https://www.acmicpc.net/problem/2491

t = int(input())
arr = list(map(int, input().split()))

result = [1]*t
result2 = [1]*t

for i in range(len(arr)-1) : 
    if arr[i+1] >= arr[i] : 
        result[i+1] += result[i]
        
for i in range(len(arr)-1) : 
    if arr[i+1] <= arr[i] : 
        result2[i+1] += result2[i]

max1 = max(result)
max2 = max(result2)

print(max(max1, max2))
