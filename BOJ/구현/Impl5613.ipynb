# 계산기 프로그램
# https://www.acmicpc.net/problem/5613

result = int(input())

while True : 
    case = input()
    if case == "=" : break
    digit = int(input())
    if case == '+' : result += digit;
    elif case == '-' : result -= digit;
    elif case == '/' : result //= digit;
    elif case == '*' : result *= digit;

print(result)
