# 아름다운 수
# https://www.acmicpc.net/problem/2774

T = int(input())
for _ in range(T) : 
    case = input()
    print(len(set(case)))
