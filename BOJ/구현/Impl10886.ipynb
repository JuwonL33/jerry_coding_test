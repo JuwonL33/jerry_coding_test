# 0 = not cute / 1 = cute
# https://www.acmicpc.net/problem/10886

n = int(input())
score = 0
for _ in range(n) : 
    score += int(input())
    
if score > int(n//2) :
    print("Junhee is cute!")
else : 
    print("Junhee is not cute!")
