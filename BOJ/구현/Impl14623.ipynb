# 감정이입
# https://www.acmicpc.net/problem/14623

B1 = input()
B2 = input()

print(bin(int(B1,2) * int(B2,2))[2:])
