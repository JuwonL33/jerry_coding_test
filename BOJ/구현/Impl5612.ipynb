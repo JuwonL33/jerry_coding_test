{
 "cells": [
  {
   "cell_type": "code",
   "execution_count": null,
   "metadata": {},
   "outputs": [],
   "source": [
    "# 터널의 입구와 출구\n",
    "# https://www.acmicpc.net/problem/5612\n",
    "\n",
    "import sys\n",
    "\n",
    "for _ in range(int(sys.stdin.readline())) : \n",
    "    num = int(sys.stdin.readline())\n",
    "    arr = []\n",
    "    while True : \n",
    "        if 1 in arr : break\n",
    "        arr.append(num)\n",
    "        if num % 2 == 0 : \n",
    "            num //= 2 \n",
    "        else : \n",
    "            num = num * 3 + 1\n",
    "    print(max(arr))\n"
   ]
  }
 ],
 "metadata": {
  "kernelspec": {
   "display_name": "Python 3.10.3 64-bit",
   "metadata": {
    "interpreter": {
     "hash": "98590ff4fe04c8543246b2a01debd3de3c5ca9b666f43f1fa87d5110c692004c"
    }
   },
   "name": "python3"
  },
  "language_info": {
   "name": "python",
   "nbconvert_exporter": "python",
   "version": "3.10.3-final"
  },
  "orig_nbformat": 2
 },
 "nbformat": 4,
 "nbformat_minor": 2
}