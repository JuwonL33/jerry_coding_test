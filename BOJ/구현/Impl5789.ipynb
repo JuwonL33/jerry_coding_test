{
 "cells": [
  {
   "cell_type": "code",
   "execution_count": 2,
   "metadata": {},
   "outputs": [
    {
     "name": "stdout",
     "output_type": "stream",
     "text": [
      "Do-it\n",
      "Do-it-Not\n",
      "Do-it\n"
     ]
    }
   ],
   "source": [
    "# 한다 안한다\n",
    "# https://www.acmicpc.net/problem/5789\n",
    "\n",
    "T = int(input())\n",
    "for _ in range(T) : \n",
    "    case = list(input())\n",
    "    k = len(case)//2-1\n",
    "    if case[k] == case[-k-1] : print(\"Do-it\")\n",
    "    else : print(\"Do-it-Not\")"
   ]
  }
 ],
 "metadata": {
  "kernelspec": {
   "display_name": "Python 3.10.3 64-bit",
   "metadata": {
    "interpreter": {
     "hash": "98590ff4fe04c8543246b2a01debd3de3c5ca9b666f43f1fa87d5110c692004c"
    }
   },
   "name": "python3"
  },
  "language_info": {
   "codemirror_mode": {
    "name": "ipython",
    "version": 3
   },
   "file_extension": ".py",
   "mimetype": "text/x-python",
   "name": "python",
   "nbconvert_exporter": "python",
   "pygments_lexer": "ipython3",
   "version": "3.10.3"
  },
  "orig_nbformat": 2
 },
 "nbformat": 4,
 "nbformat_minor": 2
}