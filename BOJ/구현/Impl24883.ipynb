# 자동완성
# https://www.acmicpc.net/problem/24883

case = input()
if case.lower() == 'n' : print("Naver D2")
else : print("Naver Whale")
