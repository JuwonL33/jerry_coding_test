# 약수들의 합
# https://www.acmicpc.net/problem/9506

while True : 
    case = int(input())
    answer = str(case)
    arr = []
    if case == -1 : break
    for i in range(1, case) : 
        if case % i == 0 : 
            arr.append(i)
    if sum(arr) == case : 
        answer += ' = '
        for i in range(len(arr)) : 
            answer += str(arr[i])
            if i != len(arr)-1 : 
                answer += ' + '
    else : 
        answer += ' is NOT perfect.'
    print(answer)

