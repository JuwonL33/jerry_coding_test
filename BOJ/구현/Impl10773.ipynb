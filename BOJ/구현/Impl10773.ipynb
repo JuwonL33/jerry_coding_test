# 제로
# https://www.acmicpc.net/problem/10773

n = int(input())
arr = []
for _ in range(n) : 
    a = int(input())
    if a > 0 : 
        arr.append(a)
    else : 
        arr.pop()
        
print(sum(arr))
