# 닉네임에 갓 붙이기
# https://www.acmicpc.net/problem/13163

n = int(input())
for _ in range(n) : 
    case = list(map(str, input().split()))
    result = 'god'
    for i in range(1, len(case)) :
        result += case[i]
    print(result)
