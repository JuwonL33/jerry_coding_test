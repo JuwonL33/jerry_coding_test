# 집 주소
# https://www.acmicpc.net/problem/1284

arr = [4,2,3,3,3,3,3,3,3,3]

while True : 
    case = input()
    if case == '0' : break
    width = 1 # 맨 왼쪽 1
    for c in case : 
        width += arr[int(c)]
        width += 1
    print(width)
