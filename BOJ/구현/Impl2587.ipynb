# 대표값2
# https://www.acmicpc.net/problem/2587

arr = []
for _ in range(5) : 
    arr.append(int(input()))
    
arr.sort()
print(int(sum(arr)//5))
print(arr[2])
