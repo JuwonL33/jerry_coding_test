# 가위 바위 보?
# https://www.acmicpc.net/problem/4493

T = int(input())
for _ in range(T) : 
    cnt = int(input())      # 가위바위보를 한 횟수
    r1, r2 = 0, 0
    for _ in range(cnt) : 
        p1, p2 = map(str, input().split())
        if (p1 == "P" and p2 == "R") or (p1 == "S" and p2 == "P") or (p1 == "R" and p2 == "S") : 
            r1 += 1
        elif (p2 == "P" and p1 == "R") or (p2 == "S" and p1 == "P") or (p2 == "R" and p1 == "S") : 
            r2 += 1
    
    if r1 > r2 : print("Player 1")
    elif r1 < r2 : print("Player 2")
    else : print("TIE")
