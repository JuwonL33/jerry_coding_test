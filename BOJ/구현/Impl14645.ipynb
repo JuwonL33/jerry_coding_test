{
 "cells": [
  {
   "cell_type": "code",
   "execution_count": 1,
   "metadata": {},
   "outputs": [
    {
     "name": "stdout",
     "output_type": "stream",
     "text": [
      "비와이\n"
     ]
    }
   ],
   "source": [
    "# 와이버스 부릉부릉\n",
    "# https://www.acmicpc.net/problem/14645\n",
    "\n",
    "n, k = map(int, input().split()) \n",
    "arr = []\n",
    "for i in range(n) : \n",
    "    arr.append(list(map(int, input().split())))\n",
    "\n",
    "print(\"비와이\")"
   ]
  }
 ],
 "metadata": {
  "kernelspec": {
   "display_name": "Python 3.10.3 64-bit",
   "metadata": {
    "interpreter": {
     "hash": "98590ff4fe04c8543246b2a01debd3de3c5ca9b666f43f1fa87d5110c692004c"
    }
   },
   "name": "python3"
  },
  "language_info": {
   "codemirror_mode": {
    "name": "ipython",
    "version": 3
   },
   "file_extension": ".py",
   "mimetype": "text/x-python",
   "name": "python",
   "nbconvert_exporter": "python",
   "pygments_lexer": "ipython3",
   "version": "3.10.3-final"
  },
  "orig_nbformat": 2
 },
 "nbformat": 4,
 "nbformat_minor": 2
}