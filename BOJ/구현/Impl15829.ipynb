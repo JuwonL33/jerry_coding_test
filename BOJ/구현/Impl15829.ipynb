# Hasing
# https://www.acmicpc.net/problem/15829

n = int(input())
string = input()
result = 0

for i in range(len(string)) : 
    num = ord(string[i])-96
    result += num*(31**i)
    
print(result % 1234567891)
