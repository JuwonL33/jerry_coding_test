# 주사위 게임
# https://www.acmicpc.net/problem/10103

n = int(input())
changyoung, sangduk = 100, 100

for _ in range(n) : 
    c, s = map(int, input().split())
    if c > s : 
        sangduk -= c
    elif c < s : 
        changyoung -= s

print(changyoung)
print(sangduk)
