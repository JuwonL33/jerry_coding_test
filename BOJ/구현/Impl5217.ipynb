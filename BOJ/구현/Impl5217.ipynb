# 쌍의 합
# https://www.acmicpc.net/problem/5217

T = int(input())                            # Test Case의 수
for _ in range(T) : 
    case = int(input())
    start = 1
    print("Pairs for {}:".format(case), end = ' ')
    
    for i in range((case-1)//2) : 
        if i != 0 : 
            print(',', end = ' ')
        print(start, case - start, end = '')
        start += 1
    
    print()
