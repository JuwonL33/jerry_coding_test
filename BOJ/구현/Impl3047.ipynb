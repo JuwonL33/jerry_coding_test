# ABC
# https://www.acmicpc.net/problem/3047

arr = list(map(int, input().split()))
print_msg = input()
arr.sort()

for msg in print_msg : 
    if msg == 'A' : print(arr[0], end = ' ')
    elif msg == 'B' : print(arr[1], end = ' ')
    else : print(arr[2], end = ' ')
