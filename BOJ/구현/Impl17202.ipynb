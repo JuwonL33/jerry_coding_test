{
 "cells": [
  {
   "cell_type": "code",
   "execution_count": 7,
   "metadata": {},
   "outputs": [
    {
     "name": "stdout",
     "output_type": "stream",
     "text": [
      "26\n"
     ]
    }
   ],
   "source": [
    "# 핸드폰 번호 궁합\n",
    "# https://www.acmicpc.net/problem/17202\n",
    "\n",
    "A = input() \n",
    "B = input() \n",
    "\n",
    "tmp = ''\n",
    "\n",
    "for i in range(len(A)) : \n",
    "    tmp += A[i]\n",
    "    tmp += B[i]\n",
    "\n",
    "while True : \n",
    "    if len(tmp) == 2 : \n",
    "        print(tmp)\n",
    "        break\n",
    "    \n",
    "    tmp_num=''\n",
    "    for i in range(len(tmp)-1) : \n",
    "        if int(tmp[i])+int(tmp[i+1])>=10 : \n",
    "            tmp_num += str(int(tmp[i])+int(tmp[i+1]))[-1]\n",
    "        else : \n",
    "            tmp_num += str(int(tmp[i])+int(tmp[i+1]))\n",
    "    tmp = tmp_num\n"
   ]
  }
 ],
 "metadata": {
  "kernelspec": {
   "display_name": "Python 3.10.3 64-bit",
   "metadata": {
    "interpreter": {
     "hash": "98590ff4fe04c8543246b2a01debd3de3c5ca9b666f43f1fa87d5110c692004c"
    }
   },
   "name": "python3"
  },
  "language_info": {
   "codemirror_mode": {
    "name": "ipython",
    "version": 3
   },
   "file_extension": ".py",
   "mimetype": "text/x-python",
   "name": "python",
   "nbconvert_exporter": "python",
   "pygments_lexer": "ipython3",
   "version": "3.10.3"
  },
  "orig_nbformat": 2
 },
 "nbformat": 4,
 "nbformat_minor": 2
}