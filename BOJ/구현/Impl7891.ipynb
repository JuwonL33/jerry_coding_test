# Can you add this?
# https://www.acmicpc.net/problem/7891

N = int(input())
for _ in range(N) : 
    a, b = map(int, input().split())
    print(a+b)
