# 치킨 두 마리 (...)
# https://www.acmicpc.net/problem/14489

a, b = map(int, input().split())
c = int(input())

if (a+b) >= (c * 2) : print(a+b-(c*2))
else : print(a+b)
