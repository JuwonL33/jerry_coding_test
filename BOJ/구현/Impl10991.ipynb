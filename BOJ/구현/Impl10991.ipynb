# 별 찍기 - 16
# https://www.acmicpc.net/problem/10991

n = int(input())
for i in range(n) : 
    if i == 0 : 
        print((n-1)*' ' + '*')
    elif i == n-1 : 
        print("* "*i+"*")
    else : 
        print(" " * (n-i-1) + "* " * (i+1))
        
