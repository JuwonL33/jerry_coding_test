{
 "cells": [
  {
   "cell_type": "code",
   "execution_count": 1,
   "metadata": {},
   "outputs": [
    {
     "name": "stdout",
     "output_type": "stream",
     "text": [
      "0 50 50 60 60 90 "
     ]
    }
   ],
   "source": [
    "# 크림파스타\n",
    "# https://www.acmicpc.net/problem/25214\n",
    "\n",
    "N = int(input())  \n",
    "arr = list(map(int, input().split()))\n",
    " \n",
    "dp = [[0,1000000000]]   \n",
    "\n",
    "for i in range(1, N+1) : \n",
    "    dp.append([max(dp[i-1][0], arr[i-1] - dp[i-1][1]), min(dp[i-1][1], arr[i-1])])\n",
    "  \n",
    "for i in range(1, N+1) : \n",
    "    print(dp[i][0], end = ' ')  "
   ]
  }
 ],
 "metadata": {
  "kernelspec": {
   "display_name": "Python 3.10.3 64-bit",
   "metadata": {
    "interpreter": {
     "hash": "98590ff4fe04c8543246b2a01debd3de3c5ca9b666f43f1fa87d5110c692004c"
    }
   },
   "name": "python3"
  },
  "language_info": {
   "codemirror_mode": {
    "name": "ipython",
    "version": 3
   },
   "file_extension": ".py",
   "mimetype": "text/x-python",
   "name": "python",
   "nbconvert_exporter": "python",
   "pygments_lexer": "ipython3",
   "version": "3.10.3"
  },
  "orig_nbformat": 2
 },
 "nbformat": 4,
 "nbformat_minor": 2
}