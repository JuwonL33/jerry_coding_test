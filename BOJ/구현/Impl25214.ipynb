{
 "cells": [
  {
   "cell_type": "code",
   "execution_count": null,
   "metadata": {},
   "outputs": [],
   "source": [
    "# 크림파스타\n",
    "# https://www.acmicpc.net/problem/25214\n",
    "\n",
    "N = int(input())\n",
    "arr = list(map(int, input().split()))\n",
    "\n",
    "dp = [[0,1000000000]]\n",
    "\n",
    "for i in range(1, N+1) : \n",
    "    dp.append([max(dp[i-1][0], arr[i-1] - dp[i-1][1]), min(dp[i-1][1], arr[i-1])])\n",
    "\n",
    "for i in range(1, N+1) : \n",
    "    print(dp[i][0], end = ' ')"
   ]
  }
 ],
 "metadata": {
  "kernelspec": {
   "display_name": "Python 3.10.3 64-bit",
   "metadata": {
    "interpreter": {
     "hash": "98590ff4fe04c8543246b2a01debd3de3c5ca9b666f43f1fa87d5110c692004c"
    }
   },
   "name": "python3"
  },
  "language_info": {
   "name": "python",
   "nbconvert_exporter": "python",
   "version": "3.10.3-final"
  },
  "orig_nbformat": 2
 },
 "nbformat": 4,
 "nbformat_minor": 2
}