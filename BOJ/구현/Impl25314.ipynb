# 코딩은 체육과목 입니다.
# https://www.acmicpc.net/problem/25314

print((int(input()) // 4) * 'long ' + 'int')
