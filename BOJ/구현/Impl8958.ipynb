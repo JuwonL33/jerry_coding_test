{
 "cells": [
  {
   "cell_type": "code",
   "execution_count": 3,
   "metadata": {},
   "outputs": [
    {
     "name": "stdout",
     "output_type": "stream",
     "text": [
      "10\n"
     ]
    }
   ],
   "source": [
    "# OX퀴즈\n",
    "# https://www.acmicpc.net/problem/8958\n",
    "\n",
    "n = int(input())\n",
    "for _ in range(n) : \n",
    "    sum = 0\n",
    "    arr = input().split(\"X\")\n",
    "    for a in arr : \n",
    "        if len(a) == 0 : continue\n",
    "        else : \n",
    "            for i in range(len(a)) : \n",
    "                sum += i+1\n",
    "    print(sum)"
   ]
  }
 ],
 "metadata": {
  "kernelspec": {
   "display_name": "Python 3.10.3 64-bit",
   "metadata": {
    "interpreter": {
     "hash": "98590ff4fe04c8543246b2a01debd3de3c5ca9b666f43f1fa87d5110c692004c"
    }
   },
   "name": "python3"
  },
  "language_info": {
   "codemirror_mode": {
    "name": "ipython",
    "version": 3
   },
   "file_extension": ".py",
   "mimetype": "text/x-python",
   "name": "python",
   "nbconvert_exporter": "python",
   "pygments_lexer": "ipython3",
   "version": "3.10.3"
  },
  "orig_nbformat": 2
 },
 "nbformat": 4,
 "nbformat_minor": 2
}