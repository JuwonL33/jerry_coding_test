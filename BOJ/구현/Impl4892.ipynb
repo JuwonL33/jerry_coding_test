# 숫자 맞추기 게임
# https://www.acmicpc.net/problem/4892

num = 1

while True : 
    case = int(input())
    if case == 0 : break
    
    oddOrEven = 'even'
    n1 = 3 * case 
    if n1 % 2 == 0 : 
        n2 = n1//2
    else : 
        oddOrEven = 'odd'
        n2 = (n1+1) //2
    n3 = 3 * n2
    n4 = n3//9

    if n1 % 2 == 0 : 
        case = 2 * n4
    else : 
        case = 2*n4+1
    
    print("{}. {} {}".format(num, oddOrEven, n4))
    num += 1
