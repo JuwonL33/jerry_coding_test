# 내 학점을 구해줘
# https://www.acmicpc.net/problem/10984

T = int(input())

for _ in range(T) : 
    n = int(input())
    c, g = 0, 0
    for i in range(n) : 
        t_c, t_g = map(float, input().split())
        c += int(t_c)
        g += t_g*t_c
    print(c, round(g/c, 1))
