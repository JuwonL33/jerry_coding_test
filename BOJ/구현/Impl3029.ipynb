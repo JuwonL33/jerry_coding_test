# 경고
# https://www.acmicpc.net/problem/3029

c_h, c_m, c_s = map(int, input().split(":"))
t_h, t_m, t_s = map(int, input().split(":"))

t1 = c_h*60*60 + c_m*60 + c_s
t2 = t_h*60*60 + t_m*60 + t_s

t = t2 - t1 if t2 > t1 else t2 - t1 + 24*60*60

h = t // 60 // 60
m = t // 60 % 60
s = t % 60

print("%02d:%02d:%02d" % (h, m, s))
