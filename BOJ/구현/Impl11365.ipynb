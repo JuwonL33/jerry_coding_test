# !밀비 급일
# https://www.acmicpc.net/problem/11365

while True : 
    t = input()
    if t == 'END' : break
    print(t[::-1])
