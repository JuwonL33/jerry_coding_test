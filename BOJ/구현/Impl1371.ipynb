{
 "cells": [
  {
   "cell_type": "code",
   "execution_count": 3,
   "metadata": {},
   "outputs": [
    {
     "name": "stdout",
     "output_type": "stream",
     "text": [
      "abcdefghijklmnopqrstuvwxyz\n"
     ]
    }
   ],
   "source": [
    "# 가장 많은 글자 \n",
    "# https://www.acmicpc.net/problem/1371\n",
    "import sys\n",
    "\n",
    "arr = [0] * 26\n",
    "sentences = sys.stdin.read\n",
    "sentence = sentences().replace(\"\\n\",\"\").replace(\" \",\"\")\n",
    "\n",
    "for s in sentence : arr[ord(s)-97]+=1\n",
    "\n",
    "maxs = max(arr)\n",
    "result = []\n",
    "for i in range(len(arr)) : \n",
    "    if arr[i] == maxs : \n",
    "        result.append(chr(i+97))\n",
    "result.sort()\n",
    "print(*result, sep=\"\")"
   ]
  }
 ],
 "metadata": {
  "kernelspec": {
   "display_name": "Python 3.10.3 64-bit",
   "metadata": {
    "interpreter": {
     "hash": "98590ff4fe04c8543246b2a01debd3de3c5ca9b666f43f1fa87d5110c692004c"
    }
   },
   "name": "python3"
  },
  "language_info": {
   "codemirror_mode": {
    "name": "ipython",
    "version": 3
   },
   "file_extension": ".py",
   "mimetype": "text/x-python",
   "name": "python",
   "nbconvert_exporter": "python",
   "pygments_lexer": "ipython3",
   "version": "3.10.3"
  },
  "orig_nbformat": 2
 },
 "nbformat": 4,
 "nbformat_minor": 2
}