{
 "cells": [
  {
   "cell_type": "code",
   "execution_count": 63,
   "metadata": {},
   "outputs": [
    {
     "name": "stdout",
     "output_type": "stream",
     "text": [
      "<   space   >ecaps ecaps ecaps<    spa   c e>\n"
     ]
    }
   ],
   "source": [
    "# 단어 뒤집기 2\n",
    "# https://www.acmicpc.net/problem/17413\n",
    "# 시간 초과 \n",
    "\n",
    "s = input()\n",
    "result = \"\"\n",
    "flag = False\n",
    "\n",
    "start, end = 0, 0\n",
    "tmp = \"\"\n",
    "\n",
    "for i in range(len(s)) : \n",
    "    if result.count(\"<\") > result.count(\">\") and s[i] not in [\"<\", \">\"] : \n",
    "        result += s[i]\n",
    "    elif result.count(\"<\") == result.count(\">\") and s[i] not in [\"<\", \">\", \" \"] : \n",
    "        tmp += s[i]\n",
    "    if result.count(\"<\") == result.count(\">\") and (s[i] in [\"<\", \" \"] or (i+1) == len(s)) : \n",
    "        result += tmp[::-1]\n",
    "        if s[i] == \" \" or s[i] == \">\" : result += s[i]\n",
    "        tmp = \"\"    \n",
    "    if s[i] in [\"<\", \">\"] : result += s[i]\n",
    "\n",
    "print(result)"
   ]
  },
  {
   "cell_type": "code",
   "execution_count": 66,
   "metadata": {},
   "outputs": [
    {
     "name": "stdout",
     "output_type": "stream",
     "text": [
      "judgeonlinebaekjoon\n"
     ]
    }
   ],
   "source": [
    "import sys\n",
    "word = list(sys.stdin.readline().rstrip())\n",
    "\n",
    "i = 0\n",
    "start = 0\n",
    "\n",
    "while i < len(word) : \n",
    "    if word[i] == '<' : \n",
    "        i += 1\n",
    "        while word[i] != '>' : \n",
    "            i += 1\n",
    "        i += 1\n",
    "    elif word[i].isalnum() : \n",
    "        start = i\n",
    "        while i < len(word) and word[i].isalnum() : \n",
    "            i += 1\n",
    "        tmp = word[start:i]\n",
    "        tmp.reverse()\n",
    "        word[start:i] = tmp\n",
    "    else : \n",
    "        i += 1\n",
    "\n",
    "print(\"\".join(word))"
   ]
  },
  {
   "cell_type": "code",
   "execution_count": null,
   "metadata": {},
   "outputs": [],
   "source": []
  }
 ],
 "metadata": {
  "kernelspec": {
   "display_name": "Python 3.10.3 64-bit",
   "metadata": {
    "interpreter": {
     "hash": "98590ff4fe04c8543246b2a01debd3de3c5ca9b666f43f1fa87d5110c692004c"
    }
   },
   "name": "python3"
  },
  "language_info": {
   "codemirror_mode": {
    "name": "ipython",
    "version": 3
   },
   "file_extension": ".py",
   "mimetype": "text/x-python",
   "name": "python",
   "nbconvert_exporter": "python",
   "pygments_lexer": "ipython3",
   "version": "3.10.3"
  },
  "orig_nbformat": 2
 },
 "nbformat": 4,
 "nbformat_minor": 2
}