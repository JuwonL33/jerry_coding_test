# Yangjojang of The Year
# https://www.acmicpc.net/problem/11557

t = int(input())
for _ in range(t) : 
    case = int(input())
    dic = dict()
    for _ in range(case) : 
        univ, cnt = map(str, input().split())
        dic[univ] = int(cnt)
    print(max(dic, key=dic.get))
    
    
# dictionary의 가장 큰 값의 key를 찾는 함수. get
# max(dictionary명, key=dictionary.get)
