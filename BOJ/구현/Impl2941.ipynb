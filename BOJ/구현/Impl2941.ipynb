# 크로아티아 알파벳
# https://www.acmicpc.net/problem/2941

croatia_alpha = ['c=', 'c-', 'dz=', 'd-', 'lj', 'nj', 's=', 'z=']
s = input()
for cro in croatia_alpha : 
    s = s.replace(cro, 'a')
    
print(len(s))
        
