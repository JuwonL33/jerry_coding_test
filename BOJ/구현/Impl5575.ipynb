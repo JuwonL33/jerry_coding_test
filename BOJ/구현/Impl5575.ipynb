# 타임 카드
# https://www.acmicpc.net/problem/5575

from datetime import datetime

for _ in range(3) : 
    s_hh, s_mm, s_ss, e_hh, e_mm, e_ss = map(int, input().split())
    start_time = s_hh*60*60 + s_mm*60 + s_ss
    end_time = e_hh*60*60 + e_mm*60 + e_ss
    gap = end_time - start_time
    h = gap//60//60 % 24
    m = gap//60 % 60
    s = gap%60
    print(h, m, s)
