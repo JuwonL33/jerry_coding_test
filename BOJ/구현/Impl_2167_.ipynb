# 2차원 배열의 합
# https://www.acmicpc.net/problem/2167

n, m = map(int, input().split())

maps = [ list(map(int, input().split()))for i in range(n) ]

for _ in range(int(input())) : 
    answer = 0
    i, j, x, y = map(int, input().split())
    i, j = i-1, j-1
    for l in range(i, x) : 
        for m in range(j, y) : 
            answer += maps[l][m]
    print(answer)
