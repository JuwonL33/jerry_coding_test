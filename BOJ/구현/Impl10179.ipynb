# 쿠폰
# https://www.acmicpc.net/problem/10179

T = int(input())
for _ in range(T) : 
    case = float(input())
    result = case - case*(0.2)
    print(f"${result:.2f}")
