# 음계
# https://www.acmicpc.net/problem/2920

arr = list(map(int, input().split()))
index = arr[0]
status = 0
if index == 8 : arr = arr[::-1]

for i in range(len(arr)) : 
    if arr[i] == i+1 : 
        status = 1
        continue
    else : 
        status = 0
        break

if status == 1 and index == 1 : 
    print("ascending")
elif status == 1 and index == 8 : 
    print("descending")
else : 
    print("mixed")
