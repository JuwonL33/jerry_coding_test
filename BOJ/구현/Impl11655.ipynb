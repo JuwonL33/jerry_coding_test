# ROT13
# https://www.acmicpc.net/problem/11655

arr1 = ['a','b','c','d','e','f','g','h','i','j','k','l','m']
arr2 = ['n','o','p','q','r','s','t','u','v','w','x','y','z']

s = input()
result = ''

for i in range(len(s)) : 
    tmp = s[i].lower()
    if tmp in arr1 : 
        if s[i].isupper() : 
            result += arr2[arr1.index(tmp)].upper()
        else : 
            result += arr2[arr1.index(s[i])]
    elif tmp in arr2 : 
        if s[i].isupper() : 
            result += arr1[arr2.index(tmp)].upper()
        else : 
            result += arr1[arr2.index(s[i])]
    else : 
        result += s[i]
        
print(result)
