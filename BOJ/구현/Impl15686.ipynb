{
 "cells": [
  {
   "cell_type": "code",
   "execution_count": 4,
   "metadata": {},
   "outputs": [
    {
     "name": "stdout",
     "output_type": "stream",
     "text": [
      "5\n"
     ]
    }
   ],
   "source": [
    "# 치킨 배달\n",
    "# https://www.acmicpc.net/problem/15686\n",
    "\n",
    "from itertools import combinations\n",
    "\n",
    "n, m = map(int, input().split())                                # n : 크기, m : 폐업시키지 않을 치킨집 개수\n",
    "chicken, house = [], []                                         # 치킨집과 가정집을 구분\n",
    "\n",
    "for r in range(n) : \n",
    "    data = list(map(int, input().split()))                # 치킨 거리 좌표 0: 빈칸, 1: 집, 2: 치킨집\n",
    "    for c in range(n) : \n",
    "        if data[c] == 1 : \n",
    "            house.append((r, c))                          # 가정집\n",
    "        if data[c] == 2 : \n",
    "            chicken.append((r, c))                        # 치킨집\n",
    "\n",
    "\n",
    "# 모든 치킨집 중 m개의 치킨집 뽑는 조합 계산\n",
    "combi = list(combinations(chicken, m))\n",
    "\n",
    "# 치킨 거리 합 계산\n",
    "def get_sum(combi) : \n",
    "    result = 0\n",
    "    # 모든 집에 대해\n",
    "    for hx, hy in house : \n",
    "        # 가장 가까운 치킨집 찾기\n",
    "        temp = 1e9\n",
    "        for cx, cy in combi : \n",
    "            temp = min(temp, abs(hx-cx)+abs(hy-cy))\n",
    "        # 가장 가까운 치킨집까지의 거리를 더하기\n",
    "        result += temp\n",
    "    return result\n",
    "\n",
    "# 치킨 거리의 합의 최소를 찾아 출력하기\n",
    "result = 1e9\n",
    "for com in combi : \n",
    "    result = min(result, get_sum(com))\n",
    "\n",
    "print(result)"
   ]
  }
 ],
 "metadata": {
  "kernelspec": {
   "display_name": "Python 3.10.3 64-bit",
   "metadata": {
    "interpreter": {
     "hash": "98590ff4fe04c8543246b2a01debd3de3c5ca9b666f43f1fa87d5110c692004c"
    }
   },
   "name": "python3"
  },
  "language_info": {
   "codemirror_mode": {
    "name": "ipython",
    "version": 3
   },
   "file_extension": ".py",
   "mimetype": "text/x-python",
   "name": "python",
   "nbconvert_exporter": "python",
   "pygments_lexer": "ipython3",
   "version": "3.10.3"
  },
  "orig_nbformat": 2
 },
 "nbformat": 4,
 "nbformat_minor": 2
}