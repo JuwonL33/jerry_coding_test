{
 "cells": [
  {
   "cell_type": "code",
   "execution_count": 38,
   "metadata": {},
   "outputs": [
    {
     "name": "stdout",
     "output_type": "stream",
     "text": [
      "ACGTACGTAC\n",
      "10\n"
     ]
    }
   ],
   "source": [
    "# DNA\n",
    "# https://www.acmicpc.net/problem/1969\n",
    "\n",
    "from collections import Counter\n",
    "\n",
    "n, m = map(int, input().split())\n",
    "arr = [ input() for _ in range(n) ]\n",
    "tmp = [ '' for _ in range(m) ]\n",
    "\n",
    "for i in range(n) : \n",
    "    for j in range(m) : \n",
    "        tmp[j] += arr[i][j]\n",
    "\n",
    "\n",
    "answer = ''\n",
    "\n",
    "for i in range(len(tmp)) : \n",
    "    answer += Counter(tmp[i]).most_common(1)[0][0]\n",
    "\n",
    "cnt = 0\n",
    "\n",
    "for k in range(len(answer)) : \n",
    "    if tmp[k] != answer[k] : cnt += 1\n",
    "print(answer)\n",
    "print(cnt)\n"
   ]
  }
 ],
 "metadata": {
  "kernelspec": {
   "display_name": "Python 3.10.3 64-bit",
   "metadata": {
    "interpreter": {
     "hash": "98590ff4fe04c8543246b2a01debd3de3c5ca9b666f43f1fa87d5110c692004c"
    }
   },
   "name": "python3"
  },
  "language_info": {
   "codemirror_mode": {
    "name": "ipython",
    "version": 3
   },
   "file_extension": ".py",
   "mimetype": "text/x-python",
   "name": "python",
   "nbconvert_exporter": "python",
   "pygments_lexer": "ipython3",
   "version": "3.10.3"
  },
  "orig_nbformat": 2
 },
 "nbformat": 4,
 "nbformat_minor": 2
}