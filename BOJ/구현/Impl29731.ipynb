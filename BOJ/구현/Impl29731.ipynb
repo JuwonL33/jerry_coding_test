{
 "cells": [
  {
   "cell_type": "code",
   "execution_count": 1,
   "metadata": {},
   "outputs": [
    {
     "name": "stdout",
     "output_type": "stream",
     "text": [
      "No\n",
      "Yes\n"
     ]
    }
   ],
   "source": [
    "# 2033년 밈 투표\n",
    "# https://www.acmicpc.net/problem/29731\n",
    "\n",
    "arr = [\n",
    "\"Never gonna give you up\", \n",
    "\"Never gonna let you down\", \n",
    "\"Never gonna run around and desert you\", \n",
    "\"Never gonna make you cry\", \n",
    "\"Never gonna say goodbye\", \n",
    "\"Never gonna tell a lie and hurt you\", \n",
    "\"Never gonna stop\"]\n",
    "\n",
    "check = False\n",
    "\n",
    "for _ in range(int(input())) : \n",
    "    case = input()\n",
    "    if case not in arr : \n",
    "        check = True\n",
    "        break\n",
    "\n",
    "if check : \n",
    "    print(\"Yes\")\n",
    "else : \n",
    "    print(\"No\")\n",
    "\n"
   ]
  }
 ],
 "metadata": {
  "kernelspec": {
   "display_name": "Python 3.10.3 64-bit",
   "metadata": {
    "interpreter": {
     "hash": "98590ff4fe04c8543246b2a01debd3de3c5ca9b666f43f1fa87d5110c692004c"
    }
   },
   "name": "python3"
  },
  "language_info": {
   "codemirror_mode": {
    "name": "ipython",
    "version": 3
   },
   "file_extension": ".py",
   "mimetype": "text/x-python",
   "name": "python",
   "nbconvert_exporter": "python",
   "pygments_lexer": "ipython3",
   "version": "3.10.3"
  },
  "orig_nbformat": 2
 },
 "nbformat": 4,
 "nbformat_minor": 2
}