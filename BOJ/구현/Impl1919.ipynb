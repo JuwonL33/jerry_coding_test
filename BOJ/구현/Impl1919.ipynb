{
 "cells": [
  {
   "cell_type": "code",
   "execution_count": 10,
   "metadata": {},
   "outputs": [
    {
     "name": "stdout",
     "output_type": "stream",
     "text": [
      "8\n"
     ]
    }
   ],
   "source": [
    "# 애너그램 만들기\n",
    "# https://www.acmicpc.net/problem/1919\n",
    "\n",
    "a = list(input())\n",
    "b = list(input())\n",
    "\n",
    "a1, b1 = a[:], b[:]\n",
    "rslt1 = [x for x in a if not x in b1 or b1.remove(x)]\n",
    "rslt2 = [x for x in b if not x in a1 or a1.remove(x)]\n",
    "\n",
    "print(len(rslt1) + len(rslt2))"
   ]
  }
 ],
 "metadata": {
  "kernelspec": {
   "display_name": "Python 3.10.3 64-bit",
   "metadata": {
    "interpreter": {
     "hash": "98590ff4fe04c8543246b2a01debd3de3c5ca9b666f43f1fa87d5110c692004c"
    }
   },
   "name": "python3"
  },
  "language_info": {
   "codemirror_mode": {
    "name": "ipython",
    "version": 3
   },
   "file_extension": ".py",
   "mimetype": "text/x-python",
   "name": "python",
   "nbconvert_exporter": "python",
   "pygments_lexer": "ipython3",
   "version": "3.10.3"
  },
  "orig_nbformat": 2
 },
 "nbformat": 4,
 "nbformat_minor": 2
}