# 홀수
# https://www.acmicpc.net/problem/2576

arr = [ int(input()) for _ in range(7) ]
odd = []

for a in arr : 
    if a % 2 != 0 :
        odd.append(a)

if len(odd) == 0 :
    print(-1)
else : 
    print(sum(odd))
    print(min(odd))
