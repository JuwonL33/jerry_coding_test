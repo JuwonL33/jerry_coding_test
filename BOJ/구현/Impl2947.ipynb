{
 "cells": [
  {
   "cell_type": "code",
   "execution_count": 12,
   "metadata": {},
   "outputs": [
    {
     "name": "stdout",
     "output_type": "stream",
     "text": [
      "1 2 5 3 4\n",
      "1 2 5 3 4\n",
      "1 2 3 5 4\n",
      "1 2 3 4 5\n"
     ]
    }
   ],
   "source": [
    "# 나무 조각\n",
    "# https://www.acmicpc.net/problem/2947\n",
    "\n",
    "arr = list(map(int, input().split()))\n",
    "arr_correct = [1, 2, 3, 4, 5]\n",
    "\n",
    "while True : \n",
    "    for i in range(len(arr)-1) : \n",
    "        if arr[i] > arr[i+1] : \n",
    "            arr[i], arr[i+1] = arr[i+1], arr[i]\n",
    "            print(\" \".join(map(str, arr)))\n",
    "    if arr == arr_correct : \n",
    "        break"
   ]
  }
 ],
 "metadata": {
  "kernelspec": {
   "display_name": "Python 3.10.3 64-bit",
   "metadata": {
    "interpreter": {
     "hash": "98590ff4fe04c8543246b2a01debd3de3c5ca9b666f43f1fa87d5110c692004c"
    }
   },
   "name": "python3"
  },
  "language_info": {
   "codemirror_mode": {
    "name": "ipython",
    "version": 3
   },
   "file_extension": ".py",
   "mimetype": "text/x-python",
   "name": "python",
   "nbconvert_exporter": "python",
   "pygments_lexer": "ipython3",
   "version": "3.10.3"
  },
  "orig_nbformat": 2
 },
 "nbformat": 4,
 "nbformat_minor": 2
}