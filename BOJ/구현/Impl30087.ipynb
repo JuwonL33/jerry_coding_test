{
 "cells": [
  {
   "cell_type": "code",
   "execution_count": 1,
   "metadata": {},
   "outputs": [
    {
     "name": "stdout",
     "output_type": "stream",
     "text": [
      "204\n",
      "303\n",
      "B101\n",
      "501\n"
     ]
    }
   ],
   "source": [
    "# 진흥원 세미나\n",
    "# https://www.acmicpc.net/problem/30087\n",
    "\n",
    "dic = {\n",
    "\"Algorithm\" :\t204,\n",
    "\"DataAnalysis\" :\t207,\n",
    "\"ArtificialIntelligence\" :\t302,\n",
    "\"CyberSecurity\" :\t\"B101\",\n",
    "\"Network\" :\t303,\n",
    "\"Startup\" :\t501,\n",
    "\"TestStrategy\" :\t105\n",
    "}\n",
    "\n",
    "N = int(input())\n",
    "for _ in range(N) : \n",
    "    case = input()\n",
    "    print(dic[case])"
   ]
  }
 ],
 "metadata": {
  "kernelspec": {
   "display_name": "Python 3.10.3 64-bit",
   "metadata": {
    "interpreter": {
     "hash": "98590ff4fe04c8543246b2a01debd3de3c5ca9b666f43f1fa87d5110c692004c"
    }
   },
   "name": "python3"
  },
  "language_info": {
   "name": "python",
   "nbconvert_exporter": "python",
   "version": "3.10.3-final"
  },
  "orig_nbformat": 2
 },
 "nbformat": 4,
 "nbformat_minor": 2
}