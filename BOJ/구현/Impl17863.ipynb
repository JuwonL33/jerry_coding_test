# FYI
# https://www.acmicpc.net/problem/17863

case = input()
if len(case) == 7 and case[:3] == '555' : print("YES")
else : print("NO")
