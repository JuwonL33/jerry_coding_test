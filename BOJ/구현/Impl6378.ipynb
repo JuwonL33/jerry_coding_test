# 디지털 루트
# https://www.acmicpc.net/problem/6378

while True : 
    case = int(input())
    if case : 
        while case > 9 : 
            case = sum(list(map(int, list(str(case)))))
        print(case)
    else : 
        break
