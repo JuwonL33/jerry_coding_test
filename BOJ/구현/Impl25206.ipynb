# 너의 평점은
# https://www.acmicpc.net/problem/25206

arr = []

score_map = {
"A+" : 	4.5,
"A0" : 	4.0,
"B+" : 	3.5,
"B0" : 	3.0,
"C+" : 	2.5,
"C0" : 	2.0,
"D+" : 	1.5,
"D0" : 	1.0,
"F" : 0.0}

total_score = 0.0
subject_cnt = 0
for _ in range(20) : arr.append(list(input().split()))

for a in arr : 
    if a[2] != 'P' : 
        subject_cnt += float(a[1])
        total_score += float(score_map[a[2]]) * float(a[1])
print(round(total_score/subject_cnt, 6))
