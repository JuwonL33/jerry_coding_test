# 하얀 칸
# https://www.acmicpc.net/problem/1100

maps = [ input() for _ in range(8) ]
start = 'w'
cnt = 0

for i in range(len(maps)) : 
    if i % 2 != 0 : start = 'b'
    else : start = 'w'
    for j in range(len(maps[i])) : 
        if start == 'w' and j % 2 == 0 and maps[i][j] == 'F' : 
            cnt += 1
        elif start == 'b' and j % 2 != 0 and maps[i][j] == 'F' : 
            cnt += 1
            
print(cnt)
