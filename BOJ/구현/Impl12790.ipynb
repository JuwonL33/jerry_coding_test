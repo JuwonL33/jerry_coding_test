{
 "cells": [
  {
   "cell_type": "code",
   "execution_count": 4,
   "metadata": {},
   "outputs": [
    {
     "name": "stdout",
     "output_type": "stream",
     "text": [
      "100\n",
      "1000\n",
      "50\n",
      "500\n",
      "1\n",
      "2501\n"
     ]
    }
   ],
   "source": [
    "# Mini Fantasy War\n",
    "# https://www.acmicpc.net/problem/12790\n",
    "\n",
    "T = int(input())\n",
    "for _ in range(T) : \n",
    "    HP, MP, A, D, W_HP, W_MP, W_A, W_D = map(int, input().split())\n",
    "    HP = HP + W_HP\n",
    "    MP = MP + W_MP\n",
    "    A = A + W_A\n",
    "    D = D + W_D\n",
    "    if MP < 1 : MP = 1\n",
    "    if HP < 1 : HP = 1\n",
    "    if A < 0 : A = 0\n",
    "    print(1 * (HP) + 5 * (MP) + 2 * (A) + 2 * (D))"
   ]
  }
 ],
 "metadata": {
  "kernelspec": {
   "display_name": "Python 3.10.3 64-bit",
   "metadata": {
    "interpreter": {
     "hash": "98590ff4fe04c8543246b2a01debd3de3c5ca9b666f43f1fa87d5110c692004c"
    }
   },
   "name": "python3"
  },
  "language_info": {
   "codemirror_mode": {
    "name": "ipython",
    "version": 3
   },
   "file_extension": ".py",
   "mimetype": "text/x-python",
   "name": "python",
   "nbconvert_exporter": "python",
   "pygments_lexer": "ipython3",
   "version": "3.10.3"
  },
  "orig_nbformat": 2
 },
 "nbformat": 4,
 "nbformat_minor": 2
}