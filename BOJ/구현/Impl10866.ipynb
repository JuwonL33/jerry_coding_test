# 덱
# https://www.acmicpc.net/problem/10866

from collections import deque

arr = []
deq = deque(arr)
t = int(input())
orders = [ list(map(str, input().split())) for _ in range(t) ]

for order in orders : 
    if order[0] == 'push_back' : 
        deq.append(order[1])
    elif order[0] == 'push_front' : 
        deq.appendleft(order[1])
    elif order[0] == 'pop_front' : 
        if len(deq) == 0 :
            print(-1)
        else : 
            print(deq[0])
            deq.popleft()
    elif order[0] == 'pop_back' : 
        if len(deq) == 0 :
            print(-1)
        else : 
            print(deq[-1])
            deq.pop()
    elif order[0] == 'size' : 
        print(len(deq))
    elif order[0] == 'empty' : 
        print(1) if len(deq) == 0 else print(0)
    elif order[0] == 'front' : 
        if len(deq) == 0 :
            print(-1)
        else : 
            print(deq[0])
    elif order[0] == 'back' : 
        if len(deq) == 0 :
            print(-1)
        else : 
            print(deq[-1])
