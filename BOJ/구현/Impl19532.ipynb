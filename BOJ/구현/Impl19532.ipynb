{
 "cells": [
  {
   "cell_type": "code",
   "execution_count": null,
   "metadata": {},
   "outputs": [],
   "source": [
    "# 수학은 비대면강의입니다\n",
    "# https://www.acmicpc.net/problem/19532\n",
    "\n",
    "a, b, c, d, e, f = map(int, input().split())\n",
    "x, y = 0, 0\n",
    "\n",
    "for x in range(-999, 1000) : \n",
    "    for y in range(-999, 1000) : \n",
    "        if a*x+b*y == c and d*x+e*y == f : \n",
    "            print(x, y)\n",
    "            break"
   ]
  }
 ],
 "metadata": {
  "kernelspec": {
   "display_name": "Python 3.10.3 64-bit",
   "metadata": {
    "interpreter": {
     "hash": "98590ff4fe04c8543246b2a01debd3de3c5ca9b666f43f1fa87d5110c692004c"
    }
   },
   "name": "python3"
  },
  "language_info": {
   "name": "python",
   "nbconvert_exporter": "python",
   "version": "3.10.3-final"
  },
  "orig_nbformat": 2
 },
 "nbformat": 4,
 "nbformat_minor": 2
}