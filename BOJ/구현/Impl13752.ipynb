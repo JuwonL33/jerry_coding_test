# 히스토그램
# https://www.acmicpc.net/problem/13752

for _ in range(int(input())) : print('='*int(input()))
