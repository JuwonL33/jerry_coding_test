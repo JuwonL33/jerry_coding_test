# 별 찍기 - 7
# https://www.acmicpc.net/problem/2444

n = int(input())
for i in range(1, n) : 
    print(' '*abs(n-i) + (2*(i-1)+1)*'*')
for i in range(n) : 
    print(' '*i+'*'*(2*(n-i)-1))
