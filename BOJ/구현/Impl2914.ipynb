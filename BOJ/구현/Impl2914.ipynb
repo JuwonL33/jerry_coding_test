# 저작권
# https://www.acmicpc.net/problem/2914
import math

a, i = map(int, input().split()) # a 수록곡, i 평균값
result = 1

while True : 
    if math.ceil(result / a) == i : break
    result += 1
    
print(result)
