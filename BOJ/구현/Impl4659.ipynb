# 비밀번호 발음하기
# https://www.acmicpc.net/problem/4659

moeum = ['a', 'e', 'i', 'o', 'u']

while True : 
    case = input()
    if case == 'end' : break

    checklist = [False, True, True]
    
    jaeum_cnt = 0               # 자음
    moeum_cnt = 0               # 모음
    
    for i in range(len(case)) : 
        for j in moeum : 
            if case[i] == j : 
                checklist[0] = True
                break
        if checklist[0] : break
        
    for i in range(len(case)) : 
        check2 = False
        for j in moeum : 
            if case[i] == j : 
                jaeum_cnt = 0 
                moeum_cnt += 1
                check2 = True
                break
        if not check2 : 
            jaeum_cnt += 1 
            moeum_cnt = 0
        if jaeum_cnt > 2 or moeum_cnt > 2 : 
            checklist[1] = False
            break
    
    for i in range(len(case) - 1) : 
        if len(case) <= 1 : break
        if case[i] == case[i+1] and case[i]!='e' and case[i]!= 'o' : 
            checklist[2] = False
    
    if checklist[0] and checklist[1] and checklist[2] : 
        print("<{}> is acceptable.".format(case))
    else : 
        print("<{}> is not acceptable.".format(case))
