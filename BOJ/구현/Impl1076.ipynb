# 저항
# https://www.acmicpc.net/problem/1076

dic = {
"black" :	['0',	1],
"brown" :	['1',	10],
"red" :	    ['2',	100],
"orange" :	['3',	1000],
"yellow" :	['4',	10000],
"green" :	['5',	100000],
"blue" :	['6',	1000000],
"violet" :	['7',	10000000],
"grey" :	['8',	100000000],
"white" :	['9',	1000000000]
}

p1 = input()
p2 = input()
p3 = input()

print(int(dic[p1][0]+dic[p2][0])*dic[p3][1])
