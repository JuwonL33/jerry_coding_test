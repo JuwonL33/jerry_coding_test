# 유진수
# https://www.acmicpc.net/problem/1356

num = input()
yujinsu = [int(n) for n in num]
flag = False 

for i in range(1, len(yujinsu)) : 
    p1, p2 = yujinsu[:i], yujinsu[i:]
    # print(p1, p2)
    # print(sum(p1), sum(p2))
    m1 = m2 = 1
    for p in p1 : 
        m1 *= int(p)
    for p in p2 : 
        m2 *= int(p)
    if m1 == m2 : 
        flag = True
        break
        
print("YES" if flag else "NO")

