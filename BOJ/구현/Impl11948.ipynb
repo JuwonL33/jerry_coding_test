# 과목선택
# https://www.acmicpc.net/problem/11948

a = int(input())
b = int(input())
c = int(input())
d = int(input())
e = int(input())
f = int(input()) 

science = [a,b,c,d]
science.sort(reverse=True)

print(sum(science[:3])+max(e,f))
