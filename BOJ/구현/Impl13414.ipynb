{
 "cells": [
  {
   "cell_type": "code",
   "execution_count": 3,
   "metadata": {},
   "outputs": [
    {
     "ename": "KeyError",
     "evalue": "0",
     "output_type": "error",
     "traceback": [
      "\u001b[0;31m---------------------------------------------------------------------------\u001b[0m",
      "\u001b[0;31mKeyError\u001b[0m                                  Traceback (most recent call last)",
      "Input \u001b[0;32mIn [3]\u001b[0m, in \u001b[0;36m<cell line: 16>\u001b[0;34m()\u001b[0m\n\u001b[1;32m     13\u001b[0m \u001b[38;5;28;01mif\u001b[39;00m (K \u001b[38;5;241m>\u001b[39m \u001b[38;5;28mlen\u001b[39m(result)) : K \u001b[38;5;241m=\u001b[39m \u001b[38;5;28mlen\u001b[39m(result)\n\u001b[1;32m     15\u001b[0m \u001b[38;5;66;03m# 제한 인원보다 신청 인원이 많을 경우 제한 인원만큼 출력\u001b[39;00m\n\u001b[0;32m---> 16\u001b[0m \u001b[38;5;28;01mfor\u001b[39;00m i \u001b[38;5;129;01min\u001b[39;00m \u001b[38;5;28mrange\u001b[39m(K) : \u001b[38;5;28mprint\u001b[39m(dic[i][\u001b[38;5;241m0\u001b[39m])\n",
      "\u001b[0;31mKeyError\u001b[0m: 0"
     ]
    }
   ],
   "source": [
    "# 수강신청\n",
    "# https://www.acmicpc.net/problem/13414\n",
    "# input()으로 입력받으니 시간 초과 남\n",
    "\n",
    "K, L = map(int, input().split())        # K : 수강 가능 인원, L : 대기목록의 길이\n",
    "dic = {}\n",
    "for i in range(L) : \n",
    "    dic[input()] = i                    # 입력 받은 순서대로 저장\n",
    "\n",
    "result = sorted(dic.items(), key = lambda x:x[1])   # 순서대로 정렬\n",
    "\n",
    "# 제한 인원보다 신청 인원이 적을 경우\n",
    "if (K > len(result)) : K = len(result)\n",
    "\n",
    "# 제한 인원보다 신청 인원이 많을 경우 제한 인원만큼 출력\n",
    "for i in range(K) : print(result[i][0])"
   ]
  }
 ],
 "metadata": {
  "kernelspec": {
   "display_name": "Python 3.10.3 64-bit",
   "metadata": {
    "interpreter": {
     "hash": "98590ff4fe04c8543246b2a01debd3de3c5ca9b666f43f1fa87d5110c692004c"
    }
   },
   "name": "python3"
  },
  "language_info": {
   "codemirror_mode": {
    "name": "ipython",
    "version": 3
   },
   "file_extension": ".py",
   "mimetype": "text/x-python",
   "name": "python",
   "nbconvert_exporter": "python",
   "pygments_lexer": "ipython3",
   "version": "3.10.3-final"
  },
  "orig_nbformat": 2
 },
 "nbformat": 4,
 "nbformat_minor": 2
}