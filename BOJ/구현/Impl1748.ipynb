n = input()
str_len = len(n) - 1
result = 0
i = 0
while i < str_len:
    result += 9 * (10 ** i) * (i + 1)
    i += 1
result += ((int(n) - (10 ** str_len)) + 1) * (str_len + 1)
print(result)
