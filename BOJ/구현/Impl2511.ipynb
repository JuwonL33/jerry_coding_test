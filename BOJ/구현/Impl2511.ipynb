# 카드놀이
# https://www.acmicpc.net/problem/2511

A = list(map(int, input().split()))
B = list(map(int, input().split()))

A_res, B_res = 0, 0

if A == B : 
    print(10, 10)
    print("D")
else : 
    for i in range(10) : 
        if A[i] > B[i] : 
            A_res += 3
        elif A[i] < B[i] : 
            B_res += 3
        else : 
            A_res += 1
            B_res += 1
    
    print(A_res, B_res)
    if A_res > B_res : print("A")
    elif A_res < B_res : print("B")
    else : 
        for i in range(9, 0, -1) : 
            if A[i] > B[i] : 
                print("A")
                break
            elif A[i] < B[i] : 
                print("B")
                break
