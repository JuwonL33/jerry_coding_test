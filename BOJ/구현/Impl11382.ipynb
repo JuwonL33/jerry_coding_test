# 꼬마 정민
# https://www.acmicpc.net/problem/11382

arr = list(map(int, input().split()))
print(sum(arr))
