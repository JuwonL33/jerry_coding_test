{
 "cells": [
  {
   "cell_type": "code",
   "execution_count": 25,
   "metadata": {},
   "outputs": [
    {
     "name": "stdout",
     "output_type": "stream",
     "text": [
      "-0.0\n",
      "0\n",
      "0\n",
      "1\n"
     ]
    }
   ],
   "source": [
    "# 통계학\n",
    "# https://www.acmicpc.net/problem/2108\n",
    "from collections import Counter\n",
    "\n",
    "n = int(input())\n",
    "\n",
    "arr = []\n",
    "\n",
    "for _ in range(n) : \n",
    "    arr.append(int(input()))\n",
    "\n",
    "arr.sort()\n",
    "\n",
    "def modefinder(arr) : \n",
    "    c = Counter(arr)\n",
    "    order = c.most_common()\n",
    "    maximum = order[0][1]\n",
    "\n",
    "    modes = []\n",
    "    for num in order : \n",
    "        if num[1] == maximum : \n",
    "            modes.append(num[0])\n",
    "    return modes\n",
    "\n",
    "sum_value = int(round(sum(arr)/n,0))\n",
    "print(sum_value)          # 산술평균\n",
    "print(arr[int(n//2)])       # 중앙값\n",
    "c = Counter(arr).most_common(1)\n",
    "if len(arr) > 1 : \n",
    "    result = modefinder(arr)\n",
    "    if len(result) > 1 : most_common = result[1]\n",
    "    else : most_common = result[0]\n",
    "else : most_common = arr[0]\n",
    "print(most_common)          # 최빈값\n",
    "print(arr[-1]-arr[0])       # 범위"
   ]
  }
 ],
 "metadata": {
  "kernelspec": {
   "display_name": "Python 3.10.3 64-bit",
   "metadata": {
    "interpreter": {
     "hash": "98590ff4fe04c8543246b2a01debd3de3c5ca9b666f43f1fa87d5110c692004c"
    }
   },
   "name": "python3"
  },
  "language_info": {
   "codemirror_mode": {
    "name": "ipython",
    "version": 3
   },
   "file_extension": ".py",
   "mimetype": "text/x-python",
   "name": "python",
   "nbconvert_exporter": "python",
   "pygments_lexer": "ipython3",
   "version": "3.10.3"
  },
  "orig_nbformat": 2
 },
 "nbformat": 4,
 "nbformat_minor": 2
}