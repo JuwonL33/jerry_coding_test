# 진법 변환
# https://www.acmicpc.net/problem/2745

N, B = map(str, input().split())
N = ''.join(reversed(N))
B = int(B)

string = '0123456789ABCDEFGHIJKLMNOPQRSTUVWXYZ'

result = 0

for i in range(len(N)-1, -1, -1) : 
    result += string.index(N[i])*(B**i)

print(result)
