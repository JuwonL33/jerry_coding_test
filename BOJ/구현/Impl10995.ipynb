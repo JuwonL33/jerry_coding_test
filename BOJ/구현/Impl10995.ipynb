# 별 찍기 - 20
# https://www.acmicpc.net/problem/10995

n = int(input())
if n == 1 : print('*')
else : 
    string = '* ' * (n-1) + '*'
    for i in range(n) : 
        if i % 2 == 0 : 
            print(string)
        else : 
            print(' ' + string)
