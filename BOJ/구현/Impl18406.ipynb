# 럭키 스트레이트
# https://www.acmicpc.net/problem/18406

case = input()

A, B = 0, 0
for i in case[:len(case)//2] : A += int(i)
for j in case[len(case)//2:] : B += int(j)
    
if A == B : print("LUCKY")
else : print("READY")
