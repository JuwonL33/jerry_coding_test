{
 "cells": [
  {
   "cell_type": "code",
   "execution_count": 3,
   "metadata": {},
   "outputs": [
    {
     "name": "stdout",
     "output_type": "stream",
     "text": [
      "D\n"
     ]
    }
   ],
   "source": [
    "# 카드게임 \n",
    "# https://www.acmicpc.net/problem/10801\n",
    "\n",
    "A = list(map(int, input().split())) \n",
    "B = list(map(int, input().split()))  \n",
    "\n",
    "a, b = 0, 0 \n",
    "\n",
    "for i in range(10) : \n",
    "    if A[i] > B[i] : a += 1\n",
    "    elif A[i] < B[i] : b += 1\n",
    "    else : continue\n",
    "\n",
    "if a > b : print(\"A\")\n",
    "elif a < b : print(\"B\")\n",
    "else : print(\"D\")"
   ]
  }
 ],
 "metadata": {
  "kernelspec": {
   "display_name": "Python 3.10.3 64-bit",
   "metadata": {
    "interpreter": {
     "hash": "98590ff4fe04c8543246b2a01debd3de3c5ca9b666f43f1fa87d5110c692004c"
    }
   },
   "name": "python3"
  },
  "language_info": {
   "codemirror_mode": {
    "name": "ipython",
    "version": 3
   },
   "file_extension": ".py",
   "mimetype": "text/x-python",
   "name": "python",
   "nbconvert_exporter": "python",
   "pygments_lexer": "ipython3",
   "version": "3.10.3-final"
  },
  "orig_nbformat": 2
 },
 "nbformat": 4,
 "nbformat_minor": 2
}