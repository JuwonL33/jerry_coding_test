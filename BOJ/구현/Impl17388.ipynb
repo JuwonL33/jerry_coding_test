{
 "cells": [
  {
   "cell_type": "code",
   "execution_count": 5,
   "metadata": {},
   "outputs": [
    {
     "name": "stdout",
     "output_type": "stream",
     "text": [
      "Hanyang\n"
     ]
    }
   ],
   "source": [
    "# 와글와글 숭고한\n",
    "# https://www.acmicpc.net/problem/17388\n",
    "\n",
    "arr = list(map(int, input().split())) \n",
    "arr_name = ['Soongsil', 'Korea', 'Hanyang']\n",
    "if sum(arr) >= 100 :  \n",
    "    print(\"OK\")   \n",
    "else : \n",
    "    print(arr_name[arr.index(min(arr))]) "
   ]
  }
 ],
 "metadata": {
  "kernelspec": {
   "display_name": "Python 3.10.3 64-bit",
   "metadata": {
    "interpreter": {
     "hash": "98590ff4fe04c8543246b2a01debd3de3c5ca9b666f43f1fa87d5110c692004c"
    }
   },
   "name": "python3"
  },
  "language_info": {
   "codemirror_mode": {
    "name": "ipython",
    "version": 3
   },
   "file_extension": ".py",
   "mimetype": "text/x-python",
   "name": "python",
   "nbconvert_exporter": "python",
   "pygments_lexer": "ipython3",
   "version": "3.10.3-final"
  },
  "orig_nbformat": 2
 },
 "nbformat": 4,
 "nbformat_minor": 2
}