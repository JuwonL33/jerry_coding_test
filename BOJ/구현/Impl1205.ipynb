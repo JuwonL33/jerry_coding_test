# 1205
# https://www.acmicpc.net/problem/1205

N, new_score, P = map(int, input().split())         # 리스트에 있는 점수 개수, 태수의 새로운 점수, 리스트에 올라갈 수 있는 점수 개수
if N == 0 : print(1)
else : 
    rankings = list(map(int, input().split()))
    if N == P and rankings[-1] >= new_score : 
        print(-1)
    else : 
        result = N + 1
        for i in range(N) : 
            if rankings[i] <= new_score : 
                result = i + 1
                break
        print(result)
