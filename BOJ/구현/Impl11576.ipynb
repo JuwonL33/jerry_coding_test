# Base Conversion
# https://www.acmicpc.net/problem/11576

a, b = map(int, input().split())
m = int(input())
arr = list(map(int, input().split()))
arr.reverse()

t = 0
for i in range(m) : t += arr[i]*(a**i)

result = []
while t//b : 
    result.append(t%b)
    t = t//b
result.append(t)

result.reverse()
print(' '.join(map(str, result)))
