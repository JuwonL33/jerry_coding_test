# 이진수 덧셈
# https://www.acmicpc.net/problem/1252

n1, n2 = map(str, input().split())
bin1, bin2 = int(n1, 2), int(n2, 2)
answer = bin(bin1+bin2)
print(answer[2:])
