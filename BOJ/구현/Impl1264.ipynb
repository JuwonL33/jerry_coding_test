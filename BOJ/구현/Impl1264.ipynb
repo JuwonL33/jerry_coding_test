{
 "cells": [
  {
   "cell_type": "code",
   "execution_count": null,
   "metadata": {},
   "outputs": [],
   "source": [
    "# 모음의 개수\n",
    "# https://www.acmicpc.net/problem/1264\n",
    "\n",
    "while True :\n",
    "    cnt = 0 \n",
    "    tmp = input()\n",
    "    if tmp == '#' : break\n",
    "    for i in tmp : \n",
    "        if i.lower() in ['a', 'e', 'i', 'o', 'u'] : \n",
    "            cnt += 1\n",
    "    print(cnt)"
   ]
  }
 ],
 "metadata": {
  "kernelspec": {
   "display_name": "Python 3.10.3 64-bit",
   "metadata": {
    "interpreter": {
     "hash": "98590ff4fe04c8543246b2a01debd3de3c5ca9b666f43f1fa87d5110c692004c"
    }
   },
   "name": "python3"
  },
  "language_info": {
   "name": "python",
   "nbconvert_exporter": "python",
   "version": "3.10.3-final"
  },
  "orig_nbformat": 2
 },
 "nbformat": 4,
 "nbformat_minor": 2
}