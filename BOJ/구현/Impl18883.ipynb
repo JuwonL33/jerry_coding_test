# N M 찍기
# https://www.acmicpc.net/problem/18883

n, m = map(int, input().split())

for i in range(1, n*m+1) : 
    if i % m == 0 : print(i, end = '\n')
    else : print(i, end = ' ')
