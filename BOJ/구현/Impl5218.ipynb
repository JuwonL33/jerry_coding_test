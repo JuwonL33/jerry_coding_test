# 알파벳 거리
# https://www.acmicpc.net/problem/5218

T = int(input())

for _ in range(T) : 
    x, y = map(str, input().split())
    # ord()
    result = []
    for i in range(len(x)) : 
        if ord(y[i]) - ord(x[i]) >= 0 : 
            result.append(str(ord(y[i]) - ord(x[i])))
        else : 
            result.append(str(ord(y[i])+26 - ord(x[i])))

    print("Distances:", end = ' ')
    for a in result :
        print(a, end = ' ')
    print()
