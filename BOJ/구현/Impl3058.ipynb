# 짝수를 찾아라
# https://www.acmicpc.net/problem/3058

t = int(input())
for _ in range(t) : 
    arr = list(map(int, input().split()))
    min_num = []
    for a in arr : 
        if a % 2 == 0 : 
            min_num.append(a)
    print(sum(min_num), min(min_num))
