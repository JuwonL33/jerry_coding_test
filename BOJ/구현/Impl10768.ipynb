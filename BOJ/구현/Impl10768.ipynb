# 특별한 날
# https://www.acmicpc.net/problem/10768

from datetime import datetime

m = input()
d = input()

mm = ''
dd = ''

if int(m) < 10 : mm = '0' + m 
else : mm = m

if int(d) < 10 : dd = '0' + d 
else : dd = d

date = '2023'+ mm + dd

standard = datetime.strptime('20230218', '%Y%m%d')
compare = datetime.strptime(date, '%Y%m%d')

if standard == compare : print("Special")
elif standard > compare : print("Before")
elif standard < compare : print("After")
