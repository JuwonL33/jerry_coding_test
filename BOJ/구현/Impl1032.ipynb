# 명령 프롬프트
# https://www.acmicpc.net/problem/1032

n = int(input())

arr = [input() for _ in range(n)]
result = list(arr[0])
for i in range(1, len(arr)) : 
    for j in range(len(arr[i])) : 
        if result[j] != arr[i][j] : 
            result[j] = "?"

print("".join(result))
