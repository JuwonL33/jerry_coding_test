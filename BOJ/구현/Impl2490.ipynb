# 윷놀이
# https://www.acmicpc.net/problem/2490

for _ in range(3) : 
    arr = list(map(int, input().split()))
    cnt_0, cnt_1 = arr.count(0), arr.count(1)
    if cnt_0 == 1 : print("A")
    elif cnt_0 == 2 : print("B")
    elif cnt_0 == 3 : print("C")
    elif cnt_0 == 4 : print("D")
    elif cnt_1 == 4 : print("E")
