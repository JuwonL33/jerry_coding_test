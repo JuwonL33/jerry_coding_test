# 유진수
# https://www.acmicpc.net/problem/1356

num = input()
yujinsu = [int(n) for n in num]
flag = False 

for i in range(len(yujinsu)-1) : 
    p1, p2 = yujinsu[:i+1], yujinsu[i+1:len(yujinsu)]
    print(p1, p2)
    print(sum(p1), sum(p2))
    if sum(p1) == sum(p2) : 
        flag = True
        break
    
if flag : print("YES")
else : print("NO")

