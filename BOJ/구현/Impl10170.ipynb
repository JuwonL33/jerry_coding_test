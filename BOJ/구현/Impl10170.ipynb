{
 "cells": [
  {
   "cell_type": "code",
   "execution_count": null,
   "metadata": {},
   "outputs": [],
   "source": [
    "# NFC West vs North\n",
    "# https://www.acmicpc.net/problem/10170\n",
    "\n",
    "print(\"NFC West       W   L  T\")\n",
    "print(\"-----------------------\")\n",
    "print(\"Seattle        13  3  0\")\n",
    "print(\"San Francisco  12  4  0\")\n",
    "print(\"Arizona        10  6  0\")\n",
    "print(\"St. Louis      7   9  0\")\n",
    "print(\"\")\n",
    "print(\"NFC North      W   L  T\")\n",
    "print(\"-----------------------\")\n",
    "print(\"Green Bay      8   7  1\")\n",
    "print(\"Chicago        8   8  0\")\n",
    "print(\"Detroit        7   9  0\")\n",
    "print(\"Minnesota      5  10  1\")\n",
    "\n"
   ]
  }
 ],
 "metadata": {
  "kernelspec": {
   "display_name": "Python 3.10.3 64-bit",
   "metadata": {
    "interpreter": {
     "hash": "98590ff4fe04c8543246b2a01debd3de3c5ca9b666f43f1fa87d5110c692004c"
    }
   },
   "name": "python3"
  },
  "language_info": {
   "name": "python",
   "nbconvert_exporter": "python",
   "version": "3.10.3-final"
  },
  "orig_nbformat": 2
 },
 "nbformat": 4,
 "nbformat_minor": 2
}