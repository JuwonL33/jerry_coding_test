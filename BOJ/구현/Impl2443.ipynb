# 별 찍기 - 6
# https://www.acmicpc.net/problem/2443

n = int(input())
for i in range(n) : print(' '*i+'*'*(2*(n-i)-1))
