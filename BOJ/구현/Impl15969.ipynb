# 행복
# https://www.acmicpc.net/problem/15969

N = int(input())
arr = list(map(int, input().split()))
print(max(arr)-min(arr))
