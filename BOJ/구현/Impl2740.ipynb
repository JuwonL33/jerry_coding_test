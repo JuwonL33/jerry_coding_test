# 행렬 곱셈
# https://www.acmicpc.net/problem/2740

A, N = map(int, input().split())

matrix_A = [ list(map(int, input().split())) for _ in range(A) ]

B, K = map(int, input().split())

matrix_B = [ list(map(int, input().split())) for _ in range(B) ]

arr = [[0]*K for _ in range(A)]

for row in range(A) : 
    for col in range(K) : 
        a = 0
        for l in range(B) : 
            a += matrix_A[row][l] * matrix_B[l][col]
        arr[row][col] = a

for e in arr : 
    print(*e)
