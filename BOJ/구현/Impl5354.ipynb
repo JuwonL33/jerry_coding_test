# J박스
# https://www.acmicpc.net/problem/5354

for _ in range(int(input())) : 
    line = int(input())
    for i in range(1, line+1) :
        if i == 1 or i == line : 
            print("#"*(line))
        else : 
            print("#"+"J"*(line-2)+"#")
    print()
