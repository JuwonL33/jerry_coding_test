# 수열의 변화
# https://www.acmicpc.net/problem/1551

N, K = map(int, input().split())        # N : 수열의 크기, K : 적용 횟수
arr = list(map(int, input().split(",")))
tmp = []
for _ in range(K) : 
    for i in range(len(arr)-1) : 
        tmp.append(arr[i+1]-arr[i])
    arr = tmp
    tmp = []
print(','.join(map(str, arr)))
