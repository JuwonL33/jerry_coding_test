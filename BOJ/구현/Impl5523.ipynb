# 경기 결과
# https://www.acmicpc.net/problem/5523

from sys import stdin

N = stdin.readline()
A, B = 0, 0
for _ in range(int(N)) :
    A_score, B_score = map(int, stdin.readline().split())
    if A_score > B_score : A += 1
    elif A_score < B_score : B += 1
print(A, B)
