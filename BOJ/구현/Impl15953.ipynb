# 상금 헌터
# https://www.acmicpc.net/problem/15953

t = int(input())
for _ in range(t) : 
    one, two = map(int, input().split())
    rlt1, rlt2 = 0, 0
    if one == 1 : rlt1 += 5000000
    elif one >= 2 and one <= 3 : rlt1 += 3000000
    elif one >= 4 and one <= 6 : rlt1 += 2000000
    elif one >= 7 and one <= 10 : rlt1 += 500000
    elif one >= 11 and one <= 15 : rlt1 += 300000
    elif one >= 16 and one <= 21 : rlt1 += 100000
    
    if two == 1 : rlt2 += 5120000
    elif two >= 2 and two <= 3 : rlt2 += 2560000
    elif two >= 4 and two <= 7 : rlt2 += 1280000
    elif two >= 8 and two <= 15 : rlt2 += 640000
    elif two >= 16 and two <= 31 : rlt2 += 320000
    
    print(rlt1 + rlt2)
