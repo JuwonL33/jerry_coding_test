# 뜨거운 붕어빵
# https://www.acmicpc.net/problem/11945

N, M = map(int, input().split())
arr = [ list(input()) for _ in range(N) ]
for a in arr : 
    print("".join(a[::-1]))
