# 이진수
# https://www.acmicpc.net/problem/3460

T = int(input())    # 테스트 케이스의 수

def convert_binary(n) : 
    convert_n = []
    while True :
        if n == 1 : 
            convert_n.append(n)
            return convert_n
        else :
            convert_n.append(n % 2)
            n = int(n // 2)

while True : 
    if T == 0 : 
        break
    n = int(input())
    arr = convert_binary(n)
    for i in range(len(arr)) : 
        if arr[i] == 1 : 
            print(i, end = ' ')
    T = T - 1
