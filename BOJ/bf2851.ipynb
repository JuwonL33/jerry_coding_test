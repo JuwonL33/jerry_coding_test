# 슈퍼 마리오
# https://www.acmicpc.net/problem/2851

scores = [ int(input()) for _ in range(10) ]
tot = 0
sub_scores = []
for score in scores : 
    tot += score
    sub_scores.append(abs(100-tot))

if sub_scores.count(min(sub_scores)) > 1 : 
    print(sum(scores[:sub_scores.index(min(sub_scores))+2]))
else : 
    print(sum(scores[:sub_scores.index(min(sub_scores))+1]))
