# 팰린드롬인지 확인하기
# https://www.acmicpc.net/problem/10988

n = input()
if len(n) % 2 == 0 : 
    half = n[int(len(n)//2):]
    if n[:int(len(n)//2)] == half[::-1] : 
        print(1)
    else : 
        print(0)
else : 
    half = n[int(len(n)//2)+1:]
    if n[:int(len(n)//2)] == half[::-1] : 
        print(1)
    else : 
        print(0)
