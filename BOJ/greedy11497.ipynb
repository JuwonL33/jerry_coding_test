{
 "cells": [
  {
   "cell_type": "code",
   "execution_count": 20,
   "metadata": {},
   "outputs": [
    {
     "name": "stdout",
     "output_type": "stream",
     "text": [
      "1\n",
      "4\n",
      "0\n"
     ]
    }
   ],
   "source": [
    "# Greedy 11497 통나무 건너뛰기\n",
    "# 가장 높은 통나무를 가운데 배치하는게 핵심 전략\n",
    "# 핵심 전략은 생각했는데 이를 코드로 어떻게 구현해야 하는지를 떠올리지 못함\n",
    "\n",
    "t = int(input())                                    # 테스트 케이스 개수\n",
    "for _ in range(t) : \n",
    "    n = int(input())                                # 통나무 개수\n",
    "    arr = list(map(int, input().split()))           # 통나무\n",
    "    arr.sort()\n",
    "\n",
    "    result = 0                                      # 난이도\n",
    "\n",
    "    for i in range(2, n) : \n",
    "        result = max(result, abs(arr[i]-arr[i-2]))    # 인덱스 차이를 1로 두면 양끝에 있는 인덱스 간의 차이가 너무 커져서 2로 두는게 베스트\n",
    "    \n",
    "    print(result)"
   ]
  }
 ],
 "metadata": {
  "kernelspec": {
   "display_name": "Python 3.10.3 64-bit",
   "metadata": {
    "interpreter": {
     "hash": "98590ff4fe04c8543246b2a01debd3de3c5ca9b666f43f1fa87d5110c692004c"
    }
   },
   "name": "python3"
  },
  "language_info": {
   "codemirror_mode": {
    "name": "ipython",
    "version": 3
   },
   "file_extension": ".py",
   "mimetype": "text/x-python",
   "name": "python",
   "nbconvert_exporter": "python",
   "pygments_lexer": "ipython3",
   "version": "3.10.3"
  },
  "orig_nbformat": 2
 },
 "nbformat": 4,
 "nbformat_minor": 2
}