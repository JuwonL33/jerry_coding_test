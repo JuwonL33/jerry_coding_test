# 행렬 덧셈
# https://www.acmicpc.net/problem/2738

n, m = map(int, input().split())

matrix_A = [ list(map(int, input().split())) for i in range(n) ]
matrix_B = [ list(map(int, input().split())) for i in range(n) ]
    
for i in range(n) : 
    for j in range(m) : 
        print(matrix_A[i][j]+matrix_B[i][j], end= ' ')
    print("")
