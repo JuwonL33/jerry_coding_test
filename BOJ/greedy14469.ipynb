{
 "cells": [
  {
   "cell_type": "code",
   "execution_count": 10,
   "metadata": {},
   "outputs": [
    {
     "name": "stdout",
     "output_type": "stream",
     "text": [
      "[(2, 1), (5, 7), (8, 3)]\n",
      "15\n"
     ]
    }
   ],
   "source": [
    "# 소가 길을 건너간 이유\n",
    "\n",
    "n = int(input())                                                    # 소의 마리수\n",
    "lst = []\n",
    "for i in range(n) : \n",
    "    a, b = map(int, input().split())\n",
    "    lst.append((a, b))                                              # 도착시간, 검문시간을 튜플로 만들어 lst에 더하기\n",
    "\n",
    "lst.sort(key=lambda x : (x[0], x[1]))                               # lst를 lambda 함수를 사용해서 정렬 -> x[0]기준\n",
    "\n",
    "time = 0                                                            \n",
    "\n",
    "for i in lst :\n",
    "    if time < i[0] : time = i[0]                                    # 현재 시간이 도착 시간보다 이전이라면 현재 시간에 도착 시간 대입\n",
    "    time += i[1]                                                    # 현재 시간이 도착 시간보다 이전일 때 time에 검문 시간 더하기\n",
    "\n",
    "print(time)"
   ]
  }
 ],
 "metadata": {
  "kernelspec": {
   "display_name": "Python 3.10.3 64-bit",
   "metadata": {
    "interpreter": {
     "hash": "98590ff4fe04c8543246b2a01debd3de3c5ca9b666f43f1fa87d5110c692004c"
    }
   },
   "name": "python3"
  },
  "language_info": {
   "codemirror_mode": {
    "name": "ipython",
    "version": 3
   },
   "file_extension": ".py",
   "mimetype": "text/x-python",
   "name": "python",
   "nbconvert_exporter": "python",
   "pygments_lexer": "ipython3",
   "version": "3.10.3"
  },
  "orig_nbformat": 2
 },
 "nbformat": 4,
 "nbformat_minor": 2
}