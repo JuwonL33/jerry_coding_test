# 주사위
# https://www.acmicpc.net/problem/1233

from itertools import *
from collections import Counter

s1, s2, s3 = map(int, input().split())
s1 = [i for i in range(1, s1+1)]
s2 = [i for i in range(1, s2+1)]
s3 = [i for i in range(1, s3+1)]

arr = []

for i in product(s1, s2, s3) : 
    arr.append(sum(i))


tmp_dict = dict(Counter(arr))
print(max(tmp_dict,key=tmp_dict.get))
