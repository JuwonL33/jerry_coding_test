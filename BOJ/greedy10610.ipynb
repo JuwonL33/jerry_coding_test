{
 "cells": [
  {
   "cell_type": "code",
   "execution_count": 13,
   "metadata": {},
   "outputs": [
    {
     "name": "stdout",
     "output_type": "stream",
     "text": [
      "88755420\n"
     ]
    }
   ],
   "source": [
    "# greedy 10610 30\n",
    "# 이 숫자가 3의 배수임을 알기 위한 공식을 만들어야 풀 수 있음\n",
    "# 3이 아닌 30의 배수임으로 숫자 내에 0이 없다면 -1을 출력해야 함.\n",
    "# 받은 숫자 내에 0이 없다면 -1 출력\n",
    "# 숫자들의 합이 3으로 나누어 떨어지지 않으면 -1 출력\n",
    "# 걸러진 수를 내림차순으로 정렬 (그래야 가장 큰 수가 되니까)\n",
    "\n",
    "n = input()\n",
    "n = sorted(n, reverse=True)\n",
    "sum = 0 \n",
    "\n",
    "if '0' not in n : \n",
    "    print(-1)\n",
    "else : \n",
    "    for i in n : \n",
    "        sum += int(i)\n",
    "    if sum % 3 != 0 :\n",
    "        print(-1)\n",
    "    else : \n",
    "        print(''.join(n))"
   ]
  }
 ],
 "metadata": {
  "kernelspec": {
   "display_name": "Python 3.10.3 64-bit",
   "metadata": {
    "interpreter": {
     "hash": "98590ff4fe04c8543246b2a01debd3de3c5ca9b666f43f1fa87d5110c692004c"
    }
   },
   "name": "python3"
  },
  "language_info": {
   "codemirror_mode": {
    "name": "ipython",
    "version": 3
   },
   "file_extension": ".py",
   "mimetype": "text/x-python",
   "name": "python",
   "nbconvert_exporter": "python",
   "pygments_lexer": "ipython3",
   "version": "3.10.3"
  },
  "orig_nbformat": 2
 },
 "nbformat": 4,
 "nbformat_minor": 2
}