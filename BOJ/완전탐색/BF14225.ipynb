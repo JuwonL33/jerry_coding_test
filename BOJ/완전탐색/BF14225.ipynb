{
 "cells": [
  {
   "cell_type": "code",
   "execution_count": 8,
   "metadata": {},
   "outputs": [
    {
     "name": "stdout",
     "output_type": "stream",
     "text": [
      "2\n"
     ]
    }
   ],
   "source": [
    "from itertools import *\n",
    "\n",
    "s = int(input())\n",
    "arr = list(map(int, input().split()))\n",
    "\n",
    "for i in range(1, s+1) : \n",
    "    status = 0\n",
    "    for comb in combinations(arr, i) : \n",
    "        if sum(comb) == i : \n",
    "            status = 1\n",
    "            continue\n",
    "    if status == 1 : \n",
    "        continue\n",
    "    if status == 0 : break\n",
    "\n",
    "print(i)"
   ]
  },
  {
   "cell_type": "code",
   "execution_count": 5,
   "metadata": {},
   "outputs": [
    {
     "name": "stdout",
     "output_type": "stream",
     "text": [
      "2\n"
     ]
    }
   ],
   "source": [
    "# 부분수열의 합\n",
    "# https://www.acmicpc.net/problem/14225\n",
    "\n",
    "from itertools import *\n",
    "\n",
    "s = int(input())\n",
    "arr = list(map(int, input().split()))\n",
    "\n",
    "for i in range(1, 100001) : \n",
    "    if i in arr : \n",
    "        continue\n",
    "    status = 0\n",
    "    for j in range(2, s+1) : \n",
    "        for comb in combinations(arr, j) : \n",
    "            if sum(comb) == i : \n",
    "                status = 1\n",
    "                continue\n",
    "            if status == 1 : \n",
    "                continue\n",
    "    if status == 0 : break\n",
    "\n",
    "print(i)"
   ]
  },
  {
   "cell_type": "code",
   "execution_count": 15,
   "metadata": {},
   "outputs": [
    {
     "name": "stdout",
     "output_type": "stream",
     "text": [
      "4\n"
     ]
    }
   ],
   "source": [
    "# 부분수열의 합 - 수정본\n",
    "# https://www.acmicpc.net/problem/14225\n",
    "\n",
    "from itertools import *\n",
    "\n",
    "s = int(input())\n",
    "arr = list(map(int, input().split()))\n",
    "\n",
    "for i in range(1, 100001) : \n",
    "    status = 0\n",
    "    for j in range(1, s+1) : \n",
    "        for comb in combinations(arr, j) : \n",
    "            if sum(comb) == i : \n",
    "                status = 1\n",
    "                continue\n",
    "        if status == 1 : \n",
    "            continue\n",
    "    if status == 0 : break\n",
    "\n",
    "print(i)"
   ]
  },
  {
   "cell_type": "code",
   "execution_count": 17,
   "metadata": {},
   "outputs": [
    {
     "name": "stdout",
     "output_type": "stream",
     "text": [
      "1\n"
     ]
    }
   ],
   "source": [
    "s = int(input())\n",
    "arr = list(map(int, input().split()))\n",
    "arr.sort()\n",
    "\n",
    "def solution(s, arr) : \n",
    "    answer = 0\n",
    "    for i in range(s) : \n",
    "        if arr[i] - answer > 1 : \n",
    "            return answer + 1\n",
    "        answer += arr[i]\n",
    "    return answer + 1\n",
    "\n",
    "print(solution(s, arr))"
   ]
  }
 ],
 "metadata": {
  "kernelspec": {
   "display_name": "Python 3.10.3 64-bit",
   "metadata": {
    "interpreter": {
     "hash": "98590ff4fe04c8543246b2a01debd3de3c5ca9b666f43f1fa87d5110c692004c"
    }
   },
   "name": "python3"
  },
  "language_info": {
   "codemirror_mode": {
    "name": "ipython",
    "version": 3
   },
   "file_extension": ".py",
   "mimetype": "text/x-python",
   "name": "python",
   "nbconvert_exporter": "python",
   "pygments_lexer": "ipython3",
   "version": "3.10.3"
  },
  "orig_nbformat": 2
 },
 "nbformat": 4,
 "nbformat_minor": 2
}