{
 "cells": [
  {
   "cell_type": "code",
   "execution_count": 36,
   "metadata": {},
   "outputs": [
    {
     "name": "stdout",
     "output_type": "stream",
     "text": [
      "4\n"
     ]
    }
   ],
   "source": [
    "# 가장 큰 금민수\n",
    "# https://www.acmicpc.net/problem/1526\n",
    "\n",
    "n = input()\n",
    "rmaalstn = 0\n",
    "for i in range(int(n), 0, -1) : \n",
    "    str_n = str(i)\n",
    "    if str_n.count('4') + str_n.count('7') == len(str_n) : \n",
    "        rmaalstn = i\n",
    "        break\n",
    "    elif int(n) >= 7 and int(n) < 44 : \n",
    "        rmaalstn = 7\n",
    "        break\n",
    "    elif int(n) >= 4 and int(n) < 7 :\n",
    "        rmaalstn = 4\n",
    "        break\n",
    "\n",
    "print(rmaalstn)"
   ]
  }
 ],
 "metadata": {
  "kernelspec": {
   "display_name": "Python 3.10.3 64-bit",
   "metadata": {
    "interpreter": {
     "hash": "98590ff4fe04c8543246b2a01debd3de3c5ca9b666f43f1fa87d5110c692004c"
    }
   },
   "name": "python3"
  },
  "language_info": {
   "codemirror_mode": {
    "name": "ipython",
    "version": 3
   },
   "file_extension": ".py",
   "mimetype": "text/x-python",
   "name": "python",
   "nbconvert_exporter": "python",
   "pygments_lexer": "ipython3",
   "version": "3.10.3"
  },
  "orig_nbformat": 2
 },
 "nbformat": 4,
 "nbformat_minor": 2
}