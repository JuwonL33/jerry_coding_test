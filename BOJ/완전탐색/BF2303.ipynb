{
 "cells": [
  {
   "cell_type": "code",
   "execution_count": 10,
   "metadata": {},
   "outputs": [
    {
     "ename": "TypeError",
     "evalue": "can only concatenate list (not \"int\") to list",
     "output_type": "error",
     "traceback": [
      "\u001b[0;31m---------------------------------------------------------------------------\u001b[0m",
      "\u001b[0;31mTypeError\u001b[0m                                 Traceback (most recent call last)",
      "Input \u001b[0;32mIn [10]\u001b[0m, in \u001b[0;36m<cell line: 21>\u001b[0;34m()\u001b[0m\n\u001b[1;32m     18\u001b[0m     \u001b[38;5;28;01mif\u001b[39;00m arr[i] \u001b[38;5;241m>\u001b[39m\u001b[38;5;241m=\u001b[39m \u001b[38;5;28mmax\u001b[39m(arr) : \n\u001b[1;32m     19\u001b[0m         max_val \u001b[38;5;241m=\u001b[39m [i]\n\u001b[0;32m---> 21\u001b[0m \u001b[38;5;28mprint\u001b[39m(\u001b[43mmax_val\u001b[49m\u001b[38;5;241;43m+\u001b[39;49m\u001b[38;5;241;43m1\u001b[39;49m)\n",
      "\u001b[0;31mTypeError\u001b[0m: can only concatenate list (not \"int\") to list"
     ]
    }
   ],
   "source": [
    "# 숫자 게임\n",
    "# https://www.acmicpc.net/problem/2303\n",
    "\n",
    "from itertools import * \n",
    "\n",
    "n = int(input())        # 사람 수\n",
    "arr = [ 0 for _ in range(n) ]\n",
    "for i in range(n) : \n",
    "    case = list(map(int, input().split()))\n",
    "    max_num = 0\n",
    "    for a in combinations(case, 3) : \n",
    "        if int(str(sum(a))[-1]) > max_num : max_num = int(str(sum(a))[-1])\n",
    "    \n",
    "    arr[i] = max_num\n",
    "\n",
    "max_val = 0\n",
    "for i in range(len(arr)) : \n",
    "    if arr[i] >= max(arr) : \n",
    "        max_val = i\n",
    "\n",
    "print(max_val+1)"
   ]
  }
 ],
 "metadata": {
  "kernelspec": {
   "display_name": "Python 3.10.3 64-bit",
   "metadata": {
    "interpreter": {
     "hash": "98590ff4fe04c8543246b2a01debd3de3c5ca9b666f43f1fa87d5110c692004c"
    }
   },
   "name": "python3"
  },
  "language_info": {
   "codemirror_mode": {
    "name": "ipython",
    "version": 3
   },
   "file_extension": ".py",
   "mimetype": "text/x-python",
   "name": "python",
   "nbconvert_exporter": "python",
   "pygments_lexer": "ipython3",
   "version": "3.10.3"
  },
  "orig_nbformat": 2
 },
 "nbformat": 4,
 "nbformat_minor": 2
}