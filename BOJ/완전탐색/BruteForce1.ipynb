{
 "cells": [
  {
   "cell_type": "code",
   "execution_count": 1,
   "metadata": {},
   "outputs": [
    {
     "name": "stdout",
     "output_type": "stream",
     "text": [
      "2 2 1 2 5 "
     ]
    }
   ],
   "source": [
    "# 완전탐색\n",
    "# 7568\n",
    "# 덩치\n",
    "# 자기보다 작은 사람의 수를 리스트에 담아놓고 비교하기 보다 \n",
    "# 자기보다 큰 사람의 수를 구해서 +1 하고 출력하는게 훨씬 편리함.\n",
    "\n",
    "n = int(input())        # 전체 사람의 수\n",
    "arr = []                # n명의 사람의 몸무게와 키를 받을 리스트\n",
    "\n",
    "for _ in range(n) : \n",
    "    a, b = map(int, input().split())\n",
    "    arr.append((a, b))\n",
    "\n",
    "for i in range(len(arr)) : \n",
    "    rank = 1\n",
    "    for j in range(len(arr)) : \n",
    "        if arr[i][0] < arr[j][0] and arr[i][1] < arr[j][1] : \n",
    "            rank += 1\n",
    "    print(rank, end = \" \")\n",
    "\n",
    "        "
   ]
  }
 ],
 "metadata": {
  "kernelspec": {
   "display_name": "Python 3.10.3 64-bit",
   "metadata": {
    "interpreter": {
     "hash": "98590ff4fe04c8543246b2a01debd3de3c5ca9b666f43f1fa87d5110c692004c"
    }
   },
   "name": "python3"
  },
  "language_info": {
   "codemirror_mode": {
    "name": "ipython",
    "version": 3
   },
   "file_extension": ".py",
   "mimetype": "text/x-python",
   "name": "python",
   "nbconvert_exporter": "python",
   "pygments_lexer": "ipython3",
   "version": "3.10.3"
  },
  "orig_nbformat": 2
 },
 "nbformat": 4,
 "nbformat_minor": 2
}