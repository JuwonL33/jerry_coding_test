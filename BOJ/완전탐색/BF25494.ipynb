{
 "cells": [
  {
   "cell_type": "code",
   "execution_count": 5,
   "metadata": {},
   "outputs": [
    {
     "name": "stdout",
     "output_type": "stream",
     "text": [
      "1\n",
      "2\n"
     ]
    }
   ],
   "source": [
    "# 단순한 문제 (Small)\n",
    "\n",
    "from itertools import *\n",
    "\n",
    "t = int(input())\n",
    "for _ in range(t) : \n",
    "    a, b, c = map(int, input().split())\n",
    "    a_ = list(j for j in range(1, a+1))\n",
    "    b_ = list(j for j in range(1, b+1))\n",
    "    c_ = list(j for j in range(1, c+1))\n",
    "    cnt = 0\n",
    "    for comb in zip(a_, b_, c_) : \n",
    "        a_and_b = int(comb[0] % comb[1])\n",
    "        b_and_c = int(comb[1] % comb[2])\n",
    "        c_and_a = int(comb[2] % comb[0])\n",
    "        if a_and_b == b_and_c and b_and_c == c_and_a and a_and_b == c_and_a : cnt += 1\n",
    "    print(cnt)"
   ]
  }
 ],
 "metadata": {
  "kernelspec": {
   "display_name": "Python 3.10.3 64-bit",
   "metadata": {
    "interpreter": {
     "hash": "98590ff4fe04c8543246b2a01debd3de3c5ca9b666f43f1fa87d5110c692004c"
    }
   },
   "name": "python3"
  },
  "language_info": {
   "codemirror_mode": {
    "name": "ipython",
    "version": 3
   },
   "file_extension": ".py",
   "mimetype": "text/x-python",
   "name": "python",
   "nbconvert_exporter": "python",
   "pygments_lexer": "ipython3",
   "version": "3.10.3"
  },
  "orig_nbformat": 2
 },
 "nbformat": 4,
 "nbformat_minor": 2
}