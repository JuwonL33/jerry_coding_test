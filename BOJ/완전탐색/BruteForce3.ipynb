{
 "cells": [
  {
   "cell_type": "code",
   "execution_count": 7,
   "metadata": {},
   "outputs": [
    {
     "name": "stdout",
     "output_type": "stream",
     "text": [
      "[1, 5, 547, 2735]\n",
      "1\n"
     ]
    }
   ],
   "source": [
    "# 완전탐색\n",
    "# 약수 구하기\n",
    "# https://www.acmicpc.net/problem/2501\n",
    "\n",
    "n, k = map(int, input().split())\n",
    "arr = [0, 1]\n",
    "\n",
    "for i in range(2, n+1) : \n",
    "    if n % i == 0 : \n",
    "        arr.append(i)\n",
    "\n",
    "print(arr)\n",
    "\n",
    "if len(arr) > k : print(arr[k])\n",
    "else : print(0)\n",
    "\n"
   ]
  }
 ],
 "metadata": {
  "kernelspec": {
   "display_name": "Python 3.10.3 64-bit",
   "metadata": {
    "interpreter": {
     "hash": "98590ff4fe04c8543246b2a01debd3de3c5ca9b666f43f1fa87d5110c692004c"
    }
   },
   "name": "python3"
  },
  "language_info": {
   "codemirror_mode": {
    "name": "ipython",
    "version": 3
   },
   "file_extension": ".py",
   "mimetype": "text/x-python",
   "name": "python",
   "nbconvert_exporter": "python",
   "pygments_lexer": "ipython3",
   "version": "3.10.3"
  },
  "orig_nbformat": 2
 },
 "nbformat": 4,
 "nbformat_minor": 2
}