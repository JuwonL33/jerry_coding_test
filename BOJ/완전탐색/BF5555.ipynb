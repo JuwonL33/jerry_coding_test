{
 "cells": [
  {
   "cell_type": "code",
   "execution_count": 6,
   "metadata": {},
   "outputs": [
    {
     "name": "stdout",
     "output_type": "stream",
     "text": [
      "2\n"
     ]
    }
   ],
   "source": [
    "# 반지\n",
    "# https://www.acmicpc.net/problem/5555\n",
    "\n",
    "target = input()\n",
    "n = int(input())\n",
    "answer = 0\n",
    "\n",
    "for _ in range(n) : \n",
    "    ring = input()\n",
    "    ring += ring\n",
    "\n",
    "    if target in ring : \n",
    "        answer += 1\n",
    "        \n",
    "print(answer)"
   ]
  },
  {
   "cell_type": "code",
   "execution_count": null,
   "metadata": {},
   "outputs": [],
   "source": [
    "# 반지\n",
    "# https://www.acmicpc.net/problem/5555\n",
    "\n",
    "target = input()\n",
    "n = int(input())\n",
    "answer = 0\n",
    "\n",
    "arr = []\n",
    "\n",
    "for i in range(len(target)) : \n",
    "    if target[i:]"
   ]
  }
 ],
 "metadata": {
  "kernelspec": {
   "display_name": "Python 3.10.3 64-bit",
   "metadata": {
    "interpreter": {
     "hash": "98590ff4fe04c8543246b2a01debd3de3c5ca9b666f43f1fa87d5110c692004c"
    }
   },
   "name": "python3"
  },
  "language_info": {
   "codemirror_mode": {
    "name": "ipython",
    "version": 3
   },
   "file_extension": ".py",
   "mimetype": "text/x-python",
   "name": "python",
   "nbconvert_exporter": "python",
   "pygments_lexer": "ipython3",
   "version": "3.10.3"
  },
  "orig_nbformat": 2
 },
 "nbformat": 4,
 "nbformat_minor": 2
}