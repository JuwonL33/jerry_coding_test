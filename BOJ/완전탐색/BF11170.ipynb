{
 "cells": [
  {
   "cell_type": "code",
   "execution_count": null,
   "metadata": {},
   "outputs": [],
   "source": [
    "# 0의 개수\n",
    "# https://www.acmicpc.net/problem/11170\n",
    "n = int(input())\n",
    "for _ in range(n) : \n",
    "    start, end = map(int, input().split())\n",
    "    cnt = 0\n",
    "    for i in range(start, end+1) : \n",
    "        tmp = str(i)\n",
    "        cnt += tmp.count('0')\n",
    "    print(cnt)"
   ]
  }
 ],
 "metadata": {
  "kernelspec": {
   "display_name": "Python 3.10.3 64-bit",
   "metadata": {
    "interpreter": {
     "hash": "98590ff4fe04c8543246b2a01debd3de3c5ca9b666f43f1fa87d5110c692004c"
    }
   },
   "name": "python3"
  },
  "language_info": {
   "name": "python",
   "nbconvert_exporter": "python",
   "version": "3.10.3-final"
  },
  "orig_nbformat": 2
 },
 "nbformat": 4,
 "nbformat_minor": 2
}