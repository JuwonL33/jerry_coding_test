# 소수 찾기
# https://www.acmicpc.net/problem/1978

n = int(input())
arr = list(map(int, input().split()))
cnt = 0

for a in arr : 
    status = True
    if a > 1 : 
        for i in range(2, a) : 
            if a != i and a % i == 0 : status = False
            if status == False : continue
        if status == True : cnt += 1
    
print(cnt)
