{
 "cells": [
  {
   "cell_type": "code",
   "execution_count": 3,
   "metadata": {},
   "outputs": [
    {
     "name": "stdout",
     "output_type": "stream",
     "text": [
      "['8', '61', '42', '23', '04', '84', '65', '46', '27']\n",
      "84\n"
     ]
    }
   ],
   "source": [
    "# 거꾸로 구구단\n",
    "# https://www.acmicpc.net/problem/13410\n",
    "\n",
    "a, b = map(int, input().split())\n",
    "arr = []\n",
    "for i in range(1, b+1) : \n",
    "    tmp = str(a * i)[::-1]\n",
    "    arr.append(int(tmp))\n",
    "\n",
    "print(max(arr))"
   ]
  }
 ],
 "metadata": {
  "kernelspec": {
   "display_name": "Python 3.10.3 64-bit",
   "metadata": {
    "interpreter": {
     "hash": "98590ff4fe04c8543246b2a01debd3de3c5ca9b666f43f1fa87d5110c692004c"
    }
   },
   "name": "python3"
  },
  "language_info": {
   "codemirror_mode": {
    "name": "ipython",
    "version": 3
   },
   "file_extension": ".py",
   "mimetype": "text/x-python",
   "name": "python",
   "nbconvert_exporter": "python",
   "pygments_lexer": "ipython3",
   "version": "3.10.3"
  },
  "orig_nbformat": 2
 },
 "nbformat": 4,
 "nbformat_minor": 2
}