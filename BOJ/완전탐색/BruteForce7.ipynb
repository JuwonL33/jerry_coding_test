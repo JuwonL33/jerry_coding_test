{
 "cells": [
  {
   "cell_type": "code",
   "execution_count": 9,
   "metadata": {},
   "outputs": [
    {
     "name": "stdout",
     "output_type": "stream",
     "text": [
      "8\n",
      "6\n",
      "5\n",
      "1\n",
      "30\n",
      "28\n",
      "22\n"
     ]
    }
   ],
   "source": [
    "# 백설 공주와 일곱난쟁이\n",
    "# https://www.acmicpc.net/problem/3040\n",
    "\n",
    "from itertools import combinations\n",
    "\n",
    "arr = []\n",
    "\n",
    "for i in range(9) : arr.append(int(input()))            # 입력받은 9개의 값 arr에 추가\n",
    "\n",
    "for i in combinations(arr, 7) : \n",
    "    if sum(i) == 100 : \n",
    "        for a in i : print(a)"
   ]
  }
 ],
 "metadata": {
  "kernelspec": {
   "display_name": "Python 3.10.3 64-bit",
   "metadata": {
    "interpreter": {
     "hash": "98590ff4fe04c8543246b2a01debd3de3c5ca9b666f43f1fa87d5110c692004c"
    }
   },
   "name": "python3"
  },
  "language_info": {
   "codemirror_mode": {
    "name": "ipython",
    "version": 3
   },
   "file_extension": ".py",
   "mimetype": "text/x-python",
   "name": "python",
   "nbconvert_exporter": "python",
   "pygments_lexer": "ipython3",
   "version": "3.10.3-final"
  },
  "orig_nbformat": 2
 },
 "nbformat": 4,
 "nbformat_minor": 2
}