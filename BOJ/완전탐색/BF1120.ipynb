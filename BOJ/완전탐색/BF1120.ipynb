{
 "cells": [
  {
   "cell_type": "code",
   "execution_count": 8,
   "metadata": {},
   "outputs": [
    {
     "name": "stdout",
     "output_type": "stream",
     "text": [
      "0\n",
      "0\n",
      "-1\n",
      "-1\n",
      "-1\n",
      "-1\n",
      "-1\n",
      "3\n"
     ]
    }
   ],
   "source": [
    "# 문자열\n",
    "# https://www.acmicpc.net/problem/1120\n",
    "a, b = input().split()\n",
    "\n",
    "answer = []\n",
    "for i in range(len(b) - len(a) + 1):\n",
    "    count = 0\n",
    "    for j in range(len(a)):\n",
    "        if a[j] != b[i + j]:\n",
    "            count += 1\n",
    "    answer.append(count)\n",
    "\n",
    "print(min(answer))"
   ]
  }
 ],
 "metadata": {
  "kernelspec": {
   "display_name": "Python 3.10.3 64-bit",
   "metadata": {
    "interpreter": {
     "hash": "98590ff4fe04c8543246b2a01debd3de3c5ca9b666f43f1fa87d5110c692004c"
    }
   },
   "name": "python3"
  },
  "language_info": {
   "codemirror_mode": {
    "name": "ipython",
    "version": 3
   },
   "file_extension": ".py",
   "mimetype": "text/x-python",
   "name": "python",
   "nbconvert_exporter": "python",
   "pygments_lexer": "ipython3",
   "version": "3.10.3"
  },
  "orig_nbformat": 2
 },
 "nbformat": 4,
 "nbformat_minor": 2
}