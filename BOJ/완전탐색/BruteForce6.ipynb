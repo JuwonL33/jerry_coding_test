{
 "cells": [
  {
   "cell_type": "code",
   "execution_count": 52,
   "metadata": {},
   "outputs": [
    {
     "name": "stdout",
     "output_type": "stream",
     "text": [
      "BAD 7\n"
     ]
    }
   ],
   "source": [
    "# 암호제작\n",
    "# https://www.acmicpc.net/problem/1837\n",
    "\n",
    "from itertools import combinations\n",
    "\n",
    "p, k = map(int, input().split())\n",
    "bad_num = k\n",
    "\n",
    "for i in range(2, k) : \n",
    "    if p % i == 0 : \n",
    "        if bad_num > i : \n",
    "            bad_num = i\n",
    "\n",
    "if bad_num != k : \n",
    "    print('BAD', bad_num)\n",
    "else :\n",
    "    print('GOOD')"
   ]
  }
 ],
 "metadata": {
  "kernelspec": {
   "display_name": "Python 3.10.3 64-bit",
   "metadata": {
    "interpreter": {
     "hash": "98590ff4fe04c8543246b2a01debd3de3c5ca9b666f43f1fa87d5110c692004c"
    }
   },
   "name": "python3"
  },
  "language_info": {
   "codemirror_mode": {
    "name": "ipython",
    "version": 3
   },
   "file_extension": ".py",
   "mimetype": "text/x-python",
   "name": "python",
   "nbconvert_exporter": "python",
   "pygments_lexer": "ipython3",
   "version": "3.10.3"
  },
  "orig_nbformat": 2
 },
 "nbformat": 4,
 "nbformat_minor": 2
}