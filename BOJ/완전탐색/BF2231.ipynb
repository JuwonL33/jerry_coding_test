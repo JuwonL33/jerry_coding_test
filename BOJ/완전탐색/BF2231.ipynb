{
 "cells": [
  {
   "cell_type": "code",
   "execution_count": null,
   "metadata": {},
   "outputs": [],
   "source": [
    "# 분해합\n",
    "# https://www.acmicpc.net/problem/2231\n",
    "\n",
    "n = int(input())\n",
    "result = 0\n",
    "for i in range(1, n+1) : \n",
    "    a = list(map(int, str(i)))\n",
    "    result = i + sum(a)\n",
    "    if result == n : \n",
    "        print(i)\n",
    "        break\n",
    "    \n",
    "    if i == n : \n",
    "        print(0)"
   ]
  }
 ],
 "metadata": {
  "kernelspec": {
   "display_name": "Python 3.10.3 64-bit",
   "metadata": {
    "interpreter": {
     "hash": "98590ff4fe04c8543246b2a01debd3de3c5ca9b666f43f1fa87d5110c692004c"
    }
   },
   "name": "python3"
  },
  "language_info": {
   "name": "python",
   "nbconvert_exporter": "python",
   "version": "3.10.3-final"
  },
  "orig_nbformat": 2
 },
 "nbformat": 4,
 "nbformat_minor": 2
}