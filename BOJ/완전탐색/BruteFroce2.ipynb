{
 "cells": [
  {
   "cell_type": "code",
   "execution_count": 11,
   "metadata": {},
   "outputs": [
    {
     "name": "stdout",
     "output_type": "stream",
     "text": [
      "497\n"
     ]
    }
   ],
   "source": [
    "# 2798 블랙잭\n",
    "# https://www.acmicpc.net/problem/2798\n",
    "\n",
    "from itertools import combinations\n",
    "\n",
    "n, m = map(int, input().split())\n",
    "cards = list(map(int, input().split()))\n",
    "\n",
    "tmp = set()\n",
    "\n",
    "for i in combinations(cards, 3) : \n",
    "    if sum(i) <= m : tmp.add(sum(i))\n",
    "\n",
    "print(max(tmp))"
   ]
  }
 ],
 "metadata": {
  "kernelspec": {
   "display_name": "Python 3.10.3 64-bit",
   "metadata": {
    "interpreter": {
     "hash": "98590ff4fe04c8543246b2a01debd3de3c5ca9b666f43f1fa87d5110c692004c"
    }
   },
   "name": "python3"
  },
  "language_info": {
   "codemirror_mode": {
    "name": "ipython",
    "version": 3
   },
   "file_extension": ".py",
   "mimetype": "text/x-python",
   "name": "python",
   "nbconvert_exporter": "python",
   "pygments_lexer": "ipython3",
   "version": "3.10.3"
  },
  "orig_nbformat": 2
 },
 "nbformat": 4,
 "nbformat_minor": 2
}