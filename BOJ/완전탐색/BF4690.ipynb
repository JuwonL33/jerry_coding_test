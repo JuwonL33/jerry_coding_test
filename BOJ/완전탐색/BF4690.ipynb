{
 "cells": [
  {
   "cell_type": "code",
   "execution_count": null,
   "metadata": {},
   "outputs": [],
   "source": [
    "# 완전 세제곱\n",
    "# https://www.acmicpc.net/problem/4690\n",
    "\n",
    "for a in range(6, 101) : \n",
    "    for b in range(2, 101) :  \n",
    "        for c in range(b+1, 101) : \n",
    "            for d in range(c+1, 101) : \n",
    "                if a**3 == b**3 + c**3 + d**3 : \n",
    "                    print(\"Cube = {}, Triple = ({},{},{})\".format(a, b, c, d))\n",
    "                if a**3 < b**3 + c**3 + d**3 : \n",
    "                    break"
   ]
  }
 ],
 "metadata": {
  "kernelspec": {
   "display_name": "Python 3.10.3 64-bit",
   "metadata": {
    "interpreter": {
     "hash": "98590ff4fe04c8543246b2a01debd3de3c5ca9b666f43f1fa87d5110c692004c"
    }
   },
   "name": "python3"
  },
  "language_info": {
   "name": "python",
   "nbconvert_exporter": "python",
   "version": "3.10.3-final"
  },
  "orig_nbformat": 2
 },
 "nbformat": 4,
 "nbformat_minor": 2
}