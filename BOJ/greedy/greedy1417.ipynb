# 국회의원 선거
# https://www.acmicpc.net/problem/1417
# 버전 2

n = int(input())                        # 후보의 수
arr = [ int(input()) for _ in range(n) ]# 후보 명단
idx = 0                                 # 매수한 사람 수
    
if n > 1 :                              # 다솜이 외에 후보가 있을 때
    dasom = arr[0]                      # 다솜이와
    else_people = arr[1:]               # 다솜이를 제외한 나머지 후보들을 따로 리스트화

    while True : 
        else_people.sort()              # 매 순환마다 else_people 새로 정렬
        if dasom > else_people[-1] :    # dasom 표수가 타 후보 표수의 가장 큰 값보다 크면
            break                       # while문 종료
        else :                          # dasom 표수가 타 후보 표수의 가장 큰 값보다 작거나 같으면
            else_people[-1] -= 1        # 가장 큰 값에서 하나를 빼고
            dasom += 1                  # dasom에게 하나를 더해주고
            idx += 1                    # 매수한 사람 수를 하나 증가 시킨다.
            
print(idx)
