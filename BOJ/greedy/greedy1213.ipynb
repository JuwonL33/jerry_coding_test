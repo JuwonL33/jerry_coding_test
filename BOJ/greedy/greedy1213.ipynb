{
 "cells": [
  {
   "cell_type": "code",
   "execution_count": 5,
   "metadata": {},
   "outputs": [
    {
     "ename": "NameError",
     "evalue": "name 'ans_front' is not defined",
     "output_type": "error",
     "traceback": [
      "\u001b[0;31m---------------------------------------------------------------------------\u001b[0m",
      "\u001b[0;31mNameError\u001b[0m                                 Traceback (most recent call last)",
      "Input \u001b[0;32mIn [5]\u001b[0m, in \u001b[0;36m<cell line: 25>\u001b[0;34m()\u001b[0m\n\u001b[1;32m     23\u001b[0m ans_s \u001b[38;5;241m=\u001b[39m \u001b[38;5;124m'\u001b[39m\u001b[38;5;124m'\u001b[39m\n\u001b[1;32m     25\u001b[0m \u001b[38;5;28;01mfor\u001b[39;00m k \u001b[38;5;129;01min\u001b[39;00m \u001b[38;5;28mrange\u001b[39m(\u001b[38;5;241m26\u001b[39m) : \n\u001b[0;32m---> 26\u001b[0m     ans_front \u001b[38;5;241m+\u001b[39m\u001b[38;5;241m=\u001b[39m \u001b[38;5;28mchr\u001b[39m(k\u001b[38;5;241m+\u001b[39m\u001b[38;5;241m65\u001b[39m)\u001b[38;5;241m*\u001b[39m(alpha_cnt[k]\u001b[38;5;241m/\u001b[39m\u001b[38;5;241m/\u001b[39m\u001b[38;5;241m2\u001b[39m)\n\u001b[1;32m     27\u001b[0m ans_back \u001b[38;5;241m=\u001b[39m ans_front[::\u001b[38;5;241m-\u001b[39m\u001b[38;5;241m1\u001b[39m]\n\u001b[1;32m     29\u001b[0m \u001b[38;5;28;01mif\u001b[39;00m odd_cnt \u001b[38;5;241m==\u001b[39m \u001b[38;5;241m1\u001b[39m : \n",
      "\u001b[0;31mNameError\u001b[0m: name 'ans_front' is not defined"
     ]
    }
   ],
   "source": [
    "# BOJ\n",
    "# 1213\n",
    "# 팰린드롬 만들기\n",
    "\n",
    "alpha_cnt = [0] * 26        # 알파벳 갯수를 담는 배열\n",
    "\n",
    "s = list(input())             # 문자열 입력받기\n",
    "for i in s : \n",
    "    alpha_cnt[ord(i)-65] += 1\n",
    "\n",
    "odd_cnt = 0\n",
    "odd_idx = 0\n",
    "\n",
    "for j in range(26) : \n",
    "    if alpha_cnt[j] % 2 == 1 : \n",
    "        odd_cnt += 1\n",
    "        odd_idx = j\n",
    "\n",
    "if odd_cnt > 1 : \n",
    "    print(\"I'm Sorry Hansoo\")\n",
    "    quit()\n",
    "\n",
    "ans_front = ''\n",
    "\n",
    "for k in range(26) : \n",
    "    ans_front += chr(k+65)*(alpha_cnt[k]//2)\n",
    "ans_back = ans_front[::-1]\n",
    "\n",
    "if odd_cnt == 1 : \n",
    "    ans_front += chr(odd_idx+65)\n",
    "\n",
    "print(ans_front+ans_back)"
   ]
  }
 ],
 "metadata": {
  "kernelspec": {
   "display_name": "Python 3.10.3 64-bit",
   "metadata": {
    "interpreter": {
     "hash": "98590ff4fe04c8543246b2a01debd3de3c5ca9b666f43f1fa87d5110c692004c"
    }
   },
   "name": "python3"
  },
  "language_info": {
   "codemirror_mode": {
    "name": "ipython",
    "version": 3
   },
   "file_extension": ".py",
   "mimetype": "text/x-python",
   "name": "python",
   "nbconvert_exporter": "python",
   "pygments_lexer": "ipython3",
   "version": "3.10.3"
  },
  "orig_nbformat": 2
 },
 "nbformat": 4,
 "nbformat_minor": 2
}