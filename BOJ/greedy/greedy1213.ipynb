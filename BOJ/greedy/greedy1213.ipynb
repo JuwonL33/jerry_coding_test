{
 "cells": [
  {
   "cell_type": "code",
   "execution_count": 7,
   "metadata": {},
   "outputs": [
    {
     "name": "stdout",
     "output_type": "stream",
     "text": [
      "I'm Sorry Hansoo\n",
      "\n"
     ]
    }
   ],
   "source": [
    "# BOJ\n",
    "# 1213\n",
    "# 팰린드롬 만들기\n",
    "\n",
    "alpha_cnt = [0] * 26        # 알파벳 갯수를 담는 배열\n",
    "\n",
    "s = list(input())             # 문자열 입력받기\n",
    "for i in s : \n",
    "    alpha_cnt[ord(i)-65] += 1\n",
    "\n",
    "odd_cnt = 0\n",
    "odd_idx = 0\n",
    "\n",
    "for j in range(26) : \n",
    "    if alpha_cnt[j] % 2 == 1 : \n",
    "        odd_cnt += 1\n",
    "        odd_idx = j\n",
    "\n",
    "if odd_cnt > 1 : \n",
    "    print(\"I'm Sorry Hansoo\")\n",
    "    quit()\n",
    "\n",
    "ans_front = ''\n",
    "\n",
    "for k in range(26) : \n",
    "    ans_front += chr(k+65)*(alpha_cnt[k]//2)\n",
    "ans_back = ans_front[::-1]\n",
    "\n",
    "if odd_cnt == 1 : \n",
    "    ans_front += chr(odd_idx+65)\n",
    "\n",
    "print(ans_front+ans_back)"
   ]
  }
 ],
 "metadata": {
  "kernelspec": {
   "display_name": "Python 3.10.3 64-bit",
   "metadata": {
    "interpreter": {
     "hash": "98590ff4fe04c8543246b2a01debd3de3c5ca9b666f43f1fa87d5110c692004c"
    }
   },
   "name": "python3"
  },
  "language_info": {
   "codemirror_mode": {
    "name": "ipython",
    "version": 3
   },
   "file_extension": ".py",
   "mimetype": "text/x-python",
   "name": "python",
   "nbconvert_exporter": "python",
   "pygments_lexer": "ipython3",
   "version": "3.10.3"
  },
  "orig_nbformat": 2
 },
 "nbformat": 4,
 "nbformat_minor": 2
}