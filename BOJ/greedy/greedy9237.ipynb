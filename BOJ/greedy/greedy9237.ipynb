{
 "cells": [
  {
   "cell_type": "code",
   "execution_count": null,
   "metadata": {},
   "outputs": [],
   "source": [
    "n = int(input())    # 묘목 갯수\n",
    "tree = list(map(int, input().split()))      # 나무가 자라는데 걸리는 시간들\n",
    "sorted(tree, reverse=True)                  # 가장 오래 걸리는 나무순으로 정렬\n",
    "for i in range(len(tree)) : \n",
    "    tree[i] = tree[i] + i + 1               # 나무가 자라는데 걸리는 시간 + 심는 순서 + 심는데 하루\n",
    "\n",
    "print(max(tree))"
   ]
  }
 ],
 "metadata": {
  "kernelspec": {
   "display_name": "Python 3.10.3 64-bit",
   "metadata": {
    "interpreter": {
     "hash": "98590ff4fe04c8543246b2a01debd3de3c5ca9b666f43f1fa87d5110c692004c"
    }
   },
   "name": "python3"
  },
  "language_info": {
   "name": "python",
   "nbconvert_exporter": "python",
   "version": "3.10.3-final"
  },
  "orig_nbformat": 2
 },
 "nbformat": 4,
 "nbformat_minor": 2
}