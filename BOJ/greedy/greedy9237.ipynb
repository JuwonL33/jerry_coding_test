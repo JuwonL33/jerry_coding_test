{
 "cells": [
  {
   "cell_type": "code",
   "execution_count": 7,
   "metadata": {},
   "outputs": [
    {
     "name": "stdout",
     "output_type": "stream",
     "text": [
      "42\n"
     ]
    }
   ],
   "source": [
    "n = int(input())                                    # 묘목 갯수\n",
    "treeList = list(map(int, input().split()))          # 나무가 자라는데 걸리는 시간들\n",
    "treeList.sort(reverse=True)                         # 가장 오래 걸리는 나무순으로 정렬\n",
    "for i in range(len(treeList)) : \n",
    "    treeList[i] = treeList[i] + i + 1               # 나무가 자라는데 걸리는 시간 + 심는 순서 + 심는데 하루\n",
    "\n",
    "print(max(treeList)+1)"
   ]
  }
 ],
 "metadata": {
  "kernelspec": {
   "display_name": "Python 3.10.3 64-bit",
   "metadata": {
    "interpreter": {
     "hash": "98590ff4fe04c8543246b2a01debd3de3c5ca9b666f43f1fa87d5110c692004c"
    }
   },
   "name": "python3"
  },
  "language_info": {
   "codemirror_mode": {
    "name": "ipython",
    "version": 3
   },
   "file_extension": ".py",
   "mimetype": "text/x-python",
   "name": "python",
   "nbconvert_exporter": "python",
   "pygments_lexer": "ipython3",
   "version": "3.10.3"
  },
  "orig_nbformat": 2
 },
 "nbformat": 4,
 "nbformat_minor": 2
}