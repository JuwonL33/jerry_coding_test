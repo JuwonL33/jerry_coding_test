{
 "cells": [
  {
   "cell_type": "code",
   "execution_count": 9,
   "metadata": {},
   "outputs": [
    {
     "name": "stdout",
     "output_type": "stream",
     "text": [
      "Case 1: 14\n",
      "Case 2: 11\n"
     ]
    }
   ],
   "source": [
    "# greedy 4796 캠핑\n",
    "# 몇개 입력받을지 정해놓지 않았다. 특정 문자열을 입력받으면 멈추고 싶다 -> while문\n",
    "i = 0\n",
    "while True : \n",
    "    i+=1\n",
    "    l, p, v = map(int, input().split())     # p : 캠핑장 총 기간, l : 사용할 수 있는 기간, v : 강산이가 받은 휴가 기간\n",
    "    if l==0 and p==0 and v==0 : break\n",
    "    a = v//p                                # 휴가기간을 캠핑기간으로 나눈 몫\n",
    "    b = v%p                                 # 휴가기간을 캠핑기간으로 나눈 나머지\n",
    "    if l < b : b = l                        # 사용기간이 남은기간보다 적다면 남은기간을 사용기간에 대입\n",
    "    result = a*l+b\n",
    "    print(\"Case {}: {}\".format(i, result))\n"
   ]
  },
  {
   "cell_type": "code",
   "execution_count": null,
   "metadata": {},
   "outputs": [
    {
     "name": "stdout",
     "output_type": "stream",
     "text": [
      "Case 1: 14\n",
      "Case 2: 11\n"
     ]
    }
   ],
   "source": [
    "i = 0\n",
    "while True:\n",
    "    i+=1\n",
    "    l, p, v = map(int, input().split())\n",
    "    if l==0 and p==0 and v==0:\n",
    "        break\n",
    "    a = v//p\n",
    "    b = v%p\n",
    "    if l<b:\n",
    "        b = l\n",
    "    print(\"Case %d: %d\" %(i, a*l+b))\n",
    "    "
   ]
  }
 ],
 "metadata": {
  "kernelspec": {
   "display_name": "Python 3.10.3 64-bit",
   "metadata": {
    "interpreter": {
     "hash": "98590ff4fe04c8543246b2a01debd3de3c5ca9b666f43f1fa87d5110c692004c"
    }
   },
   "name": "python3"
  },
  "language_info": {
   "codemirror_mode": {
    "name": "ipython",
    "version": 3
   },
   "file_extension": ".py",
   "mimetype": "text/x-python",
   "name": "python",
   "nbconvert_exporter": "python",
   "pygments_lexer": "ipython3",
   "version": "3.10.3"
  },
  "orig_nbformat": 2
 },
 "nbformat": 4,
 "nbformat_minor": 2
}