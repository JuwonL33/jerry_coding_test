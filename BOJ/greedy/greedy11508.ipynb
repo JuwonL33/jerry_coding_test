{
 "cells": [
  {
   "cell_type": "code",
   "execution_count": 30,
   "metadata": {},
   "outputs": [
    {
     "name": "stdout",
     "output_type": "stream",
     "text": [
      "3\n",
      "3\n",
      "2\n",
      "2\n",
      "8\n"
     ]
    }
   ],
   "source": [
    "# BOJ Greedy 11508\n",
    "# 2+1 세일\n",
    "\n",
    "n = int(input())                               # 구매할 유제품 갯수   \n",
    "prices = []                                    # 유제품 각각의 가격\n",
    "\n",
    "for i in range(n) : \n",
    "    prices.append(int(input()))\n",
    "\n",
    "prices = sorted(prices, reverse=True)          # 역순으로 정렬\n",
    "result = 0                                     # 구매 금액\n",
    "\n",
    "for i in range(n) : \n",
    "    if i % 3 != 2 : result += prices[i]        # 인덱스가 2, 5, 8이 아닌것만 결과값에 더하기\n",
    "\n",
    "print(result)\n",
    "\n"
   ]
  }
 ],
 "metadata": {
  "kernelspec": {
   "display_name": "Python 3.10.3 64-bit",
   "metadata": {
    "interpreter": {
     "hash": "98590ff4fe04c8543246b2a01debd3de3c5ca9b666f43f1fa87d5110c692004c"
    }
   },
   "name": "python3"
  },
  "language_info": {
   "codemirror_mode": {
    "name": "ipython",
    "version": 3
   },
   "file_extension": ".py",
   "mimetype": "text/x-python",
   "name": "python",
   "nbconvert_exporter": "python",
   "pygments_lexer": "ipython3",
   "version": "3.10.3"
  },
  "orig_nbformat": 2
 },
 "nbformat": 4,
 "nbformat_minor": 2
}