{
 "cells": [
  {
   "cell_type": "code",
   "execution_count": 12,
   "metadata": {},
   "outputs": [
    {
     "name": "stdout",
     "output_type": "stream",
     "text": [
      "KMU\n",
      "ADFGS\n",
      "AAABBCC\n"
     ]
    }
   ],
   "source": [
    "# Greedy 13417\n",
    "# 카드 문자열\n",
    "\n",
    "t = int(input())            # 테스트 케이스\n",
    "for _ in range(t) : \n",
    "    n = int(input())            # 카드 개수\n",
    "    arr = list(input().split())\n",
    "    answer = [arr[0]]\n",
    "\n",
    "\n",
    "    for i in range(1, len(arr)) : \n",
    "        left = arr[0]\n",
    "        right = arr[-1]\n",
    "\n",
    "        if arr[i] <= answer[0] : \n",
    "            answer.insert(0, arr[i])\n",
    "        else : answer.append(arr[i])\n",
    "\n",
    "    print(''.join(answer))"
   ]
  }
 ],
 "metadata": {
  "kernelspec": {
   "display_name": "Python 3.10.3 64-bit",
   "metadata": {
    "interpreter": {
     "hash": "98590ff4fe04c8543246b2a01debd3de3c5ca9b666f43f1fa87d5110c692004c"
    }
   },
   "name": "python3"
  },
  "language_info": {
   "codemirror_mode": {
    "name": "ipython",
    "version": 3
   },
   "file_extension": ".py",
   "mimetype": "text/x-python",
   "name": "python",
   "nbconvert_exporter": "python",
   "pygments_lexer": "ipython3",
   "version": "3.10.3"
  },
  "orig_nbformat": 2
 },
 "nbformat": 4,
 "nbformat_minor": 2
}