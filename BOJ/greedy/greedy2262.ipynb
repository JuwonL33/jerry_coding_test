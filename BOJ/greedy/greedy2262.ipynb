{
 "cells": [
  {
   "cell_type": "code",
   "execution_count": 16,
   "metadata": {},
   "outputs": [
    {
     "name": "stdout",
     "output_type": "stream",
     "text": [
      "9\n"
     ]
    }
   ],
   "source": [
    "# greedy 2262 토너먼트 만들기\n",
    "\n",
    "INF = int(1e9)\n",
    "n = int(input())\n",
    "players = [INF] + list(map(int, input().split())) + [INF]\n",
    "result = 0\n",
    "ㅠ\n",
    "while n >= 2 : \n",
    "    i = players.index(n)\n",
    "    result += min(abs(players[i] - players[i-1]), abs(players[i] - players[i+1]))\n",
    "    del players[i]\n",
    "    n -= 1\n",
    "\n",
    "print(result)"
   ]
  }
 ],
 "metadata": {
  "kernelspec": {
   "display_name": "Python 3.10.3 64-bit",
   "metadata": {
    "interpreter": {
     "hash": "98590ff4fe04c8543246b2a01debd3de3c5ca9b666f43f1fa87d5110c692004c"
    }
   },
   "name": "python3"
  },
  "language_info": {
   "codemirror_mode": {
    "name": "ipython",
    "version": 3
   },
   "file_extension": ".py",
   "mimetype": "text/x-python",
   "name": "python",
   "nbconvert_exporter": "python",
   "pygments_lexer": "ipython3",
   "version": "3.10.3"
  },
  "orig_nbformat": 2
 },
 "nbformat": 4,
 "nbformat_minor": 2
}