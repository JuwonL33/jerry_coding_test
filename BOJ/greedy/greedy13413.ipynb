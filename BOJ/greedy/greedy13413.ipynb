# 오셀로 재배치
# https://www.acmicpc.net/problem/13413

trial = int(input())

for _ in range(trial) : 
    n = int(input())
    current = list(input())
    target = list(input())
    cnt_arr = []                     
    for i in range(n) :              
        if current[i] != target[i] : 
            cnt_arr.append(current[i])
    
    print(max(cnt_arr.count('W'), cnt_arr.count('B')))
