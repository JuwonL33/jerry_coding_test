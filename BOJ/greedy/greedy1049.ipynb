{
 "cells": [
  {
   "cell_type": "code",
   "execution_count": 57,
   "metadata": {},
   "outputs": [
    {
     "name": "stdout",
     "output_type": "stream",
     "text": [
      "12\n"
     ]
    }
   ],
   "source": [
    "# 기타줄\n",
    "# 세트로 샀을 때 젤 싼 가격과 낱개로 샀을 때 제일 싼 가격을 가지고, 세트로 샀을때와 낱개로 샀을 때의 가격 비교 하기.\n",
    "\n",
    "n, m = map(int,input().split())\n",
    "result = 0                              # 기타줄 n개를 사기 위한 최솟값\n",
    "\n",
    "setPrices, singlePrices = [0 for _ in range(m)], [0 for _ in range(m)]\n",
    "\n",
    "for i in range(m) : setPrices[i], singlePrices[i] = map(int, input().split())\n",
    "\n",
    "minSetPrice, minSinglePrice = min(setPrices), min(singlePrices)\n",
    "\n",
    "while n > 0 :\n",
    "    if n > 6 : \n",
    "        result += min(minSetPrice, 6*minSinglePrice)\n",
    "        n -= 6\n",
    "    else : \n",
    "        result += min(minSetPrice, minSinglePrice*n)\n",
    "        n = 0\n",
    "\n",
    "print(result)\n"
   ]
  }
 ],
 "metadata": {
  "kernelspec": {
   "display_name": "Python 3.10.3 64-bit",
   "metadata": {
    "interpreter": {
     "hash": "98590ff4fe04c8543246b2a01debd3de3c5ca9b666f43f1fa87d5110c692004c"
    }
   },
   "name": "python3"
  },
  "language_info": {
   "codemirror_mode": {
    "name": "ipython",
    "version": 3
   },
   "file_extension": ".py",
   "mimetype": "text/x-python",
   "name": "python",
   "nbconvert_exporter": "python",
   "pygments_lexer": "ipython3",
   "version": "3.10.3"
  },
  "orig_nbformat": 2
 },
 "nbformat": 4,
 "nbformat_minor": 2
}