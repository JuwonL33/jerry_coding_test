{
 "cells": [
  {
   "cell_type": "code",
   "execution_count": 33,
   "metadata": {},
   "outputs": [
    {
     "name": "stdout",
     "output_type": "stream",
     "text": [
      "결과값 :  -12\n",
      "결과값 :  0\n",
      "결과값 :  12\n",
      "10\n"
     ]
    }
   ],
   "source": [
    "# 피로도\n",
    "# https://www.acmicpc.net/problem/22864\n",
    "\n",
    "a, b, c, m = map(int, input().split())\n",
    "\n",
    "for i in range(1, 24) : \n",
    "    print(\"결과값 : \", (a+c)*i - 24*c)\n",
    "    if (a+c)*i - 24*c > m : \n",
    "        \n",
    "        print(b*(i-1))\n",
    "        break"
   ]
  },
  {
   "cell_type": "code",
   "execution_count": 41,
   "metadata": {},
   "outputs": [
    {
     "name": "stdout",
     "output_type": "stream",
     "text": [
      "0\n"
     ]
    }
   ],
   "source": [
    "# 피로도\n",
    "# https://www.acmicpc.net/problem/22864\n",
    "\n",
    "a, b, c, m = map(int, input().split())\n",
    "\n",
    "day = 0\n",
    "\n",
    "result = 0\n",
    "count = 0\n",
    "\n",
    "if a > m : \n",
    "    print(0)\n",
    "else : \n",
    "    while day != 24 : \n",
    "        day += 1\n",
    "        if count + a <= m : \n",
    "            result += b\n",
    "            count += a\n",
    "        else : \n",
    "            if count - c >= 0 : \n",
    "                count -= c\n",
    "            else : \n",
    "                count = 0\n",
    "    print(result)"
   ]
  }
 ],
 "metadata": {
  "kernelspec": {
   "display_name": "Python 3.10.3 64-bit",
   "metadata": {
    "interpreter": {
     "hash": "98590ff4fe04c8543246b2a01debd3de3c5ca9b666f43f1fa87d5110c692004c"
    }
   },
   "name": "python3"
  },
  "language_info": {
   "codemirror_mode": {
    "name": "ipython",
    "version": 3
   },
   "file_extension": ".py",
   "mimetype": "text/x-python",
   "name": "python",
   "nbconvert_exporter": "python",
   "pygments_lexer": "ipython3",
   "version": "3.10.3"
  },
  "orig_nbformat": 2
 },
 "nbformat": 4,
 "nbformat_minor": 2
}