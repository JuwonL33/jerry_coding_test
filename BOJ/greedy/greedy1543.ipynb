{
 "cells": [
  {
   "cell_type": "code",
   "execution_count": 13,
   "metadata": {},
   "outputs": [
    {
     "name": "stdout",
     "output_type": "stream",
     "text": [
      "2\n",
      "4\n",
      "6\n",
      "3\n"
     ]
    }
   ],
   "source": [
    "# greedy 1543 문서 검색\n",
    "\n",
    "n = input()                 # 문자열\n",
    "keyword = input()           # 찾아야 할 문자\n",
    "result = 0\n",
    "idx = 0\n",
    "\n",
    "for i in range(len(n)) : \n",
    "    if n.find(keyword, idx) > -1 : \n",
    "        result += 1\n",
    "        idx = n.find(keyword, idx) + len(keyword)\n",
    "\n",
    "print(result)"
   ]
  }
 ],
 "metadata": {
  "kernelspec": {
   "display_name": "Python 3.10.3 64-bit",
   "metadata": {
    "interpreter": {
     "hash": "98590ff4fe04c8543246b2a01debd3de3c5ca9b666f43f1fa87d5110c692004c"
    }
   },
   "name": "python3"
  },
  "language_info": {
   "codemirror_mode": {
    "name": "ipython",
    "version": 3
   },
   "file_extension": ".py",
   "mimetype": "text/x-python",
   "name": "python",
   "nbconvert_exporter": "python",
   "pygments_lexer": "ipython3",
   "version": "3.10.3"
  },
  "orig_nbformat": 2
 },
 "nbformat": 4,
 "nbformat_minor": 2
}