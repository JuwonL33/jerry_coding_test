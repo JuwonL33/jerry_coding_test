{
 "cells": [
  {
   "cell_type": "code",
   "execution_count": 4,
   "metadata": {},
   "outputs": [
    {
     "name": "stdout",
     "output_type": "stream",
     "text": [
      "4\n"
     ]
    }
   ],
   "source": [
    "# 탐욕법\n",
    "# 14916\n",
    "# 거스름돈\n",
    "\n",
    "money = int(input())\n",
    "answer = 0\n",
    "\n",
    "while True : \n",
    "    if money % 5 == 0 :                 # money가 5의 배수이면\n",
    "        answer += money // 5            # 5로 나눈 몫을 answer에 대입하고 break\n",
    "        break\n",
    "    else :                              # money가 5의 배수가 아니라면\n",
    "        money -= 2                      # 2를 빼고\n",
    "        answer += 1                     # answer에 1을 더한다.\n",
    "    \n",
    "    if money < 0 :                      # money가 0보다 작으면 break\n",
    "        break\n",
    "    \n",
    "if money < 0 : print(-1)                # money가 0보다 작으면 -1을 리턴\n",
    "else : print(answer)                    # 아니라면 answer 리턴"
   ]
  }
 ],
 "metadata": {
  "kernelspec": {
   "display_name": "Python 3.10.3 64-bit",
   "metadata": {
    "interpreter": {
     "hash": "98590ff4fe04c8543246b2a01debd3de3c5ca9b666f43f1fa87d5110c692004c"
    }
   },
   "name": "python3"
  },
  "language_info": {
   "codemirror_mode": {
    "name": "ipython",
    "version": 3
   },
   "file_extension": ".py",
   "mimetype": "text/x-python",
   "name": "python",
   "nbconvert_exporter": "python",
   "pygments_lexer": "ipython3",
   "version": "3.10.3"
  },
  "orig_nbformat": 2
 },
 "nbformat": 4,
 "nbformat_minor": 2
}