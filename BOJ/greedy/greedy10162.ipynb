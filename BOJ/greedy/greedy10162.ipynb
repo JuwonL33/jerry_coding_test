{
 "cells": [
  {
   "cell_type": "code",
   "execution_count": 17,
   "metadata": {},
   "outputs": [
    {
     "name": "stdout",
     "output_type": "stream",
     "text": [
      "-1\n"
     ]
    }
   ],
   "source": [
    "# Greedy 전자렌지\n",
    "# 거스름돈 알고리즘 응용\n",
    "# 답은 맞았으나 효율성에서 시간 초과 날 위험이 있음. \n",
    "\n",
    "t = int(input())\n",
    "lst = [300, 60, 10]\n",
    "count = 0\n",
    "if t % 10 != 0 :\n",
    "    print(-1)\n",
    "else : \n",
    "    for i in lst : \n",
    "        if t < i :\n",
    "            print(0, end = ' ')\n",
    "        else : \n",
    "            count = t // i\n",
    "            t %= i\n",
    "            print(count, end = ' ')\n",
    "            count = 0"
   ]
  },
  {
   "cell_type": "code",
   "execution_count": 19,
   "metadata": {},
   "outputs": [
    {
     "name": "stdout",
     "output_type": "stream",
     "text": [
      "-1\n"
     ]
    }
   ],
   "source": [
    "# 참고한 알고리즘\n",
    "\n",
    "t = int(input())\n",
    "if t % 10 != 0 :\n",
    "    print(-1)\n",
    "else : \n",
    "    a = b = c = 0\n",
    "    a = t // 300\n",
    "    b = (t % 300) // 60\n",
    "    c = ((t % 300) % 60) // 10\n",
    "    print(a, b, c)"
   ]
  }
 ],
 "metadata": {
  "kernelspec": {
   "display_name": "Python 3.10.3 64-bit",
   "metadata": {
    "interpreter": {
     "hash": "98590ff4fe04c8543246b2a01debd3de3c5ca9b666f43f1fa87d5110c692004c"
    }
   },
   "name": "python3"
  },
  "language_info": {
   "codemirror_mode": {
    "name": "ipython",
    "version": 3
   },
   "file_extension": ".py",
   "mimetype": "text/x-python",
   "name": "python",
   "nbconvert_exporter": "python",
   "pygments_lexer": "ipython3",
   "version": "3.10.3"
  },
  "orig_nbformat": 2
 },
 "nbformat": 4,
 "nbformat_minor": 2
}