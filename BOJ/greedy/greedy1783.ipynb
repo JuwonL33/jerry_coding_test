{
 "cells": [
  {
   "cell_type": "code",
   "execution_count": 4,
   "metadata": {},
   "outputs": [
    {
     "name": "stdout",
     "output_type": "stream",
     "text": [
      "48\n"
     ]
    }
   ],
   "source": [
    "# Greedy 1783 병든 나이트\n",
    "# 이런 류의 문제는 표를 만들어 그려보면서 예시 대입해보기.\n",
    "\n",
    "# 가로, 세로 입력받기\n",
    "y, x = map(int, input().split())\n",
    "\n",
    "# 1x1일땐 1 출력\n",
    "if y == 1 :\n",
    "    print(1)\n",
    "elif y == 2 : \n",
    "    print(min(4, (x-1)//2 + 1))\n",
    "elif x <= 6 : \n",
    "    print(min(4, x))\n",
    "else : \n",
    "    print(x-2)"
   ]
  }
 ],
 "metadata": {
  "kernelspec": {
   "display_name": "Python 3.10.3 64-bit",
   "metadata": {
    "interpreter": {
     "hash": "98590ff4fe04c8543246b2a01debd3de3c5ca9b666f43f1fa87d5110c692004c"
    }
   },
   "name": "python3"
  },
  "language_info": {
   "codemirror_mode": {
    "name": "ipython",
    "version": 3
   },
   "file_extension": ".py",
   "mimetype": "text/x-python",
   "name": "python",
   "nbconvert_exporter": "python",
   "pygments_lexer": "ipython3",
   "version": "3.10.3"
  },
  "orig_nbformat": 2
 },
 "nbformat": 4,
 "nbformat_minor": 2
}