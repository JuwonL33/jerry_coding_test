{
 "cells": [
  {
   "cell_type": "code",
   "execution_count": 18,
   "metadata": {},
   "outputs": [
    {
     "name": "stdout",
     "output_type": "stream",
     "text": [
      "124\n",
      "4 2 0 4 \n",
      "25\n",
      "1 0 0 0 \n",
      "194\n",
      "7 1 1 4 \n"
     ]
    }
   ],
   "source": [
    "# BOJ Greedy 2720 \n",
    "# 세탁소 사장 동혁\n",
    "\n",
    "coins = [25, 10, 5, 1]  # 0.25, 0.10, 0.05, 0.01로 하면 페니의 값이 1씩 모자라게 추출됨\n",
    "cnt = []\n",
    "\n",
    "T = int(input())     # 테스트 케이스 개수\n",
    "for i in range(T) :\n",
    "    C = int(input())\n",
    "    for coin in coins :\n",
    "        n = C // coin\n",
    "        C %= coin\n",
    "        cnt.append(n)\n",
    "\n",
    "    for c in cnt :\n",
    "        print(c, end=\" \")\n",
    "    print()\n",
    "    cnt = []\n"
   ]
  }
 ],
 "metadata": {
  "kernelspec": {
   "display_name": "Python 3.10.3 64-bit",
   "metadata": {
    "interpreter": {
     "hash": "98590ff4fe04c8543246b2a01debd3de3c5ca9b666f43f1fa87d5110c692004c"
    }
   },
   "name": "python3"
  },
  "language_info": {
   "codemirror_mode": {
    "name": "ipython",
    "version": 3
   },
   "file_extension": ".py",
   "mimetype": "text/x-python",
   "name": "python",
   "nbconvert_exporter": "python",
   "pygments_lexer": "ipython3",
   "version": "3.10.3"
  },
  "orig_nbformat": 2
 },
 "nbformat": 4,
 "nbformat_minor": 2
}