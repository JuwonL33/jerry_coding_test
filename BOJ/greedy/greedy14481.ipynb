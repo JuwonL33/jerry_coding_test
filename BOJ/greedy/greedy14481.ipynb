{
 "cells": [
  {
   "cell_type": "code",
   "execution_count": 1,
   "metadata": {},
   "outputs": [
    {
     "name": "stdout",
     "output_type": "stream",
     "text": [
      "12\n"
     ]
    }
   ],
   "source": [
    "# BOJ Greedy 14481\n",
    "# 욱제는 효도쟁이야!!\n",
    "\n",
    "n = int(input())                        \n",
    "v = list(map(int, input().split()))\n",
    "print(sum(v) - max(v))                      # 한 바퀴 돌아야 한다면 이동비용이 가장 큰 곳에서 시작하는게 최소 비용이 든다. 전체 경비 - 비용 가장 비싼 곳\n",
    "\n"
   ]
  }
 ],
 "metadata": {
  "kernelspec": {
   "display_name": "Python 3.10.3 64-bit",
   "metadata": {
    "interpreter": {
     "hash": "98590ff4fe04c8543246b2a01debd3de3c5ca9b666f43f1fa87d5110c692004c"
    }
   },
   "name": "python3"
  },
  "language_info": {
   "codemirror_mode": {
    "name": "ipython",
    "version": 3
   },
   "file_extension": ".py",
   "mimetype": "text/x-python",
   "name": "python",
   "nbconvert_exporter": "python",
   "pygments_lexer": "ipython3",
   "version": "3.10.3"
  },
  "orig_nbformat": 2
 },
 "nbformat": 4,
 "nbformat_minor": 2
}