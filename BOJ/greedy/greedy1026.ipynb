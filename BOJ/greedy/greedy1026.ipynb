{
 "cells": [
  {
   "cell_type": "code",
   "execution_count": 18,
   "metadata": {},
   "outputs": [
    {
     "name": "stdout",
     "output_type": "stream",
     "text": [
      "[3, 1, 1]\n",
      "[10, 20, 30]\n",
      "sorted_A[ 0 ,] :  3  sorted_B[ 2 ,] :  30\n",
      "90\n",
      "sorted_A[ 1 ,] :  1  sorted_B[ 1 ,] :  20\n",
      "110\n",
      "sorted_A[ 2 ,] :  1  sorted_B[ 0 ,] :  10\n",
      "120\n",
      "120\n"
     ]
    }
   ],
   "source": [
    "# BOJ Greedy 1026 \n",
    "# 보물\n",
    "# S를 가장 작게 만들기 위해 A 순서 변경 가능. 단 B변경 안됨\n",
    "\n",
    "N = int(input())                     # 배열들의 길이\n",
    "A = list(map(int, input().split()))  # A 배열 세팅 - 순서 변경 가능\n",
    "B = list(map(int, input().split()))  # B 배열 세팅\n",
    "\n",
    "S = 0                                # 합계\n",
    "\n",
    "sorted_A = sorted(A, reverse=True)                             # A를 재정렬\n",
    "sorted_B = sorted(B)                                           # B를 재정렬\n",
    "\n",
    "for i in range(N) :                  # 값 더하기\n",
    "    S += sorted_A[i] * sorted_B[i]\n",
    "    \n",
    "print(S)"
   ]
  }
 ],
 "metadata": {
  "kernelspec": {
   "display_name": "Python 3.10.3 64-bit",
   "metadata": {
    "interpreter": {
     "hash": "98590ff4fe04c8543246b2a01debd3de3c5ca9b666f43f1fa87d5110c692004c"
    }
   },
   "name": "python3"
  },
  "language_info": {
   "codemirror_mode": {
    "name": "ipython",
    "version": 3
   },
   "file_extension": ".py",
   "mimetype": "text/x-python",
   "name": "python",
   "nbconvert_exporter": "python",
   "pygments_lexer": "ipython3",
   "version": "3.10.3"
  },
  "orig_nbformat": 2
 },
 "nbformat": 4,
 "nbformat_minor": 2
}