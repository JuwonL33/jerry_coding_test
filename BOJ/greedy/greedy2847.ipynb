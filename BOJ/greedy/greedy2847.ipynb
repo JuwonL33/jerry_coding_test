{
 "cells": [
  {
   "cell_type": "code",
   "execution_count": 37,
   "metadata": {},
   "outputs": [
    {
     "name": "stdout",
     "output_type": "stream",
     "text": [
      "6\n"
     ]
    }
   ],
   "source": [
    "# Greedy 게임을 만든 동준이\n",
    "\n",
    "lv = int(input())                       # 레벨의 수\n",
    "lst = []\n",
    "\n",
    "for i in range(lv) :                    # 레벨의 개수만큼 얻는 점수를 리스트화\n",
    "    lst.append(int(input()))\n",
    "\n",
    "result = 0                              # 점수를 변경해야 함\n",
    "\n",
    "for i in range(lv-1, 0, -1) : \n",
    "    if lst[i] <= lst[i-1] :             # 뒷항이 앞항보다 작거나 같으면\n",
    "        result += lst[i-1] - lst[i] + 1 # result에 앞항 - 뒷항 + 1 더하기\n",
    "        lst[i-1] = lst[i] - 1           # 앞항은 뒷항 - 1 해주기\n",
    "        \n",
    "print(result)"
   ]
  }
 ],
 "metadata": {
  "kernelspec": {
   "display_name": "Python 3.10.3 64-bit",
   "metadata": {
    "interpreter": {
     "hash": "98590ff4fe04c8543246b2a01debd3de3c5ca9b666f43f1fa87d5110c692004c"
    }
   },
   "name": "python3"
  },
  "language_info": {
   "codemirror_mode": {
    "name": "ipython",
    "version": 3
   },
   "file_extension": ".py",
   "mimetype": "text/x-python",
   "name": "python",
   "nbconvert_exporter": "python",
   "pygments_lexer": "ipython3",
   "version": "3.10.3"
  },
  "orig_nbformat": 2
 },
 "nbformat": 4,
 "nbformat_minor": 2
}