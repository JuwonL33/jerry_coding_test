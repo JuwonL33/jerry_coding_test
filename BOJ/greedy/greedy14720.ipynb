{
 "cells": [
  {
   "cell_type": "code",
   "execution_count": 12,
   "metadata": {},
   "outputs": [
    {
     "name": "stdout",
     "output_type": "stream",
     "text": [
      "7\n"
     ]
    }
   ],
   "source": [
    "# 14720 우유축제\n",
    "# 0, 1, 2가 반복되면 3으로 나누었을 때 나머지 임을 무조건 기억하기!!!\n",
    "\n",
    "n = int(input())        # 우유 가게 수\n",
    "lst = list(map(int, input().split()))\n",
    "\n",
    "count = 0               # 마실 수 있는 우유 개수\n",
    "\n",
    "for i in range(n) : \n",
    "    if lst[i] == count % 3 :\n",
    "        count += 1\n",
    "\n",
    "print(count)"
   ]
  }
 ],
 "metadata": {
  "kernelspec": {
   "display_name": "Python 3.10.3 64-bit",
   "metadata": {
    "interpreter": {
     "hash": "98590ff4fe04c8543246b2a01debd3de3c5ca9b666f43f1fa87d5110c692004c"
    }
   },
   "name": "python3"
  },
  "language_info": {
   "codemirror_mode": {
    "name": "ipython",
    "version": 3
   },
   "file_extension": ".py",
   "mimetype": "text/x-python",
   "name": "python",
   "nbconvert_exporter": "python",
   "pygments_lexer": "ipython3",
   "version": "3.10.3"
  },
  "orig_nbformat": 2
 },
 "nbformat": 4,
 "nbformat_minor": 2
}