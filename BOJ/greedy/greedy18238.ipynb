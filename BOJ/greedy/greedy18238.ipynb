{
 "cells": [
  {
   "cell_type": "code",
   "execution_count": 2,
   "metadata": {},
   "outputs": [
    {
     "name": "stdout",
     "output_type": "stream",
     "text": [
      "100\n"
     ]
    }
   ],
   "source": [
    "# Greedy 18238 ZOAC\n",
    "\n",
    "n = input()             # 문자열\n",
    "result = 0              # 문자열을 출력하는데 걸리는 시간\n",
    "\n",
    "start = 'A'\n",
    "\n",
    "for i in n : \n",
    "    left = ord(i) - ord(start)\n",
    "    right = ord(start) - ord(i)\n",
    "\n",
    "    if left < 0 : left += 26\n",
    "    if right < 0 : right += 26\n",
    "\n",
    "    result += min(left, right)\n",
    "    start = i\n",
    "\n",
    "print(result)\n",
    "\n"
   ]
  }
 ],
 "metadata": {
  "kernelspec": {
   "display_name": "Python 3.10.3 64-bit",
   "metadata": {
    "interpreter": {
     "hash": "98590ff4fe04c8543246b2a01debd3de3c5ca9b666f43f1fa87d5110c692004c"
    }
   },
   "name": "python3"
  },
  "language_info": {
   "codemirror_mode": {
    "name": "ipython",
    "version": 3
   },
   "file_extension": ".py",
   "mimetype": "text/x-python",
   "name": "python",
   "nbconvert_exporter": "python",
   "pygments_lexer": "ipython3",
   "version": "3.10.3"
  },
  "orig_nbformat": 2
 },
 "nbformat": 4,
 "nbformat_minor": 2
}