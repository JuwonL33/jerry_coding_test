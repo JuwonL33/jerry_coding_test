{
 "cells": [
  {
   "cell_type": "code",
   "execution_count": 47,
   "metadata": {},
   "outputs": [
    {
     "name": "stdout",
     "output_type": "stream",
     "text": [
      "26 26\n",
      "12 12\n",
      "15 15\n",
      "3 3\n",
      "56\n"
     ]
    }
   ],
   "source": [
    "# Greedy 18238 ZOAC\n",
    "\n",
    "n = input()             # 문자열\n",
    "result = 0              # 문자열을 출력하는데 걸리는 시간\n",
    "\n",
    "start = 'A'\n",
    "\n",
    "for i in n : \n",
    "    left = abs(ord(i) - ord(start)+1)\n",
    "    right = abs(ord(start)+1 - ord(i))\n",
    "    print(left, right)\n",
    "    result += min(left, right)\n",
    "    start = i\n",
    "\n",
    "print(result)\n",
    "\n"
   ]
  }
 ],
 "metadata": {
  "kernelspec": {
   "display_name": "Python 3.10.3 64-bit",
   "metadata": {
    "interpreter": {
     "hash": "98590ff4fe04c8543246b2a01debd3de3c5ca9b666f43f1fa87d5110c692004c"
    }
   },
   "name": "python3"
  },
  "language_info": {
   "codemirror_mode": {
    "name": "ipython",
    "version": 3
   },
   "file_extension": ".py",
   "mimetype": "text/x-python",
   "name": "python",
   "nbconvert_exporter": "python",
   "pygments_lexer": "ipython3",
   "version": "3.10.3"
  },
  "orig_nbformat": 2
 },
 "nbformat": 4,
 "nbformat_minor": 2
}