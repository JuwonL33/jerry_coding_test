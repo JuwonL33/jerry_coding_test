# 장신구 명장 임스
# https://www.acmicpc.net/problem/25496

p, n = map(int, input().split())
arr = list(map(int, input().split()))
arr.sort()

total = 0
for i in range(n) : 
    if p < 200 : 
        total += 1
        p += arr[i]
    else : 
        break
        
print(total)
