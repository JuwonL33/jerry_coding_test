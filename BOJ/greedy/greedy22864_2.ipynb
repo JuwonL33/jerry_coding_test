# 피로도
# https://www.acmicpc.net/problem/22864

a, b, c, m = map(int, input().split())
fatigue = 0
total = 0
for i in range(24) : 
    if m-fatigue >= a : 
        total += b
        fatigue += a
    else : 
        fatigue -= c
        if fatigue < 0 : fatigue = 0
        
print(total)
