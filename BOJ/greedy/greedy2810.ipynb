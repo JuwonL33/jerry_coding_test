{
 "cells": [
  {
   "cell_type": "code",
   "execution_count": 25,
   "metadata": {},
   "outputs": [
    {
     "name": "stdout",
     "output_type": "stream",
     "text": [
      "5\n"
     ]
    }
   ],
   "source": [
    "# Greedy 2810 컵홀더\n",
    "\n",
    "n = int(input())                                          # 좌석 개수\n",
    "seats = input()                                           # 좌석형태 S : 싱글, L : 커플석. \n",
    "cntL, cntS = seats.count('L'), seats.count('S')           # L의 개수, S의 개수\n",
    "\n",
    "# 답변 -> 왼쪽 시작점 컵홀더 1개 확보하고 시작 \n",
    "answer = 1 + cntS + (cntL / 2) if cntL > 0 else cntS\n",
    "\n",
    "print(int(answer))"
   ]
  }
 ],
 "metadata": {
  "kernelspec": {
   "display_name": "Python 3.10.3 64-bit",
   "metadata": {
    "interpreter": {
     "hash": "98590ff4fe04c8543246b2a01debd3de3c5ca9b666f43f1fa87d5110c692004c"
    }
   },
   "name": "python3"
  },
  "language_info": {
   "codemirror_mode": {
    "name": "ipython",
    "version": 3
   },
   "file_extension": ".py",
   "mimetype": "text/x-python",
   "name": "python",
   "nbconvert_exporter": "python",
   "pygments_lexer": "ipython3",
   "version": "3.10.3"
  },
  "orig_nbformat": 2
 },
 "nbformat": 4,
 "nbformat_minor": 2
}