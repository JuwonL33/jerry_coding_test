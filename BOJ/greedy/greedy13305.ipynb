{
 "cells": [
  {
   "cell_type": "code",
   "execution_count": 2,
   "metadata": {},
   "outputs": [
    {
     "name": "stdout",
     "output_type": "stream",
     "text": [
      "10\n"
     ]
    }
   ],
   "source": [
    "# Greedy 13305 주유소\n",
    "\n",
    "n = int(input())                            # 도시 개수\n",
    "gaps = list(map(int, input().split()))      # 도시 개수 - 1개 만큼의 각 도시간 거리\n",
    "prices = list(map(int, input().split()))    # 각 도시별 기름 가격\n",
    "\n",
    "minPrice = prices[0]                        # 최소가격\n",
    "totPrice = 0                                # 최종가격\n",
    "\n",
    "for i in range(1, n) : \n",
    "    if minPrice > prices[i] : \n",
    "        totPrice += gaps[i-1] * minPrice\n",
    "        minPrice = prices[i]\n",
    "    else : totPrice += gaps[i-1] * minPrice\n",
    "\n",
    "print(totPrice)\n"
   ]
  },
  {
   "cell_type": "code",
   "execution_count": null,
   "metadata": {},
   "outputs": [],
   "source": [
    "n = int(input())                            \n",
    "gaps = list(map(int, input().split()))      \n",
    "prices = list(map(int, input().split()))    \n",
    "\n",
    "minPrice = prices[0]                        \n",
    "totPrice = 0                                \n",
    "\n",
    "for i in range(1, n) : \n",
    "    if minPrice > prices[i] : \n",
    "        totPrice += gaps[i-1] * minPrice\n",
    "        minPrice = prices[i]\n",
    "    else : totPrice += gaps[i-1] * minPrice\n",
    "\n",
    "print(totPrice)"
   ]
  }
 ],
 "metadata": {
  "kernelspec": {
   "display_name": "Python 3.10.3 64-bit",
   "metadata": {
    "interpreter": {
     "hash": "98590ff4fe04c8543246b2a01debd3de3c5ca9b666f43f1fa87d5110c692004c"
    }
   },
   "name": "python3"
  },
  "language_info": {
   "codemirror_mode": {
    "name": "ipython",
    "version": 3
   },
   "file_extension": ".py",
   "mimetype": "text/x-python",
   "name": "python",
   "nbconvert_exporter": "python",
   "pygments_lexer": "ipython3",
   "version": "3.10.3"
  },
  "orig_nbformat": 2
 },
 "nbformat": 4,
 "nbformat_minor": 2
}