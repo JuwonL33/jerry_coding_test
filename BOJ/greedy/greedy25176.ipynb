{
 "cells": [
  {
   "cell_type": "code",
   "execution_count": 20,
   "metadata": {},
   "outputs": [
    {
     "name": "stdout",
     "output_type": "stream",
     "text": [
      "528\n"
     ]
    }
   ],
   "source": [
    "# BOJ Greedy 1026 \n",
    "# 보물\n",
    "# S를 가장 작게 만들기 위해 A 순서 변경 가능. 단 B변경 안됨\n",
    "# 핵심 : A의 가장 큰값 x B의 가장 작은 값\n",
    "\n",
    "N = int(input())                     # 배열들의 길이\n",
    "A = list(map(int, input().split()))  # A 배열 세팅 - 순서 변경 가능\n",
    "B = list(map(int, input().split()))  # B 배열 세팅\n",
    "\n",
    "S = 0                                # 합계\n",
    "\n",
    "sorted_A = sorted(A, reverse=True)                            # A를 재정렬\n",
    "sorted_B = sorted(B)                                           # B를 재정렬\n",
    "\n",
    "for i in range(N) :                  # 값 더하기\n",
    "    S += sorted_A[i] * sorted_B[i]\n",
    "\n",
    "print(S)"
   ]
  }
 ],
 "metadata": {
  "kernelspec": {
   "display_name": "Python 3.10.3 64-bit",
   "metadata": {
    "interpreter": {
     "hash": "98590ff4fe04c8543246b2a01debd3de3c5ca9b666f43f1fa87d5110c692004c"
    }
   },
   "name": "python3"
  },
  "language_info": {
   "codemirror_mode": {
    "name": "ipython",
    "version": 3
   },
   "file_extension": ".py",
   "mimetype": "text/x-python",
   "name": "python",
   "nbconvert_exporter": "python",
   "pygments_lexer": "ipython3",
   "version": "3.10.3"
  },
  "orig_nbformat": 2
 },
 "nbformat": 4,
 "nbformat_minor": 2
}