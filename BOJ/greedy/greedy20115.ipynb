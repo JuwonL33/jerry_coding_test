{
 "cells": [
  {
   "cell_type": "code",
   "execution_count": 7,
   "metadata": {},
   "outputs": [
    {
     "name": "stdout",
     "output_type": "stream",
     "text": [
      "716.5\n"
     ]
    }
   ],
   "source": [
    "# BOJ Greedy 20115 \n",
    "# 에너지 드링크\n",
    "\n",
    "N = int(input())                                # 에너지 드링크의 수\n",
    "drinkList = list(map(int, input().split()))     # 에너지 드링크들의 양\n",
    "drinkList.sort(reverse=True)                    # 역순으로 정렬\n",
    "sum = drinkList[0]\n",
    "\n",
    "for i in range(1, N) :\n",
    "    sum += drinkList[i] / 2\n",
    "\n",
    "print('%g' % sum)                               # %g : 유효숫자의 개수 유지"
   ]
  }
 ],
 "metadata": {
  "kernelspec": {
   "display_name": "Python 3.10.3 64-bit",
   "metadata": {
    "interpreter": {
     "hash": "98590ff4fe04c8543246b2a01debd3de3c5ca9b666f43f1fa87d5110c692004c"
    }
   },
   "name": "python3"
  },
  "language_info": {
   "codemirror_mode": {
    "name": "ipython",
    "version": 3
   },
   "file_extension": ".py",
   "mimetype": "text/x-python",
   "name": "python",
   "nbconvert_exporter": "python",
   "pygments_lexer": "ipython3",
   "version": "3.10.3"
  },
  "orig_nbformat": 2
 },
 "nbformat": 4,
 "nbformat_minor": 2
}