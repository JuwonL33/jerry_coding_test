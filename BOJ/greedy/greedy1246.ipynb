n, m = map(int, input().split())                      # n = 달걀 개수, m = 고객 수
cost_cnt = sorted([ int(input()) for _ in range(m) ]) # 고객이 지불할 수 있는 계란 가격
max_cost = max_tot_cost = 0

for i in range(m) : 
    t = cost_cnt[i] * ((m-i) if m-i <= n else n)
    if max_b < t : 
        max_b = t
        max_p = cost_cnt[i]
        
print(max_cost, max_tot_cost)
