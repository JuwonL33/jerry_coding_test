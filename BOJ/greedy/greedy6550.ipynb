# 부분 문자열
# https://www.acmicpc.net/problem/6550

while True : 
    try : 
        s, t = map(str, input().split())
        answer = 'No'
        tmp_str = ''
        value = 0
        for i in range(len(t)) : 
            if t[i] == s[value] : 
                value += 1
                tmp_str += t[i]
                if tmp_str == s : 
                    answer = 'Yes'
                    break

        print(answer)
    except : 
        break
