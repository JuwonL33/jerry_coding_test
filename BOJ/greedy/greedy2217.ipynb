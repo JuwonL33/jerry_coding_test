{
 "cells": [
  {
   "cell_type": "code",
   "execution_count": 5,
   "metadata": {},
   "outputs": [
    {
     "name": "stdout",
     "output_type": "stream",
     "text": [
      "20\n"
     ]
    }
   ],
   "source": [
    "# greedy 2217 로프\n",
    "# 로프 중량이 큰 순으로 정렬 후\n",
    "# 로프 중량 * 로프 갯수를 계산하여 가장 큰 값 출력\n",
    "\n",
    "n = int(input())        # 로프의 개수\n",
    "arr = []\n",
    "for _ in range(n) : arr.append(int(input()))\n",
    "arr.sort(reverse=True)\n",
    "answer = 0\n",
    "for i in range(n) : \n",
    "    arr[i] = arr[i] * (i+1)\n",
    "\n",
    "print(max(arr))\n",
    "\n",
    "\n"
   ]
  }
 ],
 "metadata": {
  "kernelspec": {
   "display_name": "Python 3.10.3 64-bit",
   "metadata": {
    "interpreter": {
     "hash": "98590ff4fe04c8543246b2a01debd3de3c5ca9b666f43f1fa87d5110c692004c"
    }
   },
   "name": "python3"
  },
  "language_info": {
   "codemirror_mode": {
    "name": "ipython",
    "version": 3
   },
   "file_extension": ".py",
   "mimetype": "text/x-python",
   "name": "python",
   "nbconvert_exporter": "python",
   "pygments_lexer": "ipython3",
   "version": "3.10.3"
  },
  "orig_nbformat": 2
 },
 "nbformat": 4,
 "nbformat_minor": 2
}