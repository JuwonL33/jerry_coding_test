{
 "cells": [
  {
   "cell_type": "code",
   "execution_count": 10,
   "metadata": {},
   "outputs": [
    {
     "name": "stdout",
     "output_type": "stream",
     "text": [
      "2\n"
     ]
    }
   ],
   "source": [
    "# Greedy 뒤집기\n",
    "# 이것이 취업을 위한 코딩테스트다 그리디의 실전 문제 - 문자열 뒤집기\n",
    "\n",
    "s = input()\n",
    "first = s[0]\n",
    "cnt0 = 0\n",
    "cnt1 = 0\n",
    "if first == '0' : \n",
    "    cnt1 += 1\n",
    "else : \n",
    "    cnt0 += 1\n",
    "\n",
    "for i in range(len(s)-1) : \n",
    "    if s[i] != s[i+1] : \n",
    "        if s[i+1] == '0' : \n",
    "            cnt1 += 1\n",
    "        elif s[i+1] == '1' : \n",
    "            cnt0 += 1\n",
    "\n",
    "print(min(cnt0, cnt1))"
   ]
  }
 ],
 "metadata": {
  "kernelspec": {
   "display_name": "Python 3.10.3 64-bit",
   "metadata": {
    "interpreter": {
     "hash": "98590ff4fe04c8543246b2a01debd3de3c5ca9b666f43f1fa87d5110c692004c"
    }
   },
   "name": "python3"
  },
  "language_info": {
   "codemirror_mode": {
    "name": "ipython",
    "version": 3
   },
   "file_extension": ".py",
   "mimetype": "text/x-python",
   "name": "python",
   "nbconvert_exporter": "python",
   "pygments_lexer": "ipython3",
   "version": "3.10.3"
  },
  "orig_nbformat": 2
 },
 "nbformat": 4,
 "nbformat_minor": 2
}