{
 "cells": [
  {
   "cell_type": "code",
   "execution_count": 7,
   "metadata": {},
   "outputs": [
    {
     "ename": "TypeError",
     "evalue": "'<' not supported between instances of 'int' and 'list'",
     "output_type": "error",
     "traceback": [
      "\u001b[0;31m---------------------------------------------------------------------------\u001b[0m",
      "\u001b[0;31mTypeError\u001b[0m                                 Traceback (most recent call last)",
      "Input \u001b[0;32mIn [7]\u001b[0m, in \u001b[0;36m<cell line: 18>\u001b[0;34m()\u001b[0m\n\u001b[1;32m     15\u001b[0m     req_people_arr \u001b[38;5;241m=\u001b[39m req_people_arr[:limit_people]            \u001b[38;5;66;03m# 신청인 역순으로 정렬해서 제한 인원만큼 자르기\u001b[39;00m\n\u001b[1;32m     16\u001b[0m     min_mile\u001b[38;5;241m.\u001b[39mappend(req_people_arr[\u001b[38;5;241m-\u001b[39m\u001b[38;5;241m1\u001b[39m])\n\u001b[0;32m---> 18\u001b[0m \u001b[43mmin_mile\u001b[49m\u001b[38;5;241;43m.\u001b[39;49m\u001b[43msort\u001b[49m\u001b[43m(\u001b[49m\u001b[43m)\u001b[49m\n\u001b[1;32m     20\u001b[0m \u001b[38;5;28;01mfor\u001b[39;00m m \u001b[38;5;129;01min\u001b[39;00m min_mile : \n\u001b[1;32m     21\u001b[0m     mile \u001b[38;5;241m-\u001b[39m\u001b[38;5;241m=\u001b[39m m\n",
      "\u001b[0;31mTypeError\u001b[0m: '<' not supported between instances of 'int' and 'list'"
     ]
    }
   ],
   "source": [
    "# Yonsei TOTO\n",
    "# https://www.acmicpc.net/problem/12018\n",
    "\n",
    "n, mile = map(int, input().split())             # 과목 수, 마일리지\n",
    "max_subject = 0\n",
    "min_mile = []\n",
    "for _ in range(n) : \n",
    "    req_people, limit_people = map(int, input().split())\n",
    "    req_people_arr = list(map(int, input().split()))\n",
    "    req_people_arr.sort(reverse=True)\n",
    "    if req_people < limit_people : \n",
    "        min_mile.append(1)\n",
    "    else : \n",
    "        min_mile.append(req_people_arr[limit_people-1])\n",
    "\n",
    "min_mile.sort()\n",
    "\n",
    "for m in min_mile : \n",
    "    mile -= m\n",
    "    max_subject += 1\n",
    "    if mile < 0 : \n",
    "        print(max_subject-1)\n",
    "        break\n",
    "\n",
    "if mile > 0 :\n",
    "    print(max_subject)\n"
   ]
  }
 ],
 "metadata": {
  "kernelspec": {
   "display_name": "Python 3.10.3 64-bit",
   "metadata": {
    "interpreter": {
     "hash": "98590ff4fe04c8543246b2a01debd3de3c5ca9b666f43f1fa87d5110c692004c"
    }
   },
   "name": "python3"
  },
  "language_info": {
   "codemirror_mode": {
    "name": "ipython",
    "version": 3
   },
   "file_extension": ".py",
   "mimetype": "text/x-python",
   "name": "python",
   "nbconvert_exporter": "python",
   "pygments_lexer": "ipython3",
   "version": "3.10.3"
  },
  "orig_nbformat": 2
 },
 "nbformat": 4,
 "nbformat_minor": 2
}