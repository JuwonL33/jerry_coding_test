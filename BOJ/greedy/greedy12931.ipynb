{
 "cells": [
  {
   "cell_type": "code",
   "execution_count": 40,
   "metadata": {},
   "outputs": [
    {
     "name": "stdout",
     "output_type": "stream",
     "text": [
      "3\n"
     ]
    }
   ],
   "source": [
    "# Greedy 12931 두 배 더하기\n",
    "# 프로그램처럼 check가 0일땐 2로 나누는 경우 1일땐 홀수인 경우\n",
    "\n",
    "n = int(input())\n",
    "arr = list(map(int, input().split()))\n",
    "arr.sort()\n",
    "\n",
    "result = 0\n",
    "\n",
    "while sum(arr) != 0 :\n",
    "    check = 0\n",
    "    for i in range(n) : \n",
    "        if arr[i] % 2 != 0 or arr[i] == 0 or arr[i] == 1 : \n",
    "            if arr[i] == 0 : continue\n",
    "            else : \n",
    "                arr[i] -= 1\n",
    "                result += 1\n",
    "            check = 1\n",
    "\n",
    "    if check == 0 :\n",
    "        for i in range(n) : \n",
    "            arr[i] //= 2\n",
    "        result += 1\n",
    "        \n",
    "print(result)"
   ]
  }
 ],
 "metadata": {
  "kernelspec": {
   "display_name": "Python 3.10.3 64-bit",
   "metadata": {
    "interpreter": {
     "hash": "98590ff4fe04c8543246b2a01debd3de3c5ca9b666f43f1fa87d5110c692004c"
    }
   },
   "name": "python3"
  },
  "language_info": {
   "codemirror_mode": {
    "name": "ipython",
    "version": 3
   },
   "file_extension": ".py",
   "mimetype": "text/x-python",
   "name": "python",
   "nbconvert_exporter": "python",
   "pygments_lexer": "ipython3",
   "version": "3.10.3"
  },
  "orig_nbformat": 2
 },
 "nbformat": 4,
 "nbformat_minor": 2
}