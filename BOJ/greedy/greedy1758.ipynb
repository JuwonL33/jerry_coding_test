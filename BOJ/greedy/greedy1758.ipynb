# 알바생 강호
# https://www.acmicpc.net/problem/1758

n = int(input())
arr = [ int(input()) for _ in range(n) ]
arr.sort(reverse=True)
total = 0

for i in range(len(arr)) : 
    tmp = arr[i] - i
    if tmp > 0 : 
        total += tmp
        
print(total)
