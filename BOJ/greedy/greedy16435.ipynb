{
 "cells": [
  {
   "cell_type": "code",
   "execution_count": 4,
   "metadata": {},
   "outputs": [
    {
     "name": "stdout",
     "output_type": "stream",
     "text": [
      "10\n"
     ]
    }
   ],
   "source": [
    "# BOJ Greedy 16435 \n",
    "# 스네이크버드\n",
    "\n",
    "N, L = map(int, input().split())                # N : 과일 갯수, L : 스네이크버드의 처음 길이\n",
    "fruitList = list(map(int, input().split()))     # fruitList : 과일의 높이\n",
    "fruitList.sort()                                # 과일 높이 정렬\n",
    "\n",
    "for fruit in fruitList :\n",
    "    if L >= fruit :\n",
    "        L += 1\n",
    "    else : \n",
    "        break\n",
    "\n",
    "print(L)"
   ]
  }
 ],
 "metadata": {
  "kernelspec": {
   "display_name": "Python 3.10.3 64-bit",
   "metadata": {
    "interpreter": {
     "hash": "98590ff4fe04c8543246b2a01debd3de3c5ca9b666f43f1fa87d5110c692004c"
    }
   },
   "name": "python3"
  },
  "language_info": {
   "codemirror_mode": {
    "name": "ipython",
    "version": 3
   },
   "file_extension": ".py",
   "mimetype": "text/x-python",
   "name": "python",
   "nbconvert_exporter": "python",
   "pygments_lexer": "ipython3",
   "version": "3.10.3"
  },
  "orig_nbformat": 2
 },
 "nbformat": 4,
 "nbformat_minor": 2
}