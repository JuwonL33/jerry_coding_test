{
 "cells": [
  {
   "cell_type": "code",
   "execution_count": 9,
   "metadata": {},
   "outputs": [
    {
     "name": "stdout",
     "output_type": "stream",
     "text": [
      "8\n"
     ]
    }
   ],
   "source": [
    "# Project Teams\n",
    "# https://www.acmicpc.net/problem/20044\n",
    "\n",
    "n = int(input())                                # 팀의 갯수\n",
    "students = list(map(int, input().split()))      # 학생들의 역량\n",
    "students.sort()\n",
    "\n",
    "arr1, arr2 = students[:len(students)//2], students[len(students)//2:]\n",
    "arr2.sort(reverse=True)\n",
    "\n",
    "arr = []\n",
    "for i in range(len(students)//2) : \n",
    "    arr.append(arr1[i]+arr2[i])\n",
    "\n",
    "print(min(arr))"
   ]
  }
 ],
 "metadata": {
  "kernelspec": {
   "display_name": "Python 3.10.3 64-bit",
   "metadata": {
    "interpreter": {
     "hash": "98590ff4fe04c8543246b2a01debd3de3c5ca9b666f43f1fa87d5110c692004c"
    }
   },
   "name": "python3"
  },
  "language_info": {
   "codemirror_mode": {
    "name": "ipython",
    "version": 3
   },
   "file_extension": ".py",
   "mimetype": "text/x-python",
   "name": "python",
   "nbconvert_exporter": "python",
   "pygments_lexer": "ipython3",
   "version": "3.10.3"
  },
  "orig_nbformat": 2
 },
 "nbformat": 4,
 "nbformat_minor": 2
}