{
 "cells": [
  {
   "cell_type": "code",
   "execution_count": 22,
   "metadata": {},
   "outputs": [
    {
     "name": "stdout",
     "output_type": "stream",
     "text": [
      "[2, 2, 1, 4]\n"
     ]
    }
   ],
   "source": [
    "# BOJ Greedy 13164\n",
    "# 행복유치원\n",
    "\n",
    "n, k = map(int, input().split())                # n : 원생 수, k : 조의 수\n",
    "students = list(map(int, input().split()))      # 유치원생의 키\n",
    "\n",
    "costs = []\n",
    "\n",
    "for i in range(n-1) : \n",
    "    costs.append(students[i+1] - students[i])   # 학생들 간 차이를 구해서 costs에 대입\n",
    "\n",
    "costs.sort()                                    # 차이가 적은 순서대로 정렬\n",
    "\n",
    "print(sum(costs[:n-k]))                         # 0부터 n-k-1 즉 0~1의 값을 더한다."
   ]
  }
 ],
 "metadata": {
  "kernelspec": {
   "display_name": "Python 3.10.3 64-bit",
   "metadata": {
    "interpreter": {
     "hash": "98590ff4fe04c8543246b2a01debd3de3c5ca9b666f43f1fa87d5110c692004c"
    }
   },
   "name": "python3"
  },
  "language_info": {
   "codemirror_mode": {
    "name": "ipython",
    "version": 3
   },
   "file_extension": ".py",
   "mimetype": "text/x-python",
   "name": "python",
   "nbconvert_exporter": "python",
   "pygments_lexer": "ipython3",
   "version": "3.10.3"
  },
  "orig_nbformat": 2
 },
 "nbformat": 4,
 "nbformat_minor": 2
}