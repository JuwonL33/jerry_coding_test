{
 "cells": [
  {
   "cell_type": "code",
   "execution_count": 20,
   "metadata": {},
   "outputs": [
    {
     "name": "stdout",
     "output_type": "stream",
     "text": [
      "-1\n"
     ]
    }
   ],
   "source": [
    "# Greedy 16953 A->B\n",
    "# A -> B 로 바꾸는 연산의 최솟값에 1을 더한값 출력하기\n",
    "\n",
    "a, b = map(int, input().split())\n",
    "cnt = 0\n",
    "\n",
    "while a < b : \n",
    "    if b % 2 != 0 and str(b)[-1] != '1' :               # 2로 나누어 떨어지지도 않고, 마지막 글자가 1도 아닐 경우\n",
    "        break\n",
    "    elif str(b)[-1] == '1' and len(str(b)) > 1 :        # 마지막 글자가 1이고, b의 길이가 1보다 클 경우\n",
    "        tmp = str(b)\n",
    "        b = int(tmp[:len(tmp)-1])\n",
    "        cnt += 1\n",
    "    elif b % 2 == 0 :                                   # 2로 나누어 떨어지는 경우\n",
    "        b = b // 2\n",
    "        cnt += 1\n",
    "\n",
    "if a == b : print(cnt+1) else : print(-1)"
   ]
  },
  {
   "cell_type": "markdown",
   "metadata": {},
   "source": []
  }
 ],
 "metadata": {
  "kernelspec": {
   "display_name": "Python 3.10.3 64-bit",
   "metadata": {
    "interpreter": {
     "hash": "98590ff4fe04c8543246b2a01debd3de3c5ca9b666f43f1fa87d5110c692004c"
    }
   },
   "name": "python3"
  },
  "language_info": {
   "codemirror_mode": {
    "name": "ipython",
    "version": 3
   },
   "file_extension": ".py",
   "mimetype": "text/x-python",
   "name": "python",
   "nbconvert_exporter": "python",
   "pygments_lexer": "ipython3",
   "version": "3.10.3"
  },
  "orig_nbformat": 2
 },
 "nbformat": 4,
 "nbformat_minor": 2
}