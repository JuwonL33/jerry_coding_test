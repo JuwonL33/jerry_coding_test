{
 "cells": [
  {
   "cell_type": "code",
   "execution_count": 24,
   "metadata": {},
   "outputs": [
    {
     "name": "stdout",
     "output_type": "stream",
     "text": [
      "I hate UCPC\n"
     ]
    }
   ],
   "source": [
    "# Greedy 15904 UCPC는 무엇의 약자일까?\n",
    "# 답이 UCPC여야만 하는게 아니라\n",
    "# UCCPPCC U,C,P,C가 순서에 맞게 들어있으면 모두 정답처리\n",
    "\n",
    "\n",
    "n = input()         # 문자열\n",
    "\n",
    "ucpc = ['U', 'C', 'P', 'C']\n",
    "\n",
    "answer = \"\"\n",
    "\n",
    "for alpha in n : \n",
    "    if alpha.isupper() : answer += alpha            # 대문자만 모두 추리기\n",
    "\n",
    "# 대문자들이 UCPC의 순서대로 정렬되어 있는지 확인\n",
    "\n",
    "i = 0\n",
    "r = \"\"\n",
    "\n",
    "for ans in answer : \n",
    "    if r == \"UCPC\" : \n",
    "        break\n",
    "    elif ans in ucpc[i] : \n",
    "        r += ans\n",
    "        i += 1\n",
    "\n",
    "if r == \"UCPC\" : print(\"I love UCPC\")\n",
    "else : print(\"I hate UCPC\")"
   ]
  },
  {
   "cell_type": "code",
   "execution_count": 28,
   "metadata": {},
   "outputs": [
    {
     "name": "stdout",
     "output_type": "stream",
     "text": [
      "UCPC\n",
      "I love UCPC\n"
     ]
    }
   ],
   "source": [
    "n = input()\n",
    "\n",
    "ucpc = ['U', 'C', 'P', 'C']\n",
    "\n",
    "answer = \"\"\n",
    "i = 0\n",
    "\n",
    "for alpha in n :\n",
    "    if answer == \"UCPC\" : break \n",
    "    elif alpha.isupper() and alpha == ucpc[i] : \n",
    "        answer += alpha \n",
    "        i += 1\n",
    "\n",
    "if answer == \"UCPC\" : print(\"I love UCPC\")\n",
    "else : print(\"I hate UCPC\")"
   ]
  }
 ],
 "metadata": {
  "kernelspec": {
   "display_name": "Python 3.10.3 64-bit",
   "metadata": {
    "interpreter": {
     "hash": "98590ff4fe04c8543246b2a01debd3de3c5ca9b666f43f1fa87d5110c692004c"
    }
   },
   "name": "python3"
  },
  "language_info": {
   "codemirror_mode": {
    "name": "ipython",
    "version": 3
   },
   "file_extension": ".py",
   "mimetype": "text/x-python",
   "name": "python",
   "nbconvert_exporter": "python",
   "pygments_lexer": "ipython3",
   "version": "3.10.3"
  },
  "orig_nbformat": 2
 },
 "nbformat": 4,
 "nbformat_minor": 2
}