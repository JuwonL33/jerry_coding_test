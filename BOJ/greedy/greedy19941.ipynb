# 햄버거 분배
# https://www.acmicpc.net/problem/19941

n, k = map(int, input().split())
hamburgers = list(input())
result = 0

for i in range(n) : 
    if hamburgers[i] == 'P' : 
        for j in range(max(i-k, 0), min(i+k+1, n)) : 
            if hamburgers[j] == 'H' : 
                hamburgers[j] = 0
                result += 1
                break
            
print(result)
