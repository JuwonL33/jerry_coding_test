# 한조서열정리하고옴ㅋ
# https://www.acmicpc.net/problem/14659

t = int(input())
arr = list(map(int, input().split()))

idx = 0
cnt = 0
tmp = 0

while True : 
    if idx == len(arr)-1 : break
    first = arr[idx]
    compare = arr[idx+1:]
    for c in compare : 
        if first > c : tmp += 1
        else : break
    cnt = max(cnt, tmp)
    idx += 1
    tmp = 0

print(cnt)
