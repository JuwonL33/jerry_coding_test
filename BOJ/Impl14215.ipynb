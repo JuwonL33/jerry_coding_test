# 세 막대
# https://www.acmicpc.net/problem/14215

stick_list = sorted(list(map(int, input().split())))

if stick_list[2] >= stick_list[0] + stick_list[1] : print(2*(stick_list[0]+stick_list[1])-1)
else : print(sum(stick_list))
