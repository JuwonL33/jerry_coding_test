# 균형잡힌 세상
# https://www.acmicpc.net/problem/4949
# 스택

from collections import deque

while True : 
    case = input()
    stack = deque()
    
    if case == "." : break                  # case가 "." 일시 while문 종료
    
    for i in range(len(case)) : 
        if len(stack) == 0 and case[i] in [")", "]"] : # stack에 아무것도 없는데 닫는 기호가 나왔을 때, no값 출력을 위해 stack에 현재 값을 넣고 for문 종료
            stack.append(case[i])
            break
        elif case[i] in ["(", "["] :        # 여는 기호가 나왔을 때 stack에 추가
            stack.append(case[i])
        elif case[i] == ")" :               # ) 일때 stack에 마지막으로 담긴 값이 (일 경우 pop
            if stack[-1] == "(" : 
                stack.pop()
            else : stack.append(case[i])    # (값이 아닐 경우 append
        elif case[i] == "]":                # ] 일 때 stack에 마지막으로 담긴 값이 [일 경우 pop
            if stack[-1] == "[" :           
                stack.pop()
            else : stack.append(case[i])    # [값이 아닐 경우 append     
    
    if len(stack) == 0 : print("yes")       # stack에 남아있는게 없을 경우 yes 출력
    else : print("no")                      # 남은 값이 있을 경우 no 출력
