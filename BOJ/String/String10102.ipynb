# 개표
# https://www.acmicpc.net/problem/10102

V = int(input())
A, B = 0, 0
vote = input()
for a in vote : 
    if a == 'A' : A += 1
    else : B += 1
    
if A > B : print("A")
elif A < B : print("B")
else : print("Tie")
