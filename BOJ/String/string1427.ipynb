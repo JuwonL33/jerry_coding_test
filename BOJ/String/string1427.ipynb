# 소트인사이드
# https://www.acmicpc.net/problem/1427

string = list(input())
string.sort(reverse=True)
print("".join(string))
