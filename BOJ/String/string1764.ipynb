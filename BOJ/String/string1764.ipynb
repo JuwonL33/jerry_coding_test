# 듣보잡
# https://www.acmicpc.net/problem/1764

N, M = map(int, input().split())
arr1 = [ input() for _ in range(N) ]
arr2 = [ input() for _ in range(M) ]

intersection = list(set(arr1) & set(arr2))      # 듣도보도 못한 것 set 을 사용해 교집합
intersection.sort()                             # 듣보잡 명단 사전 순 정렬

print(len(intersection))                        # 듣보잡의 수
for i in range(len(intersection)) : 
    print(intersection[i])                      # 듣보잡 사전순으로 출력
