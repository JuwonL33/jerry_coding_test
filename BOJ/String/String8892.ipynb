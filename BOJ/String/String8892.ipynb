# 팰린드롬
# https://www.acmicpc.net/problem/8892
# Chat GPT의 도움을 받아 효율적으로 바꿔봄. 

def isPalindrome(word) :                                   # 팰린드롬을 판별할 수 있는 함수
    return word == word[::-1]

T = int(input())                                           # 테스트 케이스

for _ in range(T) : 
    k = int(input())                                       # 공책에 적혀져있는 단어의 수
    arr = [ input() for _ in range(k) ]                    # k개의 단어들
    result = set()                                         # 팰린드롬인 단어를 추가할 리스트
    
    for i in range(k) : 
        for j in range(i+1, k) : 
            for pair in [arr[i]+arr[j], arr[j]+arr[i]] :   # 단어들의 조합을 리스트로
                if isPalindrome(pair) : 
                    result.add(pair)
                
    if result :                                            # 팰린드롬 개수가 1개 이상이면 
        print(result.pop())                                # 아무거나 출력한다.
    else :                                                 # 팰린드롬을 만들 수 없으면
        print(0)                                           # 0을 출력 한다. 
