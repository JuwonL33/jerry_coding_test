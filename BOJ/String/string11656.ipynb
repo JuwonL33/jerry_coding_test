# 접미사 배열
# https://www.acmicpc.net/problem/11656

case = input()
arr = []
for i in range(len(case)) : arr.append(case[i:])

arr.sort()

for a in arr : print(a)
