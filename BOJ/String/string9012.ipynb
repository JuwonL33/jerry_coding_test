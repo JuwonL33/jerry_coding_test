# 괄호
# https://www.acmicpc.net/problem/9012

T = int(input())
for _ in range(T) : 
    PS = list(input())
    sum = 0
    for i in range(len(PS)) : 
        if PS[i] == '(' : sum += 1
        else : sum -= 1
        
        if sum < 0 : # ())
            print("NO")
            break
        
    if sum > 0 : # (()
        print("NO")
    elif sum == 0 : 
        print("YES")
