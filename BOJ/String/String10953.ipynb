# A+B-6
# https://www.acmicpc.net/problem/10953

T = int(input())
for _ in range(T) : 
    A, B = map(int, input().split(","))
    print(A+B)
