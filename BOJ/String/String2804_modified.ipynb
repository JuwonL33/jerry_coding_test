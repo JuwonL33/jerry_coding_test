# 크로스워드 만들기
# https://www.acmicpc.net/problem/2804
# chat 선생님의 도움을 받아 극강의 효율로 짠 코드

A, B = map(str, input().split())             # A가 가로, B가 세로

# 공통 문자 찾기
common_chars = set(A) & set(B)               # set Type

# A에서 가장 먼저 등장하는 공통 문자 찾기
find_chr = min(common_chars, key=lambda x: A.find(x))

# 인덱스 찾기
idxA, idxB = A.find(find_chr), B.find(find_chr)

# 출력
for i in range(len(B)) : 
    answer = ''
    for j in range(len(A)) : 
        if j == idxA : answer += B[i]
        elif i == idxB : answer += A[j]
        else : answer += '.'
    print(answer)
