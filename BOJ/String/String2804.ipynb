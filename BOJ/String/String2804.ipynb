# 크로스워드 만들기
# https://www.acmicpc.net/problem/2804

A, B = map(str, input().split())             # A가 가로, B가 세로
arr = list(set(A) & set(B))

min_A = len(A)
for a in arr : 
    min_A = min(A.find(a), min_A)            # A에서 가장 먼저 등장하는 글자 조건을 추가해줘야함

find_chr = A[min_A]
idxA, idxB = A.find(find_chr), B.find(find_chr)

for i in range(len(B)) : 
    answer = ''
    for j in range(len(A)) : 
        if j == idxA : 
            answer += B[i]
        elif i == idxB : 
            answer += A[j]
        else : 
            answer += '.'
    print(answer)
