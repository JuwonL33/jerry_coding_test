# 영단어 암기는 괴로워
# https://www.acmicpc.net/problem/20920

import sys

N, M = map(int, input().split())
# voca = list(sys.stdin.readline().split() for _ in range(N))
voca = list(input() for _ in range(N))
result = dict()

# 리스트에 있는 단어들을 딕셔너리에 배치
for i in range(N) : 
    if len(voca[i]) >= M : 
        if voca[i] in result : 
            result[voca[i]] += 1
        else : 
            result[voca[i]] = 1
    
# 딕셔너리를 주어진 조건에 맞게 정렬
# 1. 자주 나오는 단어일수록 앞에 배치한다.
# 2. 해당 단어의 길이가 길수록 앞에 배치한다.
# 3. 알파벳 사전 순으로 앞에 있는 단어일수록 앞에 배치한다

sorted_keys = sorted(result.keys(), key=lambda x: (-result[x], -len(x), x))
for key in sorted_keys : print(key)
