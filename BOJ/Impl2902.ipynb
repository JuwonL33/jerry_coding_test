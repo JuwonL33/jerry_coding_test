# KMP는 왜 KMP일까?
# https://www.acmicpc.net/problem/2902

arr = list(map(str, input().split('-')))
answer = ''
for i in range(len(arr)) : 
    answer += arr[i][0]

print(answer)
