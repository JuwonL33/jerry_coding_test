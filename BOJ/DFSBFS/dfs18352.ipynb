{
 "cells": [
  {
   "cell_type": "code",
   "execution_count": 2,
   "metadata": {},
   "outputs": [
    {
     "name": "stdout",
     "output_type": "stream",
     "text": [
      "4\n"
     ]
    }
   ],
   "source": [
    "# 특정 거리의 도시 찾기\n",
    "# https://www.acmicpc.net/problem/18352\n",
    "\n",
    "from collections import deque\n",
    "\n",
    "n, m, k, x = map(int, input().split())\n",
    "maps = [ [] for _ in range(n+1) ]\n",
    "\n",
    "# 도로 정보 입력 받기\n",
    "for _ in range(m) : \n",
    "    a, b = map(int, input().split())\n",
    "    maps[a].append(b)\n",
    "\n",
    "# 모든 도시에 대한 최단 거리 초기화\n",
    "distance = [-1] * (n+1)\n",
    "distance[x] = 0\n",
    "\n",
    "# bfs 수행\n",
    "q = deque([x])\n",
    "while q : \n",
    "    now = q.popleft()\n",
    "    # 현재 도시에서 이동할 수 있는 모든 도시 확인\n",
    "    for next_node in maps[now] : \n",
    "        # 방문한 적 없다면\n",
    "        if distance[next_node] == -1 : \n",
    "            # 최단거리 갱신\n",
    "            distance[next_node] = distance[now] + 1\n",
    "            q.append(next_node)\n",
    "\n",
    "# 최단 거리가 K인 모든 도시의 번호를 오름차순으로 출력\n",
    "check = False\n",
    "for i in range(1, n+1) : \n",
    "    if distance[i] == k : \n",
    "        print(i)\n",
    "        check = True\n",
    "# 만약 최단 거리가 K인 도시가 없다면, -1 출력\n",
    "if check == False : \n",
    "    print(-1)"
   ]
  }
 ],
 "metadata": {
  "kernelspec": {
   "display_name": "Python 3.10.3 64-bit",
   "metadata": {
    "interpreter": {
     "hash": "98590ff4fe04c8543246b2a01debd3de3c5ca9b666f43f1fa87d5110c692004c"
    }
   },
   "name": "python3"
  },
  "language_info": {
   "codemirror_mode": {
    "name": "ipython",
    "version": 3
   },
   "file_extension": ".py",
   "mimetype": "text/x-python",
   "name": "python",
   "nbconvert_exporter": "python",
   "pygments_lexer": "ipython3",
   "version": "3.10.3"
  },
  "orig_nbformat": 2
 },
 "nbformat": 4,
 "nbformat_minor": 2
}