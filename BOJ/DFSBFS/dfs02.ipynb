{
 "cells": [
  {
   "cell_type": "code",
   "execution_count": 17,
   "metadata": {},
   "outputs": [
    {
     "name": "stdout",
     "output_type": "stream",
     "text": [
      "2\n"
     ]
    }
   ],
   "source": [
    "# 유기농 배추\n",
    "\n",
    "from collections import deque\n",
    "\n",
    "n = int(input())                        # 실행할 케이스 수\n",
    "\n",
    "dx = [0, 0, 1, -1]\n",
    "dy = [1, -1, 0, 0]\n",
    "\n",
    "    \n",
    "def bfs(maps, a, b) : \n",
    "    queue = deque()\n",
    "    queue.append((a,b))\n",
    "    maps[a][b] = 0\n",
    "\n",
    "    while queue : \n",
    "        x, y = queue.popleft()\n",
    "        for i in range(4) : \n",
    "            nx = x + dx[i]\n",
    "            ny = y + dy[i]\n",
    "            if nx < 0 or nx >= w or ny < 0 or ny >= h : continue\n",
    "\n",
    "            if maps[nx][ny] == 1 : \n",
    "                maps[nx][ny] = 0 \n",
    "                queue.append((nx, ny))\n",
    "    return\n",
    "\n",
    "\n",
    "for _ in range(n) : \n",
    "    cnt = 0\n",
    "    w, h, k = map(int,input().split())      # 가로, 세로, 배추가 심어진 위치 개수\n",
    "    maps = [[0] * h for _ in range(w)]\n",
    "\n",
    "    for _ in range(k) : \n",
    "        a, b = map(int, input().split())\n",
    "        maps[a][b] = 1\n",
    "\n",
    "    for a in range(w) : \n",
    "        for b in range(h) : \n",
    "            if maps[a][b] == 1 : \n",
    "                bfs(maps, a, b)\n",
    "                cnt += 1\n",
    "    print(cnt)\n",
    "\n",
    "\n",
    "\n"
   ]
  },
  {
   "cell_type": "code",
   "execution_count": 16,
   "metadata": {},
   "outputs": [
    {
     "name": "stdout",
     "output_type": "stream",
     "text": [
      "2\n"
     ]
    }
   ],
   "source": [
    "from collections import deque\n",
    "\n",
    "dx = [0,0,1,-1]\n",
    "dy = [1,-1,0,0]\n",
    "\n",
    "t = int(input())\n",
    "\n",
    "def bfs(graph, a, b):\n",
    "    queue = deque()\n",
    "    queue.append((a,b))\n",
    "    graph[a][b] = 0\n",
    "\n",
    "    while queue:\n",
    "        x, y = queue.popleft()\n",
    "        for i in range(4):\n",
    "            nx = x+dx[i]\n",
    "            ny = y+dy[i]\n",
    "            if nx < 0 or nx >=n or ny < 0 or ny >= m:\n",
    "                continue\n",
    "            if graph[nx][ny] == 1:\n",
    "                graph[nx][ny] = 0\n",
    "                queue.append((nx, ny))\n",
    "    return\n",
    "\n",
    "for i in range(t):\n",
    "    cnt = 0\n",
    "    n, m, k = map(int,input().split())\n",
    "    graph = [[0]*m for _ in range(n)]\n",
    "\n",
    "    for j in range(k):\n",
    "        x, y = map(int, input().split())\n",
    "        graph[x][y] = 1\n",
    "\n",
    "    for a in range(n):\n",
    "        for b in range(m):\n",
    "            if graph[a][b] == 1:\n",
    "                bfs(graph, a, b)\n",
    "                cnt += 1\n",
    "    print(cnt)"
   ]
  }
 ],
 "metadata": {
  "kernelspec": {
   "display_name": "Python 3.10.3 64-bit",
   "metadata": {
    "interpreter": {
     "hash": "98590ff4fe04c8543246b2a01debd3de3c5ca9b666f43f1fa87d5110c692004c"
    }
   },
   "name": "python3"
  },
  "language_info": {
   "codemirror_mode": {
    "name": "ipython",
    "version": 3
   },
   "file_extension": ".py",
   "mimetype": "text/x-python",
   "name": "python",
   "nbconvert_exporter": "python",
   "pygments_lexer": "ipython3",
   "version": "3.10.3-final"
  },
  "orig_nbformat": 2
 },
 "nbformat": 4,
 "nbformat_minor": 2
}