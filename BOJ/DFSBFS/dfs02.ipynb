{
 "cells": [
  {
   "cell_type": "code",
   "execution_count": 15,
   "metadata": {},
   "outputs": [
    {
     "ename": "ValueError",
     "evalue": "invalid literal for int() with base 10: ''",
     "output_type": "error",
     "traceback": [
      "\u001b[0;31m---------------------------------------------------------------------------\u001b[0m",
      "\u001b[0;31mValueError\u001b[0m                                Traceback (most recent call last)",
      "Input \u001b[0;32mIn [15]\u001b[0m, in \u001b[0;36m<cell line: 5>\u001b[0;34m()\u001b[0m\n\u001b[1;32m      1\u001b[0m \u001b[38;5;66;03m# 유기농 배추\u001b[39;00m\n\u001b[1;32m      3\u001b[0m \u001b[38;5;28;01mfrom\u001b[39;00m \u001b[38;5;21;01mcollections\u001b[39;00m \u001b[38;5;28;01mimport\u001b[39;00m deque\n\u001b[0;32m----> 5\u001b[0m n \u001b[38;5;241m=\u001b[39m \u001b[38;5;28;43mint\u001b[39;49m\u001b[43m(\u001b[49m\u001b[38;5;28;43minput\u001b[39;49m\u001b[43m(\u001b[49m\u001b[43m)\u001b[49m\u001b[43m)\u001b[49m                        \u001b[38;5;66;03m# 실행할 케이스 수\u001b[39;00m\n\u001b[1;32m      7\u001b[0m dx \u001b[38;5;241m=\u001b[39m [\u001b[38;5;241m0\u001b[39m, \u001b[38;5;241m0\u001b[39m, \u001b[38;5;241m1\u001b[39m, \u001b[38;5;241m-\u001b[39m\u001b[38;5;241m1\u001b[39m]\n\u001b[1;32m      8\u001b[0m dy \u001b[38;5;241m=\u001b[39m [\u001b[38;5;241m1\u001b[39m, \u001b[38;5;241m-\u001b[39m\u001b[38;5;241m1\u001b[39m, \u001b[38;5;241m0\u001b[39m, \u001b[38;5;241m0\u001b[39m]\n",
      "\u001b[0;31mValueError\u001b[0m: invalid literal for int() with base 10: ''"
     ]
    }
   ],
   "source": [
    "# 유기농 배추\n",
    "\n",
    "from collections import deque\n",
    "\n",
    "n = int(input())                        # 실행할 케이스 수\n",
    "\n",
    "dx = [0, 0, 1, -1]\n",
    "dy = [1, -1, 0, 0]\n",
    "\n",
    "    \n",
    "def bfs(maps, a, b) : \n",
    "    queue = deque()\n",
    "    queue.append((a,b))\n",
    "    maps[a][b] = 0\n",
    "\n",
    "    while queue : \n",
    "        x, y = queue.popleft()\n",
    "        for i in range(4) : \n",
    "            nx = x + dx[i]\n",
    "            ny = y + dy[i]\n",
    "            if nx < 0 or nx >= w or ny < 0 or ny >= h : continue\n",
    "\n",
    "            if maps[nx][ny] == 1 : \n",
    "                maps[nx][ny] = 0 \n",
    "                queue.append((nx, ny))\n",
    "    return\n",
    "\n",
    "\n",
    "for _ in range(n) : \n",
    "    cnt = 0\n",
    "    w, h, k = map(int,input().split())      # 가로, 세로, 배추가 심어진 위치 개수\n",
    "    maps = [[0] * h for _ in range(w)]\n",
    "\n",
    "    for _ in range(k) : \n",
    "        a, b = map(int, input().split())\n",
    "        maps[a][b] = 1\n",
    "\n",
    "    for a in range(w) : \n",
    "        for b in range(h) : \n",
    "            if maps[a][b] == 1 : \n",
    "                bfs(maps, a, b)\n",
    "                cnt += 1\n",
    "    print(cnt)\n",
    "\n",
    "\n",
    "\n"
   ]
  },
  {
   "cell_type": "code",
   "execution_count": 16,
   "metadata": {},
   "outputs": [
    {
     "name": "stdout",
     "output_type": "stream",
     "text": [
      "2\n"
     ]
    }
   ],
   "source": [
    "from collections import deque\n",
    "\n",
    "dx = [0,0,1,-1]\n",
    "dy = [1,-1,0,0]\n",
    "\n",
    "t = int(input())\n",
    "\n",
    "def bfs(graph, a, b):\n",
    "    queue = deque()\n",
    "    queue.append((a,b))\n",
    "    graph[a][b] = 0\n",
    "\n",
    "    while queue:\n",
    "        x, y = queue.popleft()\n",
    "        for i in range(4):\n",
    "            nx = x+dx[i]\n",
    "            ny = y+dy[i]\n",
    "            if nx < 0 or nx >=n or ny < 0 or ny >= m:\n",
    "                continue\n",
    "            if graph[nx][ny] == 1:\n",
    "                graph[nx][ny] = 0\n",
    "                queue.append((nx, ny))\n",
    "    return\n",
    "\n",
    "for i in range(t):\n",
    "    cnt = 0\n",
    "    n, m, k = map(int,input().split())\n",
    "    graph = [[0]*m for _ in range(n)]\n",
    "\n",
    "    for j in range(k):\n",
    "        x, y = map(int, input().split())\n",
    "        graph[x][y] = 1\n",
    "\n",
    "    for a in range(n):\n",
    "        for b in range(m):\n",
    "            if graph[a][b] == 1:\n",
    "                bfs(graph, a, b)\n",
    "                cnt += 1\n",
    "    print(cnt)"
   ]
  }
 ],
 "metadata": {
  "kernelspec": {
   "display_name": "Python 3.10.3 64-bit",
   "metadata": {
    "interpreter": {
     "hash": "98590ff4fe04c8543246b2a01debd3de3c5ca9b666f43f1fa87d5110c692004c"
    }
   },
   "name": "python3"
  },
  "language_info": {
   "codemirror_mode": {
    "name": "ipython",
    "version": 3
   },
   "file_extension": ".py",
   "mimetype": "text/x-python",
   "name": "python",
   "nbconvert_exporter": "python",
   "pygments_lexer": "ipython3",
   "version": "3.10.3"
  },
  "orig_nbformat": 2
 },
 "nbformat": 4,
 "nbformat_minor": 2
}