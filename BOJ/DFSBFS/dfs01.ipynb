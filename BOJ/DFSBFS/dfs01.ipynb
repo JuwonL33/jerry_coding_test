{
 "cells": [
  {
   "cell_type": "code",
   "execution_count": 26,
   "metadata": {},
   "outputs": [
    {
     "name": "stdout",
     "output_type": "stream",
     "text": [
      "1 2 4 3 \n",
      "1 2 3 4 "
     ]
    }
   ],
   "source": [
    "# DFS/BFS\n",
    "# DFS로 탐색한 결과를 BFS로도 출력하기\n",
    "\n",
    "from collections import deque\n",
    "\n",
    "n, m, v = map(int, input().split())\n",
    "\n",
    "maps = [[0] * (n+1) for _ in range(n+1)]\n",
    "\n",
    "for _ in range(m) : \n",
    "    a, b = map(int, input().split())\n",
    "    maps[a][b] = maps[b][a] = 1\n",
    "\n",
    "def dfs(maps, v, visited1) : \n",
    "    visited1[v] = True\n",
    "    print(v, end = ' ')\n",
    "    for i in range(1, n+1) : \n",
    "        if visited1[i] == False and maps[v][i] == 1 : \n",
    "            dfs(maps, i, visited1)\n",
    "\n",
    "def bfs(maps, v, visited) : \n",
    "    visited[v] = True\n",
    "\n",
    "    queue = deque()\n",
    "    queue.append(v)\n",
    "\n",
    "    while queue : \n",
    "        v = queue.popleft()\n",
    "        print(v, end= ' ')\n",
    "        for i in range(1, n+1) : \n",
    "            if visited[i] == False and maps[v][i] == 1: \n",
    "                queue.append(i)\n",
    "                visited[i] = True\n",
    "\n",
    "\n",
    "visited1 = [False] * (n+1)\n",
    "visited2 = [False] * (n+1)\n",
    "\n",
    "dfs(maps, v, visited1)\n",
    "print()\n",
    "bfs(maps, v, visited2)"
   ]
  }
 ],
 "metadata": {
  "kernelspec": {
   "display_name": "Python 3.10.3 64-bit",
   "metadata": {
    "interpreter": {
     "hash": "98590ff4fe04c8543246b2a01debd3de3c5ca9b666f43f1fa87d5110c692004c"
    }
   },
   "name": "python3"
  },
  "language_info": {
   "codemirror_mode": {
    "name": "ipython",
    "version": 3
   },
   "file_extension": ".py",
   "mimetype": "text/x-python",
   "name": "python",
   "nbconvert_exporter": "python",
   "pygments_lexer": "ipython3",
   "version": "3.10.3"
  },
  "orig_nbformat": 2
 },
 "nbformat": 4,
 "nbformat_minor": 2
}