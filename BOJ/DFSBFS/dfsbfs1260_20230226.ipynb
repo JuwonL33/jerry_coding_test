{
 "cells": [
  {
   "cell_type": "code",
   "execution_count": 7,
   "metadata": {},
   "outputs": [
    {
     "name": "stdout",
     "output_type": "stream",
     "text": [
      "1 2 4 3 \n",
      "1 2 3 4 "
     ]
    }
   ],
   "source": [
    "# DFS와 BFS\n",
    "# https://www.acmicpc.net/problem/1260\n",
    "\n",
    "from collections import deque\n",
    "\n",
    "vendor, edge, start = map(int, input().split())\n",
    "\n",
    "maps = [ [0] * (vendor + 1) for _ in range(vendor + 1) ]\n",
    "\n",
    "for _ in range(edge) :\n",
    "    a, b = map(int, input().split())\n",
    "    maps[a][b] = maps[b][a] = 1\n",
    "\n",
    "def dfs(maps, visited_dfs, start) : \n",
    "    visited_dfs[start] = True\n",
    "    print(start, end = ' ')\n",
    "    \n",
    "    for i in range(1, vendor+1) : \n",
    "        if visited_dfs[i] == False and maps[start][i] == 1 : \n",
    "            dfs(maps, visited_dfs, i)\n",
    "def bfs(maps, visited_bfs, start) : \n",
    "    visited_bfs[start] = True\n",
    "    queue = deque()\n",
    "    queue.append(start)\n",
    "\n",
    "    while queue : \n",
    "        start = queue.popleft()\n",
    "        print(start, end = ' ')\n",
    "        for i in range(1, vendor + 1) : \n",
    "            if visited_bfs[i] == False and maps[start][i] == 1 : \n",
    "                visited_bfs[i] = True\n",
    "                queue.append(i)\n",
    "\n",
    "\n",
    "visited_dfs = [False] * (vendor+1)\n",
    "visited_bfs = [False] * (vendor+1)\n",
    "\n",
    "dfs(maps, visited_dfs, start)\n",
    "print()\n",
    "bfs(maps, visited_bfs, start)"
   ]
  }
 ],
 "metadata": {
  "kernelspec": {
   "display_name": "Python 3.10.3 64-bit",
   "metadata": {
    "interpreter": {
     "hash": "98590ff4fe04c8543246b2a01debd3de3c5ca9b666f43f1fa87d5110c692004c"
    }
   },
   "name": "python3"
  },
  "language_info": {
   "codemirror_mode": {
    "name": "ipython",
    "version": 3
   },
   "file_extension": ".py",
   "mimetype": "text/x-python",
   "name": "python",
   "nbconvert_exporter": "python",
   "pygments_lexer": "ipython3",
   "version": "3.10.3"
  },
  "orig_nbformat": 2
 },
 "nbformat": 4,
 "nbformat_minor": 2
}