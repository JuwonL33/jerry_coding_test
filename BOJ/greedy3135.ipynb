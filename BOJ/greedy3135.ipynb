{
 "cells": [
  {
   "cell_type": "code",
   "execution_count": 46,
   "metadata": {},
   "outputs": [
    {
     "name": "stdout",
     "output_type": "stream",
     "text": [
      "2\n"
     ]
    }
   ],
   "source": [
    "# 3135 라디오\n",
    "\n",
    "cur, des = map(int, input().split())        # cur : 현재 위치, des : 목표 위치\n",
    "n = int(input())\n",
    "arr = []\n",
    "\n",
    "INF = int(1e9)\n",
    "\n",
    "for _ in range(n) : \n",
    "    arr.append(int(input()))\n",
    "\n",
    "count = 0                                   # 눌러야 하는 버튼 횟수\n",
    "tmp = []\n",
    "\n",
    "for i in range(len(arr)) : tmp.append(abs(des-arr[i]))\n",
    "\n",
    "\n",
    "print(min(abs(cur-des), min(tmp)+1))"
   ]
  },
  {
   "cell_type": "markdown",
   "metadata": {},
   "source": []
  }
 ],
 "metadata": {
  "kernelspec": {
   "display_name": "Python 3.10.3 64-bit",
   "metadata": {
    "interpreter": {
     "hash": "98590ff4fe04c8543246b2a01debd3de3c5ca9b666f43f1fa87d5110c692004c"
    }
   },
   "name": "python3"
  },
  "language_info": {
   "codemirror_mode": {
    "name": "ipython",
    "version": 3
   },
   "file_extension": ".py",
   "mimetype": "text/x-python",
   "name": "python",
   "nbconvert_exporter": "python",
   "pygments_lexer": "ipython3",
   "version": "3.10.3"
  },
  "orig_nbformat": 2
 },
 "nbformat": 4,
 "nbformat_minor": 2
}