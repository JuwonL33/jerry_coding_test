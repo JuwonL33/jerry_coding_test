# 최대 상승
# https://www.acmicpc.net/problem/25644

n = int(input())
arr = list(map(int, input().split()))
max_val, result = 0, 0

for i in range(n-1, -1, -1) : 
    max_val = max(max_val, arr[i])
    result = max(result, max_val - arr[i])
    
print(result)
