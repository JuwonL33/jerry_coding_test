# 한수
# https://www.acmicpc.net/problem/1065
n = int(input())
cnt = 0                     # 한수의 개수
for i in range(1, n+1) : 
    tmp = list(map(int, str(i)))
    if i < 100 : 
        cnt += 1
    elif tmp[0]-tmp[1] == tmp[1]-tmp[2] : 
        cnt += 1
print(cnt)
