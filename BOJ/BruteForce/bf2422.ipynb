{
 "cells": [
  {
   "cell_type": "code",
   "execution_count": 45,
   "metadata": {},
   "outputs": [
    {
     "name": "stdout",
     "output_type": "stream",
     "text": [
      "3\n"
     ]
    }
   ],
   "source": [
    "# 한윤정이 이탈리아에 가서 아이스크림을 사먹는데\n",
    "# https://www.acmicpc.net/problem/2422\n",
    "\n",
    "from itertools import combinations\n",
    "\n",
    "n, m = map(int, input().split())\n",
    "\n",
    "ice = [[False] * n for _ in range(n)] \n",
    "\n",
    "\n",
    "for i in range(m) : \n",
    "    i1, i2 = map(int ,input().split())\n",
    "    ice[i1-1][i2-1] = True\n",
    "    ice[i2-1][i1-1] = True\n",
    "\n",
    "cnt = 0\n",
    "\n",
    "for i in combinations(range(n), 3) : \n",
    "    if ice[i[0]][i[1]] or ice[i[1]][i[2]] or ice[i[0]][i[2]] : continue\n",
    "    cnt += 1\n",
    "\n",
    "print(cnt)"
   ]
  }
 ],
 "metadata": {
  "kernelspec": {
   "display_name": "Python 3.10.3 64-bit",
   "metadata": {
    "interpreter": {
     "hash": "98590ff4fe04c8543246b2a01debd3de3c5ca9b666f43f1fa87d5110c692004c"
    }
   },
   "name": "python3"
  },
  "language_info": {
   "codemirror_mode": {
    "name": "ipython",
    "version": 3
   },
   "file_extension": ".py",
   "mimetype": "text/x-python",
   "name": "python",
   "nbconvert_exporter": "python",
   "pygments_lexer": "ipython3",
   "version": "3.10.3"
  },
  "orig_nbformat": 2
 },
 "nbformat": 4,
 "nbformat_minor": 2
}