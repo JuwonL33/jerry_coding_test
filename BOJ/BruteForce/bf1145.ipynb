# 적어도 대부분의 배수
# https://www.acmicpc.net/problem/1145
# 예시 : 1 2 3 4 5

arr = list(map(int, input().split()))
n = min(arr)

while True : 
    cnt = 0
    for i in range(len(arr)) : 
        if n % arr[i] == 0 : 
            cnt += 1
    if cnt > 2 : 
        print(n)
        break
    n += 1
