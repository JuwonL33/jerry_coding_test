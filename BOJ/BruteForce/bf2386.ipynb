# 도비의 영어 공부
# https://www.acmicpc.net/problem/2386

while True : 
    trial = input().split()
    if len(trial) > 1 : 
        sentence = ""
        for i in range(1, len(trial)) : sentence += trial[i].lower()
    if trial[0] == '#' : 
        break
    cnt = sentence.count(trial[0])
    print(trial[0], cnt)
