# Farm
# https://www.acmicpc.net/problem/16283

a, b, n, w = map(int, input().split())
a_, b_ = 0, 0
arr = []

for i in range(1, n+1) : 
    a_ = i
    b_ = n-i
    if (a_*a) + (b_*b) == w and (a_ > 0 and b_ > 0) :
        arr.append((a_, b_))

if len(arr) == 1 : 
    print(arr[0][0], arr[0][1])
else : 
    print(-1)
