{
 "cells": [
  {
   "cell_type": "code",
   "execution_count": 39,
   "metadata": {},
   "outputs": [
    {
     "name": "stdout",
     "output_type": "stream",
     "text": [
      "5\n"
     ]
    }
   ],
   "source": [
    "# 짐 챙기는 숌\n",
    "# https://www.acmicpc.net/problem/1817\n",
    "\n",
    "n, m = map(int, input().split())\n",
    "\n",
    "if n == 0 : cnt = 0\n",
    "else : \n",
    "    books_weight = list(map(int, input().split()))\n",
    "    cnt = 1                                             # 박스의 개수\n",
    "    tmp = 0\n",
    "    for i in range(n-1, -1, -1) : \n",
    "        tmp += books_weight[i]\n",
    "        if tmp > m :\n",
    "            tmp = books_weight[i]                       # 0이 아니라 해당 책의 무게로 초기화\n",
    "            cnt += 1\n",
    "\n",
    "print(cnt)"
   ]
  },
  {
   "cell_type": "code",
   "execution_count": 43,
   "metadata": {},
   "outputs": [
    {
     "name": "stdout",
     "output_type": "stream",
     "text": [
      "0\n"
     ]
    }
   ],
   "source": [
    "# 짐 챙기는 숌\n",
    "# https://www.acmicpc.net/problem/1817\n",
    "\n",
    "n, m = map(int, input().split())\n",
    "\n",
    "if n == 0 : cnt = 0\n",
    "else : \n",
    "    books_weight = list(map(int, input().split()))\n",
    "    cnt = 1                                             # 박스의 개수는 1로 초기화\n",
    "    tmp = 0\n",
    "    for i in range(n) : \n",
    "        tmp += books_weight[i]\n",
    "        if tmp > m :\n",
    "            tmp = books_weight[i]                       # 0이 아니라 해당 책의 무게로 초기화\n",
    "            cnt += 1\n",
    "\n",
    "print(cnt)"
   ]
  },
  {
   "cell_type": "code",
   "execution_count": null,
   "metadata": {},
   "outputs": [],
   "source": []
  }
 ],
 "metadata": {
  "kernelspec": {
   "display_name": "Python 3.10.3 64-bit",
   "metadata": {
    "interpreter": {
     "hash": "98590ff4fe04c8543246b2a01debd3de3c5ca9b666f43f1fa87d5110c692004c"
    }
   },
   "name": "python3"
  },
  "language_info": {
   "codemirror_mode": {
    "name": "ipython",
    "version": 3
   },
   "file_extension": ".py",
   "mimetype": "text/x-python",
   "name": "python",
   "nbconvert_exporter": "python",
   "pygments_lexer": "ipython3",
   "version": "3.10.3"
  },
  "orig_nbformat": 2
 },
 "nbformat": 4,
 "nbformat_minor": 2
}