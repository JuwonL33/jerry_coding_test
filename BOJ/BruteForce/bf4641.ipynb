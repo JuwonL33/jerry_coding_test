# Doubles
# https://www.acmicpc.net/problem/4641

while True : 
    arr = list(map(int, input().split()))
    if len(arr) == 1 and arr[0] == -1 : break
    cnt = 0
    for i in range(len(arr)) : 
        if arr[i] == 0 : continue
        cnt += arr.count((arr[i]*2))
    print(cnt)
