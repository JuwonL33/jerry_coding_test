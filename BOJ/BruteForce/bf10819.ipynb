# 차이를 최대로
# https://www.acmicpc.net/problem/10819

from itertools import permutations

n = int(input())
arr = list(map(int, input().split()))
sub_arr = []
for i in permutations(arr, n) : 
    tmp = 0
    for j in range(n-1, 0, -1) : 
        tmp += abs(i[j]-i[j-1]) 
    sub_arr.append(tmp)
        
print(max(sub_arr))
