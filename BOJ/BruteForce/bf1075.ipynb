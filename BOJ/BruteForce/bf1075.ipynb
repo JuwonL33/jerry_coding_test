# 나누기
# https://www.acmicpc.net/problem/1075

n = input()
f = int(input())

change_n = int(n[:-2]+'00')

while True : 
    if change_n % f == 0 : 
        break
    change_n += 1

print(str(change_n)[-2:])
