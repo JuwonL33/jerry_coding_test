# 희주의 수학시험
# https://www.acmicpc.net/problem/8974

a, b = map(int, input().split())
arr = []

for i in range(1, b+1) : 
    if len(arr) < b : 
        for _ in range(i) : 
            arr.append(i)
print(sum(arr[a-1:b]))
