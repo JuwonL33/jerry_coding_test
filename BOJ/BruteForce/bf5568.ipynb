# 카드 놓기
# https://www.acmicpc.net/problem/5568

from itertools import *

n = int(input())
k = int(input())
arr = [ int(input()) for _ in range(n) ]

tmp = []                                    # 만들 수 있는 수 조합을 담을 리스트
for com in permutations(arr, k) : 
    tmp_val = ""
    for j in range(len(com)) : 
        tmp_val += str(com[j])
        
    if tmp_val not in tmp : tmp.append(tmp_val)

print(len(tmp))
