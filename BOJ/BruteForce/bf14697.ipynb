# 방 배정하기
# https://www.acmicpc.net/problem/14697

a, b, c, total = map(int, input().split())
answer = 0
for i in range(total) : 
    for j in range(total) :
        for k in range(total) : 
            if a*i + b*j + c*k == total : 
                answer = 1
                break
            else : 
                break
    
print(answer)
