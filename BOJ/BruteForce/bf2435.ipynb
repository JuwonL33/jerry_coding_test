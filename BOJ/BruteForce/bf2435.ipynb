# 기상청 인턴 신현수
# https://www.acmicpc.net/problem/2435

n, k = map(int, input().split())
arr = list(map(int, input().split()))
tmp = []

for i in range(n-k+1) : 
    sum = 0
    for j in range(i, i+k) : 
        sum += arr[j]
    tmp.append(sum)
    
print(max(tmp))
