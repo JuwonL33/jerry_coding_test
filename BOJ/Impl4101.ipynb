# 크냐?
# https://www.acmicpc.net/problem/4101
while True :
    a, b = map(int, input().split())
    if a == 0 and b == 0 : 
        break
    else : 
        if a > b : 
            print('Yes')
        else : 
            print('No')
