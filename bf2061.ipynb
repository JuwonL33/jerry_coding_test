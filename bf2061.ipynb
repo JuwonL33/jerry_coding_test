# 좋은 암호
# https://www.acmicpc.net/problem/2061

from itertools import *

k, l = map(int, input().split())
for i in range(2,int(l)):
    if(int(k) % i == 0):
        print("BAD", i)
        exit()
        
print("GOOD")
