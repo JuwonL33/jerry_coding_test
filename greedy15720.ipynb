# 카우버거
# https://www.acmicpc.net/problem/15720

b, c, d = map(int, input().split())

hamburger = list(map(int, input().split()))
side = list(map(int, input().split()))
beverage = list(map(int, input().split()))

hamburger.sort(reverse=True)
side.sort(reverse=True)
beverage.sort(reverse=True)

result = 0
for i in range(min(b, c, d)) : 
    result += (hamburger[i] + side[i] + beverage[i]) * 0.9
    
result += sum(hamburger[min(b, c, d)::])
result += sum(side[min(b, c, d)::])
result += sum(beverage[min(b, c, d)::])
    
print(sum(hamburger)+sum(side)+sum(beverage))
print(int(result))
