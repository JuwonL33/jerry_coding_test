# 없는 숫자 더하기
# https://school.programmers.co.kr/learn/courses/30/lessons/86051

def solution(numbers):
    arr = [0,1,2,3,4,5,6,7,8,9]
    answer = sum(list(set(arr)-set(numbers)))
    return answer

print(solution([1,2,3,4,6,7,8,0]))
print(solution([5,8,4,0,6,7,9]))
