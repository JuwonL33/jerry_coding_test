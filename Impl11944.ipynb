# NN
# https://www.acmicpc.net/problem/11944

n, m = map(str, input().split())
string = n*int(n)
print(string[:min(len(string), int(m))])
