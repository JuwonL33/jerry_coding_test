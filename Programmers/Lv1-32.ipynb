{
 "cells": [
  {
   "cell_type": "code",
   "execution_count": 48,
   "metadata": {},
   "outputs": [
    {
     "ename": "TypeError",
     "evalue": "unhashable type: 'list'",
     "output_type": "error",
     "traceback": [
      "\u001b[0;31m---------------------------------------------------------------------------\u001b[0m",
      "\u001b[0;31mTypeError\u001b[0m                                 Traceback (most recent call last)",
      "Input \u001b[0;32mIn [48]\u001b[0m, in \u001b[0;36m<cell line: 29>\u001b[0;34m()\u001b[0m\n\u001b[1;32m     23\u001b[0m     \u001b[38;5;28;01mreturn\u001b[39;00m \u001b[38;5;28;01mTrue\u001b[39;00m\n\u001b[1;32m     28\u001b[0m \u001b[38;5;66;03m# solution([1,2,3,4])\u001b[39;00m\n\u001b[0;32m---> 29\u001b[0m \u001b[43msolution\u001b[49m\u001b[43m(\u001b[49m\u001b[43m[\u001b[49m\u001b[38;5;241;43m1\u001b[39;49m\u001b[43m,\u001b[49m\u001b[38;5;241;43m2\u001b[39;49m\u001b[43m,\u001b[49m\u001b[38;5;241;43m7\u001b[39;49m\u001b[43m,\u001b[49m\u001b[38;5;241;43m6\u001b[39;49m\u001b[43m,\u001b[49m\u001b[38;5;241;43m4\u001b[39;49m\u001b[43m]\u001b[49m\u001b[43m)\u001b[49m\n",
      "Input \u001b[0;32mIn [48]\u001b[0m, in \u001b[0;36msolution\u001b[0;34m(nums)\u001b[0m\n\u001b[1;32m      7\u001b[0m new_arr \u001b[38;5;241m=\u001b[39m \u001b[38;5;28mset\u001b[39m()\n\u001b[1;32m      8\u001b[0m \u001b[38;5;28;01mfor\u001b[39;00m i \u001b[38;5;129;01min\u001b[39;00m permutations(nums, \u001b[38;5;241m3\u001b[39m) : \n\u001b[0;32m----> 9\u001b[0m     \u001b[43mnew_arr\u001b[49m\u001b[38;5;241;43m.\u001b[39;49m\u001b[43madd\u001b[49m\u001b[43m(\u001b[49m\u001b[43m[\u001b[49m\u001b[43mi\u001b[49m\u001b[43m]\u001b[49m\u001b[43m)\u001b[49m\n\u001b[1;32m     11\u001b[0m \u001b[38;5;28;01mfor\u001b[39;00m arr \u001b[38;5;129;01min\u001b[39;00m new_arr : \n\u001b[1;32m     12\u001b[0m     \u001b[38;5;28;01mif\u001b[39;00m isPrime(\u001b[38;5;28msum\u001b[39m(arr)) \u001b[38;5;129;01mand\u001b[39;00m arr\u001b[38;5;241m.\u001b[39msort() \u001b[38;5;129;01mnot\u001b[39;00m \u001b[38;5;129;01min\u001b[39;00m answer : \n",
      "\u001b[0;31mTypeError\u001b[0m: unhashable type: 'list'"
     ]
    }
   ],
   "source": [
    "# 소수 만들기\n",
    "# 중복되는 경우의 수도 허용해야 함\n",
    "from itertools import permutations\n",
    "\n",
    "def solution(nums):\n",
    "    answer = []\n",
    "    new_arr = set()\n",
    "    for i in permutations(nums, 3) : \n",
    "        new_arr.add([i])\n",
    "\n",
    "    for arr in new_arr : \n",
    "        if isPrime(sum(arr)) and arr.sort() not in answer : \n",
    "            answer.append(arr)\n",
    "\n",
    "    return len(answer)\n",
    "\n",
    "def isPrime(num) : \n",
    "    if num < 2 : return False\n",
    "    \n",
    "    for i in range(2, int(num ** 0.5)+1) : \n",
    "        if num % i == 0 : \n",
    "            return False\n",
    "    return True\n",
    "\n",
    "        \n",
    "\n",
    "\n",
    "# solution([1,2,3,4])\n",
    "solution([1,2,7,6,4])"
   ]
  },
  {
   "cell_type": "code",
   "execution_count": 57,
   "metadata": {},
   "outputs": [
    {
     "data": {
      "text/plain": "1"
     },
     "execution_count": 57,
     "metadata": {},
     "output_type": "execute_result"
    }
   ],
   "source": [
    "# 소수 만들기\n",
    "from itertools import combinations\n",
    "\n",
    "def solution(nums):\n",
    "    answer = 0\n",
    "\n",
    "    all_nums = list(map(sum, combinations(nums, 3)))\n",
    "\n",
    "\n",
    "    for num in all_nums : \n",
    "        if num < 2 : continue\n",
    "        check = True\n",
    "        for i in range(2, int(num ** 0.5)+1) : \n",
    "            if num % i == 0 :\n",
    "                check = False\n",
    "                break\n",
    "        if check : answer += 1\n",
    "    \n",
    "    return answer\n",
    "\n",
    "\n",
    "solution([1,2,3,4])\n",
    "# solution([1,2,7,6,4])"
   ]
  }
 ],
 "metadata": {
  "kernelspec": {
   "display_name": "Python 3.10.3 64-bit",
   "metadata": {
    "interpreter": {
     "hash": "98590ff4fe04c8543246b2a01debd3de3c5ca9b666f43f1fa87d5110c692004c"
    }
   },
   "name": "python3"
  },
  "language_info": {
   "codemirror_mode": {
    "name": "ipython",
    "version": 3
   },
   "file_extension": ".py",
   "mimetype": "text/x-python",
   "name": "python",
   "nbconvert_exporter": "python",
   "pygments_lexer": "ipython3",
   "version": "3.10.3"
  },
  "orig_nbformat": 2
 },
 "nbformat": 4,
 "nbformat_minor": 2
}