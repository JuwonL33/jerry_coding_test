{
 "cells": [
  {
   "cell_type": "code",
   "execution_count": 11,
   "metadata": {},
   "outputs": [
    {
     "data": {
      "text/plain": "2"
     },
     "execution_count": 11,
     "metadata": {},
     "output_type": "execute_result"
    }
   ],
   "source": [
    "# 체육복\n",
    "\n",
    "def solution(n, lost, reserve):\n",
    "    ans_arr = [ i for i in range(1, n+1) ]\n",
    "\n",
    "    for i in range(len(lost)) : \n",
    "        if (lost[i]+1) in reserve : \n",
    "            reserve.remove(lost[i]+1)\n",
    "        elif (lost[i]-1) in reserve : \n",
    "            reserve.remove(lost[i]-1)\n",
    "        elif (lost[i]+1) not in reserve and (lost[i]-1) not in reserve : \n",
    "            ans_arr.remove(lost[i])     # remove 값으로 삭제\n",
    "    return len(ans_arr)\n",
    "\n",
    "# solution(5,[2, 4],[1, 3, 5])\n",
    "# solution(5,[2, 4],[3])\n",
    "solution(3,[3],[1])\n"
   ]
  },
  {
   "cell_type": "code",
   "execution_count": null,
   "metadata": {},
   "outputs": [],
   "source": [
    "def solution(n, lost, reserve):\n",
    "    # 1. Set을 만든다\n",
    "    _reserve = list(set(reserve) - set(lost))\n",
    "    _lost = list(set(lost) - set(reserve))\n",
    "    _reserve.sort();\n",
    "    \n",
    "    for r in _reserve:\n",
    "        f = reserve - 1\n",
    "        b = reserve + 1\n",
    "        if f in _lost:\n",
    "            _lost.remove(f)\n",
    "        elif b in _lost:\n",
    "            _lost.remove(b)\n",
    "\n",
    "    return n - len(_lost)\n"
   ]
  }
 ],
 "metadata": {
  "kernelspec": {
   "display_name": "Python 3.10.3 64-bit",
   "metadata": {
    "interpreter": {
     "hash": "98590ff4fe04c8543246b2a01debd3de3c5ca9b666f43f1fa87d5110c692004c"
    }
   },
   "name": "python3"
  },
  "language_info": {
   "codemirror_mode": {
    "name": "ipython",
    "version": 3
   },
   "file_extension": ".py",
   "mimetype": "text/x-python",
   "name": "python",
   "nbconvert_exporter": "python",
   "pygments_lexer": "ipython3",
   "version": "3.10.3"
  },
  "orig_nbformat": 2
 },
 "nbformat": 4,
 "nbformat_minor": 2
}