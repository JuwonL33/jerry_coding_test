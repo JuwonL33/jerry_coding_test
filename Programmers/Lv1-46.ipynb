{
 "cells": [
  {
   "cell_type": "code",
   "execution_count": 24,
   "metadata": {},
   "outputs": [
    {
     "data": {
      "text/plain": "[1, 6]"
     },
     "execution_count": 24,
     "metadata": {},
     "output_type": "execute_result"
    }
   ],
   "source": [
    "# 로또의 최고 순위와 최저 순위 2 \n",
    "# https://school.programmers.co.kr/learn/courses/30/lessons/77484\n",
    "\n",
    "def solution(lottos, win_nums):\n",
    "    answer = []\n",
    "    ans = 0\n",
    "    tmp = 0\n",
    "    for i in range(len(lottos)) : \n",
    "        if lottos[i] in win_nums : \n",
    "            ans += 1\n",
    "        else : \n",
    "            if lottos[i] == 0 :\n",
    "                tmp += 1\n",
    "    answer.append(min(6, 7-ans))\n",
    "    answer.append(min(7-(tmp+ans), 6))\n",
    "\n",
    "    return sorted(answer)\n",
    "\n",
    "solution([44, 1, 0, 0, 31, 25], [31, 10, 45, 1, 6, 19])\n",
    "solution([0, 0, 0, 0, 0, 0], [38, 19, 20, 40, 15, 25])\n",
    "# solution([45, 4, 35, 20, 3, 9], [20, 9, 3, 45, 4, 35])"
   ]
  },
  {
   "cell_type": "code",
   "execution_count": 33,
   "metadata": {},
   "outputs": [
    {
     "data": {
      "text/plain": "[3, 5]"
     },
     "execution_count": 33,
     "metadata": {},
     "output_type": "execute_result"
    }
   ],
   "source": [
    "# 로또의 최고 순위와 최저 순위\n",
    "# https://school.programmers.co.kr/learn/courses/30/lessons/77484\n",
    "# 다른 사람의 풀이 참고해서 푼 것\n",
    "\n",
    "def solution(lottos, win_nums):\n",
    "    ans = 0\n",
    "    rank = [6,6,5,4,3,2,1]\n",
    "    tmp = lottos.count(0)\n",
    "    for i in range(len(lottos)) : \n",
    "        if lottos[i] in win_nums : \n",
    "            ans += 1\n",
    "\n",
    "    return [rank[tmp+ans], rank[ans]]\n",
    "\n",
    "solution([44, 1, 0, 0, 31, 25], [31, 10, 45, 1, 6, 19])\n",
    "# solution([0, 0, 0, 0, 0, 0], [38, 19, 20, 40, 15, 25])\n",
    "# solution([45, 4, 35, 20, 3, 9], [20, 9, 3, 45, 4, 35])"
   ]
  }
 ],
 "metadata": {
  "kernelspec": {
   "display_name": "Python 3.10.3 64-bit",
   "metadata": {
    "interpreter": {
     "hash": "98590ff4fe04c8543246b2a01debd3de3c5ca9b666f43f1fa87d5110c692004c"
    }
   },
   "name": "python3"
  },
  "language_info": {
   "codemirror_mode": {
    "name": "ipython",
    "version": 3
   },
   "file_extension": ".py",
   "mimetype": "text/x-python",
   "name": "python",
   "nbconvert_exporter": "python",
   "pygments_lexer": "ipython3",
   "version": "3.10.3"
  },
  "orig_nbformat": 2
 },
 "nbformat": 4,
 "nbformat_minor": 2
}