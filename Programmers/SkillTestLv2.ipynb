{
 "cells": [
  {
   "cell_type": "code",
   "execution_count": 6,
   "metadata": {},
   "outputs": [
    {
     "name": "stdout",
     "output_type": "stream",
     "text": [
      "0 1\n",
      "\n",
      "2\n",
      "\n",
      "3\n",
      "\n",
      "4\n",
      "\n",
      "result :  4\n",
      "1 2\n",
      "\n",
      "3\n",
      "\n",
      "4\n",
      "\n",
      "result :  3\n",
      "2 3\n",
      "\n",
      "4\n",
      "\n",
      "result :  1\n",
      "3 4\n",
      "\n",
      "result :  1\n"
     ]
    },
    {
     "data": {
      "text/plain": "[4, 3, 1, 1, 0]"
     },
     "execution_count": 6,
     "metadata": {},
     "output_type": "execute_result"
    }
   ],
   "source": [
    "'''\n",
    "문제 설명\n",
    "초 단위로 기록된 주식가격이 담긴 배열 prices가 매개변수로 주어질 때, 가격이 떨어지지 않은 기간은 몇 초인지를 return 하도록 solution 함수를 완성하세요.\n",
    "\n",
    "제한사항\n",
    "prices의 각 가격은 1 이상 10,000 이하인 자연수입니다.\n",
    "prices의 길이는 2 이상 100,000 이하입니다.\n",
    "\n",
    "\n",
    "입출력 예\n",
    "prices\t        return\n",
    "[1, 2, 3, 2, 3]\t[4, 3, 1, 1, 0]\n",
    "'''\n",
    "\n",
    "def solution(prices):\n",
    "    answer = [0] * len(prices)\n",
    "    result = 0\n",
    "    for i in range(0, len(prices)-1) : \n",
    "        print(i, end= ' ')\n",
    "        for j in range(i+1, len(prices)) : \n",
    "            print(j)\n",
    "            print()\n",
    "            if prices[j]-prices[i] >= 0 : \n",
    "                result += 1\n",
    "        print(\"result : \", result)\n",
    "        answer[i] += result\n",
    "        result = 0\n",
    "    return answer\n",
    "\n",
    "prices = [1, 2, 3, 2, 3]\n",
    "solution(prices)"
   ]
  },
  {
   "cell_type": "code",
   "execution_count": 8,
   "metadata": {},
   "outputs": [
    {
     "data": {
      "text/plain": "[4, 3, 1, 1, 0]"
     },
     "execution_count": 8,
     "metadata": {},
     "output_type": "execute_result"
    }
   ],
   "source": [
    "# 참고한 알고리즘\n",
    "\n",
    "def solution(prices) : \n",
    "    answer = []\n",
    "    for i in range(len(prices)) : \n",
    "        cnt = 0\n",
    "        for j in range(i+1, len(prices)) : \n",
    "            cnt += 1\n",
    "            if prices[i] > prices[j] : \n",
    "                break;\n",
    "        answer.append(cnt)\n",
    "    return answer\n",
    "\n",
    "prices = [1, 2, 3, 2, 3]\n",
    "solution(prices)\n"
   ]
  }
 ],
 "metadata": {
  "kernelspec": {
   "display_name": "Python 3.10.3 64-bit",
   "metadata": {
    "interpreter": {
     "hash": "98590ff4fe04c8543246b2a01debd3de3c5ca9b666f43f1fa87d5110c692004c"
    }
   },
   "name": "python3"
  },
  "language_info": {
   "codemirror_mode": {
    "name": "ipython",
    "version": 3
   },
   "file_extension": ".py",
   "mimetype": "text/x-python",
   "name": "python",
   "nbconvert_exporter": "python",
   "pygments_lexer": "ipython3",
   "version": "3.10.3"
  },
  "orig_nbformat": 2
 },
 "nbformat": 4,
 "nbformat_minor": 2
}