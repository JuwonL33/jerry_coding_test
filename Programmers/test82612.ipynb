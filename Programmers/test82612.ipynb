# 부족한 금액 계산하기
# https://school.programmers.co.kr/learn/courses/30/lessons/82612?language=python3

def solution(price, money, count):
    answer = 0
    tot = 0
    for i in range(1, count+1) : tot += price*i
    if tot > money : answer = tot - money
    return answer

print(solution(3, 20, 4))
