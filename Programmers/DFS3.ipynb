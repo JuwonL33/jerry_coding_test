{
 "cells": [
  {
   "cell_type": "code",
   "execution_count": null,
   "metadata": {},
   "outputs": [],
   "source": [
    "# 여행경로, DFS, Stack으로 풀자\n",
    "# 각 지점을 모두 순회해야하는 완전탐색이 필요한 경우는 DFS로 풀기. \n",
    "\n",
    "def solution(tickets):\n",
    "    answer = []\n",
    "    visited = [False] * len(tickets)\n",
    "\n",
    "    for ticket in tickets : \n",
    "        if ticket[0] == \"ICN\" : \n",
    "            dfs(tickets, idx, visited)\n",
    "    return answer\n",
    "\n",
    "def dfs(tickets, idx, visited) : \n",
    "\n",
    "answer = path[::-1]\n",
    "\n",
    "path = [\"SFO\", \"ATL\", \"SFO\", \"ICN\", \"ATL\", \"ICN\"]\n",
    "\n",
    "stack = [\"ICN\", \"ATL\", \"ICN\", \"SFO\", \"ATL\"]\n",
    "\n",
    "routes = {\n",
    "    \"ICN\" : [\"SFO\", \"ATL\"],\n",
    "    \"SFO\" : [\"ATL\"],\n",
    "    \"ATL\" : [\"SFO\", \"ICN\"]\n",
    "}"
   ]
  },
  {
   "cell_type": "code",
   "execution_count": 2,
   "metadata": {},
   "outputs": [
    {
     "data": {
      "text/plain": "['ICN', 'JFK', 'HND', 'IAD']"
     },
     "execution_count": 2,
     "metadata": {},
     "output_type": "execute_result"
    }
   ],
   "source": [
    "# 여행경로\n",
    "# DFS / STACK으로 풀것\n",
    "\n",
    "def solution(tickets):\n",
    "\n",
    "\n",
    "    maps = dict()                                       # dict 생성\n",
    "    for start, end in tickets : \n",
    "        maps[start] = maps.get(start, []) + [end]       # tickets의 start와 end를 key와 value로 하는 dict 만들기    \n",
    "\n",
    "    for m in maps.keys() :                              # maps의 key를 for문을 태워서\n",
    "        maps[m].sort(reverse=True)                      # key에 대한 value들을 역순으로 정렬\n",
    "\n",
    "\n",
    "    st = [\"ICN\"]\n",
    "    path = []\n",
    "\n",
    "    while st : \n",
    "        top = st[-1]\n",
    "\n",
    "        if top not in maps or len(maps[top]) == 0 :\n",
    "            path.append(st.pop())\n",
    "        else : \n",
    "            st.append(maps[top][-1])\n",
    "            maps[top] = maps[top][:-1]\n",
    "\n",
    "    answer = path[::-1]\n",
    "    return answer\n",
    "\n",
    "solution([[\"ICN\", \"JFK\"], [\"HND\", \"IAD\"], [\"JFK\", \"HND\"]])"
   ]
  },
  {
   "cell_type": "code",
   "execution_count": 4,
   "metadata": {},
   "outputs": [
    {
     "data": {
      "text/plain": "['ICN', 'JFK', 'HND', 'IAD']"
     },
     "execution_count": 4,
     "metadata": {},
     "output_type": "execute_result"
    }
   ],
   "source": [
    "# 여행경로\n",
    "# DFS / STACK으로 풀것\n",
    "\n",
    "def solution(tickets):\n",
    "    routes = dict()\n",
    "\n",
    "    for start, end in tickets : \n",
    "        routes[start] = routes.get(start, []) + [end]\n",
    "        print(routes)\n",
    "    \n",
    "    for r in routes.keys() : \n",
    "        routes[r].sort(reverse=True)\n",
    "\n",
    "    st = [\"ICN\"]                # 얘가 스택\n",
    "    path = []\n",
    "\n",
    "    while st : \n",
    "        top = st[-1]\n",
    "\n",
    "        if top not in routes or len(routes[top]) == 0 : \n",
    "            path.append(st.pop())\n",
    "        else : \n",
    "            st.append(routes[top][-1])\n",
    "            routes[top] = routes[top][:-1]\n",
    "    \n",
    "    answer = path[::-1]\n",
    "\n",
    "    return answer\n",
    "\n",
    "solution([[\"ICN\", \"JFK\"], [\"HND\", \"IAD\"], [\"JFK\", \"HND\"]])"
   ]
  }
 ],
 "metadata": {
  "kernelspec": {
   "display_name": "Python 3.10.3 64-bit",
   "metadata": {
    "interpreter": {
     "hash": "98590ff4fe04c8543246b2a01debd3de3c5ca9b666f43f1fa87d5110c692004c"
    }
   },
   "name": "python3"
  },
  "language_info": {
   "codemirror_mode": {
    "name": "ipython",
    "version": 3
   },
   "file_extension": ".py",
   "mimetype": "text/x-python",
   "name": "python",
   "nbconvert_exporter": "python",
   "pygments_lexer": "ipython3",
   "version": "3.10.3"
  },
  "orig_nbformat": 2
 },
 "nbformat": 4,
 "nbformat_minor": 2
}