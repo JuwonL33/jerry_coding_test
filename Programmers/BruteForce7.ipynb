{
 "cells": [
  {
   "cell_type": "code",
   "execution_count": 16,
   "metadata": {},
   "outputs": [
    {
     "data": {
      "text/plain": "1189"
     },
     "execution_count": 16,
     "metadata": {},
     "output_type": "execute_result"
    }
   ],
   "source": [
    "# 모음 사전\n",
    "# 이런 끔찍한 방법 말고..\n",
    "from itertools import product\n",
    "\n",
    "def solution(word):\n",
    "    # 모음 조합으로 나올 수 있는 모든 경우의 수 3125\n",
    "    arr = ['A', 'E', 'I', 'O', 'U']\n",
    "    dictionary = []\n",
    "    for i in product(arr, arr, arr, arr, arr) : \n",
    "        dictionary.append(\"\".join(i))\n",
    "    \n",
    "    for i in product(arr, arr, arr, arr) : \n",
    "        dictionary.append(\"\".join(i))\n",
    "    \n",
    "    for i in product(arr, arr, arr) : \n",
    "        dictionary.append(\"\".join(i))\n",
    "        \n",
    "    for i in product(arr, arr) : \n",
    "        dictionary.append(\"\".join(i))\n",
    "\n",
    "    for i in arr : \n",
    "        dictionary.append(i)\n",
    "\n",
    "    dictionary.sort()\n",
    "    return dictionary.index(word)+1\n",
    "\n",
    "#solution(\"AAAAE\")\n",
    "#solution(\"AAAE\")\n",
    "#solution(\"I\")\n",
    "solution(\"EIO\")"
   ]
  },
  {
   "cell_type": "code",
   "execution_count": 20,
   "metadata": {},
   "outputs": [
    {
     "data": {
      "text/plain": "1189"
     },
     "execution_count": 20,
     "metadata": {},
     "output_type": "execute_result"
    }
   ],
   "source": [
    "# 모음 조합으로 나올 수 있는 모든 경우의 수를 리스트화 시켜서 그곳에서 word의 인덱스를 찾는 방법\n",
    "\n",
    "from itertools import product\n",
    "\n",
    "def solution(word):\n",
    "    dictionary = []\n",
    "    for i in range(5) : \n",
    "        for c in product(\"AEIOU\", repeat=i+1) : \n",
    "            dictionary.append(\"\".join(c))\n",
    "    dictionary.sort()\n",
    "    return dictionary.index(word)+1\n",
    "\n",
    "#solution(\"AAAAE\")\n",
    "#solution(\"AAAE\")\n",
    "#solution(\"I\")\n",
    "solution(\"EIO\")"
   ]
  }
 ],
 "metadata": {
  "kernelspec": {
   "display_name": "Python 3.10.3 64-bit",
   "metadata": {
    "interpreter": {
     "hash": "98590ff4fe04c8543246b2a01debd3de3c5ca9b666f43f1fa87d5110c692004c"
    }
   },
   "name": "python3"
  },
  "language_info": {
   "codemirror_mode": {
    "name": "ipython",
    "version": 3
   },
   "file_extension": ".py",
   "mimetype": "text/x-python",
   "name": "python",
   "nbconvert_exporter": "python",
   "pygments_lexer": "ipython3",
   "version": "3.10.3"
  },
  "orig_nbformat": 2
 },
 "nbformat": 4,
 "nbformat_minor": 2
}