{
 "cells": [
  {
   "cell_type": "code",
   "execution_count": 27,
   "metadata": {},
   "outputs": [
    {
     "data": {
      "text/plain": "'aaa'"
     },
     "execution_count": 27,
     "metadata": {},
     "output_type": "execute_result"
    }
   ],
   "source": [
    "# 신규 아이디 추천\n",
    "# https://school.programmers.co.kr/learn/courses/30/lessons/72410\n",
    "\n",
    "def solution(new_id):\n",
    "    answer = ''\n",
    "    new_id = new_id.lower()\n",
    "    for c in new_id : \n",
    "        if c.isalnum() or c in ['-', '_', '.'] : \n",
    "            answer += c\n",
    "\n",
    "    while '..' in answer : \n",
    "        answer = answer.replace('..', '.')\n",
    "\n",
    "    answer = answer[1:] if answer[0] == '.' and len(answer) > 1 else answer\n",
    "    answer = answer[:-1] if answer[-1] == '.' else answer\n",
    "\n",
    "    answer = 'a' if answer == '' else answer\n",
    "\n",
    "    if len(answer) >= 16:\n",
    "        answer = answer[:15]\n",
    "        if answer[-1] == '.':\n",
    "            answer = answer[:-1]\n",
    "\n",
    "    if len(answer) <= 3 : \n",
    "        answer = answer + answer[-1] * (3-len(answer))\n",
    "    return answer\n",
    "\n",
    "\n",
    "solution(\"...!@BaT#*..y.abcdefghijklm\")\n",
    "solution(\"z-+.^.\")\n",
    "\n",
    "solution(\"123_.def\")\n",
    "solution(\"abcdefghijklmn.p\")\n",
    "solution(\"=.=\")"
   ]
  },
  {
   "cell_type": "code",
   "execution_count": null,
   "metadata": {},
   "outputs": [],
   "source": [
    "def solution(new_id):\n",
    "    answer = ''\n",
    "    \n",
    "    # 1\n",
    "    new_id = new_id.lower()\n",
    "\n",
    "    # 2\n",
    "    for a in new_id : \n",
    "        if a.isalnum() or a in \"-_.\" : answer += a\n",
    "    return answer"
   ]
  }
 ],
 "metadata": {
  "kernelspec": {
   "display_name": "Python 3.10.3 64-bit",
   "metadata": {
    "interpreter": {
     "hash": "98590ff4fe04c8543246b2a01debd3de3c5ca9b666f43f1fa87d5110c692004c"
    }
   },
   "name": "python3"
  },
  "language_info": {
   "codemirror_mode": {
    "name": "ipython",
    "version": 3
   },
   "file_extension": ".py",
   "mimetype": "text/x-python",
   "name": "python",
   "nbconvert_exporter": "python",
   "pygments_lexer": "ipython3",
   "version": "3.10.3"
  },
  "orig_nbformat": 2
 },
 "nbformat": 4,
 "nbformat_minor": 2
}