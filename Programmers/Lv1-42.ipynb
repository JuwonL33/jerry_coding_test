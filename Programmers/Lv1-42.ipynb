{
 "cells": [
  {
   "cell_type": "code",
   "execution_count": 70,
   "metadata": {},
   "outputs": [
    {
     "data": {
      "text/plain": "[3, 4, 2, 1, 5]"
     },
     "execution_count": 70,
     "metadata": {},
     "output_type": "execute_result"
    }
   ],
   "source": [
    "# 실패율 구하기\n",
    "# https://school.programmers.co.kr/learn/courses/30/lessons/42889\n",
    "\n",
    "import collections\n",
    "\n",
    "def solution(N, stages):\n",
    "    dic = dict()\n",
    "    new = collections.Counter(stages)\n",
    "    tmp = len(stages)\n",
    "    for i in range(1, N+1) : \n",
    "        dic[i] = new[i] / tmp\n",
    "        tmp = tmp - new[i]\n",
    "\n",
    "    new_2 = []\n",
    "    for j in sorted(dic.items(), key=lambda x:x[1], reverse=True) : \n",
    "        new_2.append(j[0])\n",
    "    return new_2\n",
    "\n",
    "solution(5,[2, 1, 2, 6, 2, 4, 3, 3])\n",
    "#solution(4,[4,4,4,4,4])"
   ]
  },
  {
   "cell_type": "code",
   "execution_count": 71,
   "metadata": {},
   "outputs": [
    {
     "data": {
      "text/plain": "[3, 4, 2, 1, 5]"
     },
     "execution_count": 71,
     "metadata": {},
     "output_type": "execute_result"
    }
   ],
   "source": [
    "import collections\n",
    "\n",
    "def solution(N, stages):\n",
    "    dic = dict()\n",
    "    new = collections.Counter(stages)\n",
    "    tmp = len(stages)\n",
    "    for i in range(1, N+1) :\n",
    "        if tmp > 0 : \n",
    "            dic[i] = new[i] / tmp\n",
    "            tmp = tmp - new[i]\n",
    "        else : \n",
    "            dic[i] = 0\n",
    "\n",
    "    new_2 = []\n",
    "    for j in sorted(dic.items(), key=lambda x:x[1], reverse=True) : \n",
    "        new_2.append(j[0])\n",
    "    return new_2\n",
    "\n",
    "solution(5,[2, 1, 2, 6, 2, 4, 3, 3])\n",
    "#solution(4,[4,4,4,4,4])"
   ]
  },
  {
   "cell_type": "code",
   "execution_count": 73,
   "metadata": {},
   "outputs": [
    {
     "data": {
      "text/plain": "[3, 4, 2, 1, 5]"
     },
     "execution_count": 73,
     "metadata": {},
     "output_type": "execute_result"
    }
   ],
   "source": [
    "# 더 좋은 코드\n",
    "\n",
    "def solution(N, stages):\n",
    "    result = {}\n",
    "    tmp = len(stages)\n",
    "    for stage in range(1, N+1) : \n",
    "        if tmp != 0 : \n",
    "            count = stages.count(stage)\n",
    "            result[stage] = count / tmp\n",
    "            tmp -= count\n",
    "        else : \n",
    "            result[stage] = 0\n",
    "    return sorted(result, key=lambda x : result[x], reverse=True)\n",
    "\n",
    "solution(5,[2, 1, 2, 6, 2, 4, 3, 3])\n",
    "#solution(4,[4,4,4,4,4])"
   ]
  }
 ],
 "metadata": {
  "kernelspec": {
   "display_name": "Python 3.10.3 64-bit",
   "metadata": {
    "interpreter": {
     "hash": "98590ff4fe04c8543246b2a01debd3de3c5ca9b666f43f1fa87d5110c692004c"
    }
   },
   "name": "python3"
  },
  "language_info": {
   "codemirror_mode": {
    "name": "ipython",
    "version": 3
   },
   "file_extension": ".py",
   "mimetype": "text/x-python",
   "name": "python",
   "nbconvert_exporter": "python",
   "pygments_lexer": "ipython3",
   "version": "3.10.3"
  },
  "orig_nbformat": 2
 },
 "nbformat": 4,
 "nbformat_minor": 2
}