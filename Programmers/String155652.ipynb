# 둘만의 암호
# https://school.programmers.co.kr/learn/courses/30/lessons/155652?language=python3\

def solution(s, skip, index):
    answer = ''
    tmp_arr = [ chr(i) for i in range(97, 123) ]        # 알파벳 저장용 리스트
    skip_arr = list(skip)                               # skip할 알파벳 리스트화

    arr = sorted(list(set(tmp_arr) - set(skip_arr)))
    for i in range(len(s)) :                            # 순서대로 리스트에 있는 문자의 위치와 인덱스 값을 더 해줌
        idx = (arr.index(s[i]) + index) % len(arr)      # 만약 인덱스가 리스트의 길이보다 크거나 같다면 인덱스에서 리스트의 길이를 빼줌 => idx를 arr의 길이로 나눈 나머지 값을 대입
        tmp = arr[idx]                                  # 리스트에서 문자를 찾아 tmp에 대입
        answer +=  tmp                                  # answer에 tmp값을 더해줌
    return answer


print(solution("aukks", "wbqd", 5))
print(solution("z", "abcdefghij", 20))
