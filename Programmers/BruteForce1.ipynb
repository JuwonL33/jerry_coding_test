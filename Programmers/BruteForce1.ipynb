{
 "cells": [
  {
   "cell_type": "code",
   "execution_count": 12,
   "metadata": {},
   "outputs": [
    {
     "name": "stdout",
     "output_type": "stream",
     "text": [
      "[60, 70, 60, 80] [50, 30, 30, 40] 4000\n",
      "[10, 12, 15, 14, 15] [7, 3, 8, 7, 5] 120\n",
      "[14, 19, 16, 18, 11] [4, 6, 6, 7, 7] 133\n"
     ]
    }
   ],
   "source": [
    "'''\n",
    "문제 설명\n",
    "명함 지갑을 만드는 회사에서 지갑의 크기를 정하려고 합니다. \n",
    "다양한 모양과 크기의 명함들을 모두 수납할 수 있으면서, 작아서 들고 다니기 편한 지갑을 만들어야 합니다. \n",
    "이러한 요건을 만족하는 지갑을 만들기 위해 디자인팀은 모든 명함의 가로 길이와 세로 길이를 조사했습니다.\n",
    "\n",
    "아래 표는 4가지 명함의 가로 길이와 세로 길이를 나타냅니다.\n",
    "\n",
    "명함 번호\t가로 길이\t세로 길이\n",
    "1\t60\t50\n",
    "2\t30\t70\n",
    "3\t60\t30\n",
    "4\t80\t40\n",
    "가장 긴 가로 길이와 세로 길이가 각각 80, 70이기 때문에 80(가로) x 70(세로) 크기의 지갑을 만들면 모든 명함들을 수납할 수 있습니다. \n",
    "하지만 2번 명함을 가로로 눕혀 수납한다면 80(가로) x 50(세로) 크기의 지갑으로 모든 명함들을 수납할 수 있습니다. 이때의 지갑 크기는 4000(=80 x 50)입니다.\n",
    "\n",
    "모든 명함의 가로 길이와 세로 길이를 나타내는 2차원 배열 sizes가 매개변수로 주어집니다. 모든 명함을 수납할 수 있는 가장 작은 지갑을 만들 때, 지갑의 크기를 return 하도록 solution 함수를 완성해주세요.\n",
    "\n",
    "제한사항\n",
    "sizes의 길이는 1 이상 10,000 이하입니다.\n",
    "sizes의 원소는 [w, h] 형식입니다.\n",
    "w는 명함의 가로 길이를 나타냅니다.\n",
    "h는 명함의 세로 길이를 나타냅니다.\n",
    "w와 h는 1 이상 1,000 이하인 자연수입니다.\n",
    "'''\n",
    "\n",
    "\n",
    "def solution(sizes):\n",
    "    w_list, h_list = [], []\n",
    "\n",
    "    for size in sizes : \n",
    "        w_list.append(max(size))\n",
    "        h_list.append(min(size))\n",
    "\n",
    "    answer = max(w_list) * max(h_list)\n",
    "    return answer\n",
    "\n",
    "solution([[60, 50], [30, 70], [60, 30], [80, 40]])\n",
    "solution([[10, 7], [12, 3], [8, 15], [14, 7], [5, 15]])\n",
    "solution([[14, 4], [19, 6], [6, 16], [18, 7], [7, 11]])"
   ]
  },
  {
   "cell_type": "code",
   "execution_count": null,
   "metadata": {},
   "outputs": [],
   "source": []
  }
 ],
 "metadata": {
  "kernelspec": {
   "display_name": "Python 3.10.3 64-bit",
   "metadata": {
    "interpreter": {
     "hash": "98590ff4fe04c8543246b2a01debd3de3c5ca9b666f43f1fa87d5110c692004c"
    }
   },
   "name": "python3"
  },
  "language_info": {
   "codemirror_mode": {
    "name": "ipython",
    "version": 3
   },
   "file_extension": ".py",
   "mimetype": "text/x-python",
   "name": "python",
   "nbconvert_exporter": "python",
   "pygments_lexer": "ipython3",
   "version": "3.10.3"
  },
  "orig_nbformat": 2
 },
 "nbformat": 4,
 "nbformat_minor": 2
}