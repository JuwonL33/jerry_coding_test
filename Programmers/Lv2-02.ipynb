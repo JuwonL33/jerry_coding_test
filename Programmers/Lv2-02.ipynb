{
 "cells": [
  {
   "cell_type": "code",
   "execution_count": 18,
   "metadata": {},
   "outputs": [
    {
     "data": {
      "text/plain": "11"
     },
     "execution_count": 18,
     "metadata": {},
     "output_type": "execute_result"
    }
   ],
   "source": [
    "# 게임 맵 최단거리 BFS로 풀기\n",
    "# 이것이 취업을 위한 코딩테스트다의 기본 문제\n",
    "\n",
    "from collections import deque\n",
    "\n",
    "def solution(maps):\n",
    "    answer = 0\n",
    "\n",
    "    # 좌,우,상,하\n",
    "    dx = [-1, 1, 0, 0]\n",
    "    dy = [0, 0, -1, 1]\n",
    "\n",
    "    def bfs(x, y) : \n",
    "        queue = deque()\n",
    "        queue.append((x, y))\n",
    "\n",
    "        while queue : \n",
    "            x, y = queue.popleft()\n",
    "            \n",
    "            for i in range(4) : \n",
    "                nx = x + dx[i]\n",
    "                ny = y + dy[i]\n",
    "\n",
    "                # 좌표가 범위를 벗어날 경우 쓰루\n",
    "                if nx < 0 or nx >= len(maps) or ny < 0 or ny >= len(maps[0]) : \n",
    "                    continue\n",
    "\n",
    "                # 해당 좌표가 0일 경우 쓰루\n",
    "                if maps[nx][ny] == 0 : continue\n",
    "\n",
    "                if maps[nx][ny] == 1 :\n",
    "                    maps[nx][ny] = maps[x][y] + 1       # 지나간 좌표에 1 더하기\n",
    "                    queue.append((nx, ny))\n",
    "        return maps[len(maps)-1][len(maps[0])-1]\n",
    "\n",
    "    answer = bfs(0, 0)\n",
    "    return -1 if answer == 1 else answer\n",
    "\n",
    "\n",
    "\n",
    "\n",
    "solution([[1,0,1,1,1],[1,0,1,0,1],[1,0,1,1,1],[1,1,1,0,1],[0,0,0,0,1]])\n",
    "# solution([[1,0,1,1,1],[1,0,1,0,1],[1,0,1,1,1],[1,1,1,0,0],[0,0,0,0,1]])"
   ]
  },
  {
   "cell_type": "code",
   "execution_count": 21,
   "metadata": {},
   "outputs": [
    {
     "data": {
      "text/plain": "-1"
     },
     "execution_count": 21,
     "metadata": {},
     "output_type": "execute_result"
    }
   ],
   "source": [
    "from collections import deque\n",
    "# 1. bfs 수행을 위해 먼저 collections 패키지로 부터 deque를 import함.\n",
    "\n",
    "def solution(maps) : \n",
    "\n",
    "    # 2. 상, 하, 좌, 우 순으로 좌표찍을 dx, dy 선언\n",
    "    dx = [-1, 1, 0, 0]\n",
    "    dy = [0, 0, -1, 1]\n",
    "\n",
    "    # 3. bfs(x, y) 선언\n",
    "    def bfs(x, y) : \n",
    "        # 4. 빈 queue를 선언해준다.\n",
    "        queue = deque()\n",
    "        # 5. bfs 호출 시 받은 x, y 좌표값을 set 형태로 queue에 삽입\n",
    "        queue.append((x, y))\n",
    "\n",
    "        # 6. queue가 빌때까지 while문 반복.\n",
    "        while queue : \n",
    "            # 7. queue에서 x, y 꺼내기\n",
    "            x, y = queue.popleft()\n",
    "\n",
    "            # 8. 상,하,좌,우 순서대로 이동가능한지 체크하기. \n",
    "            for i in range(4) : \n",
    "                nx = x + dx[i]\n",
    "                ny = y + dy[i]\n",
    "\n",
    "                # 9. nx, ny가 범위를 벗어나면 continue\n",
    "                if nx < 0 or nx >= len(maps) or ny < 0 or ny >= len(maps[0]) : continue\n",
    "                \n",
    "                # 10. maps가 0이면 continue\n",
    "                if maps[nx][ny] == 0 : continue\n",
    "\n",
    "                # 11. 9,10이 아니고 maps[nx][ny]가 1이면\n",
    "                if maps[nx][ny] == 1 : \n",
    "                    # 12. 새로운 위치에 이전 좌표의 값+1한 값을 대입시켜주기.\n",
    "                    maps[nx][ny] = maps[x][y] + 1\n",
    "                    # 13. 새로운 좌표값 queue에 넣기. \n",
    "                    queue.append((nx, ny))\n",
    "\n",
    "        # 14. (5,5) 좌표의 값을 리턴\n",
    "        return maps[len(maps)-1][len(maps[0])-1]\n",
    "\n",
    "    answer = bfs(0, 0) # 14의 값 대입\n",
    "    return -1 if answer == 1 else answer # answer가 1이면 (마지막 좌표를 다녀간 적 없다는 뜻) -1 리턴. 아니면 answer 리턴\n",
    "\n",
    "solution([[1,0,1,1,1],[1,0,1,0,1],[1,0,1,1,1],[1,1,1,0,1],[0,0,0,0,1]])\n",
    "solution([[1,0,1,1,1],[1,0,1,0,1],[1,0,1,1,1],[1,1,1,0,0],[0,0,0,0,1]])"
   ]
  }
 ],
 "metadata": {
  "kernelspec": {
   "display_name": "Python 3.10.3 64-bit",
   "metadata": {
    "interpreter": {
     "hash": "98590ff4fe04c8543246b2a01debd3de3c5ca9b666f43f1fa87d5110c692004c"
    }
   },
   "name": "python3"
  },
  "language_info": {
   "codemirror_mode": {
    "name": "ipython",
    "version": 3
   },
   "file_extension": ".py",
   "mimetype": "text/x-python",
   "name": "python",
   "nbconvert_exporter": "python",
   "pygments_lexer": "ipython3",
   "version": "3.10.3"
  },
  "orig_nbformat": 2
 },
 "nbformat": 4,
 "nbformat_minor": 2
}