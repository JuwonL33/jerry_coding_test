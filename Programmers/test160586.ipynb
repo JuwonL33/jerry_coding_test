# 대충 만든 자판
# https://school.programmers.co.kr/learn/courses/30/lessons/160586?language=python3

def solution(keymap, targets):
    answer = []
    full_str = ''
    
    for l in range(len(keymap)) : 
        full_str += keymap[l]
    
    for i in range(len(targets)) : 
        cnt = 0
        status = True
        for j in range(len(targets[i])) : 
            tmp = []
            if targets[i][j] not in full_str : 
                status = False
                continue
            else : 
                for k in range(len(keymap)) : 
                    if targets[i][j] not in keymap[k] : 
                        continue
                    else : 
                        tmp.append(keymap[k].index(targets[i][j])+1)
                if len(tmp) >= 1 : 
                    cnt += min(tmp)
                else : 
                    cnt = -1
        if status :         answer.append(cnt)
        else : answer.append(-1)
    return answer

print(solution(["ABACD", "BCEFD"], ["ABCD","AABB"]))
print(solution(["AA"], ["B"]))
print(solution(["AGZ", "BSSS"],	["ASA","BGZ"]))
print(solution(["ABCE"], ["ABDE"]))
print(solution(["ABCDE", "ABBCE"], ["ABBEF"]))
print(solution(["FFF", "FFF"], ["CCC", "CCC"]))
