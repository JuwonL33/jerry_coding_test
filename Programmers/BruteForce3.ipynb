{
 "cells": [
  {
   "cell_type": "code",
   "execution_count": 24,
   "metadata": {},
   "outputs": [
    {
     "data": {
      "text/plain": "2"
     },
     "execution_count": 24,
     "metadata": {},
     "output_type": "execute_result"
    }
   ],
   "source": [
    "# 소수찾기\n",
    "'''\n",
    "파이썬의 permutation 함수를 사용할 것\n",
    "문제 설명\n",
    "한자리 숫자가 적힌 종이 조각이 흩어져있습니다. 흩어진 종이 조각을 붙여 소수를 몇 개 만들 수 있는지 알아내려 합니다.\n",
    "\n",
    "각 종이 조각에 적힌 숫자가 적힌 문자열 numbers가 주어졌을 때, 종이 조각으로 만들 수 있는 소수가 몇 개인지 return 하도록 solution 함수를 완성해주세요.\n",
    "\n",
    "제한사항\n",
    "numbers는 길이 1 이상 7 이하인 문자열입니다.\n",
    "numbers는 0~9까지 숫자만으로 이루어져 있습니다.\n",
    "\"013\"은 0, 1, 3 숫자가 적힌 종이 조각이 흩어져있다는 의미입니다.\n",
    "입출력 예\n",
    "numbers\treturn\n",
    "\"17\"\t3\n",
    "\"011\"\t2\n",
    "입출력 예 설명\n",
    "예제 #1\n",
    "[1, 7]으로는 소수 [7, 17, 71]를 만들 수 있습니다.\n",
    "\n",
    "예제 #2\n",
    "[0, 1, 1]으로는 소수 [11, 101]를 만들 수 있습니다.\n",
    "\n",
    "11과 011은 같은 숫자로 취급합니다.\n",
    "\n",
    "소수 : 1과 나 자신으로만 나눠지는 숫자. 2로 나눠서 떨어지면 안됨. \n",
    "\n",
    "'''\n",
    "import math\n",
    "from itertools import permutations\n",
    "\n",
    "def solution(numbers):\n",
    "    answer = []\n",
    "    arr=list(numbers)       # 각 숫자들을 떼어서 리스트화\n",
    "    s = []\n",
    "\n",
    "    for i in range(1, len(numbers)+1) : \n",
    "        s += list(permutations(arr, i))     # 순열 : 순열이란 몇 개를 골라 순서를 고려해 나열한 경우의 수를 말한다. 즉, 서로 다른 n 개 중 r 개를 골라 순서를 정해 나열하는 가짓수\n",
    "    new_arr = [int((\"\").join(i)) for i in s]\n",
    "\n",
    "\n",
    "    for new in new_arr : \n",
    "        # 소수는 2를 제외하곤 모두 홀수 + 소수인지 확인하는 조건 : 1, 자기자신, 자기자신의 제곱근으로 나누어 떨어지지 않으면 소수\n",
    "        if new < 2 : \n",
    "            continue\n",
    "        check = True\n",
    "        for i in range(2, int(new**0.5) + 1) :        # n의 제곱근보다 작은 숫자까지만 나눗셈\n",
    "            if new % i == 0 :\n",
    "                check = False\n",
    "                break\n",
    "        \n",
    "        if check :\n",
    "            answer.append(new)\n",
    "\n",
    "    return len(set(answer))\n",
    "\n",
    "solution(\"17\")\n",
    "solution(\"011\")"
   ]
  },
  {
   "cell_type": "code",
   "execution_count": 28,
   "metadata": {},
   "outputs": [
    {
     "ename": "AttributeError",
     "evalue": "'int' object has no attribute 'append'",
     "output_type": "error",
     "traceback": [
      "\u001b[0;31m---------------------------------------------------------------------------\u001b[0m",
      "\u001b[0;31mAttributeError\u001b[0m                            Traceback (most recent call last)",
      "Input \u001b[0;32mIn [28]\u001b[0m, in \u001b[0;36m<cell line: 31>\u001b[0;34m()\u001b[0m\n\u001b[1;32m     24\u001b[0m     \u001b[38;5;28;01mreturn\u001b[39;00m \u001b[38;5;28mlen\u001b[39m(\u001b[38;5;28mset\u001b[39m(answer))\n\u001b[1;32m     28\u001b[0m     \u001b[38;5;28;01mreturn\u001b[39;00m answer\n\u001b[0;32m---> 31\u001b[0m \u001b[43msolution\u001b[49m\u001b[43m(\u001b[49m\u001b[38;5;124;43m\"\u001b[39;49m\u001b[38;5;124;43m17\u001b[39;49m\u001b[38;5;124;43m\"\u001b[39;49m\u001b[43m)\u001b[49m\n\u001b[1;32m     32\u001b[0m solution(\u001b[38;5;124m\"\u001b[39m\u001b[38;5;124m011\u001b[39m\u001b[38;5;124m\"\u001b[39m)\n",
      "Input \u001b[0;32mIn [28]\u001b[0m, in \u001b[0;36msolution\u001b[0;34m(numbers)\u001b[0m\n\u001b[1;32m     19\u001b[0m             \u001b[38;5;28;01mbreak\u001b[39;00m\n\u001b[1;32m     21\u001b[0m         \u001b[38;5;28;01mif\u001b[39;00m check : \n\u001b[0;32m---> 22\u001b[0m             \u001b[43manswer\u001b[49m\u001b[38;5;241;43m.\u001b[39;49m\u001b[43mappend\u001b[49m(new)\n\u001b[1;32m     24\u001b[0m \u001b[38;5;28;01mreturn\u001b[39;00m \u001b[38;5;28mlen\u001b[39m(\u001b[38;5;28mset\u001b[39m(answer))\n\u001b[1;32m     28\u001b[0m \u001b[38;5;28;01mreturn\u001b[39;00m answer\n",
      "\u001b[0;31mAttributeError\u001b[0m: 'int' object has no attribute 'append'"
     ]
    }
   ],
   "source": [
    "import math\n",
    "from itertools import permutations\n",
    "\n",
    "def solution(numbers) : \n",
    "    answer = []\n",
    "    arr = list(numbers)\n",
    "    s = []\n",
    "\n",
    "    for i in range(1, len(arr)+1) : \n",
    "        s += list(permutations(arr, i))         # permutations(arr, i) i개수 만큼 arr의 요소를 골라 값을 만든다.\n",
    "    new_arr = [int((\"\").join(i)) for i in s]\n",
    "\n",
    "    for new in new_arr : \n",
    "        if new < 2 : continue\n",
    "        check = True\n",
    "        for i in range(2, int(new**0.5)+1) : \n",
    "            if new % i == 0 : \n",
    "                check = False\n",
    "                break\n",
    "\n",
    "            if check : \n",
    "                answer.append(new)\n",
    "\n",
    "    return len(set(answer))\n",
    "\n",
    "\n",
    "\n",
    "    return answer\n",
    "\n",
    "\n",
    "solution(\"17\")\n",
    "solution(\"011\")"
   ]
  }
 ],
 "metadata": {
  "kernelspec": {
   "display_name": "Python 3.10.3 64-bit",
   "metadata": {
    "interpreter": {
     "hash": "98590ff4fe04c8543246b2a01debd3de3c5ca9b666f43f1fa87d5110c692004c"
    }
   },
   "name": "python3"
  },
  "language_info": {
   "codemirror_mode": {
    "name": "ipython",
    "version": 3
   },
   "file_extension": ".py",
   "mimetype": "text/x-python",
   "name": "python",
   "nbconvert_exporter": "python",
   "pygments_lexer": "ipython3",
   "version": "3.10.3"
  },
  "orig_nbformat": 2
 },
 "nbformat": 4,
 "nbformat_minor": 2
}