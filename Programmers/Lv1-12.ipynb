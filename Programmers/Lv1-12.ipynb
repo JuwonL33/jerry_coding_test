{
 "cells": [
  {
   "cell_type": "code",
   "execution_count": 34,
   "metadata": {},
   "outputs": [
    {
     "data": {
      "text/plain": "[12, 36]"
     },
     "execution_count": 34,
     "metadata": {},
     "output_type": "execute_result"
    }
   ],
   "source": [
    "# 최대공약수와 최소공배수\n",
    "def solution(n, m):\n",
    "    n_arr, m_arr = set(), set()\n",
    "    answer = []\n",
    "\n",
    "    for i in range(min(n,m), 0, -1) : \n",
    "        if n % i == 0 and m % i == 0 :\n",
    "            answer.append(i)\n",
    "            break\n",
    "\n",
    "    for j in range(max(n, m), (n*m)+1) : \n",
    "        if j % n == 0 and j % m == 0 :\n",
    "            answer.append(j)\n",
    "            break\n",
    "    \n",
    "    return answer\n",
    "\n",
    "# solution(3, 12)\n",
    "# solution(2, 5)\n",
    "# solution(2, 7)\n",
    "solution(12, 36)"
   ]
  }
 ],
 "metadata": {
  "kernelspec": {
   "display_name": "Python 3.10.3 64-bit",
   "metadata": {
    "interpreter": {
     "hash": "98590ff4fe04c8543246b2a01debd3de3c5ca9b666f43f1fa87d5110c692004c"
    }
   },
   "name": "python3"
  },
  "language_info": {
   "codemirror_mode": {
    "name": "ipython",
    "version": 3
   },
   "file_extension": ".py",
   "mimetype": "text/x-python",
   "name": "python",
   "nbconvert_exporter": "python",
   "pygments_lexer": "ipython3",
   "version": "3.10.3"
  },
  "orig_nbformat": 2
 },
 "nbformat": 4,
 "nbformat_minor": 2
}