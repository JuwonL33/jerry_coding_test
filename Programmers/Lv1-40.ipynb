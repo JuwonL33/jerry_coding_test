{
 "cells": [
  {
   "cell_type": "code",
   "execution_count": 12,
   "metadata": {},
   "outputs": [
    {
     "data": {
      "text/plain": "229"
     },
     "execution_count": 12,
     "metadata": {},
     "output_type": "execute_result"
    }
   ],
   "source": [
    "# 3진법 뒤집기\n",
    "# https://school.programmers.co.kr/learn/courses/30/lessons/68935\n",
    "\n",
    "def solution(n):\n",
    "    rev_base = ''\n",
    "    while n > 0 : \n",
    "        n, mod = divmod(n, 3)\n",
    "        rev_base += str(mod)\n",
    "    return int(rev_base, 3)\n",
    "\n",
    "solution(45)\n",
    "solution(125)"
   ]
  },
  {
   "cell_type": "code",
   "execution_count": null,
   "metadata": {},
   "outputs": [],
   "source": [
    "# 10진수 -> n진수 변환 알고리즘\n",
    "\n",
    "def solution(n, q):\n",
    "    rev_base = ''\n",
    "\n",
    "    while n > 0:\n",
    "        n, mod = divmod(n, q)\n",
    "        rev_base += str(mod)\n",
    "\n",
    "    return rev_base[::-1] \n",
    "    # 역순인 진수를 뒤집어 줘야 원래 변환 하고자하는 base가 출력\n",
    "    \n",
    "print(solution(45, 3))\n"
   ]
  }
 ],
 "metadata": {
  "kernelspec": {
   "display_name": "Python 3.10.3 64-bit",
   "metadata": {
    "interpreter": {
     "hash": "98590ff4fe04c8543246b2a01debd3de3c5ca9b666f43f1fa87d5110c692004c"
    }
   },
   "name": "python3"
  },
  "language_info": {
   "codemirror_mode": {
    "name": "ipython",
    "version": 3
   },
   "file_extension": ".py",
   "mimetype": "text/x-python",
   "name": "python",
   "nbconvert_exporter": "python",
   "pygments_lexer": "ipython3",
   "version": "3.10.3"
  },
  "orig_nbformat": 2
 },
 "nbformat": 4,
 "nbformat_minor": 2
}