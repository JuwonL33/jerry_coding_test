{
 "cells": [
  {
   "cell_type": "code",
   "execution_count": 36,
   "metadata": {},
   "outputs": [
    {
     "name": "stdout",
     "output_type": "stream",
     "text": [
      "['', '', '', '']\n",
      "{'R': 0, 'T': 0, 'C': 0, 'F': 0, 'J': 0, 'M': 0, 'A': 0, 'N': 0}\n",
      "[0, 0, 0, 0]\n"
     ]
    },
    {
     "data": {
      "text/plain": "'NCMTA'"
     },
     "execution_count": 36,
     "metadata": {},
     "output_type": "execute_result"
    }
   ],
   "source": [
    "# 프로그래머스\n",
    "# 1단계\n",
    "# 성격 유형 검사하기\n",
    "\n",
    "def solution(survey, choices):\n",
    "    answer = ''\n",
    "    result = [''] * 4\n",
    "    print(result)\n",
    "    maps = {\n",
    "        'R' : 0,\n",
    "        'T' : 0,\n",
    "        'C' : 0, \n",
    "        'F' : 0,\n",
    "        'J' : 0,\n",
    "        'M' : 0,\n",
    "        'A' : 0,\n",
    "        'N' : 0\n",
    "    }\n",
    "\n",
    "    counts = [3,2,1,0,1,2,3]\n",
    "\n",
    "    for i in range(len(survey)) : \n",
    "        if choices[i] > 4 : \n",
    "            answer += survey[i][1]\n",
    "        elif choices[i] == 4 : continue\n",
    "        else : \n",
    "            answer += survey[i][0]\n",
    "\n",
    "    sorted(maps.values(), reverse=True)\n",
    "    \n",
    "    print(maps)\n",
    "    for key in maps.keys() : \n",
    "        if key in ['R', 'T'] : result[0] = max(maps['R'], maps['T'])\n",
    "        if key in ['C', 'F'] : result[1] = max(maps['C'], maps['F'])\n",
    "        if key in ['J', 'M'] : result[2] = max(maps['J'], maps['M'])\n",
    "        if key in ['A', 'N'] : result[3] = max(maps['A'], maps['N'])\n",
    "\n",
    "    print(result)\n",
    "\n",
    "    return answer\n",
    "\n",
    "solution([\"AN\", \"CF\", \"MJ\", \"RT\", \"NA\"],[5, 3, 2, 7, 5])\n",
    "#solution([\"TR\", \"RT\", \"TR\"],[7, 1, 3])"
   ]
  },
  {
   "cell_type": "code",
   "execution_count": 46,
   "metadata": {},
   "outputs": [
    {
     "data": {
      "text/plain": "'RCJA'"
     },
     "execution_count": 46,
     "metadata": {},
     "output_type": "execute_result"
    }
   ],
   "source": [
    "def solution(survey, choices):\n",
    "    answer = ''\n",
    "    maps = {\n",
    "    'R' : 0,\n",
    "    'T' : 0,\n",
    "    'C' : 0, \n",
    "    'F' : 0,\n",
    "    'J' : 0,\n",
    "    'M' : 0,\n",
    "    'A' : 0,\n",
    "    'N' : 0\n",
    "    }\n",
    "\n",
    "    counts = [3,2,1,0,1,2,3]\n",
    "\n",
    "    for i in range(len(survey)) : \n",
    "         if choices[i] > 4 : maps[survey[i][1]] += counts[choices[i]-1]\n",
    "         else : maps[survey[i][0]] += counts[choices[i]-1]\n",
    "\n",
    "    answer += \"R\" if maps[\"R\"] >= maps[\"T\"] else \"T\"\n",
    "    answer += \"C\" if maps[\"C\"] >= maps[\"F\"] else \"F\"\n",
    "    answer += \"J\" if maps[\"J\"] >= maps[\"M\"] else \"M\"\n",
    "    answer += \"A\" if maps[\"A\"] >= maps[\"N\"] else \"N\"\n",
    "\n",
    "    return answer\n",
    "\n",
    "solution([\"AN\", \"CF\", \"MJ\", \"RT\", \"NA\"],[5, 3, 2, 7, 5])\n",
    "solution([\"TR\", \"RT\", \"TR\"],[7, 1, 3])"
   ]
  }
 ],
 "metadata": {
  "kernelspec": {
   "display_name": "Python 3.10.3 64-bit",
   "metadata": {
    "interpreter": {
     "hash": "98590ff4fe04c8543246b2a01debd3de3c5ca9b666f43f1fa87d5110c692004c"
    }
   },
   "name": "python3"
  },
  "language_info": {
   "codemirror_mode": {
    "name": "ipython",
    "version": 3
   },
   "file_extension": ".py",
   "mimetype": "text/x-python",
   "name": "python",
   "nbconvert_exporter": "python",
   "pygments_lexer": "ipython3",
   "version": "3.10.3"
  },
  "orig_nbformat": 2
 },
 "nbformat": 4,
 "nbformat_minor": 2
}