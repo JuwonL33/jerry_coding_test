{
 "cells": [
  {
   "cell_type": "code",
   "execution_count": 7,
   "metadata": {},
   "outputs": [
    {
     "name": "stdout",
     "output_type": "stream",
     "text": [
      "숫자지렁 1\n",
      "숫자지렁 2\n",
      "*\n",
      "T\n"
     ]
    },
    {
     "data": {
      "text/plain": "0"
     },
     "execution_count": 7,
     "metadata": {},
     "output_type": "execute_result"
    }
   ],
   "source": [
    "# [1차] 다트 게임\n",
    "# https://school.programmers.co.kr/learn/courses/30/lessons/17682\n",
    "\n",
    "def solution(dartResult):\n",
    "    answer = 0\n",
    "    arr = []\n",
    "    tmp = \"\"\n",
    "    for i in range(len(dartResult)) : \n",
    "        if i % 2 == 0 :\n",
    "            if dartResult[i].isdigit() : \n",
    "                print(\"숫자 : \", dartResult[i])\n",
    "            else : \n",
    "                if dartResult[i] == '*' : \n",
    "                    print(\"*\")\n",
    "                else : \n",
    "                    print(dartResult[i])\n",
    " \n",
    "\n",
    "\n",
    "    return answer\n",
    "solution(\"1S2D*3T\")"
   ]
  }
 ],
 "metadata": {
  "kernelspec": {
   "display_name": "Python 3.10.3 64-bit",
   "metadata": {
    "interpreter": {
     "hash": "98590ff4fe04c8543246b2a01debd3de3c5ca9b666f43f1fa87d5110c692004c"
    }
   },
   "name": "python3"
  },
  "language_info": {
   "codemirror_mode": {
    "name": "ipython",
    "version": 3
   },
   "file_extension": ".py",
   "mimetype": "text/x-python",
   "name": "python",
   "nbconvert_exporter": "python",
   "pygments_lexer": "ipython3",
   "version": "3.10.3-final"
  },
  "orig_nbformat": 2
 },
 "nbformat": 4,
 "nbformat_minor": 2
}