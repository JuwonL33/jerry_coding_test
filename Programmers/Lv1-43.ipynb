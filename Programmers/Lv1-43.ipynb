{
 "cells": [
  {
   "cell_type": "code",
   "execution_count": 4,
   "metadata": {},
   "outputs": [
    {
     "data": {
      "text/plain": "9"
     },
     "execution_count": 4,
     "metadata": {},
     "output_type": "execute_result"
    }
   ],
   "source": [
    "# [1차] 다트 게임\n",
    "# https://school.programmers.co.kr/learn/courses/30/lessons/17682\n",
    "\n",
    "def solution(dartResult):\n",
    "    arr = []\n",
    "    dartResult = dartResult.replace(\"10\", \"A\")\n",
    "    bonus = {\"S\" : 1, \"D\" : 2, \"T\" : 3}\n",
    "\n",
    "    for i in dartResult : \n",
    "        if i.isdigit() or i == 'A' : \n",
    "            arr.append(10 if i == 'A' else int(i))\n",
    "        elif i in (\"S\", \"D\", \"T\") : \n",
    "            num = arr.pop()\n",
    "            arr.append(num ** bonus[i])\n",
    "        elif i == \"#\" : \n",
    "            arr[-1] *= -1\n",
    "        elif i == '*' : \n",
    "            num = arr.pop()\n",
    "            if len(arr) : \n",
    "                arr[-1] *= 2\n",
    "            arr.append(2 * num)\n",
    "    return sum(arr)\n",
    "\n",
    "solution(\"1S2D*3T\")\n",
    "solution(\"1D2S#10S\")"
   ]
  }
 ],
 "metadata": {
  "kernelspec": {
   "display_name": "Python 3.10.3 64-bit",
   "metadata": {
    "interpreter": {
     "hash": "98590ff4fe04c8543246b2a01debd3de3c5ca9b666f43f1fa87d5110c692004c"
    }
   },
   "name": "python3"
  },
  "language_info": {
   "codemirror_mode": {
    "name": "ipython",
    "version": 3
   },
   "file_extension": ".py",
   "mimetype": "text/x-python",
   "name": "python",
   "nbconvert_exporter": "python",
   "pygments_lexer": "ipython3",
   "version": "3.10.3"
  },
  "orig_nbformat": 2
 },
 "nbformat": 4,
 "nbformat_minor": 2
}