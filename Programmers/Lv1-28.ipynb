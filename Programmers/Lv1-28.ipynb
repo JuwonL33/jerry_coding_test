{
 "cells": [
  {
   "cell_type": "code",
   "execution_count": 8,
   "metadata": {},
   "outputs": [
    {
     "data": {
      "text/plain": "43"
     },
     "execution_count": 8,
     "metadata": {},
     "output_type": "execute_result"
    }
   ],
   "source": [
    "# 약수의 개수와 덧셈\n",
    "\n",
    "def solution(left, right):\n",
    "    answer = 0\n",
    "    cnt = 0\n",
    "    arr = []\n",
    "\n",
    "    for i in range(left, right+1) : \n",
    "        for j in range(1, i+1) : \n",
    "            if i % j == 0 : \n",
    "                cnt += 1\n",
    "        arr.append([i, cnt])\n",
    "        cnt = 0\n",
    "\n",
    "    for j in range(len(arr)) : \n",
    "        if arr[j][1] % 2 == 0 : \n",
    "            answer += arr[j][0]\n",
    "        else : \n",
    "            answer -= arr[j][0]\n",
    "\n",
    "    return answer\n",
    "\n",
    "solution(13, 17)\n",
    "# solution(24, 27)\n"
   ]
  }
 ],
 "metadata": {
  "kernelspec": {
   "display_name": "Python 3.10.3 64-bit",
   "metadata": {
    "interpreter": {
     "hash": "98590ff4fe04c8543246b2a01debd3de3c5ca9b666f43f1fa87d5110c692004c"
    }
   },
   "name": "python3"
  },
  "language_info": {
   "codemirror_mode": {
    "name": "ipython",
    "version": 3
   },
   "file_extension": ".py",
   "mimetype": "text/x-python",
   "name": "python",
   "nbconvert_exporter": "python",
   "pygments_lexer": "ipython3",
   "version": "3.10.3"
  },
  "orig_nbformat": 2
 },
 "nbformat": 4,
 "nbformat_minor": 2
}