{
 "cells": [
  {
   "cell_type": "code",
   "execution_count": 19,
   "metadata": {},
   "outputs": [
    {
     "data": {
      "text/plain": "6"
     },
     "execution_count": 19,
     "metadata": {},
     "output_type": "execute_result"
    }
   ],
   "source": [
    "def solution(begin, target, words):\n",
    "    answer = 0\n",
    "    visited = [False] * len(words)\n",
    "    \n",
    "    if target not in words :            # target이 words안에 없으면 0 리턴\n",
    "        answer = 0\n",
    "    else : \n",
    "        for i in range(len(words)) : \n",
    "            if visited[i] == False : \n",
    "                dfs(len(words), words, i, visited)\n",
    "                answer += 1\n",
    "    return answer\n",
    "\n",
    "\n",
    "def dfs(n, words, idx, visited) : \n",
    "    visited[idx] = True\n",
    "    for connect in range(len(words[0])) :                                   \n",
    "        if connect != idx and words[idx][connect] == 1 :                    \n",
    "            if visited[connect] == False :                                  \n",
    "                dfs(n, words, connect, visited)                             \n",
    "\n",
    "solution(\"hit\",\"cog\",[\"hot\", \"dot\", \"dog\", \"lot\", \"log\", \"cog\"])\n",
    "solution(\"hit\",\"cog\",[\"hot\", \"dot\", \"dog\", \"lot\", \"log\"])\n"
   ]
  },
  {
   "cell_type": "code",
   "execution_count": 33,
   "metadata": {},
   "outputs": [
    {
     "data": {
      "text/plain": "4"
     },
     "execution_count": 33,
     "metadata": {},
     "output_type": "execute_result"
    }
   ],
   "source": [
    "from collections import deque\n",
    "\n",
    "def solution(begin, target, words):\n",
    "    answer = 0\n",
    "    queue = deque()\n",
    "    queue.append([begin, 0])\n",
    "    visited = [False] * (len(words)+1)\n",
    "    while queue : \n",
    "        word, cnt = queue.popleft()\n",
    "        if word == target : \n",
    "            answer = cnt\n",
    "            break\n",
    "        for i in range(len(words)) : \n",
    "            temp_cnt = 0\n",
    "            if visited[i] == False : \n",
    "                for j in range(len(word)) : \n",
    "                    if word[j] != words[i][j] : \n",
    "                        temp_cnt += 1\n",
    "                if temp_cnt == 1 : \n",
    "                    queue.append([words[i], cnt+1])\n",
    "                    visited[i] = True\n",
    "    \n",
    "    return answer\n",
    "\n",
    "\n",
    "\n",
    "solution(\"hit\",\"cog\",[\"hot\", \"dot\", \"dog\", \"lot\", \"log\", \"cog\"])\n",
    "# solution(\"hit\",\"cog\",[\"hot\", \"dot\", \"dog\", \"lot\", \"log\"])\n"
   ]
  },
  {
   "cell_type": "code",
   "execution_count": 25,
   "metadata": {},
   "outputs": [
    {
     "name": "stdout",
     "output_type": "stream",
     "text": [
      "[0, 0, 0, 0, 0, 0]\n"
     ]
    },
    {
     "data": {
      "text/plain": "4"
     },
     "execution_count": 25,
     "metadata": {},
     "output_type": "execute_result"
    }
   ],
   "source": [
    "from collections import deque\n",
    "\n",
    "\n",
    "def solution(begin, target, words):\n",
    "    answer = 0\n",
    "    q = deque()\n",
    "    q.append([begin, 0])\n",
    "    V = [ 0 for i in range(len(words))]\n",
    "    print(V)\n",
    "    while q:\n",
    "        word, cnt = q.popleft()\n",
    "        if word == target:\n",
    "            answer = cnt\n",
    "            break        \n",
    "        for i in range(len(words)):\n",
    "            temp_cnt = 0\n",
    "            if not V[i]:\n",
    "                for j in range(len(word)):\n",
    "                    if word[j] != words[i][j]:\n",
    "                        temp_cnt += 1\n",
    "                if temp_cnt == 1:\n",
    "                    q.append([words[i], cnt+1])\n",
    "                    V[i] = 1\n",
    "                    \n",
    "    return answer\n",
    "\n",
    "solution(\"hit\",\"cog\",[\"hot\", \"dot\", \"dog\", \"lot\", \"log\", \"cog\"])\n"
   ]
  }
 ],
 "metadata": {
  "kernelspec": {
   "display_name": "Python 3.10.3 64-bit",
   "metadata": {
    "interpreter": {
     "hash": "98590ff4fe04c8543246b2a01debd3de3c5ca9b666f43f1fa87d5110c692004c"
    }
   },
   "name": "python3"
  },
  "language_info": {
   "codemirror_mode": {
    "name": "ipython",
    "version": 3
   },
   "file_extension": ".py",
   "mimetype": "text/x-python",
   "name": "python",
   "nbconvert_exporter": "python",
   "pygments_lexer": "ipython3",
   "version": "3.10.3-final"
  },
  "orig_nbformat": 2
 },
 "nbformat": 4,
 "nbformat_minor": 2
}