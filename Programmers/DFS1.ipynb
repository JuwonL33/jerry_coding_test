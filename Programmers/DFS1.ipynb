{
 "cells": [
  {
   "cell_type": "code",
   "execution_count": 12,
   "metadata": {},
   "outputs": [
    {
     "data": {
      "text/plain": "1"
     },
     "execution_count": 12,
     "metadata": {},
     "output_type": "execute_result"
    }
   ],
   "source": [
    "# DFS로 푸는 방법\n",
    "\n",
    "def solution(n, computers) : \n",
    "    answer = 0\n",
    "    visited = [False] * n\n",
    "    for computer in range(n) : \n",
    "        if visited[computer] == False : \n",
    "            dfs(n, computers, computer, visited)\n",
    "            answer += 1\n",
    "    return answer\n",
    "\n",
    "def dfs(n, computers, computer, visited) : \n",
    "    visited[computer] = True\n",
    "    for connect in range(n) : \n",
    "        if connect != computer and computers[computer][connect] == 1 :        # 연결된 컴퓨터\n",
    "            if visited[connect] == False : \n",
    "                dfs(n, computers, connect, visited)\n",
    "\n",
    "\n",
    "solution(3, [[1, 1, 0], [1, 1, 0], [0, 0, 1]])\n",
    "solution(3, [[1, 1, 0], [1, 1, 1], [0, 1, 1]])"
   ]
  },
  {
   "cell_type": "code",
   "execution_count": 16,
   "metadata": {},
   "outputs": [
    {
     "data": {
      "text/plain": "1"
     },
     "execution_count": 16,
     "metadata": {},
     "output_type": "execute_result"
    }
   ],
   "source": [
    "# BFS로 푸는 방법\n",
    "\n",
    "from collections import deque\n",
    "\n",
    "def solution(n, computers) : \n",
    "    answer = 0\n",
    "\n",
    "    visited = [False] * n\n",
    "\n",
    "    for i in range(n) : \n",
    "        if visited[i] == False : \n",
    "            bfs(n, computers, i, visited)    \n",
    "            answer += 1\n",
    "\n",
    "    return answer\n",
    "\n",
    "def bfs(n, computers, start, visited) : \n",
    "    visited[start] = True\n",
    "    queue = deque()\n",
    "    queue.append(start)\n",
    "\n",
    "    while queue : \n",
    "        i = queue.popleft()\n",
    "        visited[i] = True\n",
    "        for j in range(n) : \n",
    "            if i != j and computers[i][j] == 1 : \n",
    "                if visited[j] == False : \n",
    "                    queue.append(j)\n",
    "\n",
    "solution(3, [[1, 1, 0], [1, 1, 0], [0, 0, 1]])\n",
    "solution(3, [[1, 1, 0], [1, 1, 1], [0, 1, 1]])"
   ]
  }
 ],
 "metadata": {
  "kernelspec": {
   "display_name": "Python 3.10.3 64-bit",
   "metadata": {
    "interpreter": {
     "hash": "98590ff4fe04c8543246b2a01debd3de3c5ca9b666f43f1fa87d5110c692004c"
    }
   },
   "name": "python3"
  },
  "language_info": {
   "codemirror_mode": {
    "name": "ipython",
    "version": 3
   },
   "file_extension": ".py",
   "mimetype": "text/x-python",
   "name": "python",
   "nbconvert_exporter": "python",
   "pygments_lexer": "ipython3",
   "version": "3.10.3"
  },
  "orig_nbformat": 2
 },
 "nbformat": 4,
 "nbformat_minor": 2
}