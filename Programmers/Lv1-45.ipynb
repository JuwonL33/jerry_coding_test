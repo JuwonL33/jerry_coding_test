{
 "cells": [
  {
   "cell_type": "code",
   "execution_count": null,
   "metadata": {},
   "outputs": [],
   "source": [
    "# 키패드 누르기\n",
    "# https://school.programmers.co.kr/learn/courses/30/lessons/67256\n",
    "\n",
    "def solution(numbers, hand):\n",
    "    answer = ''\n",
    "\n",
    "    left = [1, 4, 7]\n",
    "    right = [3, 6, 9]\n",
    "\n",
    "    for number in numbers : \n",
    "\n",
    "\n",
    "    return answer\n",
    "\n",
    "solution([1, 3, 4, 5, 8, 2, 1, 4, 5, 9, 5], \"right\")\n",
    "solution([7, 0, 8, 2, 8, 3, 1, 5, 7, 6, 2], \"left\")\n",
    "solution([1, 2, 3, 4, 5, 6, 7, 8, 9, 0], \"right\")"
   ]
  }
 ],
 "metadata": {
  "kernelspec": {
   "display_name": "Python 3.10.3 64-bit",
   "metadata": {
    "interpreter": {
     "hash": "98590ff4fe04c8543246b2a01debd3de3c5ca9b666f43f1fa87d5110c692004c"
    }
   },
   "name": "python3"
  },
  "language_info": {
   "name": "python",
   "nbconvert_exporter": "python",
   "version": "3.10.3-final"
  },
  "orig_nbformat": 2
 },
 "nbformat": 4,
 "nbformat_minor": 2
}