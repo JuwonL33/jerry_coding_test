{
 "cells": [
  {
   "cell_type": "code",
   "execution_count": 1,
   "metadata": {},
   "outputs": [
    {
     "data": {
      "text/plain": "'LLRLLRLLRL'"
     },
     "execution_count": 1,
     "metadata": {},
     "output_type": "execute_result"
    }
   ],
   "source": [
    "# 키패드 누르기\n",
    "# https://school.programmers.co.kr/learn/courses/30/lessons/67256\n",
    "\n",
    "def solution(numbers, hand):\n",
    "    answer = ''\n",
    "\n",
    "    dic = {\n",
    "        1: [0,0], 2: [0,1], 3: [0,2],\n",
    "        4: [1,0], 5: [1,1], 6: [1,2],\n",
    "        7: [2,0], 8: [2,1], 9: [2,2],\n",
    "        '*': [3,0], 0: [3,1], '#': [3,2]\n",
    "    }\n",
    "\n",
    "    # 시작 위치\n",
    "    left_start = dic['*']\n",
    "    right_start = dic['#']\n",
    "\n",
    "    for i in numbers : \n",
    "        now = dic[i]\n",
    "        if i in [1,4,7] : \n",
    "            answer += \"L\"\n",
    "            left_start = now\n",
    "        elif i in [3,6,9] : \n",
    "            answer += \"R\"\n",
    "            right_start = now\n",
    "\n",
    "        # 2,5,8,0 누르는 경우\n",
    "        else : \n",
    "            left_d = 0\n",
    "            right_d = 0\n",
    "\n",
    "            # 좌표 거리 계산\n",
    "            for a, b, c in zip(left_start, right_start, now) : \n",
    "                left_d += abs(a-c)\n",
    "                right_d += abs(b-c)\n",
    "\n",
    "            if left_d < right_d : \n",
    "                answer += 'L'\n",
    "                left_start = now\n",
    "            elif left_d > right_d : \n",
    "                answer += 'R'\n",
    "                right_start = now\n",
    "            else : \n",
    "                if hand == 'left' : \n",
    "                    answer += 'L'\n",
    "                    left_start = now\n",
    "                else : \n",
    "                    answer += 'R'\n",
    "                    right_start = now\n",
    "    return answer\n",
    "\n",
    "solution([1, 3, 4, 5, 8, 2, 1, 4, 5, 9, 5], \"right\")\n",
    "solution([7, 0, 8, 2, 8, 3, 1, 5, 7, 6, 2], \"left\")\n",
    "solution([1, 2, 3, 4, 5, 6, 7, 8, 9, 0], \"right\")"
   ]
  },
  {
   "cell_type": "code",
   "execution_count": 7,
   "metadata": {},
   "outputs": [
    {
     "data": {
      "text/plain": "'LLRLLRLLRL'"
     },
     "execution_count": 7,
     "metadata": {},
     "output_type": "execute_result"
    }
   ],
   "source": [
    "def solution(numbers, hand):\n",
    "    answer = ''\n",
    "    dic = {\n",
    "        1 : [0, 0], 2 : [0, 1], 3 : [0, 2],\n",
    "        4 : [1, 0], 5 : [1, 1], 6 : [1, 2],\n",
    "        7 : [2, 0], 8 : [2, 1], 9 : [2, 2],\n",
    "        '*' : [3, 0], 0 : [3, 1], '#' : [3, 2]\n",
    "    }\n",
    "\n",
    "    # 시작 위치\n",
    "    left_s = dic['*']\n",
    "    right_s = dic['#']\n",
    "\n",
    "    for i in numbers : \n",
    "        now = dic[i]\n",
    "        if i in [1, 4, 7] : \n",
    "            answer += 'L'\n",
    "            left_s = now\n",
    "        elif i in [3, 6, 9] : \n",
    "            answer += 'R'\n",
    "            right_s = now\n",
    "        else : \n",
    "            left_d = 0\n",
    "            right_d = 0\n",
    "            # 2, 5, 8, 0 일 때\n",
    "            for a, b, c in zip(left_s, right_s, now) : \n",
    "                left_d += abs(a-c)\n",
    "                right_d += abs(b-c)\n",
    "\n",
    "            if left_d < right_d : \n",
    "                answer += 'L'\n",
    "                left_s = now\n",
    "            elif left_d > right_d : \n",
    "                answer += 'R'\n",
    "                right_s = now\n",
    "            else : \n",
    "                if hand == 'left' : \n",
    "                    answer += 'L'\n",
    "                    left_s = now\n",
    "                else : \n",
    "                    answer += 'R'\n",
    "                    right_s = now\n",
    "    return answer\n",
    "\n",
    "solution([1, 3, 4, 5, 8, 2, 1, 4, 5, 9, 5], \"right\")\n",
    "solution([7, 0, 8, 2, 8, 3, 1, 5, 7, 6, 2], \"left\")\n",
    "solution([1, 2, 3, 4, 5, 6, 7, 8, 9, 0], \"right\")"
   ]
  }
 ],
 "metadata": {
  "kernelspec": {
   "display_name": "Python 3.10.3 64-bit",
   "metadata": {
    "interpreter": {
     "hash": "98590ff4fe04c8543246b2a01debd3de3c5ca9b666f43f1fa87d5110c692004c"
    }
   },
   "name": "python3"
  },
  "language_info": {
   "codemirror_mode": {
    "name": "ipython",
    "version": 3
   },
   "file_extension": ".py",
   "mimetype": "text/x-python",
   "name": "python",
   "nbconvert_exporter": "python",
   "pygments_lexer": "ipython3",
   "version": "3.10.3"
  },
  "orig_nbformat": 2
 },
 "nbformat": 4,
 "nbformat_minor": 2
}