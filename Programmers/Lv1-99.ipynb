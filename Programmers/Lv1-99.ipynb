{
 "cells": [
  {
   "cell_type": "code",
   "execution_count": 11,
   "metadata": {},
   "outputs": [
    {
     "data": {
      "text/plain": "[1, 2, 3]"
     },
     "execution_count": 11,
     "metadata": {},
     "output_type": "execute_result"
    }
   ],
   "source": [
    "# 완전탐색\n",
    "# Lv 1\n",
    "\n",
    "def solution(answers) : \n",
    "    answer = []\n",
    "    students = [[1,2,3,4,5], [2, 1, 2, 3, 2, 4, 2, 5], [3, 3, 1, 1, 2, 2, 4, 4, 5, 5]]\n",
    "    ans_cnt = [0, 0, 0]\n",
    "\n",
    "    for i in range(len(students)) : \n",
    "        for j in range(len(answers)) : \n",
    "            n = len(students[i])\n",
    "            if answers[j] == students[i][j%n] : \n",
    "                ans_cnt[i] += 1\n",
    "\n",
    "    for idx, score in enumerate(ans_cnt) :\n",
    "        if score == max(ans_cnt) : \n",
    "            answer.append(idx+1)\n",
    "    return answer\n",
    "\n",
    "solution([1,2,3,4,5])\n",
    "solution([1,3,2,4,2])"
   ]
  }
 ],
 "metadata": {
  "kernelspec": {
   "display_name": "Python 3.10.3 64-bit",
   "metadata": {
    "interpreter": {
     "hash": "98590ff4fe04c8543246b2a01debd3de3c5ca9b666f43f1fa87d5110c692004c"
    }
   },
   "name": "python3"
  },
  "language_info": {
   "codemirror_mode": {
    "name": "ipython",
    "version": 3
   },
   "file_extension": ".py",
   "mimetype": "text/x-python",
   "name": "python",
   "nbconvert_exporter": "python",
   "pygments_lexer": "ipython3",
   "version": "3.10.3"
  },
  "orig_nbformat": 2
 },
 "nbformat": 4,
 "nbformat_minor": 2
}