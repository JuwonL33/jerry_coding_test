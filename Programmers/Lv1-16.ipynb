{
 "cells": [
  {
   "cell_type": "code",
   "execution_count": null,
   "metadata": {},
   "outputs": [],
   "source": [
    "# 이상한 문자 만들기\n",
    "\n",
    "def solution(s) : \n",
    "    answer = ''\n",
    "    blank = []\n",
    "    for i in s : \n",
    "        if i == ' ' : \n",
    "            blank.append(s.index(i))\n",
    "            \n",
    "\n",
    "    print(blank)\n",
    "    return answer\n",
    "\n",
    "solution(\"try hello world\")\n",
    "solution(\"abc abc  abc   abc\")\n",
    "\n",
    "# \"AbC(공백1개)AbC(공백2개)AbC(공백3개)AbC\""
   ]
  }
 ],
 "metadata": {
  "kernelspec": {
   "display_name": "Python 3.10.3 64-bit",
   "metadata": {
    "interpreter": {
     "hash": "98590ff4fe04c8543246b2a01debd3de3c5ca9b666f43f1fa87d5110c692004c"
    }
   },
   "name": "python3"
  },
  "language_info": {
   "codemirror_mode": {
    "name": "ipython",
    "version": 3
   },
   "file_extension": ".py",
   "mimetype": "text/x-python",
   "name": "python",
   "nbconvert_exporter": "python",
   "pygments_lexer": "ipython3",
   "version": "3.10.3"
  },
  "orig_nbformat": 2
 },
 "nbformat": 4,
 "nbformat_minor": 2
}