{
 "cells": [
  {
   "cell_type": "code",
   "execution_count": 8,
   "metadata": {},
   "outputs": [
    {
     "name": "stdout",
     "output_type": "stream",
     "text": [
      "7\n",
      "8\n",
      "10\n",
      "13\n",
      "19\n",
      "20\n",
      "23\n"
     ]
    }
   ],
   "source": [
    "# 완전탐색\n",
    "# 2309\n",
    "# 일곱난쟁이\n",
    "\n",
    "from itertools import permutations\n",
    "\n",
    "dwarps = []\n",
    "for _ in range(9) : \n",
    "    dwarps.append(int(input()))\n",
    "\n",
    "sub = sum(dwarps) - 100 \n",
    "\n",
    "for i in permutations(dwarps, 2) : \n",
    "    if sum(i) == sub :\n",
    "        del dwarps[dwarps.index(i[0])]\n",
    "        del dwarps[dwarps.index(i[1])]\n",
    "        break\n",
    "\n",
    "dwarps.sort()\n",
    "\n",
    "for dwarp in dwarps : \n",
    "    print(dwarp)"
   ]
  },
  {
   "cell_type": "code",
   "execution_count": null,
   "metadata": {},
   "outputs": [],
   "source": [
    "# 2309\n",
    "# 완전탐색\n",
    "# 일곱난쟁이\n",
    "\n",
    "height = sorted([int(input()) for _ in range(9)])\n",
    "total = sum(height)\n",
    " \n",
    "def solution():\n",
    "  for i in range(8):\n",
    "    for j in range(i+1, 9):\n",
    "      if total - height[i] - height[j] == 100:\n",
    "        return i, j\n",
    " \n",
    "i, j = solution()\n",
    "for k in range(9):\n",
    "  if k == i or k == j:\n",
    "    continue\n",
    "  print(height[k])\n"
   ]
  }
 ],
 "metadata": {
  "kernelspec": {
   "display_name": "Python 3.10.3 64-bit",
   "metadata": {
    "interpreter": {
     "hash": "98590ff4fe04c8543246b2a01debd3de3c5ca9b666f43f1fa87d5110c692004c"
    }
   },
   "name": "python3"
  },
  "language_info": {
   "codemirror_mode": {
    "name": "ipython",
    "version": 3
   },
   "file_extension": ".py",
   "mimetype": "text/x-python",
   "name": "python",
   "nbconvert_exporter": "python",
   "pygments_lexer": "ipython3",
   "version": "3.10.3-final"
  },
  "orig_nbformat": 2
 },
 "nbformat": 4,
 "nbformat_minor": 2
}