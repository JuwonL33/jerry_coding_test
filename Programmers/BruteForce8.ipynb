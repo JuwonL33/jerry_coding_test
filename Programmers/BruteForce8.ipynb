{
 "cells": [
  {
   "cell_type": "code",
   "execution_count": 7,
   "metadata": {},
   "outputs": [
    {
     "name": "stdout",
     "output_type": "stream",
     "text": [
      "15 25\n"
     ]
    },
    {
     "ename": "IndexError",
     "evalue": "pop index out of range",
     "output_type": "error",
     "traceback": [
      "\u001b[0;31m---------------------------------------------------------------------------\u001b[0m",
      "\u001b[0;31mIndexError\u001b[0m                                Traceback (most recent call last)",
      "Input \u001b[0;32mIn [7]\u001b[0m, in \u001b[0;36m<cell line: 13>\u001b[0;34m()\u001b[0m\n\u001b[1;32m     14\u001b[0m \u001b[38;5;28;01mif\u001b[39;00m \u001b[38;5;28msum\u001b[39m(i) \u001b[38;5;241m==\u001b[39m sub :\n\u001b[1;32m     15\u001b[0m     \u001b[38;5;28mprint\u001b[39m(i[\u001b[38;5;241m0\u001b[39m], i[\u001b[38;5;241m1\u001b[39m])\n\u001b[0;32m---> 16\u001b[0m     \u001b[43mdwarps\u001b[49m\u001b[38;5;241;43m.\u001b[39;49m\u001b[43mpop\u001b[49m\u001b[43m(\u001b[49m\u001b[43mi\u001b[49m\u001b[43m[\u001b[49m\u001b[38;5;241;43m0\u001b[39;49m\u001b[43m]\u001b[49m\u001b[43m)\u001b[49m\n\u001b[1;32m     17\u001b[0m     dwarps\u001b[38;5;241m.\u001b[39mpop(i[\u001b[38;5;241m1\u001b[39m])\n\u001b[1;32m     18\u001b[0m     \u001b[38;5;28;01mbreak\u001b[39;00m\n",
      "\u001b[0;31mIndexError\u001b[0m: pop index out of range"
     ]
    }
   ],
   "source": [
    "# 완전탐색\n",
    "# 2309\n",
    "# 일곱난쟁이\n",
    "\n",
    "from itertools import permutations\n",
    "\n",
    "dwarps = []\n",
    "for _ in range(9) : \n",
    "    dwarps.append(int(input()))\n",
    "\n",
    "sub = sum(dwarps) - 100 \n",
    "\n",
    "for i in permutations(dwarps, 2) : \n",
    "    if sum(i) == sub :\n",
    "        del dwarps[dwarps.index(i[0])]\n",
    "        del dwarps[dwarps.index(i[1])]\n",
    "        break\n",
    "\n",
    "dwarps.sort()\n",
    "\n",
    "for dwarp in dwarps : \n",
    "    print(dwarp)"
   ]
  }
 ],
 "metadata": {
  "kernelspec": {
   "display_name": "Python 3.10.3 64-bit",
   "metadata": {
    "interpreter": {
     "hash": "98590ff4fe04c8543246b2a01debd3de3c5ca9b666f43f1fa87d5110c692004c"
    }
   },
   "name": "python3"
  },
  "language_info": {
   "codemirror_mode": {
    "name": "ipython",
    "version": 3
   },
   "file_extension": ".py",
   "mimetype": "text/x-python",
   "name": "python",
   "nbconvert_exporter": "python",
   "pygments_lexer": "ipython3",
   "version": "3.10.3"
  },
  "orig_nbformat": 2
 },
 "nbformat": 4,
 "nbformat_minor": 2
}