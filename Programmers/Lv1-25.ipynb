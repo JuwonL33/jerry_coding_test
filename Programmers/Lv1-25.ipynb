{
 "cells": [
  {
   "cell_type": "code",
   "execution_count": 47,
   "metadata": {},
   "outputs": [
    {
     "data": {
      "text/plain": "'e F d'"
     },
     "execution_count": 47,
     "metadata": {},
     "output_type": "execute_result"
    }
   ],
   "source": [
    "# 시저 암호\n",
    "\n",
    "def solution(s, n):\n",
    "    alphabet = ['']\n",
    "\n",
    "    for i in range(0,26) : \n",
    "        alphabet.append(chr(65+i))\n",
    "\n",
    "    answer = ''\n",
    "    for i in range(len(s)) :\n",
    "        if s[i].isalpha() : \n",
    "            if s[i].isupper() == True :\n",
    "                if alphabet.index(s[i])+n > 26 : answer += alphabet[alphabet.index(s[i].upper())+n-26]\n",
    "                else : answer += alphabet[alphabet.index(s[i])+n]\n",
    "            else : \n",
    "                if alphabet.index(s[i].upper())+n > 26 : answer += alphabet[alphabet.index(s[i].upper())+n-26].lower()\n",
    "                else : answer += alphabet[alphabet.index(s[i].upper())+n].lower()\n",
    "        else : \n",
    "            answer += ' '\n",
    "    return answer\n",
    "\n",
    "#solution(\"AB\", 1)\n",
    "#solution(\"z\", 1)\n",
    "solution(\"a B z\", 4)\n",
    "#solution(\"P\", 15) \n",
    "#result \"E\""
   ]
  }
 ],
 "metadata": {
  "kernelspec": {
   "display_name": "Python 3.10.3 64-bit",
   "metadata": {
    "interpreter": {
     "hash": "98590ff4fe04c8543246b2a01debd3de3c5ca9b666f43f1fa87d5110c692004c"
    }
   },
   "name": "python3"
  },
  "language_info": {
   "codemirror_mode": {
    "name": "ipython",
    "version": 3
   },
   "file_extension": ".py",
   "mimetype": "text/x-python",
   "name": "python",
   "nbconvert_exporter": "python",
   "pygments_lexer": "ipython3",
   "version": "3.10.3"
  },
  "orig_nbformat": 2
 },
 "nbformat": 4,
 "nbformat_minor": 2
}