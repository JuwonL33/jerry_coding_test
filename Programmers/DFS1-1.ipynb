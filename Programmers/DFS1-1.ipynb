{
 "cells": [
  {
   "cell_type": "code",
   "execution_count": 2,
   "metadata": {},
   "outputs": [
    {
     "data": {
      "text/plain": "1"
     },
     "execution_count": 2,
     "metadata": {},
     "output_type": "execute_result"
    }
   ],
   "source": [
    "# 타겟 넘버\n",
    "\n",
    "def solution(numbers, target) : \n",
    "    answer = 0\n",
    "    def dfs(idx, result) : \n",
    "        if idx == len(numbers) : \n",
    "            if result == target : \n",
    "                nonlocal answer\n",
    "                answer += 1\n",
    "            return\n",
    "        else : \n",
    "            dfs(idx+1, result+numbers[idx])\n",
    "            dfs(idx+1, result-numbers[idx])\n",
    "\n",
    "    dfs(0, 0)\n",
    "    return answer"
   ]
  },
  {
   "cell_type": "code",
   "execution_count": null,
   "metadata": {},
   "outputs": [],
   "source": [
    "def solution(numbers, target) : \n",
    "    answer = 0\n",
    "    def dfs(idx, result) : \n",
    "        if idx == len(numbers) : \n",
    "            if result == target : \n",
    "                nonlocal answer\n",
    "                answer += 1\n",
    "            return\n",
    "        else : \n",
    "            dfs(idx+1, result+numbers[idx])\n",
    "            dfs(idx-1, result-numbers[idx])\n",
    "    dfs(0, 0)\n",
    "    return answer"
   ]
  }
 ],
 "metadata": {
  "kernelspec": {
   "display_name": "Python 3.10.3 64-bit",
   "metadata": {
    "interpreter": {
     "hash": "98590ff4fe04c8543246b2a01debd3de3c5ca9b666f43f1fa87d5110c692004c"
    }
   },
   "name": "python3"
  },
  "language_info": {
   "codemirror_mode": {
    "name": "ipython",
    "version": 3
   },
   "file_extension": ".py",
   "mimetype": "text/x-python",
   "name": "python",
   "nbconvert_exporter": "python",
   "pygments_lexer": "ipython3",
   "version": "3.10.3"
  },
  "orig_nbformat": 2
 },
 "nbformat": 4,
 "nbformat_minor": 2
}