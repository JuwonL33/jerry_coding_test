{
 "cells": [
  {
   "cell_type": "code",
   "execution_count": 6,
   "metadata": {},
   "outputs": [
    {
     "data": {
      "text/plain": "234567"
     },
     "execution_count": 6,
     "metadata": {},
     "output_type": "execute_result"
    }
   ],
   "source": [
    "# 숫자 문자열과 영단어\n",
    "\n",
    "def solution(s):\n",
    "    answer = \"\"\n",
    "\n",
    "    tmp = ''\n",
    "    numbers = ['zero', 'one', 'two', 'three', 'four', 'five', 'six', 'seven', 'eight', 'nine']\n",
    "\n",
    "    for i in s : \n",
    "        if i.isdigit() : answer += i\n",
    "        else : \n",
    "            tmp += i\n",
    "\n",
    "        if tmp in numbers : \n",
    "            answer += str(numbers.index(tmp))\n",
    "            tmp = ''\n",
    "\n",
    "    return int(answer)\n",
    "\n",
    "solution(\"one4seveneight\")\n",
    "solution(\"23four5six7\")\n",
    "#solution(\"2three45sixseven\")\n",
    "#solution(\"123\")"
   ]
  },
  {
   "cell_type": "code",
   "execution_count": null,
   "metadata": {},
   "outputs": [],
   "source": [
    "# 더 좋은 코드 \n",
    "\n",
    "num_dic = {\"zero\":\"0\", \"one\":\"1\", \"two\":\"2\", \"three\":\"3\", \"four\":\"4\", \"five\":\"5\", \"six\":\"6\", \"seven\":\"7\", \"eight\":\"8\", \"nine\":\"9\"}\n",
    "\n",
    "def solution(s):\n",
    "    answer = s\n",
    "    for key, value in num_dic.items():\n",
    "        answer = answer.replace(key, value)\n",
    "    return int(answer)"
   ]
  }
 ],
 "metadata": {
  "kernelspec": {
   "display_name": "Python 3.10.3 64-bit",
   "metadata": {
    "interpreter": {
     "hash": "98590ff4fe04c8543246b2a01debd3de3c5ca9b666f43f1fa87d5110c692004c"
    }
   },
   "name": "python3"
  },
  "language_info": {
   "codemirror_mode": {
    "name": "ipython",
    "version": 3
   },
   "file_extension": ".py",
   "mimetype": "text/x-python",
   "name": "python",
   "nbconvert_exporter": "python",
   "pygments_lexer": "ipython3",
   "version": "3.10.3"
  },
  "orig_nbformat": 2
 },
 "nbformat": 4,
 "nbformat_minor": 2
}