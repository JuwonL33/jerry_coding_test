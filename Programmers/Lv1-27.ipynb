{
 "cells": [
  {
   "cell_type": "code",
   "execution_count": 61,
   "metadata": {},
   "outputs": [
    {
     "data": {
      "text/plain": "['######', '###  #', '##  ##', ' #### ', ' #####', '### # ']"
     },
     "execution_count": 61,
     "metadata": {},
     "output_type": "execute_result"
    }
   ],
   "source": [
    "# [1차] 비밀지도\n",
    "\n",
    "def solution(n, arr1, arr2):\n",
    "    fin_arr = []\n",
    "    answer = [[''] * n for _ in range(n)]\n",
    "    tmp = ''\n",
    "\n",
    "\n",
    "    for i in arr1 : \n",
    "        if len(str(bin(i))[2:]) < n : fin_arr.append((n-len(str(bin(i))[2:])) * '0' +str(bin(i))[2:])\n",
    "        else : fin_arr.append(str(bin(i))[2:])\n",
    "\n",
    "    for i in range(len(answer)) : \n",
    "        for j in range(len(answer[i])) : \n",
    "            if fin_arr[i][j] == '0' : answer[i][j]= (' ')\n",
    "            else : answer[i][j]=('#')\n",
    "\n",
    "    fin_arr = []\n",
    "\n",
    "    for i in arr2 : \n",
    "        if len(str(bin(i))[2:]) < n : fin_arr.append((n-len(str(bin(i))[2:])) * '0' +str(bin(i))[2:])\n",
    "        else : fin_arr.append(str(bin(i))[2:])\n",
    "\n",
    "    for i in range(len(answer)) : \n",
    "        for j in range(len(answer[i])) : \n",
    "            if answer[i][j] == ' ' : \n",
    "                if fin_arr[i][j] == '0' : continue\n",
    "                else : answer[i][j] = '#'\n",
    "\n",
    "    real_answer = []\n",
    "    for i in range(len(answer)) : \n",
    "        real_answer.append(\"\".join(answer[i]))\n",
    "    return real_answer\n",
    "\n",
    "\n",
    "# solution(5, [9, 20, 28, 18, 11], [30, 1, 21, 17, 28])\n",
    "solution(6, [46, 33, 33 ,22, 31, 50], [27 ,56, 19, 14, 14, 10])"
   ]
  }
 ],
 "metadata": {
  "kernelspec": {
   "display_name": "Python 3.10.3 64-bit",
   "metadata": {
    "interpreter": {
     "hash": "98590ff4fe04c8543246b2a01debd3de3c5ca9b666f43f1fa87d5110c692004c"
    }
   },
   "name": "python3"
  },
  "language_info": {
   "codemirror_mode": {
    "name": "ipython",
    "version": 3
   },
   "file_extension": ".py",
   "mimetype": "text/x-python",
   "name": "python",
   "nbconvert_exporter": "python",
   "pygments_lexer": "ipython3",
   "version": "3.10.3"
  },
  "orig_nbformat": 2
 },
 "nbformat": 4,
 "nbformat_minor": 2
}