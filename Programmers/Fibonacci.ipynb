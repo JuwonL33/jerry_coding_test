{
 "cells": [
  {
   "cell_type": "code",
   "execution_count": null,
   "metadata": {},
   "outputs": [
    {
     "ename": "Error",
     "evalue": "Session cannot generate requests",
     "output_type": "error",
     "traceback": [
      "Error: Session cannot generate requests",
      "at b.executeCodeCell (/Users/juwonlee/.vscode/extensions/ms-toolsai.jupyter-2021.2.603412351/out/client/extension.js:49:710513)",
      "at b.execute (/Users/juwonlee/.vscode/extensions/ms-toolsai.jupyter-2021.2.603412351/out/client/extension.js:49:709953)",
      "at b.start (/Users/juwonlee/.vscode/extensions/ms-toolsai.jupyter-2021.2.603412351/out/client/extension.js:49:706098)",
      "at runMicrotasks (<anonymous>)",
      "at processTicksAndRejections (internal/process/task_queues.js:97:5)",
      "at async t.CellExecutionQueue.executeQueuedCells (/Users/juwonlee/.vscode/extensions/ms-toolsai.jupyter-2021.2.603412351/out/client/extension.js:49:718710)",
      "at async t.CellExecutionQueue.start (/Users/juwonlee/.vscode/extensions/ms-toolsai.jupyter-2021.2.603412351/out/client/extension.js:49:718250)"
     ]
    }
   ],
   "source": [
    "'''\n",
    "문제 설명\n",
    "피보나치 수는 F(0) = 0, F(1) = 1일 때, 1 이상의 n에 대하여 F(n) = F(n-1) + F(n-2) 가 적용되는 수 입니다.\n",
    "\n",
    "예를들어\n",
    "\n",
    "F(2) = F(0) + F(1) = 0 + 1 = 1\n",
    "F(3) = F(1) + F(2) = 1 + 1 = 2\n",
    "F(4) = F(2) + F(3) = 1 + 2 = 3\n",
    "F(5) = F(3) + F(4) = 2 + 3 = 5\n",
    "와 같이 이어집니다.\n",
    "\n",
    "2 이상의 n이 입력되었을 때, n번째 피보나치 수를 1234567으로 나눈 나머지를 리턴하는 함수, solution을 완성해 주세요.\n",
    "\n",
    "제한 사항\n",
    "n은 2 이상 100,000 이하인 자연수입니다.\n",
    "입출력 예\n",
    "n\treturn\n",
    "3\t2\n",
    "5\t5\n",
    "입출력 예 설명\n",
    "피보나치수는 0번째부터 0, 1, 1, 2, 3, 5, ... 와 같이 이어집니다.\n",
    "'''\n",
    "def fibonacci(n) : \n",
    "    if n == 1 : return 0\n",
    "    if n == 2 : return 1\n",
    "    return fibonacci(n-1) + fibonacci(n)\n",
    "\n",
    "def solution(n):\n",
    "    result = fibonacci(n)                  # n번째 피보나치\n",
    "    answer = result % 1234567\n",
    "    return answer\n",
    "\n",
    "solution(3)\n",
    "solution(5)"
   ]
  }
 ],
 "metadata": {
  "kernelspec": {
   "display_name": "Python 3.10.3 64-bit",
   "metadata": {
    "interpreter": {
     "hash": "98590ff4fe04c8543246b2a01debd3de3c5ca9b666f43f1fa87d5110c692004c"
    }
   },
   "name": "python3"
  },
  "language_info": {
   "codemirror_mode": {
    "name": "ipython",
    "version": 3
   },
   "file_extension": ".py",
   "mimetype": "text/x-python",
   "name": "python",
   "nbconvert_exporter": "python",
   "pygments_lexer": "ipython3",
   "version": "3.10.3"
  },
  "orig_nbformat": 2
 },
 "nbformat": 4,
 "nbformat_minor": 2
}