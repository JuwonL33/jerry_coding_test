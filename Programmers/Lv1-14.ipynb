{
 "cells": [
  {
   "cell_type": "code",
   "execution_count": 18,
   "metadata": {},
   "outputs": [
    {
     "data": {
      "text/plain": "4"
     },
     "execution_count": 18,
     "metadata": {},
     "output_type": "execute_result"
    }
   ],
   "source": [
    "# 정수 제곱근 판별\n",
    "# 제곱근 : n ** (1/2)\n",
    "def solution(n):\n",
    "    answer = 0\n",
    "    for i in range(1, n+1) : \n",
    "        if n ** (1/2) == float(i) : \n",
    "            answer = (int(n ** (1/2))+1) ** 2\n",
    "            break\n",
    "    return answer if answer > 0 else -1\n",
    "\n",
    "# solution(121)\n",
    "# solution(3)\n",
    "solution(1)"
   ]
  },
  {
   "cell_type": "code",
   "execution_count": 37,
   "metadata": {},
   "outputs": [
    {
     "name": "stdout",
     "output_type": "stream",
     "text": [
      "여기 안니라고?\n",
      "여기 안니라고?\n",
      "여기 안니라고?\n",
      "여기 안니라고?\n",
      "여기 안니라고?\n",
      "여기 안니라고?\n"
     ]
    },
    {
     "data": {
      "text/plain": "'AbC AbC  AbC   AbC'"
     },
     "execution_count": 37,
     "metadata": {},
     "output_type": "execute_result"
    }
   ],
   "source": [
    "# 이상한 문자 만들기\n",
    "\n",
    "def solution(s) : \n",
    "    answer = ''\n",
    "    c = 0\n",
    "    for i in range(len(s)) : \n",
    "        if s[i].isalpha and s[i] != \" \" and c % 2 == 0:\n",
    "            answer += s[i].upper()\n",
    "            c += 1\n",
    "        elif s[i].isalpha and s[i] != \" \" and c % 2 == 1 :\n",
    "            answer += s[i].lower()\n",
    "            c += 1\n",
    "        elif ord(s[i]) == 32 :\n",
    "            answer += s[i]\n",
    "            c = 0\n",
    "    return answer\n",
    "\n",
    "# solution(\"try hello world\")\n",
    "solution(\"abc abc  abc   abc\")\n",
    "\n",
    "# \"AbC(공백1개)AbC(공백2개)AbC(공백3개)AbC\""
   ]
  }
 ],
 "metadata": {
  "kernelspec": {
   "display_name": "Python 3.10.3 64-bit",
   "metadata": {
    "interpreter": {
     "hash": "98590ff4fe04c8543246b2a01debd3de3c5ca9b666f43f1fa87d5110c692004c"
    }
   },
   "name": "python3"
  },
  "language_info": {
   "codemirror_mode": {
    "name": "ipython",
    "version": 3
   },
   "file_extension": ".py",
   "mimetype": "text/x-python",
   "name": "python",
   "nbconvert_exporter": "python",
   "pygments_lexer": "ipython3",
   "version": "3.10.3"
  },
  "orig_nbformat": 2
 },
 "nbformat": 4,
 "nbformat_minor": 2
}