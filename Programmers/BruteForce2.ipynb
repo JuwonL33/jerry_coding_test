{
 "cells": [
  {
   "cell_type": "code",
   "execution_count": 27,
   "metadata": {},
   "outputs": [
    {
     "data": {
      "text/plain": "[1, 2, 3]"
     },
     "execution_count": 27,
     "metadata": {},
     "output_type": "execute_result"
    }
   ],
   "source": [
    "# 이렇게 쓰니까 런타임 에러 발생함\n",
    "\n",
    "def solution(answers):\n",
    "    member1 = [1, 2, 3, 4, 5]\n",
    "    member2 = [2, 1, 2, 3, 2, 4, 2, 5]\n",
    "    member3 = [3, 3, 1, 1, 2, 2, 4, 4, 5, 5]\n",
    "\n",
    "    scores = [0, 0, 0]\n",
    "    answer_list = []\n",
    "\n",
    "    for idx, answer in enumerate(answers) : \n",
    "        if answer == member1[idx % len(member1)] : scores[0] += 1\n",
    "        if answer == member2[idx % len(member2)] : scores[1] += 1\n",
    "        if answer == member3[idx % len(member3)] : scores[2] += 1\n",
    "\n",
    "\n",
    "    for idx, score in enumerate(scores) : \n",
    "        if score == max(scores) : \n",
    "            answer_list.append(idx+1)\n",
    "    \n",
    "    return answer_list\n",
    "\n",
    "solution([1,2,3,4,5])\n",
    "solution([1,3,2,4,2])"
   ]
  },
  {
   "cell_type": "code",
   "execution_count": null,
   "metadata": {},
   "outputs": [],
   "source": [
    "def solution(answers):\n",
    "    pattern1 = [1, 2, 3, 4, 5]\n",
    "    pattern2 = [2, 1, 2, 3, 2, 4, 2, 5]\n",
    "    pattern3 = [3, 3, 1, 1, 2, 2, 4, 4, 5, 5]\n",
    "\n",
    "    scores = []\n",
    "    for i \n",
    "\n",
    "    answer_list = []\n",
    "    for idx, score in enumerate(scores) : \n",
    "        if score == max(scores) : \n",
    "            answer_list.append(idx+1)\n",
    "    \n",
    "    return answer_list\n",
    "\n",
    "solution([1,2,3,4,5])\n",
    "solution([1,3,2,4,2])"
   ]
  }
 ],
 "metadata": {
  "kernelspec": {
   "display_name": "Python 3.10.3 64-bit",
   "metadata": {
    "interpreter": {
     "hash": "98590ff4fe04c8543246b2a01debd3de3c5ca9b666f43f1fa87d5110c692004c"
    }
   },
   "name": "python3"
  },
  "language_info": {
   "codemirror_mode": {
    "name": "ipython",
    "version": 3
   },
   "file_extension": ".py",
   "mimetype": "text/x-python",
   "name": "python",
   "nbconvert_exporter": "python",
   "pygments_lexer": "ipython3",
   "version": "3.10.3"
  },
  "orig_nbformat": 2
 },
 "nbformat": 4,
 "nbformat_minor": 2
}