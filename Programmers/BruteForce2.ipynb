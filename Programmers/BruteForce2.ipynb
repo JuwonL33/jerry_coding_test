{
 "cells": [
  {
   "cell_type": "code",
   "execution_count": 26,
   "metadata": {},
   "outputs": [
    {
     "ename": "AttributeError",
     "evalue": "'int' object has no attribute 'append'",
     "output_type": "error",
     "traceback": [
      "\u001b[0;31m---------------------------------------------------------------------------\u001b[0m",
      "\u001b[0;31mAttributeError\u001b[0m                            Traceback (most recent call last)",
      "Input \u001b[0;32mIn [26]\u001b[0m, in \u001b[0;36m<cell line: 22>\u001b[0;34m()\u001b[0m\n\u001b[1;32m     18\u001b[0m             answer\u001b[38;5;241m.\u001b[39mappend(idx\u001b[38;5;241m+\u001b[39m\u001b[38;5;241m1\u001b[39m)\n\u001b[1;32m     20\u001b[0m     \u001b[38;5;28;01mreturn\u001b[39;00m answer\n\u001b[0;32m---> 22\u001b[0m \u001b[43msolution\u001b[49m\u001b[43m(\u001b[49m\u001b[43m[\u001b[49m\u001b[38;5;241;43m1\u001b[39;49m\u001b[43m,\u001b[49m\u001b[38;5;241;43m2\u001b[39;49m\u001b[43m,\u001b[49m\u001b[38;5;241;43m3\u001b[39;49m\u001b[43m,\u001b[49m\u001b[38;5;241;43m4\u001b[39;49m\u001b[43m,\u001b[49m\u001b[38;5;241;43m5\u001b[39;49m\u001b[43m]\u001b[49m\u001b[43m)\u001b[49m\n\u001b[1;32m     23\u001b[0m solution([\u001b[38;5;241m1\u001b[39m,\u001b[38;5;241m3\u001b[39m,\u001b[38;5;241m2\u001b[39m,\u001b[38;5;241m4\u001b[39m,\u001b[38;5;241m2\u001b[39m])\n",
      "Input \u001b[0;32mIn [26]\u001b[0m, in \u001b[0;36msolution\u001b[0;34m(answers)\u001b[0m\n\u001b[1;32m     16\u001b[0m \u001b[38;5;28;01mfor\u001b[39;00m idx, score \u001b[38;5;129;01min\u001b[39;00m \u001b[38;5;28menumerate\u001b[39m(scores) : \n\u001b[1;32m     17\u001b[0m     \u001b[38;5;28;01mif\u001b[39;00m score \u001b[38;5;241m==\u001b[39m \u001b[38;5;28mmax\u001b[39m(scores) : \n\u001b[0;32m---> 18\u001b[0m         \u001b[43manswer\u001b[49m\u001b[38;5;241;43m.\u001b[39;49m\u001b[43mappend\u001b[49m(idx\u001b[38;5;241m+\u001b[39m\u001b[38;5;241m1\u001b[39m)\n\u001b[1;32m     20\u001b[0m \u001b[38;5;28;01mreturn\u001b[39;00m answer\n",
      "\u001b[0;31mAttributeError\u001b[0m: 'int' object has no attribute 'append'"
     ]
    }
   ],
   "source": [
    "# 이렇게 쓰니까 런타임 에러 발생함\n",
    "\n",
    "def solution(answers):\n",
    "    member1 = [1, 2, 3, 4, 5]\n",
    "    member2 = [2, 1, 2, 3, 2, 4, 2, 5]\n",
    "    member3 = [3, 3, 1, 1, 2, 2, 4, 4, 5, 5]\n",
    "\n",
    "    scores = [0, 0, 0]\n",
    "    answer_list = []\n",
    "\n",
    "    for idx, answer in enumerate(answers) : \n",
    "        if answer == member1[idx % len(member1)] : scores[0] += 1\n",
    "        if answer == member2[idx % len(member2)] : scores[1] += 1\n",
    "        if answer == member3[idx % len(member3)] : scores[2] += 1\n",
    "\n",
    "\n",
    "    for idx, score in enumerate(scores) : \n",
    "        if score == max(scores) : \n",
    "            answer_list.append(idx+1)\n",
    "    \n",
    "    return answer_list\n",
    "\n",
    "solution([1,2,3,4,5])\n",
    "solution([1,3,2,4,2])"
   ]
  },
  {
   "cell_type": "code",
   "execution_count": null,
   "metadata": {},
   "outputs": [],
   "source": [
    "def solution(answers):\n",
    "    pattern1 = [1, 2, 3, 4, 5]\n",
    "    pattern2 = [2, 1, 2, 3, 2, 4, 2, 5]\n",
    "    pattern3 = [3, 3, 1, 1, 2, 2, 4, 4, 5, 5]\n",
    "\n",
    "    scores = []\n",
    "    for i \n",
    "\n",
    "    answer_list = []\n",
    "    for idx, score in enumerate(scores) : \n",
    "        if score == max(scores) : \n",
    "            answer_list.append(idx+1)\n",
    "    \n",
    "    return answer_list\n",
    "\n",
    "solution([1,2,3,4,5])\n",
    "solution([1,3,2,4,2])"
   ]
  }
 ],
 "metadata": {
  "kernelspec": {
   "display_name": "Python 3.10.3 64-bit",
   "metadata": {
    "interpreter": {
     "hash": "98590ff4fe04c8543246b2a01debd3de3c5ca9b666f43f1fa87d5110c692004c"
    }
   },
   "name": "python3"
  },
  "language_info": {
   "codemirror_mode": {
    "name": "ipython",
    "version": 3
   },
   "file_extension": ".py",
   "mimetype": "text/x-python",
   "name": "python",
   "nbconvert_exporter": "python",
   "pygments_lexer": "ipython3",
   "version": "3.10.3"
  },
  "orig_nbformat": 2
 },
 "nbformat": 4,
 "nbformat_minor": 2
}