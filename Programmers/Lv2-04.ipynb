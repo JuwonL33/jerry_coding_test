{
 "cells": [
  {
   "cell_type": "code",
   "execution_count": 42,
   "metadata": {},
   "outputs": [
    {
     "data": {
      "text/plain": "4"
     },
     "execution_count": 42,
     "metadata": {},
     "output_type": "execute_result"
    }
   ],
   "source": [
    "# 소수 찾기\n",
    "# 완전 탐색\n",
    "# set(), permutations 로 풀기\n",
    "\n",
    "from itertools import permutations\n",
    "\n",
    "def solution(numbers):\n",
    "    answer = 0\n",
    "    tmp = list(numbers)\n",
    "    arr = []\n",
    "    arr_final = set()\n",
    "    for i in range(1, len(numbers)+1) : \n",
    "        for t in permutations(tmp, i) : \n",
    "            arr.append(int(\"\".join(t)))\n",
    "    \n",
    "    for a in arr : \n",
    "        if a < 2 : continue\n",
    "        if check_num(a) : arr_final.add(a)\n",
    "\n",
    "    return len(arr_final)\n",
    "\n",
    "def check_num(num) : \n",
    "    for i in range(2, num) : \n",
    "        if num % i == 0 : return False\n",
    "    return True\n",
    "\n",
    "solution(\"17\")\n",
    "# solution(\"011\")\n",
    "solution(\"121\")\n",
    "solution(\"144\")\n",
    "solution(\"169\")"
   ]
  }
 ],
 "metadata": {
  "kernelspec": {
   "display_name": "Python 3.10.3 64-bit",
   "metadata": {
    "interpreter": {
     "hash": "98590ff4fe04c8543246b2a01debd3de3c5ca9b666f43f1fa87d5110c692004c"
    }
   },
   "name": "python3"
  },
  "language_info": {
   "codemirror_mode": {
    "name": "ipython",
    "version": 3
   },
   "file_extension": ".py",
   "mimetype": "text/x-python",
   "name": "python",
   "nbconvert_exporter": "python",
   "pygments_lexer": "ipython3",
   "version": "3.10.3"
  },
  "orig_nbformat": 2
 },
 "nbformat": 4,
 "nbformat_minor": 2
}