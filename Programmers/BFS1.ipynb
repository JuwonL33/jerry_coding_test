{
 "cells": [
  {
   "cell_type": "code",
   "execution_count": 23,
   "metadata": {},
   "outputs": [
    {
     "data": {
      "text/plain": "5"
     },
     "execution_count": 23,
     "metadata": {},
     "output_type": "execute_result"
    }
   ],
   "source": [
    "# 타겟넘버가 DFS나 BFS인 이유\n",
    "# 다음 인덱스에 해당하는 numbers 원소를 더하거나 뺀 값을 방문해야 하므로\n",
    "# DFS로 푸는 법\n",
    "# 이건 걍 외워야겠다...\n",
    "\n",
    "def solution(numbers, target) : \n",
    "    answer = 0\n",
    "    def dfs(idx, result) :\n",
    "        if idx == len(numbers) :\n",
    "            if result == target : \n",
    "                nonlocal answer                          # nonlocal : 전역변수에 더해줌. \n",
    "                answer += 1\n",
    "            return\n",
    "        else : \n",
    "            dfs(idx+1, result+numbers[idx])\n",
    "            dfs(idx+1, result-numbers[idx])\n",
    "\n",
    "    dfs(0, 0)\n",
    "    return answer\n",
    "\n",
    "solution([1, 1, 1, 1, 1], 3)\n"
   ]
  },
  {
   "cell_type": "code",
   "execution_count": null,
   "metadata": {},
   "outputs": [],
   "source": [
    "# 타겟넘버가 DFS나 BFS인 이유\n",
    "# BFS로 푸는 법\n",
    "\n",
    "from collections import deque\n",
    "def solution(numbers, target) : \n",
    "    answer = 0\n",
    "    queue = deque()\n",
    "\n",
    "    queue.append([numbers[0], 0])\n",
    "    queue.append([-1*numbers[0], 0])\n",
    "\n",
    "    while queue : \n",
    "        temp, idx = queue.popleft()\n",
    "\n",
    "    return answer"
   ]
  }
 ],
 "metadata": {
  "kernelspec": {
   "display_name": "Python 3.10.3 64-bit",
   "metadata": {
    "interpreter": {
     "hash": "98590ff4fe04c8543246b2a01debd3de3c5ca9b666f43f1fa87d5110c692004c"
    }
   },
   "name": "python3"
  },
  "language_info": {
   "codemirror_mode": {
    "name": "ipython",
    "version": 3
   },
   "file_extension": ".py",
   "mimetype": "text/x-python",
   "name": "python",
   "nbconvert_exporter": "python",
   "pygments_lexer": "ipython3",
   "version": "3.10.3"
  },
  "orig_nbformat": 2
 },
 "nbformat": 4,
 "nbformat_minor": 2
}