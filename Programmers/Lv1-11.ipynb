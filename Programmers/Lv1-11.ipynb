{
 "cells": [
  {
   "cell_type": "code",
   "execution_count": 12,
   "metadata": {},
   "outputs": [
    {
     "data": {
      "text/plain": "8"
     },
     "execution_count": 12,
     "metadata": {},
     "output_type": "execute_result"
    }
   ],
   "source": [
    "# 콜라츠 추측\n",
    "\n",
    "def solution(num):\n",
    "    answer = 0 \n",
    "    while num != 1 : \n",
    "        if answer >= 500 : return -1\n",
    "        else : \n",
    "            if num % 2 == 0 :\n",
    "                num //= 2\n",
    "                answer += 1\n",
    "            else : \n",
    "                num *= 3\n",
    "                num += 1\n",
    "                answer += 1\n",
    "\n",
    "    return answer\n",
    "\n",
    "solution(6)\n",
    "# solution(16)\n",
    "# solution(626331)"
   ]
  }
 ],
 "metadata": {
  "kernelspec": {
   "display_name": "Python 3.10.3 64-bit",
   "metadata": {
    "interpreter": {
     "hash": "98590ff4fe04c8543246b2a01debd3de3c5ca9b666f43f1fa87d5110c692004c"
    }
   },
   "name": "python3"
  },
  "language_info": {
   "codemirror_mode": {
    "name": "ipython",
    "version": 3
   },
   "file_extension": ".py",
   "mimetype": "text/x-python",
   "name": "python",
   "nbconvert_exporter": "python",
   "pygments_lexer": "ipython3",
   "version": "3.10.3"
  },
  "orig_nbformat": 2
 },
 "nbformat": 4,
 "nbformat_minor": 2
}