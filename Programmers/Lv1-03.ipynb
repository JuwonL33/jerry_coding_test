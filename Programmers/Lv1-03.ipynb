{
 "cells": [
  {
   "cell_type": "code",
   "execution_count": 9,
   "metadata": {},
   "outputs": [
    {
     "data": {
      "text/plain": "4000"
     },
     "execution_count": 9,
     "metadata": {},
     "output_type": "execute_result"
    }
   ],
   "source": [
    "# 완전탐색\n",
    "# 최소직사각형\n",
    "\n",
    "def solution(sizes):\n",
    "    answer = 0\n",
    "    w = 0\n",
    "    h = 0\n",
    "    for size in sizes : \n",
    "        size[0], size[1] = max(size), min(size)\n",
    "\n",
    "    for i in range(len(sizes)) : \n",
    "        if w < sizes[i][0] : w = sizes[i][0]\n",
    "        if h < sizes[i][1] : h = sizes[i][1]\n",
    "\n",
    "    return w*h\n",
    "\n",
    "solution([[60, 50], [30, 70], [60, 30], [80, 40]])\n",
    "# solution([[10, 7], [12, 3], [8, 15], [14, 7], [5, 15]])\n",
    "# solution([[14, 4], [19, 6], [6, 16], [18, 7], [7, 11]]\t)"
   ]
  },
  {
   "cell_type": "code",
   "execution_count": null,
   "metadata": {},
   "outputs": [],
   "source": [
    "def solution(sizes) : \n",
    "    return max(max(x) for x in sizes) * max(min(x) for x in sizes)\n",
    "\n",
    "solution([[60, 50], [30, 70], [60, 30], [80, 40]])"
   ]
  }
 ],
 "metadata": {
  "kernelspec": {
   "display_name": "Python 3.10.3 64-bit",
   "metadata": {
    "interpreter": {
     "hash": "98590ff4fe04c8543246b2a01debd3de3c5ca9b666f43f1fa87d5110c692004c"
    }
   },
   "name": "python3"
  },
  "language_info": {
   "codemirror_mode": {
    "name": "ipython",
    "version": 3
   },
   "file_extension": ".py",
   "mimetype": "text/x-python",
   "name": "python",
   "nbconvert_exporter": "python",
   "pygments_lexer": "ipython3",
   "version": "3.10.3"
  },
  "orig_nbformat": 2
 },
 "nbformat": 4,
 "nbformat_minor": 2
}