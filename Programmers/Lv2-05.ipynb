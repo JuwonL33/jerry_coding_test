{
 "cells": [
  {
   "cell_type": "code",
   "execution_count": 36,
   "metadata": {},
   "outputs": [
    {
     "name": "stdout",
     "output_type": "stream",
     "text": [
      "0\n",
      "True\n",
      "1\n",
      "2\n",
      "3\n",
      "4\n",
      "5\n",
      "6\n",
      "7\n",
      "8\n",
      "9\n",
      "10\n",
      "11\n",
      "12\n",
      "13\n",
      "14\n",
      "15\n",
      "16\n"
     ]
    },
    {
     "data": {
      "text/plain": "'For the last week'"
     },
     "execution_count": 36,
     "metadata": {},
     "output_type": "execute_result"
    }
   ],
   "source": [
    "# JadenCase 문자열 만들기\n",
    "\n",
    "def solution(string):\n",
    "    answer = ''\n",
    "    new_vocas = []\n",
    "    count = 0\n",
    "    for s in string : \n",
    "        print(count)\n",
    "        if count == 0 : \n",
    "            print(True if s.isspace else False )\n",
    "            if s.isalpha : \n",
    "                answer += s.upper()\n",
    "                count += 1\n",
    "            elif s.isspace() : \n",
    "                answer += s\n",
    "                count = 0\n",
    "            else : \n",
    "                answer += s\n",
    "                count += 1\n",
    "        else : \n",
    "            if s.isalpha :\n",
    "                answer += s.lower()\n",
    "                count += 1\n",
    "            elif s.isspace() : \n",
    "                answer += \" \"\n",
    "                count = 0\n",
    "                continue\n",
    "            else : \n",
    "                answer += s\n",
    "                count += 1\n",
    "    return answer\n",
    "\n",
    "# solution(\"3people unFollowed me\")\n",
    "solution(\"for the last week\")"
   ]
  },
  {
   "cell_type": "code",
   "execution_count": 38,
   "metadata": {},
   "outputs": [
    {
     "data": {
      "text/plain": "'3people Unfollowed Me'"
     },
     "execution_count": 38,
     "metadata": {},
     "output_type": "execute_result"
    }
   ],
   "source": [
    "# capitalize() : 첫 문자는 대문자 다음 문자는 소문자화 해주는 내장함수\n",
    "\n",
    "def solution(s) : \n",
    "    answer = ' '\n",
    "    tmp = s.split(\" \")\n",
    "    for i in range(len(tmp)) : \n",
    "        tmp[i] = tmp[i].capitalize()\n",
    "    \n",
    "    answer = ' '.join(tmp)\n",
    "    return answer\n",
    "\n",
    "solution(\"3people unFollowed me\")\n",
    "# solution(\"for the last week\")"
   ]
  }
 ],
 "metadata": {
  "kernelspec": {
   "display_name": "Python 3.10.3 64-bit",
   "metadata": {
    "interpreter": {
     "hash": "98590ff4fe04c8543246b2a01debd3de3c5ca9b666f43f1fa87d5110c692004c"
    }
   },
   "name": "python3"
  },
  "language_info": {
   "codemirror_mode": {
    "name": "ipython",
    "version": 3
   },
   "file_extension": ".py",
   "mimetype": "text/x-python",
   "name": "python",
   "nbconvert_exporter": "python",
   "pygments_lexer": "ipython3",
   "version": "3.10.3"
  },
  "orig_nbformat": 2
 },
 "nbformat": 4,
 "nbformat_minor": 2
}