{
 "cells": [
  {
   "cell_type": "code",
   "execution_count": 4,
   "metadata": {},
   "outputs": [
    {
     "data": {
      "text/plain": "2"
     },
     "execution_count": 4,
     "metadata": {},
     "output_type": "execute_result"
    }
   ],
   "source": [
    "# H-INDEX\n",
    "\n",
    "def solution(citations):\n",
    "    citations.sort()\n",
    "    for c in citations : \n",
    "        i = citations.index(c)\n",
    "        if len(citations[i:]) >= c and len(citations[:i]) <= c : \n",
    "            answer = c\n",
    "    return answer\n",
    "\n",
    "solution([3, 0, 6, 1, 5])\n",
    "solution([10, 8, 5, 4, 3])\n",
    "solution([25, 8, 5, 3, 3])\n",
    "solution([9, 7, 6, 2, 1])"
   ]
  },
  {
   "cell_type": "code",
   "execution_count": 5,
   "metadata": {},
   "outputs": [
    {
     "data": {
      "text/plain": "3"
     },
     "execution_count": 5,
     "metadata": {},
     "output_type": "execute_result"
    }
   ],
   "source": [
    "def solution(citations):\n",
    "    citations.sort()\n",
    "    for idx, citation in enumerate(citations) : \n",
    "        if citation >= len(citations) - idx :\n",
    "            return len(citations) - idx\n",
    "    return 0\n",
    "\n",
    "solution([3, 0, 6, 1, 5])\n",
    "solution([10, 8, 5, 4, 3])\n",
    "solution([25, 8, 5, 3, 3])\n",
    "solution([9, 7, 6, 2, 1])"
   ]
  },
  {
   "cell_type": "code",
   "execution_count": 6,
   "metadata": {},
   "outputs": [
    {
     "data": {
      "text/plain": "3"
     },
     "execution_count": 6,
     "metadata": {},
     "output_type": "execute_result"
    }
   ],
   "source": [
    "def solution(citations):\n",
    "    citations = sorted(citations)\n",
    "    l = len(citations)\n",
    "    for i in range(l):\n",
    "        if citations[i] >= l-i:\n",
    "            return l-i\n",
    "    return 0\n",
    "\n",
    "solution([3, 0, 6, 1, 5])\n",
    "solution([10, 8, 5, 4, 3])\n",
    "solution([25, 8, 5, 3, 3])\n",
    "solution([9, 7, 6, 2, 1])"
   ]
  }
 ],
 "metadata": {
  "kernelspec": {
   "display_name": "Python 3.10.3 64-bit",
   "metadata": {
    "interpreter": {
     "hash": "98590ff4fe04c8543246b2a01debd3de3c5ca9b666f43f1fa87d5110c692004c"
    }
   },
   "name": "python3"
  },
  "language_info": {
   "codemirror_mode": {
    "name": "ipython",
    "version": 3
   },
   "file_extension": ".py",
   "mimetype": "text/x-python",
   "name": "python",
   "nbconvert_exporter": "python",
   "pygments_lexer": "ipython3",
   "version": "3.10.3"
  },
  "orig_nbformat": 2
 },
 "nbformat": 4,
 "nbformat_minor": 2
}