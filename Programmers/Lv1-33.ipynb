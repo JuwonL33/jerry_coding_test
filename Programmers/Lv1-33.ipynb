{
 "cells": [
  {
   "cell_type": "code",
   "execution_count": 2,
   "metadata": {},
   "outputs": [
    {
     "data": {
      "text/plain": "-2"
     },
     "execution_count": 2,
     "metadata": {},
     "output_type": "execute_result"
    }
   ],
   "source": [
    "# Programmers Lv1 내적\n",
    "# https://school.programmers.co.kr/learn/courses/30/lessons/70128?language=python3\n",
    "\n",
    "def solution(a, b) :\n",
    "    answer = 0\n",
    "    for i in range(len(a)) : \n",
    "        answer += a[i]*b[i]\n",
    "    return answer\n",
    "\n",
    "solution([1,2,3,4],[-3,-1,0,2])\n",
    "solution([-1,0,1],[1,0,-1])"
   ]
  },
  {
   "cell_type": "code",
   "execution_count": 5,
   "metadata": {},
   "outputs": [
    {
     "data": {
      "text/plain": "-2"
     },
     "execution_count": 5,
     "metadata": {},
     "output_type": "execute_result"
    }
   ],
   "source": [
    "def solution(a, b) :\n",
    "    return sum([a[i] * b[i] for i in range(len(a))])\n",
    "\n",
    "solution([1,2,3,4],[-3,-1,0,2])\n",
    "# solution([-1,0,1],[1,0,-1])"
   ]
  }
 ],
 "metadata": {
  "kernelspec": {
   "display_name": "Python 3.10.3 64-bit",
   "metadata": {
    "interpreter": {
     "hash": "98590ff4fe04c8543246b2a01debd3de3c5ca9b666f43f1fa87d5110c692004c"
    }
   },
   "name": "python3"
  },
  "language_info": {
   "codemirror_mode": {
    "name": "ipython",
    "version": 3
   },
   "file_extension": ".py",
   "mimetype": "text/x-python",
   "name": "python",
   "nbconvert_exporter": "python",
   "pygments_lexer": "ipython3",
   "version": "3.10.3"
  },
  "orig_nbformat": 2
 },
 "nbformat": 4,
 "nbformat_minor": 2
}