{
 "cells": [
  {
   "cell_type": "code",
   "execution_count": 1,
   "metadata": {},
   "outputs": [
    {
     "data": {
      "text/plain": "False"
     },
     "execution_count": 1,
     "metadata": {},
     "output_type": "execute_result"
    }
   ],
   "source": [
    "# \n",
    "\n",
    "def solution(s):\n",
    "    low_s = s.lower()\n",
    "\n",
    "    p_cnt = low_s.count(\"p\")\n",
    "    y_cnt = low_s.count(\"y\")\n",
    "\n",
    "    answer = False\n",
    "\n",
    "    if (p_cnt > 0 or y_cnt > 0) and p_cnt == y_cnt : \n",
    "        return True\n",
    "    elif (p_cnt > 0 or y_cnt > 0) and p_cnt != y_cnt  : \n",
    "        return False\n",
    "    elif p_cnt == 0 and y_cnt == 0 : \n",
    "        return True\n",
    "\n",
    "solution(\"pPoooyY\")\n",
    "# solution(\"Pyy\")"
   ]
  }
 ],
 "metadata": {
  "kernelspec": {
   "display_name": "Python 3.10.3 64-bit",
   "metadata": {
    "interpreter": {
     "hash": "98590ff4fe04c8543246b2a01debd3de3c5ca9b666f43f1fa87d5110c692004c"
    }
   },
   "name": "python3"
  },
  "language_info": {
   "codemirror_mode": {
    "name": "ipython",
    "version": 3
   },
   "file_extension": ".py",
   "mimetype": "text/x-python",
   "name": "python",
   "nbconvert_exporter": "python",
   "pygments_lexer": "ipython3",
   "version": "3.10.3"
  },
  "orig_nbformat": 2
 },
 "nbformat": 4,
 "nbformat_minor": 2
}