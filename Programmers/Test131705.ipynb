{
 "cells": [
  {
   "cell_type": "code",
   "execution_count": 1,
   "metadata": {},
   "outputs": [
    {
     "name": "stdout",
     "output_type": "stream",
     "text": [
      "12\n",
      "30\n",
      "0\n"
     ]
    }
   ],
   "source": [
    "# 삼총사\n",
    "# https://school.programmers.co.kr/learn/courses/30/lessons/131705\n",
    "\n",
    "from itertools import combinations\n",
    "\n",
    "def solution(number):\n",
    "    answer = 0\n",
    "    for i in combinations(number, 3) : \n",
    "        if sum(i) == 0 : answer += 1\n",
    "\n",
    "    return answer\n",
    "\n",
    "\n",
    "print(solution([-2, 3, 0, 2, -5]))\n",
    "print(solution([-3, -2, -1, 0, 1, 2, 3]))\n",
    "print(solution([-1, 1, -1, 1]))\n"
   ]
  }
 ],
 "metadata": {
  "kernelspec": {
   "display_name": "Python 3.10.3 64-bit",
   "metadata": {
    "interpreter": {
     "hash": "98590ff4fe04c8543246b2a01debd3de3c5ca9b666f43f1fa87d5110c692004c"
    }
   },
   "name": "python3"
  },
  "language_info": {
   "codemirror_mode": {
    "name": "ipython",
    "version": 3
   },
   "file_extension": ".py",
   "mimetype": "text/x-python",
   "name": "python",
   "nbconvert_exporter": "python",
   "pygments_lexer": "ipython3",
   "version": "3.10.3"
  },
  "orig_nbformat": 2
 },
 "nbformat": 4,
 "nbformat_minor": 2
}