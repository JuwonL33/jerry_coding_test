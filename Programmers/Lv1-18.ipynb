{
 "cells": [
  {
   "cell_type": "code",
   "execution_count": 2,
   "metadata": {},
   "outputs": [
    {
     "ename": "SyntaxError",
     "evalue": "invalid syntax. Perhaps you forgot a comma? (530908540.py, line 8)",
     "output_type": "error",
     "traceback": [
      "\u001b[0;36m  Input \u001b[0;32mIn [2]\u001b[0;36m\u001b[0m\n\u001b[0;31m    tmp_arr = [ set(_id 0) for _id in id_list ]\u001b[0m\n\u001b[0m                    ^\u001b[0m\n\u001b[0;31mSyntaxError\u001b[0m\u001b[0;31m:\u001b[0m invalid syntax. Perhaps you forgot a comma?\n"
     ]
    }
   ],
   "source": [
    "# 프로그래머스\n",
    "# Lv1\n",
    "# 신고 결과 받기\n",
    "\n",
    "# k : 처리 결과 메일을 받은 횟수\n",
    "def solution(id_list, report, k):\n",
    "    answer = []\n",
    "    tmp_arr = [ set(_id 0) for _id in id_list ]\n",
    "\n",
    "    print(tmp_arr)\n",
    "    return answer\n",
    "\n",
    "solution([\"muzi\", \"frodo\", \"apeach\", \"neo\"],[\"muzi frodo\",\"apeach frodo\",\"frodo neo\",\"muzi neo\",\"apeach muzi\"],2)\n",
    "solution([\"con\", \"ryan\"],[\"ryan con\", \"ryan con\", \"ryan con\", \"ryan con\"],3)"
   ]
  }
 ],
 "metadata": {
  "kernelspec": {
   "display_name": "Python 3.10.3 64-bit",
   "metadata": {
    "interpreter": {
     "hash": "98590ff4fe04c8543246b2a01debd3de3c5ca9b666f43f1fa87d5110c692004c"
    }
   },
   "name": "python3"
  },
  "language_info": {
   "codemirror_mode": {
    "name": "ipython",
    "version": 3
   },
   "file_extension": ".py",
   "mimetype": "text/x-python",
   "name": "python",
   "nbconvert_exporter": "python",
   "pygments_lexer": "ipython3",
   "version": "3.10.3"
  },
  "orig_nbformat": 2
 },
 "nbformat": 4,
 "nbformat_minor": 2
}