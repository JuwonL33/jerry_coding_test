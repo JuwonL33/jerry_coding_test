{
 "cells": [
  {
   "cell_type": "code",
   "execution_count": 9,
   "metadata": {},
   "outputs": [
    {
     "data": {
      "text/plain": "11"
     },
     "execution_count": 9,
     "metadata": {},
     "output_type": "execute_result"
    }
   ],
   "source": [
    "from collections import deque\n",
    "\n",
    "# 이것이 취업을 위한 코딩테스트다 BFS 미로찾기 문제 응용\n",
    "\n",
    "def solution(maps) : \n",
    "    answer = 0\n",
    "\n",
    "    dx = [-1, 1, 0, 0]\n",
    "    dy = [0, 0, -1, 1]\n",
    "\n",
    "    def bfs(x,y) : \n",
    "        queue = deque()\n",
    "        queue.append((x,y))\n",
    "\n",
    "        # queue가 빌때까지 반복\n",
    "        while queue : \n",
    "            x, y = queue.popleft()\n",
    "            \n",
    "            # 현재 값 기준으로 상,하,좌,우 탐색\n",
    "            for i in range(4) : \n",
    "                nx = x + dx[i]\n",
    "                ny = y + dy[i]\n",
    "                # 맵을 벗어나는 값은 무시 하기\n",
    "                if nx < 0 or nx >= len(maps) or ny < 0 or ny >= len(maps[0]) : continue\n",
    "\n",
    "                # 벽이면 무시 \n",
    "                if maps[nx][ny] == 0 : continue\n",
    "\n",
    "                # 처음 가는 길이면 거리계산하고 다시 상하좌우 확인\n",
    "                if maps[nx][ny] == 1 : \n",
    "                    maps[nx][ny] = maps[x][y] + 1\n",
    "                    queue.append((nx, ny))          # 재귀\n",
    "        return maps[len(maps)-1][len(maps[0])-1]\n",
    "\n",
    "    answer = bfs(0,0)                    # 시작점은 0, 0\n",
    "    return -1 if answer == 1 else answer        # 상대팀 진영에 도달할 수 없을 때 -1 반환\n",
    "\n",
    "solution([[1,0,1,1,1],[1,0,1,0,1],[1,0,1,1,1],[1,1,1,0,1],[0,0,0,0,1]])"
   ]
  },
  {
   "cell_type": "code",
   "execution_count": 20,
   "metadata": {},
   "outputs": [
    {
     "name": "stdout",
     "output_type": "stream",
     "text": [
      "[[3, 0, 9, 10, 11], [2, 0, 8, 0, 10], [3, 0, 7, 8, 9], [4, 5, 6, 0, 10], [0, 0, 0, 0, 11]]\n"
     ]
    },
    {
     "data": {
      "text/plain": "11"
     },
     "execution_count": 20,
     "metadata": {},
     "output_type": "execute_result"
    }
   ],
   "source": [
    "# 현재좌표를 기준으로 상,하,좌,우 방향에 이동할 수 있는 공간을 모두 queue에 담아서 처리 한다.\n",
    "\n",
    "from collections import deque\n",
    "\n",
    "def solution(maps) : \n",
    "    answer = 0 \n",
    "\n",
    "    # 상,하,좌,우 계산하는 리스트\n",
    "    dx = [-1, 1, 0, 0]\n",
    "    dy = [0, 0, -1, 1]\n",
    "\n",
    "    def bfs(x, y) : \n",
    "        queue = deque()\n",
    "        queue.append((x, y))\n",
    "\n",
    "        # queue가 빌때까지 계속\n",
    "        while queue : \n",
    "            x, y = queue.popleft()            # queue에서 하나 꺼냈음\n",
    "            \n",
    "            for i in range(4) : \n",
    "                nx = x + dx[i]\n",
    "                ny = y + dy[i]\n",
    "\n",
    "                # 좌표가 그래프 범위를 벗어나면 스루\n",
    "                if nx < 0 or nx >= len(maps) or ny < 0 or ny >= len(maps[0]) : continue\n",
    "\n",
    "                # 좌표가 벽이어도 스루\n",
    "                if maps[nx][ny] == 0 : continue\n",
    "\n",
    "                # 처음 가는 길이면 거리계산하고 다시 상하좌우 확인\n",
    "                if maps[nx][ny] == 1 : \n",
    "                    maps[nx][ny] = maps[x][y]+1\n",
    "                    queue.append((nx, ny))\n",
    "\n",
    "        return maps[len(maps)-1][len(maps[0])-1]\n",
    "    \n",
    "\n",
    "    answer = bfs(0, 0)               # 출발점 0, 0에서 출발    \n",
    "    print(maps)\n",
    "    return -1 if answer == 1 else answer\n",
    "\n",
    "# solution([[1,0,1,1,1],[1,0,1,0,1],[1,0,1,1,1],[1,1,1,0,0],[0,0,0,0,1]])\n",
    "solution([[1,0,1,1,1],[1,0,1,0,1],[1,0,1,1,1],[1,1,1,0,1],[0,0,0,0,1]])"
   ]
  }
 ],
 "metadata": {
  "kernelspec": {
   "display_name": "Python 3.10.3 64-bit",
   "metadata": {
    "interpreter": {
     "hash": "98590ff4fe04c8543246b2a01debd3de3c5ca9b666f43f1fa87d5110c692004c"
    }
   },
   "name": "python3"
  },
  "language_info": {
   "codemirror_mode": {
    "name": "ipython",
    "version": 3
   },
   "file_extension": ".py",
   "mimetype": "text/x-python",
   "name": "python",
   "nbconvert_exporter": "python",
   "pygments_lexer": "ipython3",
   "version": "3.10.3"
  },
  "orig_nbformat": 2
 },
 "nbformat": 4,
 "nbformat_minor": 2
}