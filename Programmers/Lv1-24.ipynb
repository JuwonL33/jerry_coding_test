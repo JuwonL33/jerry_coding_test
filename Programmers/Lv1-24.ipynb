{
 "cells": [
  {
   "cell_type": "code",
   "execution_count": null,
   "metadata": {},
   "outputs": [],
   "source": [
    "# 부족한 금액 구하기\n",
    "# 문제를 잘 읽어야 함\n",
    "# ~한 상황에서는 어떻게 해야 하는지에 대한 처리 확실히 할 것\n",
    "\n",
    "def solution(price, money, count):\n",
    "    answer = 0\n",
    "    for i in range(1, count+1) : \n",
    "        answer += price * i\n",
    "    \n",
    "    if money-answer > 0 : return 0\n",
    "    else : return abs(money-answer)"
   ]
  }
 ],
 "metadata": {
  "kernelspec": {
   "display_name": "Python 3.10.3 64-bit",
   "metadata": {
    "interpreter": {
     "hash": "98590ff4fe04c8543246b2a01debd3de3c5ca9b666f43f1fa87d5110c692004c"
    }
   },
   "name": "python3"
  },
  "language_info": {
   "name": "python",
   "nbconvert_exporter": "python",
   "version": "3.10.3-final"
  },
  "orig_nbformat": 2
 },
 "nbformat": 4,
 "nbformat_minor": 2
}