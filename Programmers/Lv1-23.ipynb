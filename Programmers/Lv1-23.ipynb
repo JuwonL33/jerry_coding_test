{
 "cells": [
  {
   "cell_type": "code",
   "execution_count": 8,
   "metadata": {},
   "outputs": [
    {
     "data": {
      "text/plain": "[-1]"
     },
     "execution_count": 8,
     "metadata": {},
     "output_type": "execute_result"
    }
   ],
   "source": [
    "# 나누어 떨어지는 숫자 배열\n",
    "\n",
    "def solution(arr, divisor):\n",
    "    answer = []\n",
    "    arr.sort()      # 먼저 정렬하기\n",
    "    for a in arr : \n",
    "        if a % divisor == 0 : \n",
    "            answer.append(a)\n",
    "    if len(answer) < 1 : answer.append(-1)\n",
    "    return answer\n",
    "\n",
    "# solution([5, 9, 7, 10],5)\n",
    "# solution([2, 36, 1, 3],1)\n",
    "solution([3,2,6], 10)"
   ]
  }
 ],
 "metadata": {
  "kernelspec": {
   "display_name": "Python 3.10.3 64-bit",
   "metadata": {
    "interpreter": {
     "hash": "98590ff4fe04c8543246b2a01debd3de3c5ca9b666f43f1fa87d5110c692004c"
    }
   },
   "name": "python3"
  },
  "language_info": {
   "codemirror_mode": {
    "name": "ipython",
    "version": 3
   },
   "file_extension": ".py",
   "mimetype": "text/x-python",
   "name": "python",
   "nbconvert_exporter": "python",
   "pygments_lexer": "ipython3",
   "version": "3.10.3"
  },
  "orig_nbformat": 2
 },
 "nbformat": 4,
 "nbformat_minor": 2
}