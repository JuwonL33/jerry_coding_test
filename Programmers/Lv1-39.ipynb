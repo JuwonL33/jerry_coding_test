{
 "cells": [
  {
   "cell_type": "code",
   "execution_count": 6,
   "metadata": {},
   "outputs": [
    {
     "data": {
      "text/plain": "3"
     },
     "execution_count": 6,
     "metadata": {},
     "output_type": "execute_result"
    }
   ],
   "source": [
    "# 예산\n",
    "# https://school.programmers.co.kr/learn/courses/30/lessons/12982\n",
    "\n",
    "def solution(d, budget):\n",
    "    answer = 0\n",
    "    d.sort()\n",
    "    for i in range(len(d)) : \n",
    "        if d[i] <= budget : \n",
    "            budget -= d[i]\n",
    "            answer += 1\n",
    "        else : break\n",
    "    return answer\n",
    "\n",
    "solution([1,3,2,5,4], 9)\n",
    "solution([2,2,3,3], 10)\n"
   ]
  }
 ],
 "metadata": {
  "kernelspec": {
   "display_name": "Python 3.10.3 64-bit",
   "metadata": {
    "interpreter": {
     "hash": "98590ff4fe04c8543246b2a01debd3de3c5ca9b666f43f1fa87d5110c692004c"
    }
   },
   "name": "python3"
  },
  "language_info": {
   "codemirror_mode": {
    "name": "ipython",
    "version": 3
   },
   "file_extension": ".py",
   "mimetype": "text/x-python",
   "name": "python",
   "nbconvert_exporter": "python",
   "pygments_lexer": "ipython3",
   "version": "3.10.3"
  },
  "orig_nbformat": 2
 },
 "nbformat": 4,
 "nbformat_minor": 2
}