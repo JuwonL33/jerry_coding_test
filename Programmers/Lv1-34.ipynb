{
 "cells": [
  {
   "cell_type": "code",
   "execution_count": 3,
   "metadata": {},
   "outputs": [
    {
     "data": {
      "text/plain": "9"
     },
     "execution_count": 3,
     "metadata": {},
     "output_type": "execute_result"
    }
   ],
   "source": [
    "# Programmers Lv1 음양 더하기\n",
    "# https://school.programmers.co.kr/learn/courses/30/lessons/76501\n",
    "\n",
    "def solution(absolutes, signs):\n",
    "    arr = zip(absolutes, signs)\n",
    "    answer = 0\n",
    "\n",
    "    for i in arr : \n",
    "        if i[1] == False : answer += (-1) * i[0]\n",
    "        else : answer += i[0]\n",
    "    return answer\n",
    "\n",
    "solution([4,7,12], [True,False,True])\n",
    "# solution([1,2,3],[False,False,True])"
   ]
  },
  {
   "cell_type": "code",
   "execution_count": 7,
   "metadata": {},
   "outputs": [
    {
     "data": {
      "text/plain": "9"
     },
     "execution_count": 7,
     "metadata": {},
     "output_type": "execute_result"
    }
   ],
   "source": [
    "def solution(absolutes, signs):\n",
    "    return sum(absolutes if sign else -absolutes for absolutes, sign in zip(absolutes, signs))\n",
    "\n",
    "solution([4,7,12], [True,False,True])\n",
    "# solution([1,2,3],[False,False,True])"
   ]
  }
 ],
 "metadata": {
  "kernelspec": {
   "display_name": "Python 3.10.3 64-bit",
   "metadata": {
    "interpreter": {
     "hash": "98590ff4fe04c8543246b2a01debd3de3c5ca9b666f43f1fa87d5110c692004c"
    }
   },
   "name": "python3"
  },
  "language_info": {
   "codemirror_mode": {
    "name": "ipython",
    "version": 3
   },
   "file_extension": ".py",
   "mimetype": "text/x-python",
   "name": "python",
   "nbconvert_exporter": "python",
   "pygments_lexer": "ipython3",
   "version": "3.10.3"
  },
  "orig_nbformat": 2
 },
 "nbformat": 4,
 "nbformat_minor": 2
}