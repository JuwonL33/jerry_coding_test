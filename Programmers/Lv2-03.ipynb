{
 "cells": [
  {
   "cell_type": "code",
   "execution_count": 8,
   "metadata": {},
   "outputs": [
    {
     "data": {
      "text/plain": "'9534330'"
     },
     "execution_count": 8,
     "metadata": {},
     "output_type": "execute_result"
    }
   ],
   "source": [
    "# 정렬\n",
    "# 가장 큰 수\n",
    "# 순열로 조합하면 자꾸 시간 초과 뜸 ㅠㅠ\n",
    "\n",
    "from itertools import permutations\n",
    "\n",
    "def solution(numbers):\n",
    "    return max([\"\".join(map(str, i)) for i in permutations(numbers, len(numbers))])\n",
    "\n",
    "solution([6, 10, 2])\n",
    "solution([3, 30, 34, 5, 9])"
   ]
  },
  {
   "cell_type": "code",
   "execution_count": 13,
   "metadata": {},
   "outputs": [
    {
     "name": "stdout",
     "output_type": "stream",
     "text": [
      "['6', '10', '2']\n",
      "['6', '2', '10']\n",
      "['3', '30', '34', '5', '9']\n",
      "['9', '5', '34', '3', '30']\n"
     ]
    },
    {
     "data": {
      "text/plain": "'9534330'"
     },
     "execution_count": 13,
     "metadata": {},
     "output_type": "execute_result"
    }
   ],
   "source": [
    "def solution(numbers) : \n",
    "    answer = ''\n",
    "    tmp = list(map(str, numbers))\n",
    "    tmp.sort(key=lambda x : x*3, reverse=True)\n",
    "    answer = str(int(''.join(tmp)))\n",
    "    return answer\n",
    "\n",
    "solution([6, 10, 2])\n",
    "solution([3, 30, 34, 5, 9])"
   ]
  },
  {
   "cell_type": "markdown",
   "metadata": {},
   "source": []
  }
 ],
 "metadata": {
  "kernelspec": {
   "display_name": "Python 3.10.3 64-bit",
   "metadata": {
    "interpreter": {
     "hash": "98590ff4fe04c8543246b2a01debd3de3c5ca9b666f43f1fa87d5110c692004c"
    }
   },
   "name": "python3"
  },
  "language_info": {
   "codemirror_mode": {
    "name": "ipython",
    "version": 3
   },
   "file_extension": ".py",
   "mimetype": "text/x-python",
   "name": "python",
   "nbconvert_exporter": "python",
   "pygments_lexer": "ipython3",
   "version": "3.10.3"
  },
  "orig_nbformat": 2
 },
 "nbformat": 4,
 "nbformat_minor": 2
}