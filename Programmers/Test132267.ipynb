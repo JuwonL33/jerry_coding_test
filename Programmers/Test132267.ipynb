{
 "cells": [
  {
   "cell_type": "code",
   "execution_count": 6,
   "metadata": {},
   "outputs": [
    {
     "name": "stdout",
     "output_type": "stream",
     "text": [
      "n : 10\n",
      "n : 5\n",
      "n : 2\n",
      "n : 1\n",
      "18\n",
      "n : 6\n",
      "n : 2\n",
      "8\n"
     ]
    }
   ],
   "source": [
    "# 콜라 문제\n",
    "# https://school.programmers.co.kr/learn/courses/30/lessons/132267\n",
    "\n",
    "def solution(a, b, n):\n",
    "    answer = 0\n",
    "    while True : \n",
    "        answer += n // a\n",
    "        n = n // a\n",
    "        print(\"n : {}\".format(n))\n",
    "        if n < a : break\n",
    "    return answer\n",
    "\n",
    "print(solution(2, 1, 20))\n",
    "print(solution(3, 1, 20))"
   ]
  },
  {
   "cell_type": "code",
   "execution_count": null,
   "metadata": {},
   "outputs": [],
   "source": []
  }
 ],
 "metadata": {
  "kernelspec": {
   "display_name": "Python 3.10.3 64-bit",
   "metadata": {
    "interpreter": {
     "hash": "98590ff4fe04c8543246b2a01debd3de3c5ca9b666f43f1fa87d5110c692004c"
    }
   },
   "name": "python3"
  },
  "language_info": {
   "codemirror_mode": {
    "name": "ipython",
    "version": 3
   },
   "file_extension": ".py",
   "mimetype": "text/x-python",
   "name": "python",
   "nbconvert_exporter": "python",
   "pygments_lexer": "ipython3",
   "version": "3.10.3"
  },
  "orig_nbformat": 2
 },
 "nbformat": 4,
 "nbformat_minor": 2
}