# 숫자 문자열과 영단어
# https://school.programmers.co.kr/learn/courses/30/lessons/81301?language=python3

def solution(s):
    eng = ['zero', 'one', 'two', 'three', 'four', 'five', 'six', 'seven', 'eight', 'nine']
    answer = ""
    tmp = ''
    for i in s : 
        if i.isdigit() : answer += i
        else : tmp += i
        if tmp in eng :
            answer += str(eng.index(tmp))
            tmp = ''
    return int(answer)

print(solution("one4seveneight"))
print(solution("23four5six7"))
print(solution("2three45sixseven"))
print(solution("123"))
