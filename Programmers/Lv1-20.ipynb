{
 "cells": [
  {
   "cell_type": "code",
   "execution_count": 5,
   "metadata": {},
   "outputs": [
    {
     "name": "stdout",
     "output_type": "stream",
     "text": [
      "[2, 3, 5, 7]\n",
      "[2, 3, 5]\n"
     ]
    },
    {
     "data": {
      "text/plain": "3"
     },
     "execution_count": 5,
     "metadata": {},
     "output_type": "execute_result"
    }
   ],
   "source": [
    "# 소수 찾기\n",
    "\n",
    "def solution(n):\n",
    "    answer = 0 \n",
    "    for i in range(n+1) : \n",
    "        # 소수는 2를 제외하곤 모두 홀수 + 소수인지 확인하는 조건 : 1, 자기자신, 자기자신의 제곱근으로 나누어 떨어지지 않으면 소수\n",
    "        if i < 2 : \n",
    "            continue\n",
    "        check = True\n",
    "\n",
    "        for j in range(2, int(i**0.5) + 1) :        # n의 제곱근보다 작은 숫자까지만 나눗셈\n",
    "            if i % j == 0 :\n",
    "                check = False\n",
    "                break\n",
    "        \n",
    "        if check :\n",
    "            answer += 1\n",
    "\n",
    "    return answer\n",
    "\n",
    "solution(10)\n",
    "solution(5)"
   ]
  }
 ],
 "metadata": {
  "kernelspec": {
   "display_name": "Python 3.10.3 64-bit",
   "metadata": {
    "interpreter": {
     "hash": "98590ff4fe04c8543246b2a01debd3de3c5ca9b666f43f1fa87d5110c692004c"
    }
   },
   "name": "python3"
  },
  "language_info": {
   "codemirror_mode": {
    "name": "ipython",
    "version": 3
   },
   "file_extension": ".py",
   "mimetype": "text/x-python",
   "name": "python",
   "nbconvert_exporter": "python",
   "pygments_lexer": "ipython3",
   "version": "3.10.3"
  },
  "orig_nbformat": 2
 },
 "nbformat": 4,
 "nbformat_minor": 2
}