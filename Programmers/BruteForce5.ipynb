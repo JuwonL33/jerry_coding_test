{
 "cells": [
  {
   "cell_type": "code",
   "execution_count": 32,
   "metadata": {},
   "outputs": [
    {
     "data": {
      "text/plain": "3"
     },
     "execution_count": 32,
     "metadata": {},
     "output_type": "execute_result"
    }
   ],
   "source": [
    "# 피로도\n",
    "\n",
    "def solution(k, dungeons):\n",
    "    # k : 현재 hp, dungeons : [입장 가능 hp, 소모 hp]\n",
    "    answer = 0                                 # 돌 수 있는 던전의 수\n",
    "\n",
    "    while True : \n",
    "        if len(dungeons) >= dungeons[0][0] > k : \n",
    "            continue\n",
    "        else : \n",
    "            k -= dungeons[0][1] \n",
    "            dungeons.pop(0)\n",
    "            answer += 1\n",
    "            dungeons.sort()\n",
    "        if (len(dungeons) == 1 and dungeons[0][0] < k) or len(dungeons) == 0 :     return answer\n",
    "\n",
    "\n",
    "# solution(80, [[80,20],[50,40],[30,10]])\n",
    "solution(30, [[80,20],[50,40],[30,10]])"
   ]
  },
  {
   "cell_type": "code",
   "execution_count": 53,
   "metadata": {},
   "outputs": [
    {
     "data": {
      "text/plain": "3"
     },
     "execution_count": 53,
     "metadata": {},
     "output_type": "execute_result"
    }
   ],
   "source": [
    "# 피로도\n",
    "# 최대 dungeon의 개수가 8이므로 순열을 이용해야 함\n",
    "# dungeons로 만들 수 있는 조합을 다 만들어본다음에 가장 많이 돌 수 있는 조합의 answer 리턴하기\n",
    "# from itertools import permutations \n",
    "\n",
    "from itertools import permutations\n",
    "\n",
    "def solution(k, dungeons):\n",
    "    # k : 현재 hp, dungeons : [입장 가능 hp, 소모 hp]\n",
    "    answer = 0                                 # 돌 수 있는 던전의 수\n",
    "    for per in permutations(dungeons, len(dungeons)) : \n",
    "        hp = k                                 # 각 조합마다 처음의 K값을 할당해줘야 함\n",
    "        cnt = 0\n",
    "        for p in per : \n",
    "            if hp >= p[0] : \n",
    "                hp -= p[1]\n",
    "                cnt += 1\n",
    "        \n",
    "        if cnt > answer : \n",
    "            answer = cnt\n",
    "    return answer\n",
    "\n",
    "solution(80, [[80,20],[50,40],[30,10]])\n",
    "# solution(30, [[80,20],[50,40],[30,10]])"
   ]
  }
 ],
 "metadata": {
  "kernelspec": {
   "display_name": "Python 3.10.3 64-bit",
   "metadata": {
    "interpreter": {
     "hash": "98590ff4fe04c8543246b2a01debd3de3c5ca9b666f43f1fa87d5110c692004c"
    }
   },
   "name": "python3"
  },
  "language_info": {
   "codemirror_mode": {
    "name": "ipython",
    "version": 3
   },
   "file_extension": ".py",
   "mimetype": "text/x-python",
   "name": "python",
   "nbconvert_exporter": "python",
   "pygments_lexer": "ipython3",
   "version": "3.10.3"
  },
  "orig_nbformat": 2
 },
 "nbformat": 4,
 "nbformat_minor": 2
}