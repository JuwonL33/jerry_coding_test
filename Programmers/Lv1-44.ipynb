{
 "cells": [
  {
   "cell_type": "code",
   "execution_count": 2,
   "metadata": {},
   "outputs": [
    {
     "data": {
      "text/plain": "2"
     },
     "execution_count": 2,
     "metadata": {},
     "output_type": "execute_result"
    }
   ],
   "source": [
    "# Lv1 체육복\n",
    "# https://school.programmers.co.kr/learn/courses/30/lessons/42862\n",
    "\n",
    "def solution(n, lost, reserve):\n",
    "    _lost = set(lost) - set(reserve)\n",
    "    _reserve = set(reserve) - set(lost)\n",
    "    \n",
    "    for r in _reserve :\n",
    "        f = r - 1\n",
    "        b = r + 1\n",
    "        if f in _lost : \n",
    "            _lost.remove(f)\n",
    "        elif b in _lost : \n",
    "            _lost.remove(b)\n",
    "\n",
    "    return n - len(_lost)\n",
    "\n",
    "solution(5,[2, 4],[1, 3, 5])\n",
    "solution(5,[2, 4],[3])\n",
    "solution(3,[3],[1])"
   ]
  }
 ],
 "metadata": {
  "kernelspec": {
   "display_name": "Python 3.10.3 64-bit",
   "metadata": {
    "interpreter": {
     "hash": "98590ff4fe04c8543246b2a01debd3de3c5ca9b666f43f1fa87d5110c692004c"
    }
   },
   "name": "python3"
  },
  "language_info": {
   "codemirror_mode": {
    "name": "ipython",
    "version": 3
   },
   "file_extension": ".py",
   "mimetype": "text/x-python",
   "name": "python",
   "nbconvert_exporter": "python",
   "pygments_lexer": "ipython3",
   "version": "3.10.3"
  },
  "orig_nbformat": 2
 },
 "nbformat": 4,
 "nbformat_minor": 2
}