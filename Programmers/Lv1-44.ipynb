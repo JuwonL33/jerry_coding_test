{
 "cells": [
  {
   "cell_type": "code",
   "execution_count": null,
   "metadata": {},
   "outputs": [],
   "source": [
    "# Lv1 체육복\n",
    "# https://school.programmers.co.kr/learn/courses/30/lessons/42862\n",
    "\n",
    "def solution(n, lost, reserve):\n",
    "    answer = 0\n",
    "    _lost = [l for l in lost if l not in reserve]\n",
    "    _reserve = [r for r in reserve if r not in lost]\n",
    "    \n",
    "    for r in _reserve : \n",
    "        f = r - 1\n",
    "        b = r + 1\n",
    "        if f in _lost : \n",
    "            _lost.remove(f)\n",
    "        elif b in _lost : \n",
    "            _lost.remove(b)\n",
    "\n",
    "    return n - len(_lost)\n",
    "\n",
    "solution(5,[2, 4],[1, 3, 5])\n",
    "solution(5,[2, 4],[3])\n",
    "solution(3,[3],[1])"
   ]
  }
 ],
 "metadata": {
  "kernelspec": {
   "display_name": "Python 3.10.3 64-bit",
   "metadata": {
    "interpreter": {
     "hash": "98590ff4fe04c8543246b2a01debd3de3c5ca9b666f43f1fa87d5110c692004c"
    }
   },
   "name": "python3"
  },
  "language_info": {
   "name": "python",
   "nbconvert_exporter": "python",
   "version": "3.10.3-final"
  },
  "orig_nbformat": 2
 },
 "nbformat": 4,
 "nbformat_minor": 2
}