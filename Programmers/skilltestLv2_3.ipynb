{
 "cells": [
  {
   "cell_type": "code",
   "execution_count": 8,
   "metadata": {},
   "outputs": [
    {
     "data": {
      "text/plain": "[3, 11]"
     },
     "execution_count": 8,
     "metadata": {},
     "output_type": "execute_result"
    }
   ],
   "source": [
    "'''\n",
    "문제 설명\n",
    "양의 정수 x에 대한 함수 f(x)를 다음과 같이 정의합니다.\n",
    "\n",
    "x보다 크고 x와 비트가 1~2개 다른 수들 중에서 제일 작은 수\n",
    "예를 들어,\n",
    "\n",
    "f(2) = 3 입니다. 다음 표와 같이 2보다 큰 수들 중에서 비트가 다른 지점이 2개 이하이면서 제일 작은 수가 3이기 때문입니다.\n",
    "수\t비트\t다른 비트의 개수\n",
    "2\t000...0010\t\n",
    "3\t000...0011\t1\n",
    "f(7) = 11 입니다. 다음 표와 같이 7보다 큰 수들 중에서 비트가 다른 지점이 2개 이하이면서 제일 작은 수가 11이기 때문입니다.\n",
    "수\t비트\t다른 비트의 개수\n",
    "7\t000...0111\t\n",
    "8\t000...1000\t4\n",
    "9\t000...1001\t3\n",
    "10\t000...1010\t3\n",
    "11\t000...1011\t2\n",
    "정수들이 담긴 배열 numbers가 매개변수로 주어집니다. numbers의 모든 수들에 대하여 각 수의 f 값을 배열에 차례대로 담아 return 하도록 solution 함수를 완성해주세요.\n",
    "\n",
    "제한사항\n",
    "1 ≤ numbers의 길이 ≤ 100,000\n",
    "0 ≤ numbers의 모든 수 ≤ 1015\n",
    "입출력 예\n",
    "numbers\tresult\n",
    "[2,7]\t[3,11]\n",
    "'''\n",
    "def solution(numbers):\n",
    "    # 수를 입력받아 비트화 시켜서 출력 시킨다\n",
    "    # 이를 다시 10진수화 시킨 값을 저장한다. \n",
    "    answer = []\n",
    "\n",
    "    for number in numbers : \n",
    "        bin_num = list('0' + bin(number)[2:])\n",
    "        idx = ''.join(bin_num).rfind('0')\n",
    "        bin_num[idx] = '1'\n",
    "\n",
    "        if number % 2 == 1 :            # 숫자가 홀수일 때\n",
    "            bin_num[idx+1] = '0'\n",
    "        \n",
    "        answer.append(int(''.join(bin_num), 2))     # 배열 이어 붙이고 2진수 변환\n",
    "    return answer\n",
    "\n",
    "\n",
    "solution([2,7])"
   ]
  },
  {
   "cell_type": "code",
   "execution_count": null,
   "metadata": {},
   "outputs": [],
   "source": []
  }
 ],
 "metadata": {
  "kernelspec": {
   "display_name": "Python 3.10.3 64-bit",
   "metadata": {
    "interpreter": {
     "hash": "98590ff4fe04c8543246b2a01debd3de3c5ca9b666f43f1fa87d5110c692004c"
    }
   },
   "name": "python3"
  },
  "language_info": {
   "codemirror_mode": {
    "name": "ipython",
    "version": 3
   },
   "file_extension": ".py",
   "mimetype": "text/x-python",
   "name": "python",
   "nbconvert_exporter": "python",
   "pygments_lexer": "ipython3",
   "version": "3.10.3"
  },
  "orig_nbformat": 2
 },
 "nbformat": 4,
 "nbformat_minor": 2
}