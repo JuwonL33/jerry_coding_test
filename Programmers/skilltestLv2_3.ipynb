{
 "cells": [
  {
   "cell_type": "code",
   "execution_count": 7,
   "metadata": {},
   "outputs": [
    {
     "ename": "NameError",
     "evalue": "name 'num' is not defined",
     "output_type": "error",
     "traceback": [
      "\u001b[0;31m---------------------------------------------------------------------------\u001b[0m",
      "\u001b[0;31mNameError\u001b[0m                                 Traceback (most recent call last)",
      "Input \u001b[0;32mIn [7]\u001b[0m, in \u001b[0;36m<cell line: 45>\u001b[0;34m()\u001b[0m\n\u001b[1;32m     41\u001b[0m         answer\u001b[38;5;241m.\u001b[39mappend(\u001b[38;5;28mint\u001b[39m(\u001b[38;5;124m'\u001b[39m\u001b[38;5;124m'\u001b[39m\u001b[38;5;241m.\u001b[39mjoin(bin_num), \u001b[38;5;241m2\u001b[39m))     \u001b[38;5;66;03m# 배열 이어 붙이고 2진수 변환\u001b[39;00m\n\u001b[1;32m     42\u001b[0m     \u001b[38;5;28;01mreturn\u001b[39;00m answer\n\u001b[0;32m---> 45\u001b[0m \u001b[43msolution\u001b[49m\u001b[43m(\u001b[49m\u001b[43m[\u001b[49m\u001b[38;5;241;43m2\u001b[39;49m\u001b[43m,\u001b[49m\u001b[38;5;241;43m7\u001b[39;49m\u001b[43m]\u001b[49m\u001b[43m)\u001b[49m\n",
      "Input \u001b[0;32mIn [7]\u001b[0m, in \u001b[0;36msolution\u001b[0;34m(numbers)\u001b[0m\n\u001b[1;32m     31\u001b[0m answer \u001b[38;5;241m=\u001b[39m []\n\u001b[1;32m     33\u001b[0m \u001b[38;5;28;01mfor\u001b[39;00m number \u001b[38;5;129;01min\u001b[39;00m numbers : \n\u001b[0;32m---> 34\u001b[0m     bin_num \u001b[38;5;241m=\u001b[39m \u001b[38;5;28mlist\u001b[39m(\u001b[38;5;124m'\u001b[39m\u001b[38;5;124m0\u001b[39m\u001b[38;5;124m'\u001b[39m \u001b[38;5;241m+\u001b[39m \u001b[38;5;28mbin\u001b[39m(\u001b[43mnum\u001b[49m)[\u001b[38;5;241m2\u001b[39m:])\n\u001b[1;32m     35\u001b[0m     idx \u001b[38;5;241m=\u001b[39m \u001b[38;5;124m'\u001b[39m\u001b[38;5;124m'\u001b[39m\u001b[38;5;241m.\u001b[39mjoin(bin_num)\u001b[38;5;241m.\u001b[39mrfind(\u001b[38;5;124m'\u001b[39m\u001b[38;5;124m0\u001b[39m\u001b[38;5;124m'\u001b[39m)\n\u001b[1;32m     36\u001b[0m     bin_num[idx] \u001b[38;5;241m=\u001b[39m \u001b[38;5;124m'\u001b[39m\u001b[38;5;124m1\u001b[39m\u001b[38;5;124m'\u001b[39m\n",
      "\u001b[0;31mNameError\u001b[0m: name 'num' is not defined"
     ]
    }
   ],
   "source": [
    "'''\n",
    "문제 설명\n",
    "양의 정수 x에 대한 함수 f(x)를 다음과 같이 정의합니다.\n",
    "\n",
    "x보다 크고 x와 비트가 1~2개 다른 수들 중에서 제일 작은 수\n",
    "예를 들어,\n",
    "\n",
    "f(2) = 3 입니다. 다음 표와 같이 2보다 큰 수들 중에서 비트가 다른 지점이 2개 이하이면서 제일 작은 수가 3이기 때문입니다.\n",
    "수\t비트\t다른 비트의 개수\n",
    "2\t000...0010\t\n",
    "3\t000...0011\t1\n",
    "f(7) = 11 입니다. 다음 표와 같이 7보다 큰 수들 중에서 비트가 다른 지점이 2개 이하이면서 제일 작은 수가 11이기 때문입니다.\n",
    "수\t비트\t다른 비트의 개수\n",
    "7\t000...0111\t\n",
    "8\t000...1000\t4\n",
    "9\t000...1001\t3\n",
    "10\t000...1010\t3\n",
    "11\t000...1011\t2\n",
    "정수들이 담긴 배열 numbers가 매개변수로 주어집니다. numbers의 모든 수들에 대하여 각 수의 f 값을 배열에 차례대로 담아 return 하도록 solution 함수를 완성해주세요.\n",
    "\n",
    "제한사항\n",
    "1 ≤ numbers의 길이 ≤ 100,000\n",
    "0 ≤ numbers의 모든 수 ≤ 1015\n",
    "입출력 예\n",
    "numbers\tresult\n",
    "[2,7]\t[3,11]\n",
    "'''\n",
    "def solution(numbers):\n",
    "    # 수를 입력받아 비트화 시켜서 출력 시킨다\n",
    "    # 이를 다시 10진수화 시킨 값을 저장한다. \n",
    "    answer = []\n",
    "\n",
    "    for number in numbers : \n",
    "        bin_num = list('0' + bin(number)[2:])\n",
    "        idx = ''.join(bin_num).rfind('0')\n",
    "        bin_num[idx] = '1'\n",
    "\n",
    "        if number % 2 == 1 :            # 숫자가 홀수일 때\n",
    "            bin_num[idx+1] = '0'\n",
    "        \n",
    "        answer.append(int(''.join(bin_num), 2))     # 배열 이어 붙이고 2진수 변환\n",
    "    return answer\n",
    "\n",
    "\n",
    "solution([2,7])"
   ]
  },
  {
   "cell_type": "code",
   "execution_count": null,
   "metadata": {},
   "outputs": [],
   "source": []
  }
 ],
 "metadata": {
  "kernelspec": {
   "display_name": "Python 3.10.3 64-bit",
   "metadata": {
    "interpreter": {
     "hash": "98590ff4fe04c8543246b2a01debd3de3c5ca9b666f43f1fa87d5110c692004c"
    }
   },
   "name": "python3"
  },
  "language_info": {
   "codemirror_mode": {
    "name": "ipython",
    "version": 3
   },
   "file_extension": ".py",
   "mimetype": "text/x-python",
   "name": "python",
   "nbconvert_exporter": "python",
   "pygments_lexer": "ipython3",
   "version": "3.10.3"
  },
  "orig_nbformat": 2
 },
 "nbformat": 4,
 "nbformat_minor": 2
}