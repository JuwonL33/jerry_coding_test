# https://school.programmers.co.kr/learn/courses/30/lessons/159994
# 카드 뭉치

def solution(cards1, cards2, goal):
    answer = []
    result = 'Yes'
    for i in range(len(goal)) : 
        if cards1 and goal[i] == cards1[0] : 
            cards1.pop(0)
        elif cards2 and goal[i] == cards2[0] : 
            cards2.pop(0)
        else : 
            result = 'No'

    return result

print(solution(["i", "drink", "water"], ["want", "to"], ["i", "want", "to", "drink", "water"]))
print(solution(["i", "water", "drink"], ["want", "to"], ["i", "want", "to", "drink", "water"]))
print(solution(["i", "drink"], ["want", "to"], ["i", "want", "to", "drink", "water"]))
