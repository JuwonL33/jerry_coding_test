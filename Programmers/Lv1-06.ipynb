{
 "cells": [
  {
   "cell_type": "code",
   "execution_count": 69,
   "metadata": {},
   "outputs": [
    {
     "data": {
      "text/plain": "[[4], [6]]"
     },
     "execution_count": 69,
     "metadata": {},
     "output_type": "execute_result"
    }
   ],
   "source": [
    "# 행렬의 덧셈\n",
    "def solution(arr1, arr2):\n",
    "    answer = []\n",
    "    w, h = len(arr1), len(arr1[0])\n",
    "    tmp = []\n",
    "    for i in range(w) : \n",
    "        for j in range(h) : \n",
    "            if h > 1 : tmp.append(arr1[i][j]+arr2[i][j])\n",
    "            else : tmp = [arr1[i][j]+arr2[i][j]]\n",
    "        answer.append(tmp)   \n",
    "        tmp = []\n",
    "    return answer\n",
    "\n",
    "# solution([[1,2],[2,3]],[[3,4],[5,6]])\n",
    "solution([[1],[2]],[[3],[4]])\n"
   ]
  },
  {
   "cell_type": "code",
   "execution_count": 75,
   "metadata": {},
   "outputs": [
    {
     "name": "stdout",
     "output_type": "stream",
     "text": [
      "1 3\n",
      "2 4\n"
     ]
    },
    {
     "data": {
      "text/plain": "[[]]"
     },
     "execution_count": 75,
     "metadata": {},
     "output_type": "execute_result"
    }
   ],
   "source": [
    "'''\n",
    "zip() 기본 문법\n",
    "zip() 함수는 여러 개의 순회 가능한(iterable) 객체를 인자로 받고, 각 객체가 담고 있는 원소를 터플의 형태로 차례로 접근할 수 있는 반복자(iterator)를 반환합니다. 설명이 좀 어렵게 들릴 수도 있는데요. 간단한 예제를 보면 이해가 쉬우실 겁니다.\n",
    "'''\n",
    "\n",
    "def solution(arr1, arr2):\n",
    "    answer = [[]]\n",
    "    for pair in zip(arr1, arr2) : \n",
    "        print(pair[0].pop(), pair[1].pop())\n",
    "    return answer\n",
    "\n",
    "# solution([[1,2],[2,3]],[[3,4],[5,6]])\n",
    "solution([[1],[2]],[[3],[4]])"
   ]
  }
 ],
 "metadata": {
  "kernelspec": {
   "display_name": "Python 3.10.3 64-bit",
   "metadata": {
    "interpreter": {
     "hash": "98590ff4fe04c8543246b2a01debd3de3c5ca9b666f43f1fa87d5110c692004c"
    }
   },
   "name": "python3"
  },
  "language_info": {
   "codemirror_mode": {
    "name": "ipython",
    "version": 3
   },
   "file_extension": ".py",
   "mimetype": "text/x-python",
   "name": "python",
   "nbconvert_exporter": "python",
   "pygments_lexer": "ipython3",
   "version": "3.10.3"
  },
  "orig_nbformat": 2
 },
 "nbformat": 4,
 "nbformat_minor": 2
}