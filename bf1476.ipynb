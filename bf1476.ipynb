# 날짜 계산
# https://www.acmicpc.net/problem/1476

e, s, m = map(int, input().split())
start_year = 1
e_1, s_1, m_1 = 1, 1, 1
while True : 
    if e_1 == e and s_1 == s and m_1 == m : 
        break
    start_year += 1
    if e_1 >= 15 : e_1 = 1
    else : e_1 += 1
    
    if s_1 >= 28 : s_1 = 1
    else : s_1 += 1
    
    if m_1 >= 19 : m_1 = 1
    else : m_1 += 1

print(start_year)
