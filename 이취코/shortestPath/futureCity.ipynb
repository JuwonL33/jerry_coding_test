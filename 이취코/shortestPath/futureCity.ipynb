{
 "cells": [
  {
   "cell_type": "code",
   "execution_count": 3,
   "metadata": {},
   "outputs": [
    {
     "name": "stdout",
     "output_type": "stream",
     "text": [
      "3\n"
     ]
    }
   ],
   "source": [
    "# 미래도시 - 최단 경로, 플로이드-워셜 문제 \n",
    "# 1. 먼저 그림 그려보기\n",
    "\n",
    "INF = int(1e9)                          # 무한을 의미하는 값으로 10억을 설정\n",
    "\n",
    "n, m = map(int, input().split())        # n : 전체 회사의 개수, m : 경로의 개수\n",
    "\n",
    "graph = [ [INF] * (n + 1) for _ in range(n+1) ]\n",
    "\n",
    "# from me to me 인 비용은 0으로 초기화\n",
    "\n",
    "for a in range(1, n+1) :\n",
    "    for b in range(1, n+1) :\n",
    "        if a == b :\n",
    "            graph[a][b] = 0\n",
    "\n",
    "# 각 간선에 대한 정보를 입력받아, 그 값으로 초기화\n",
    "for _ in range(m) :\n",
    "    # A와 B가 서로에게 가는 비용은 1이라 설정\n",
    "    a, b = map(int, input().split())\n",
    "    graph[a][b] = 1\n",
    "    graph[b][a] = 1\n",
    "\n",
    "x, k = map(int, input().split())        # x : 거쳐 갈 노드 k : 최종 목적지\n",
    "\n",
    "# 점화식에 따라 플로이드 워셜 알고리즘 수행\n",
    "for k in range(1, n+1) :\n",
    "    for a in range(1, n+1) :\n",
    "        for b in range(1, n+1) :\n",
    "            graph[a][b] = min(graph[a][b], graph[a][k]+graph[k][b])\n",
    "\n",
    "\n",
    "# 결과 출력\n",
    "distance = graph[1][k] + graph[k][x]\n",
    "\n",
    "# 도달할 수 없는 경우 -1을 출력\n",
    "if distance >= INF : \n",
    "    print(-1)\n",
    "# 도달할 수 있는 경우, 최단 거리 출력\n",
    "else : \n",
    "    print(distance)\n",
    "\n"
   ]
  }
 ],
 "metadata": {
  "kernelspec": {
   "display_name": "Python 3.10.3 64-bit",
   "metadata": {
    "interpreter": {
     "hash": "98590ff4fe04c8543246b2a01debd3de3c5ca9b666f43f1fa87d5110c692004c"
    }
   },
   "name": "python3"
  },
  "language_info": {
   "codemirror_mode": {
    "name": "ipython",
    "version": 3
   },
   "file_extension": ".py",
   "mimetype": "text/x-python",
   "name": "python",
   "nbconvert_exporter": "python",
   "pygments_lexer": "ipython3",
   "version": "3.10.3"
  },
  "orig_nbformat": 2
 },
 "nbformat": 4,
 "nbformat_minor": 2
}