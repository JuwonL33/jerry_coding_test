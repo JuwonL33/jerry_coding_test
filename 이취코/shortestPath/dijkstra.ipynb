{
 "cells": [
  {
   "cell_type": "code",
   "execution_count": 3,
   "metadata": {},
   "outputs": [
    {
     "ename": "ValueError",
     "evalue": "not enough values to unpack (expected 2, got 0)",
     "output_type": "error",
     "traceback": [
      "\u001b[0;31m---------------------------------------------------------------------------\u001b[0m",
      "\u001b[0;31mValueError\u001b[0m                                Traceback (most recent call last)",
      "Input \u001b[0;32mIn [3]\u001b[0m, in \u001b[0;36m<cell line: 8>\u001b[0;34m()\u001b[0m\n\u001b[1;32m      5\u001b[0m INF \u001b[38;5;241m=\u001b[39m \u001b[38;5;28mint\u001b[39m(\u001b[38;5;241m1e9\u001b[39m)                  \u001b[38;5;66;03m# 무한을 의미하는 값으로 10억으로 설정\u001b[39;00m\n\u001b[1;32m      7\u001b[0m \u001b[38;5;66;03m# 노드의 개수, 간선의 개수 입력 받기\u001b[39;00m\n\u001b[0;32m----> 8\u001b[0m n, m \u001b[38;5;241m=\u001b[39m \u001b[38;5;28mmap\u001b[39m(\u001b[38;5;28mint\u001b[39m, \u001b[38;5;28minput\u001b[39m()\u001b[38;5;241m.\u001b[39msplit())\n\u001b[1;32m      9\u001b[0m \u001b[38;5;66;03m# 시작 노드 번호 입력받기\u001b[39;00m\n\u001b[1;32m     10\u001b[0m start \u001b[38;5;241m=\u001b[39m \u001b[38;5;28mint\u001b[39m(\u001b[38;5;28minput\u001b[39m())\n",
      "\u001b[0;31mValueError\u001b[0m: not enough values to unpack (expected 2, got 0)"
     ]
    }
   ],
   "source": [
    "# 간단한 다익스트라 알고리즘 소스코드\n",
    "\n",
    "import sys\n",
    "input = sys.stdin.readline\n",
    "INF = int(1e9)                  # 무한을 의미하는 값으로 10억으로 설정\n",
    "\n",
    "# 노드의 개수, 간선의 개수 입력 받기\n",
    "n, m = map(int, input().split())\n",
    "# 시작 노드 번호 입력받기\n",
    "start = int(input())\n",
    "# 각 노드에 연결되어 있는 노드에 대한 정보를 담는 리스트 만들기\n",
    "graph = [[] for i in range(n + 1) ]\n",
    "# 방문 여부 체크하는 목적의 리스트 만들기\n",
    "visited = [False * (n + 1)]\n",
    "# 최단 거리 테이블을 모두 무한으로 초기화\n",
    "distance = [INF] * n + 1\n",
    "                                                                                                                                                                                                              \n",
    "# 모든 간선정보 입력받기\n",
    "for _ in range(m) :\n",
    "    a, b, c = map(int, input().split())\n",
    "    graph[a].append((b, c))\n",
    "\n",
    "# 방문하지 않은 노드 중 가장 최단 거리가 짧은 노드의 번호를 반환\n",
    "def get_smallest_node() :\n",
    "    min_value = INF\n",
    "    index = 0                   # 가장 최단 거리가 짧은 노드 (인덱스)\n",
    "    for i in range(1, n+1) :\n",
    "        if distance[i] < min_value and not visited[i] :\n",
    "            min_value = distance[i]\n",
    "            index = i\n",
    "\n",
    "def dijkstra(start) :\n",
    "    # 시작 노드에 대해서 초기화\n",
    "    distance[start] = 0\n",
    "    visited[start] = True\n",
    "    for j in graph[start] :\n",
    "        distance[j[0]] = j[1]\n",
    "    # 시작 노드를 제외한 전체 n - 1개의 노드에 대해 반복\n",
    "    for i in range(n-1) : \n",
    "        # 현재 최단 거리가 가장 짧은 노드를 꺼내서 방문처리\n",
    "        now = get_smallest_node()\n",
    "        visited[now] = True\n",
    "        # 현재 노드와 연결된 다른 노드를 확인\n",
    "        for j in graph[now] :\n",
    "            cost = distance[now] + j[1]\n",
    "            # 현재 노드를 거쳐서 다른 노드로 이동하는 거리가 더 짧은 경우\n",
    "            if cost < distance[j[0]] :\n",
    "                distance[j[0]] = cost\n",
    "\n",
    "# 다익스트라 알고리즘 수행\n",
    "dijkstra(start)\n",
    "\n",
    "# 모든 노드로 가기 위한 최단 거리를 출력\n",
    "for i in range(1, n+1) :\n",
    "    # 도달할 수 없는 경우 무한이라고 출력\n",
    "    if distance[i] == INF :\n",
    "        print(\"INFINITY\")\n",
    "    # 도달할 수 있는 경우 거리를 출력 \n",
    "    else : \n",
    "        print(distance[i])"
   ]
  }
 ],
 "metadata": {
  "kernelspec": {
   "display_name": "Python 3.10.3 64-bit",
   "metadata": {
    "interpreter": {
     "hash": "98590ff4fe04c8543246b2a01debd3de3c5ca9b666f43f1fa87d5110c692004c"
    }
   },
   "name": "python3"
  },
  "language_info": {
   "codemirror_mode": {
    "name": "ipython",
    "version": 3
   },
   "file_extension": ".py",
   "mimetype": "text/x-python",
   "name": "python",
   "nbconvert_exporter": "python",
   "pygments_lexer": "ipython3",
   "version": "3.10.3"
  },
  "orig_nbformat": 2
 },
 "nbformat": 4,
 "nbformat_minor": 2
}