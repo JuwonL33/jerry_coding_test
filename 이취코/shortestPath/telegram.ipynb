{
 "cells": [
  {
   "cell_type": "code",
   "execution_count": 6,
   "metadata": {},
   "outputs": [
    {
     "ename": "ValueError",
     "evalue": "not enough values to unpack (expected 3, got 0)",
     "output_type": "error",
     "traceback": [
      "\u001b[0;31m---------------------------------------------------------------------------\u001b[0m",
      "\u001b[0;31mValueError\u001b[0m                                Traceback (most recent call last)",
      "Input \u001b[0;32mIn [6]\u001b[0m, in \u001b[0;36m<cell line: 10>\u001b[0;34m()\u001b[0m\n\u001b[1;32m      7\u001b[0m INF \u001b[38;5;241m=\u001b[39m \u001b[38;5;28mint\u001b[39m(\u001b[38;5;241m1e9\u001b[39m)                  \u001b[38;5;66;03m# 무한에 해당하는 값을 10억으로 처리\u001b[39;00m\n\u001b[1;32m      8\u001b[0m \u001b[38;5;28minput\u001b[39m \u001b[38;5;241m=\u001b[39m sys\u001b[38;5;241m.\u001b[39mstdin\u001b[38;5;241m.\u001b[39mreadline\n\u001b[0;32m---> 10\u001b[0m n, m, start \u001b[38;5;241m=\u001b[39m \u001b[38;5;28mmap\u001b[39m(\u001b[38;5;28mint\u001b[39m, \u001b[38;5;28minput\u001b[39m()\u001b[38;5;241m.\u001b[39msplit())                 \u001b[38;5;66;03m# n : 도시의 개수, m : 통로의 개수, start : 시작점\u001b[39;00m\n\u001b[1;32m     12\u001b[0m \u001b[38;5;66;03m# 각 노드에 연결되어 있는 노드에 대한 정보를 담는 리스트 만들기\u001b[39;00m\n\u001b[1;32m     13\u001b[0m graph \u001b[38;5;241m=\u001b[39m [[] \u001b[38;5;28;01mfor\u001b[39;00m i \u001b[38;5;129;01min\u001b[39;00m \u001b[38;5;28mrange\u001b[39m(n\u001b[38;5;241m+\u001b[39m\u001b[38;5;241m1\u001b[39m)]\n",
      "\u001b[0;31mValueError\u001b[0m: not enough values to unpack (expected 3, got 0)"
     ]
    }
   ],
   "source": [
    "# 전보, 다익스트라\n",
    "# 우선순위 큐를 이용할 것\n",
    "\n",
    "import heapq\n",
    "import sys\n",
    "\n",
    "INF = int(1e9)                  # 무한에 해당하는 값을 10억으로 처리\n",
    "input = sys.stdin.readline\n",
    "\n",
    "n, m, start = map(int, input().split())                 # n : 도시의 개수, m : 통로의 개수, start : 시작점\n",
    "\n",
    "# 각 노드에 연결되어 있는 노드에 대한 정보를 담는 리스트 만들기\n",
    "graph = [[] for i in range(n+1)]\n",
    "\n",
    "# 최단 거리 테이블을 모두 무한으로 초기화\n",
    "distance = [INF * (n*1)]\n",
    "\n",
    "# 모든 간선 정보 입력받기\n",
    "for _ in range(m) :\n",
    "    x, y, z = map(int, input().split())\n",
    "    # x번 노드에서 y번 노드로 가는 비용이 z\n",
    "    graph[x].append((y, z))\n",
    "\n",
    "def dijkstra(start) :\n",
    "    q = []\n",
    "    # 시작 노드로 가기 위한 최단 경로는 0으로 설정하며, 큐에 삽입\n",
    "    heapq.heappush(q, (0, start))\n",
    "    distance[start] = 0\n",
    "    while q : \n",
    "        # 가장 최단 거리가 짧은 노드에 대한 정보를 꺼내기\n",
    "        dist, now = heapq.heappop(q)\n",
    "        if distance[now] < dist : \n",
    "            continue\n",
    "        # 현재 노드와 연결된 다른 인접한 노드들을 확인\n",
    "        for i in range[now] : \n",
    "            cost = dist + i[1]\n",
    "            # 현재 노드를 거쳐서, 다른 노드로 이동하는 거리가 더 짧은 경우\n",
    "            if cost < distance[i[0]] : \n",
    "                distance[i[0]] = cost\n",
    "                heapq.heappush(q, (cost, i[0]))\n",
    "\n",
    "dijkstra(start)\n",
    "\n",
    "# 도달할 수 있는 노드의 개수\n",
    "count = 0\n",
    "\n",
    "# 도달할 수 있는 노드 중에서, 가장 멀리 있는 노드와의 최단 거리\n",
    "max_distance = 0\n",
    "for d in distance :\n",
    "    # 도달할 수 있는 노드인 경우\n",
    "    if d != INF :\n",
    "        count += 1\n",
    "        max_distance = max(max_distance, d)\n",
    "\n",
    "print(count - 1, max_distance)"
   ]
  }
 ],
 "metadata": {
  "kernelspec": {
   "display_name": "Python 3.10.3 64-bit",
   "metadata": {
    "interpreter": {
     "hash": "98590ff4fe04c8543246b2a01debd3de3c5ca9b666f43f1fa87d5110c692004c"
    }
   },
   "name": "python3"
  },
  "language_info": {
   "codemirror_mode": {
    "name": "ipython",
    "version": 3
   },
   "file_extension": ".py",
   "mimetype": "text/x-python",
   "name": "python",
   "nbconvert_exporter": "python",
   "pygments_lexer": "ipython3",
   "version": "3.10.3"
  },
  "orig_nbformat": 2
 },
 "nbformat": 4,
 "nbformat_minor": 2
}