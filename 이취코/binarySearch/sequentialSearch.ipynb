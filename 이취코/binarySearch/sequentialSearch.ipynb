{
 "cells": [
  {
   "cell_type": "code",
   "execution_count": 3,
   "metadata": {},
   "outputs": [
    {
     "name": "stdout",
     "output_type": "stream",
     "text": [
      "생성할 원소의 개수를 입력한 다음 한 칸 띄고 찾을 문자열을 입력하세요.\n",
      "앞서 적은 원소 개수만큼 문자열을 입력하세요. 구분은 띄어쓰기 한 칸으로 합니다.\n",
      "None\n"
     ]
    }
   ],
   "source": [
    "# 순차 탐색\n",
    "# 리스트 안에 있는 특정한 데이터를 찾기 위해 앞에서부터 데이터를 하나씩 차례대로 확인하는 방법이다. \n",
    "# 보통 정렬되지 않은 리스트에서 데이터를 찾아야 할 때 사용. \n",
    "# 리스트 내에 데이터가 아무리 많아도 시간만 충분하다면 항상 원하는 원소를 찾을 수 있다.\n",
    "# 시간 복잡도 : O(N)\n",
    "\n",
    "# 순차 탐색 소스코드 구현\n",
    "def sequential_search(n, target, array) :\n",
    "    # 각 원소를 하나씩 확인하며\n",
    "    for i in range(n) :\n",
    "        # 현재의 원소가 찾고자 하는 원소와 동일할 경우\n",
    "        if array[i] == target :\n",
    "            return i + 1    \n",
    "\n",
    "print(\"생성할 원소의 개수를 입력한 다음 한 칸 띄고 찾을 문자열을 입력하세요.\")\n",
    "input_data = input().split()\n",
    "n = int(input_data[0])\n",
    "target = input_data[1]\n",
    "\n",
    "print(\"앞서 적은 원소 개수만큼 문자열을 입력하세요. 구분은 띄어쓰기 한 칸으로 합니다.\")\n",
    "array = input().split()\n",
    "\n",
    "# 순차 탐색 수행 결과 출력\n",
    "print(sequential_search(n, target, array))"
   ]
  }
 ],
 "metadata": {
  "kernelspec": {
   "display_name": "Python 3.10.3 64-bit",
   "metadata": {
    "interpreter": {
     "hash": "98590ff4fe04c8543246b2a01debd3de3c5ca9b666f43f1fa87d5110c692004c"
    }
   },
   "name": "python3"
  },
  "language_info": {
   "codemirror_mode": {
    "name": "ipython",
    "version": 3
   },
   "file_extension": ".py",
   "mimetype": "text/x-python",
   "name": "python",
   "nbconvert_exporter": "python",
   "pygments_lexer": "ipython3",
   "version": "3.10.3"
  },
  "orig_nbformat": 2
 },
 "nbformat": 4,
 "nbformat_minor": 2
}