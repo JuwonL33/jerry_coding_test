{
 "cells": [
  {
   "cell_type": "code",
   "execution_count": 1,
   "metadata": {},
   "outputs": [
    {
     "name": "stdout",
     "output_type": "stream",
     "text": [
      "4\n"
     ]
    }
   ],
   "source": [
    "# 이진 탐색\n",
    "# 배열 내부의 데이터가 정렬되어 있어야만 사용할 수 있는 알고리즘. \n",
    "# 데이터가 무작위일 때는 사용할 수 없지만, 이미 정렬되어 있다면 매우 빠르게 데이터를 찾을 수 있다는 특징이 있다.\n",
    "# 이진 탐색은 탐색 범위를 절반씩 좁혀가며 데이터를 탐색하는 특징이 있다. \n",
    "# 변수 3개 사용 : 시작점, 끝점, 중간점\n",
    "# 찾으려는 데이터와 중간점 위치에 있는 데이터를 반복적으로 비교하여 원하는 데이터를 찾는다.\n",
    "# 한 번 확인할때마다 확인하는 원소의 개수가 절반씩 줄어든다. \n",
    "# 시간 복잡도 : O(logN)\n",
    "\n",
    "# 트리 자료구조\n",
    "'''\n",
    "이진 탐색은 전제 조건이 데이터 정렬이다.\n",
    "데이터베이스는 내부적으로 대용량 데이터 처리에 적합한 트리 자료구조를 이용하여 항상 데이터 정렬이 되어있다. \n",
    "이진탐색트리 : 트리 자료구조 중 가장 간단한 형태가 이진 탐색 트리.\n",
    "이진탐색트리의 특징 : 왼쪽 자식노드 < 부모 노드 < 오른쪽 자식노드\n",
    "'''\n",
    "\n",
    "# 이진 탐색 소스코드 구현(재귀 함수)\n",
    "def binaray_search(array, target, start, end) :\n",
    "    if start > end :\n",
    "        return None\n",
    "    mid = (start + end) // 2\n",
    "    \n",
    "    # 찾은 경우 중간지점 인덱스 반환\n",
    "    if array[mid] == target :\n",
    "        return mid\n",
    "    # 중간점의 값보다 찾고자 하는 값이 작은 경우 왼쪽 확인 \n",
    "    elif array[mid] > target :\n",
    "        return binaray_search(array, target, start, mid - 1)\n",
    "    # 중간점의 값보다 찾고자 하는 값이 큰 경우 오른쪽 확인\n",
    "    else : \n",
    "        return binaray_search(array, target, mid+1, end)\n",
    "\n",
    "# n(원소의 개수)과 target(찾고자 하는 문자열 입력받기)\n",
    "n, target = list(map(int, input().split()))\n",
    "# 전체 원소 입력받기\n",
    "array = list(map(int, input().split()))\n",
    "\n",
    "# 이진 탐색 수행 결과 출력\n",
    "result = binaray_search(array, target, 0, n-1)\n",
    "if result == None :\n",
    "    print(\"결과가 존재하지 않습니다.\")\n",
    "else :\n",
    "    print(result+1)"
   ]
  },
  {
   "cell_type": "code",
   "execution_count": 2,
   "metadata": {},
   "outputs": [
    {
     "name": "stdout",
     "output_type": "stream",
     "text": [
      "4\n"
     ]
    }
   ],
   "source": [
    "# 이진 탐색 소스코드 구현(반복문)\n",
    "def binaray_search(array, target, start, end) :\n",
    "    while start <= end :\n",
    "        mid = (start + end) // 2\n",
    "        # 찾은 경우 중간점 인덱스 반환\n",
    "        if array[mid] == target :\n",
    "            return mid\n",
    "        elif array[mid] > target :\n",
    "            end = mid - 1\n",
    "        else :\n",
    "            start = mid + 1\n",
    "    return None\n",
    "\n",
    "# n(원소의 개수)과 target(찾고자 하는 문자열 입력받기)\n",
    "n, target = list(map(int, input().split()))\n",
    "# 전체 원소 입력받기\n",
    "array = list(map(int, input().split()))\n",
    "\n",
    "# 이진 탐색 수행 결과 출력\n",
    "result = binaray_search(array, target, 0, n-1)\n",
    "if result == None :\n",
    "    print(\"결과가 존재하지 않습니다.\")\n",
    "else :\n",
    "    print(result+1)"
   ]
  },
  {
   "cell_type": "code",
   "execution_count": 5,
   "metadata": {},
   "outputs": [
    {
     "name": "stdout",
     "output_type": "stream",
     "text": [
      "\n"
     ]
    }
   ],
   "source": [
    "# 한줄 입력 받아 출력하는 소스 코드\n",
    "'''\n",
    "이진탐색문제는 입력 데이터가 많거나, 탐색 범위가 매우 넓은 편이다. \n",
    "데이터의 개수가 1천만개를 넘어가거나 탐색범위의 크기가 1천억 이상이라면 이진 탐색 알고리즘을 의심해보자.\n",
    "입력 데이터가 많은 문제는 sys 라이브러리의 readline() 함수를 이용하면 시간 초과를 피할 수 있다. \n",
    "\n",
    "sys 라이브러리를 사용할 때는 한 줄 입력받고나서 rstrip() 함수를 꼭 호출해야한다. \n",
    "소스코드에 readline()으로 입력하면 입력 후 엔터가 줄 바꿈 기호로 입력되는데, 이 공백 문자를 제거하려면 rstrip() 함수를 사용해야 한다. \n",
    "'''\n",
    "import sys\n",
    "\n",
    "# 하나의 문자열 데이터 입력받기\n",
    "input_data = sys.stdin.readline().rstrip()\n",
    "\n",
    "# 입력받은 문자열 그대로 출력\n",
    "print(input_data)"
   ]
  }
 ],
 "metadata": {
  "kernelspec": {
   "display_name": "Python 3.10.3 64-bit",
   "metadata": {
    "interpreter": {
     "hash": "98590ff4fe04c8543246b2a01debd3de3c5ca9b666f43f1fa87d5110c692004c"
    }
   },
   "name": "python3"
  },
  "language_info": {
   "codemirror_mode": {
    "name": "ipython",
    "version": 3
   },
   "file_extension": ".py",
   "mimetype": "text/x-python",
   "name": "python",
   "nbconvert_exporter": "python",
   "pygments_lexer": "ipython3",
   "version": "3.10.3"
  },
  "orig_nbformat": 2
 },
 "nbformat": 4,
 "nbformat_minor": 2
}