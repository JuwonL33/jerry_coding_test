{
 "cells": [
  {
   "cell_type": "code",
   "execution_count": 11,
   "metadata": {},
   "outputs": [
    {
     "name": "stdout",
     "output_type": "stream",
     "text": [
      "no yes yes "
     ]
    }
   ],
   "source": [
    "# 부품찾기\n",
    "# 내가 푼 것\n",
    "\n",
    "n = int(input())                                # 동빈이가 보유중인 부품 개수\n",
    "components = set(map(int, input().split()))    # 각 부품의 고유 번호 -> 처음엔 List로 선언했으나 해당 부품이 있는 지만 확인하면 되는 문제 이므로 set을 활용할 것\n",
    "m = int(input())                                # 고객이 찾으시는 부품 개수\n",
    "reqComponents = list(map(int, input().split())) # 고객이 찾는 부품 고유 번호\n",
    "\n",
    "array.sort()\n",
    "reqArray.sort()\n",
    "\n",
    "for req in reqComponents :\n",
    "    if req not in components :\n",
    "        print('no', end = ' ')\n",
    "    else : \n",
    "        print('yes', end = ' ')"
   ]
  },
  {
   "cell_type": "code",
   "execution_count": 8,
   "metadata": {},
   "outputs": [
    {
     "name": "stdout",
     "output_type": "stream",
     "text": [
      "no yes yes "
     ]
    }
   ],
   "source": [
    "# 이진탐색을 이용한 풀이 (반복문)\n",
    "\n",
    "def binary_search(array, target, start, end) :\n",
    "    while start <= end :\n",
    "        mid = (start + end) // 2\n",
    "\n",
    "        if array[mid] == target : \n",
    "            return mid\n",
    "        elif array[mid] > target :\n",
    "            end = mid - 1\n",
    "        else : \n",
    "            start = mid + 1\n",
    "    return None\n",
    "\n",
    "n = int(input())                            # 동빈이가 보유중인 부품 개수\n",
    "components = list(map(int, input().split()))     # 각 부품의 고유 번호\n",
    "components.sort()                                # 부품들의 번호 정렬\n",
    "\n",
    "m = int(input())                            # 고객이 찾으시는 부품 개수\n",
    "reqComponents = list(map(int, input().split()))  # 고객이 찾는 부품 고유 번호\n",
    "\n",
    "for req in reqComponents :\n",
    "    result = binary_search(components, req, 0, n-1)\n",
    "    if result != None :\n",
    "        print('yes', end = ' ')\n",
    "    else : \n",
    "        print('no', end = ' ')\n"
   ]
  },
  {
   "cell_type": "code",
   "execution_count": 10,
   "metadata": {},
   "outputs": [
    {
     "name": "stdout",
     "output_type": "stream",
     "text": [
      "no yes yes "
     ]
    }
   ],
   "source": [
    "# 계수 정렬을 이용한 풀이\n",
    "\n",
    "n = int(input())                            # 동빈이가 보유중인 부품 개수\n",
    "components = [0] * 100001\n",
    "\n",
    "# 가게에 있는 전체 부품 번호를 입력받아서 기록\n",
    "for i in input().split() :\n",
    "    components[int(i)] = 1\n",
    "\n",
    "# M입력 받기\n",
    "m = int(input())\n",
    "\n",
    "# 손님이 확인 요청한 전체 부품 번호를 공백으로 구분하여 입력\n",
    "x = list(map(int, input().split()))\n",
    "\n",
    "for i in x :\n",
    "    if components[i] != 0 :\n",
    "        print('yes', end = ' ')\n",
    "    else : \n",
    "        print('no', end = ' ')"
   ]
  }
 ],
 "metadata": {
  "kernelspec": {
   "display_name": "Python 3.10.3 64-bit",
   "metadata": {
    "interpreter": {
     "hash": "98590ff4fe04c8543246b2a01debd3de3c5ca9b666f43f1fa87d5110c692004c"
    }
   },
   "name": "python3"
  },
  "language_info": {
   "codemirror_mode": {
    "name": "ipython",
    "version": 3
   },
   "file_extension": ".py",
   "mimetype": "text/x-python",
   "name": "python",
   "nbconvert_exporter": "python",
   "pygments_lexer": "ipython3",
   "version": "3.10.3"
  },
  "orig_nbformat": 2
 },
 "nbformat": 4,
 "nbformat_minor": 2
}