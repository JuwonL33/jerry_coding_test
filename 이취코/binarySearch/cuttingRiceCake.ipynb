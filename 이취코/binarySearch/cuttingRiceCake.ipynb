{
 "cells": [
  {
   "cell_type": "code",
   "execution_count": 8,
   "metadata": {},
   "outputs": [
    {
     "name": "stdout",
     "output_type": "stream",
     "text": [
      "6\n"
     ]
    }
   ],
   "source": [
    "# 떡 절단기\n",
    "\n",
    "# 이진 탐색 함 써보꽈\n",
    "n, m = map(int, input().split())                # n : 떡의 개수, m : 떡의 길이\n",
    "array = list(map(int, input().split()))         # 떡의 높이\n",
    "\n",
    "# 이진 탐색을 위한 시작과 끝 점\n",
    "start = 0\n",
    "end = max(array)\n",
    "\n",
    "# 이진 탐색 수행 (반복)\n",
    "h = 0                                           # 최적의 절단기 높이\n",
    "while start <= end : \n",
    "    total = 0                                   # 손님이 가져갈 떡의 양 임시 값\n",
    "    mid = (start + end) // 2                    # 중앙값 설정\n",
    "    for x in array :                            # 떡의 길이를 for문을 돌려서\n",
    "        if x > mid :                            # 떡이 중앙값 보다 크면\n",
    "            total += x - mid                    # 큰 만큼 손님이 가져갈 떡의 양에 더하기\n",
    "    \n",
    "    if total < m :                              # 가져갈 양이 목표값보다 작으면\n",
    "        end = mid - 1                           # 왼쪽 부분 탐색\n",
    "    else : \n",
    "        h = mid                                 # 가져갈 양이 목표값보다 크거나 같을 때\n",
    "        start = mid + 1                         # 오른쪽 부분 탐색\n",
    "\n",
    "print(result)\n"
   ]
  },
  {
   "cell_type": "code",
   "execution_count": 10,
   "metadata": {},
   "outputs": [
    {
     "name": "stdout",
     "output_type": "stream",
     "text": [
      "15\n"
     ]
    }
   ],
   "source": [
    "# 반복문을 활용한 이진탐색\n",
    "\n",
    "n, m = map(int, input().split())                # n : 떡의 개수, m : 떡의 길이\n",
    "array = list(map(int, input().split()))         # 떡의 높이\n",
    "\n",
    "# 이진 탐색을 위한 시작과 끝 점\n",
    "start = 0\n",
    "end = max(array)\n",
    "\n",
    "# 이진 탐색 수행 (반복)\n",
    "result = 0\n",
    "while start <= end : \n",
    "    total = 0\n",
    "    mid = (start + end) // 2\n",
    "    for x in array : \n",
    "        if x > mid : \n",
    "            total += x - mid\n",
    "    \n",
    "    if total < m :\n",
    "        end = mid - 1\n",
    "    else : \n",
    "        result = mid\n",
    "        start = mid + 1\n",
    "\n",
    "print(result)"
   ]
  }
 ],
 "metadata": {
  "kernelspec": {
   "display_name": "Python 3.10.3 64-bit",
   "metadata": {
    "interpreter": {
     "hash": "98590ff4fe04c8543246b2a01debd3de3c5ca9b666f43f1fa87d5110c692004c"
    }
   },
   "name": "python3"
  },
  "language_info": {
   "codemirror_mode": {
    "name": "ipython",
    "version": 3
   },
   "file_extension": ".py",
   "mimetype": "text/x-python",
   "name": "python",
   "nbconvert_exporter": "python",
   "pygments_lexer": "ipython3",
   "version": "3.10.3"
  },
  "orig_nbformat": 2
 },
 "nbformat": 4,
 "nbformat_minor": 2
}