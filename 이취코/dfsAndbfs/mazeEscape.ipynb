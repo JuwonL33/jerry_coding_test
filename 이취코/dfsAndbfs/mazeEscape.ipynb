{
 "cells": [
  {
   "cell_type": "code",
   "execution_count": 8,
   "metadata": {},
   "outputs": [],
   "source": [
    "# bfs / 미로탈출\n",
    "from collections import deque\n",
    "\n",
    "# 탈출구의 위치\n",
    "n, m = map(int, input().split())        \n",
    "# 미로의 좌표, 0은 괴물 1은 괴물없음\n",
    "graph = []        \n",
    "for i in range(n) :\n",
    "    graph.append(list(map(int,input()))) \n",
    "\n",
    "# 이동할 방향성 정의 상, 하, 좌, 우\n",
    "dx = [-1, 1, 0, 0]\n",
    "dy = [0, 0, -1, 1]\n",
    "\n",
    "def bfs(x, y) :\n",
    "    # 큐(Queue) 구현을 위해 라이브러리 사용\n",
    "    queue = deque()\n",
    "    queue.append((x,y))\n",
    "    # 큐가 빌때까지 반복\n",
    "    while queue :\n",
    "        # 현재 위치 기준으로 네 방향 확인\n",
    "        for i in range(4) :\n",
    "            nx = x + dx[i]\n",
    "            ny = y + dy[i]\n",
    "            # 미로 찾기 공간 벗어난 경우 무시\n",
    "            if nx < 0 or nx >= n or ny < 0 or ny >= m :\n",
    "                continue\n",
    "            \n",
    "            # 괴물이 있는 경우 무시\n",
    "            if graph[nx][ny] == 0 :\n",
    "                continue\n",
    "\n",
    "            # 해당 노드를 처음 방문하는 경우에만 최단 거리 기록\n",
    "            if graph[nx][ny] == 1 :\n",
    "                graph[nx][ny] = graph[x][y] + 1\n",
    "                queue.append((nx, ny))\n",
    "\n",
    "    # 가장 오른쪽 아래까지의 최단 거리 반환\n",
    "    return graph[n-1][m-1]\n",
    "\n",
    "print(bfs(0,0))"
   ]
  }
 ],
 "metadata": {
  "kernelspec": {
   "display_name": "Python 3.10.3 64-bit",
   "metadata": {
    "interpreter": {
     "hash": "98590ff4fe04c8543246b2a01debd3de3c5ca9b666f43f1fa87d5110c692004c"
    }
   },
   "name": "python3"
  },
  "language_info": {
   "codemirror_mode": {
    "name": "ipython",
    "version": 3
   },
   "file_extension": ".py",
   "mimetype": "text/x-python",
   "name": "python",
   "nbconvert_exporter": "python",
   "pygments_lexer": "ipython3",
   "version": "3.10.3"
  },
  "orig_nbformat": 2
 },
 "nbformat": 4,
 "nbformat_minor": 2
}