{
 "cells": [
  {
   "cell_type": "code",
   "execution_count": 11,
   "metadata": {},
   "outputs": [
    {
     "name": "stdout",
     "output_type": "stream",
     "text": [
      "[[1, 1, 1, 1], [1, 0, 0, 1], [1, 1, 0, 1], [1, 1, 1, 1]]\n",
      "여기에서의 direction :  1\n",
      "여기에서의 direction :  2\n",
      "여기에서의 direction :  2\n",
      "여기에서의 direction :  2\n",
      "여기에서의 direction :  2\n",
      "여기에서의 direction :  2\n",
      "3\n"
     ]
    }
   ],
   "source": [
    "# implementation - 실전문제 / 게임 개발\n",
    "# 시뮬레이션 유형 / 삼전 단골문제\n",
    "# 일반적으로 방향을 설정해서 이동하는 문제에서는 dx, dy라는 별도의 리스트를 만드는 것이 효과적\n",
    "\n",
    "n, m = map(int, input().split())            # n : 행(x), m : 열(y)\n",
    "\n",
    "# 맵 생성 후 0으로 초기화. 2차원 리스트 생성시 다음처럼 컴프리헨션을 이용하면 편리하므로 잘 기억해두기\n",
    "d = [[0] * m for _ in range(n)]\n",
    "\n",
    "x, y, direction = map(int, input().split())            # 캐릭터의 현재 위치와 이동 방향\n",
    "\n",
    "\n",
    "d[x][y] = 1                                            # 현재 좌표 방문 처리 하기\n",
    "\n",
    "array = []\n",
    "for i in range(n) :\n",
    "    array.append(list(map(int, input().split())))       # 전체 맵 정보 입력받기 \n",
    "\n",
    "\n",
    "# 0, 1,  2,  3\n",
    "# 북, 동, 남, 서 방향 정의\n",
    "dx = [-1, 0, 1, 0] \n",
    "dy = [0, 1, 0, -1]   \n",
    "\n",
    "# 왼쪽으로 회전\n",
    "def turn_left() :\n",
    "    global direction\n",
    "    direction -= -1\n",
    "    if direction == -1 :\n",
    "        direction = 3\n",
    "    if direction >= 3 :                         # direction이 자꾸 4가 되는 경우 > 1빼주는 방어 코드 작성하기\n",
    "        direction -= 1\n",
    "\n",
    "# 시뮬레이션 시작\n",
    "count = 1\n",
    "turn_time = 0\n",
    "while True :\n",
    "    # 왼쪽으로 회전\n",
    "    turn_left()\n",
    "    nx = x + dx[direction]\n",
    "    ny = y + dy[direction]\n",
    "\n",
    "    # 회전 후 정면에 안 가본 칸이 있는지 확인 , 있으면 이동\n",
    "    if d[nx][ny] == 0 and array[nx][ny] == 0 :\n",
    "        d[nx][ny] = 1\n",
    "        x = nx\n",
    "        y = ny\n",
    "        count += 1\n",
    "        turn_time = 0\n",
    "        continue\n",
    "    # 회전 후 안 가본 칸이 없거나 바다인 경우\n",
    "    else :\n",
    "        turn_time += 1\n",
    "    # 네 방향 모두 못 가게 된 경우\n",
    "\n",
    "    if turn_time == 4 :\n",
    "        nx = x + dx[direction]\n",
    "        ny = y + dy[direction]\n",
    "        # 뒤로 갈 수 있으면 이동하기\n",
    "        if array[nx][ny] == 0 :\n",
    "            x = nx\n",
    "            y = ny\n",
    "        # 뒤가 바다로 막힌 경우\n",
    "        else : \n",
    "            break\n",
    "        turn_time = 0\n",
    "\n",
    "# 정답 출력\n",
    "print(count)\n"
   ]
  }
 ],
 "metadata": {
  "kernelspec": {
   "display_name": "Python 3.10.3 64-bit",
   "metadata": {
    "interpreter": {
     "hash": "98590ff4fe04c8543246b2a01debd3de3c5ca9b666f43f1fa87d5110c692004c"
    }
   },
   "name": "python3"
  },
  "language_info": {
   "codemirror_mode": {
    "name": "ipython",
    "version": 3
   },
   "file_extension": ".py",
   "mimetype": "text/x-python",
   "name": "python",
   "nbconvert_exporter": "python",
   "pygments_lexer": "ipython3",
   "version": "3.10.3"
  },
  "orig_nbformat": 2
 },
 "nbformat": 4,
 "nbformat_minor": 2
}