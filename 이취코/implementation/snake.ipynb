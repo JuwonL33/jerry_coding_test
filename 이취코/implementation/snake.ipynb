{
 "cells": [
  {
   "cell_type": "code",
   "execution_count": 10,
   "metadata": {},
   "outputs": [
    {
     "name": "stdout",
     "output_type": "stream",
     "text": [
      "18\n"
     ]
    }
   ],
   "source": [
    "# Implementation / 뱀\n",
    "# 전형적인 시뮬레이션 문제\n",
    "# 2차원 배열이 나왔다 -> 동서남북으로 움직일 수 있는 dx, dy 배열 만들기\n",
    "# 이런 문제는 무조건 그림 그려보기\n",
    "\n",
    "n = int(input())    # 좌표 크기\n",
    "k = int(input())    # 사과 개수\n",
    "data = [[0] * (n+1) for _ in range(n+1)]\n",
    "info = []           # 방향 정보 담을 리스트\n",
    "\n",
    "# 맵에 사과 위치 정보\n",
    "for _ in range(k) : \n",
    "    a, b = map(int, input().split())\n",
    "    data[a][b] = 1\n",
    "\n",
    "l = int(input())    # 방향 전환 정보\n",
    "for _ in range(l) : \n",
    "    x, c = input().split()\n",
    "    info.append((int(x), c))\n",
    "\n",
    "# 동,남,서,북 방향으로 움직일 좌표들 (처음엔 오른쪽으로 보고 있으므로)\n",
    "dx = [0, 1, 0, -1]\n",
    "dy = [1, 0, -1, 0]\n",
    "\n",
    "# 방향을 전환할 함수\n",
    "def turn(direction, c) : \n",
    "    if c == \"L\" : \n",
    "        direction = (direction - 1) % 4     # 왼쪽으로 머리 틀기  (x좌표가 1 작아짐) 근데 왜 4로 나눈 나머지를 구하지? \n",
    "                                            # direction이 계속 커져도 동,남,서,북의 순서대로 좌표 찾을 수 있게\n",
    "    else : \n",
    "        direction = (direction + 1) % 4     # 오른쪽으로 머리 틀기 (x좌표가 1 커짐)\n",
    "    # 어느 방향으로 전환할지에 따라 방향을 계산해서 돌려줌\n",
    "    return direction\n",
    "\n",
    "def simulate() : \n",
    "    x, y = 1, 1         # 현재 뱀의 위치\n",
    "    data[x][y] = 2      # 뱀이 있는 위치는 2로 표시\n",
    "    direction = 0       # 처음에는 동쪽을 보고 있음 (4개 좌표값 중에서 0번이 동쪽이므로)\n",
    "    time = 0            # 걸리는 시간 (최종적으로 리턴할 값)\n",
    "    index = 0           # 다음에 회전할 정보 -> info 위치\n",
    "    q = [(x,y)]         # 뱀이 차지하고 있는 위치 정보 (꼬리가 앞쪽)\n",
    "    while True : \n",
    "        nx = x + dx[direction]  # direction이 0이니까 동쪽. (0, 1) 더함.\n",
    "        ny = y + dy[direction]\n",
    "\n",
    "        # 맵 범위 안에 있고, 뱀의 몸통이 없는 위치라면\n",
    "        if 1 <= nx and nx <= n and 1 <= ny and ny <= n and data[nx][ny] != 2 : \n",
    "            # 사과가 없다면 이동 후 꼬리 제거\n",
    "            if data[nx][ny] == 0 :\n",
    "                data[nx][ny] = 2       # 뱀먼저 위치시킴\n",
    "                q.append((nx, ny))      # 뱀의 현재 위치 좌표 넣기\n",
    "                px, py = q.pop(0)       # 뱀의 꼬리였던 위치 pop 시키기\n",
    "                data[px][py] = 0        # 뱀의 꼬리였던 위치 초기화 시키기\n",
    "            # 사과가 있다면 이동 후 꼬리 그대로 두기\n",
    "            if data[nx][ny] == 1 : \n",
    "                data[nx][ny] = 2       # 뱀 위치 바꾸기\n",
    "                q.append((nx, ny))      # 뱀의 위치정보에 현재 머리 위치 더하기\n",
    "        else : # 벽이나 뱀의 몸통과 부딪혔다면\n",
    "            time += 1\n",
    "            break\n",
    "        \n",
    "        x, y = nx, ny                                   # 다음 위치로 머리 이동\n",
    "        time += 1\n",
    "        if index < 1 and time == info[index][0] :       # 회전할 시간인 경우 회전\n",
    "            direction = turn(direction, info[index][1])\n",
    "            index += 1\n",
    "    return time \n",
    "\n",
    "print(simulate())"
   ]
  }
 ],
 "metadata": {
  "kernelspec": {
   "display_name": "Python 3.10.3 64-bit",
   "metadata": {
    "interpreter": {
     "hash": "98590ff4fe04c8543246b2a01debd3de3c5ca9b666f43f1fa87d5110c692004c"
    }
   },
   "name": "python3"
  },
  "language_info": {
   "codemirror_mode": {
    "name": "ipython",
    "version": 3
   },
   "file_extension": ".py",
   "mimetype": "text/x-python",
   "name": "python",
   "nbconvert_exporter": "python",
   "pygments_lexer": "ipython3",
   "version": "3.10.3"
  },
  "orig_nbformat": 2
 },
 "nbformat": 4,
 "nbformat_minor": 2
}