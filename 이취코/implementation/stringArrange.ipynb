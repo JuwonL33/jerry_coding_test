{
 "cells": [
  {
   "cell_type": "code",
   "execution_count": 9,
   "metadata": {},
   "outputs": [
    {
     "name": "stdout",
     "output_type": "stream",
     "text": [
      "ADDIJJJKKLSS20\n"
     ]
    }
   ],
   "source": [
    "# 문자열 재정렬\n",
    "# 주어진 내용을 그대로 구현하기만 하면 됨\n",
    "# 숫자인지 문자인지를 확인할 수 있는 파이썬 함수 중 isalpha() 라는 함수가 있음\n",
    "# isalpha() : 알파벳인지 확인 boolean\n",
    "# isnumber() : 숫자인지 확인 boolean\n",
    "\n",
    "\n",
    "n = input()\n",
    "arr = []\n",
    "\n",
    "sum = 0\n",
    "\n",
    "for i in n : \n",
    "    if i.isalpha()\n",
    "        arr.append(i)\n",
    "    else : \n",
    "        sum += int(i)\n",
    "\n",
    "arr.sort()\n",
    "\n",
    "# 숫자가 0보다 크면 맨 뒤에 삽입\n",
    "if sum > 0 : arr.append(str(sum))\n",
    "\n",
    "print(\"\".join(arr))"
   ]
  }
 ],
 "metadata": {
  "kernelspec": {
   "display_name": "Python 3.10.3 64-bit",
   "metadata": {
    "interpreter": {
     "hash": "98590ff4fe04c8543246b2a01debd3de3c5ca9b666f43f1fa87d5110c692004c"
    }
   },
   "name": "python3"
  },
  "language_info": {
   "codemirror_mode": {
    "name": "ipython",
    "version": 3
   },
   "file_extension": ".py",
   "mimetype": "text/x-python",
   "name": "python",
   "nbconvert_exporter": "python",
   "pygments_lexer": "ipython3",
   "version": "3.10.3"
  },
  "orig_nbformat": 2
 },
 "nbformat": 4,
 "nbformat_minor": 2
}