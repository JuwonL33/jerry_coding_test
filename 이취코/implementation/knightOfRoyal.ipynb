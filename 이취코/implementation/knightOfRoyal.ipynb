{
 "cells": [
  {
   "cell_type": "code",
   "execution_count": 3,
   "metadata": {},
   "outputs": [
    {
     "name": "stdout",
     "output_type": "stream",
     "text": [
      "3\n"
     ]
    }
   ],
   "source": [
    "# implementation - 실전문제 / 왕실의 나이트\n",
    "# 시뮬레이션 유형인듯\n",
    "\n",
    "n = input()                                                                                     # 초기 위치 ex) a1 x : 1, y : a\n",
    "x = int(n[1])                                                                                   # 몇번째 행인지 확인하기\n",
    "y = int(ord(n[0])) - int(ord('a')) + 1                                                               # ord -> 알파벳을 숫자로 변환, chr -> 숫자를 알파벳으로 더함. a일 경우 1을 만들기 위해 뒤에 1을 더해줌\n",
    "\n",
    "steps = [(-2, -1), (-1, -2), (1, -2), (2, -1), (-1, 2), (-2, 1), (2, 1), (1, 2)]                # 나이트의 이동 경로 / dx, dy처럼 자주 사용되므로 기억해두기!\n",
    "\n",
    "# 나이트의 현재 위치가 주어지면 step과 더한 다음에 더한 값이 좌표 평면에 있는지 확인할 것\n",
    "result = 0\n",
    "\n",
    "for step in steps :\n",
    "    # 이동하려는 위치 확인\n",
    "    next_x = x + step[0]\n",
    "    next_y = y + step[1]\n",
    "    # 해당 위치로 이동 가능하다면 result 1 증가 시키기\n",
    "    if next_x >= 1 and next_x <= 8 and next_y >= 1 and next_y <= 8 :\n",
    "        result += 1\n",
    "\n",
    "print(result)"
   ]
  }
 ],
 "metadata": {
  "kernelspec": {
   "display_name": "Python 3.10.3 64-bit",
   "metadata": {
    "interpreter": {
     "hash": "98590ff4fe04c8543246b2a01debd3de3c5ca9b666f43f1fa87d5110c692004c"
    }
   },
   "name": "python3"
  },
  "language_info": {
   "codemirror_mode": {
    "name": "ipython",
    "version": 3
   },
   "file_extension": ".py",
   "mimetype": "text/x-python",
   "name": "python",
   "nbconvert_exporter": "python",
   "pygments_lexer": "ipython3",
   "version": "3.10.3"
  },
  "orig_nbformat": 2
 },
 "nbformat": 4,
 "nbformat_minor": 2
}