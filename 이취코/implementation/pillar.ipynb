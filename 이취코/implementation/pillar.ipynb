{
 "cells": [
  {
   "cell_type": "code",
   "execution_count": 2,
   "metadata": {},
   "outputs": [
    {
     "data": {
      "text/plain": "[[0, 0, 0], [0, 1, 1], [1, 1, 1], [2, 1, 1], [3, 1, 1], [4, 0, 0]]"
     },
     "execution_count": 2,
     "metadata": {},
     "output_type": "execute_result"
    }
   ],
   "source": [
    "# 기둥과 보 설치\n",
    "\n",
    "def possible(result) : \n",
    "    for x, y, stuff in result : \n",
    "        if stuff == 0 : # 설치된 것이 '기둥'인 경우\n",
    "            # '바닥 위' 혹은 '보의 한쪽 끝부분 위' 혹은 '다른 기둥 위'라면 정상\n",
    "            if y == 0 or [x-1, y, 1] in result or [x, y, 1] in result or [x, y-1, 0] in result : continue\n",
    "            return False # 아니라면 False 반환\n",
    "        elif stuff == 1 : # 설치된 것이 '보'인 경우\n",
    "            if [x, y-1, 0] in result or [x+1, y-1, 0] in result or ([x-1, y, 1] in result and [x+1, y, 1] in result) : continue\n",
    "            return False # 아니라면 False 반환\n",
    "    return True\n",
    "\n",
    "\n",
    "def solution(n, build_frame) : \n",
    "    result = []\n",
    "    for frame in build_frame : \n",
    "        x, y, stuff, operate = frame\n",
    "        if operate == 0 :               # 삭제하는 경우\n",
    "            result.remove([x, y, stuff])# 일단 삭제를 해본 후\n",
    "            if not possible(result) :   # 가능한 구조물인지 확인\n",
    "                result.append([x, y, stuff])    # 가능한 구조물이 아니라면 다시 설치\n",
    "        if operate == 1  :              # 설치하는 경우\n",
    "            result.append([x, y, stuff])# 일단 설치를 해본 후\n",
    "            if not possible(result) :   # 가능한 구조물인지 확인\n",
    "                result.remove([x, y, stuff])\n",
    "    return sorted(result)\n",
    "\n",
    "build_frame1=[[1,0,0,1], [1,1,1,1], [2,1,0,1], [2,2,1,1], [5,0,0,1], [5,1,0,1], [4,2,1,1], [3,2,1,1]]\n",
    "build_frame2=[[0,0,0,1], [2,0,0,1], [4,0,0,1], [0,1,1,1], [1,1,1,1], [2,1,1,1], [3,1,1,1], [2,0,0,0], [1,1,1,0], [2,2,0,1]]\n",
    "solution(5, build_frame1)\n",
    "solution(5, build_frame2)"
   ]
  }
 ],
 "metadata": {
  "kernelspec": {
   "display_name": "Python 3.10.3 64-bit",
   "metadata": {
    "interpreter": {
     "hash": "98590ff4fe04c8543246b2a01debd3de3c5ca9b666f43f1fa87d5110c692004c"
    }
   },
   "name": "python3"
  },
  "language_info": {
   "codemirror_mode": {
    "name": "ipython",
    "version": 3
   },
   "file_extension": ".py",
   "mimetype": "text/x-python",
   "name": "python",
   "nbconvert_exporter": "python",
   "pygments_lexer": "ipython3",
   "version": "3.10.3"
  },
  "orig_nbformat": 2
 },
 "nbformat": 4,
 "nbformat_minor": 2
}