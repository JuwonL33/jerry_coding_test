{
 "cells": [
  {
   "cell_type": "code",
   "execution_count": 1,
   "metadata": {},
   "outputs": [
    {
     "ename": "NameError",
     "evalue": "name 'answer' is not defined",
     "output_type": "error",
     "traceback": [
      "\u001b[0;31m---------------------------------------------------------------------------\u001b[0m",
      "\u001b[0;31mNameError\u001b[0m                                 Traceback (most recent call last)",
      "Input \u001b[0;32mIn [1]\u001b[0m, in \u001b[0;36m<cell line: 31>\u001b[0;34m()\u001b[0m\n\u001b[1;32m     29\u001b[0m build_frame1\u001b[38;5;241m=\u001b[39m[[\u001b[38;5;241m1\u001b[39m,\u001b[38;5;241m0\u001b[39m,\u001b[38;5;241m0\u001b[39m,\u001b[38;5;241m1\u001b[39m], [\u001b[38;5;241m1\u001b[39m,\u001b[38;5;241m1\u001b[39m,\u001b[38;5;241m1\u001b[39m,\u001b[38;5;241m1\u001b[39m], [\u001b[38;5;241m2\u001b[39m,\u001b[38;5;241m1\u001b[39m,\u001b[38;5;241m0\u001b[39m,\u001b[38;5;241m1\u001b[39m], [\u001b[38;5;241m2\u001b[39m,\u001b[38;5;241m2\u001b[39m,\u001b[38;5;241m1\u001b[39m,\u001b[38;5;241m1\u001b[39m], [\u001b[38;5;241m5\u001b[39m,\u001b[38;5;241m0\u001b[39m,\u001b[38;5;241m0\u001b[39m,\u001b[38;5;241m1\u001b[39m], [\u001b[38;5;241m5\u001b[39m,\u001b[38;5;241m1\u001b[39m,\u001b[38;5;241m0\u001b[39m,\u001b[38;5;241m1\u001b[39m], [\u001b[38;5;241m4\u001b[39m,\u001b[38;5;241m2\u001b[39m,\u001b[38;5;241m1\u001b[39m,\u001b[38;5;241m1\u001b[39m], [\u001b[38;5;241m3\u001b[39m,\u001b[38;5;241m2\u001b[39m,\u001b[38;5;241m1\u001b[39m,\u001b[38;5;241m1\u001b[39m]]\n\u001b[1;32m     30\u001b[0m build_frame2\u001b[38;5;241m=\u001b[39m[[\u001b[38;5;241m0\u001b[39m,\u001b[38;5;241m0\u001b[39m,\u001b[38;5;241m0\u001b[39m,\u001b[38;5;241m1\u001b[39m], [\u001b[38;5;241m2\u001b[39m,\u001b[38;5;241m0\u001b[39m,\u001b[38;5;241m0\u001b[39m,\u001b[38;5;241m1\u001b[39m], [\u001b[38;5;241m4\u001b[39m,\u001b[38;5;241m0\u001b[39m,\u001b[38;5;241m0\u001b[39m,\u001b[38;5;241m1\u001b[39m], [\u001b[38;5;241m0\u001b[39m,\u001b[38;5;241m1\u001b[39m,\u001b[38;5;241m1\u001b[39m,\u001b[38;5;241m1\u001b[39m], [\u001b[38;5;241m1\u001b[39m,\u001b[38;5;241m1\u001b[39m,\u001b[38;5;241m1\u001b[39m,\u001b[38;5;241m1\u001b[39m], [\u001b[38;5;241m2\u001b[39m,\u001b[38;5;241m1\u001b[39m,\u001b[38;5;241m1\u001b[39m,\u001b[38;5;241m1\u001b[39m], [\u001b[38;5;241m3\u001b[39m,\u001b[38;5;241m1\u001b[39m,\u001b[38;5;241m1\u001b[39m,\u001b[38;5;241m1\u001b[39m], [\u001b[38;5;241m2\u001b[39m,\u001b[38;5;241m0\u001b[39m,\u001b[38;5;241m0\u001b[39m,\u001b[38;5;241m0\u001b[39m], [\u001b[38;5;241m1\u001b[39m,\u001b[38;5;241m1\u001b[39m,\u001b[38;5;241m1\u001b[39m,\u001b[38;5;241m0\u001b[39m], [\u001b[38;5;241m2\u001b[39m,\u001b[38;5;241m2\u001b[39m,\u001b[38;5;241m0\u001b[39m,\u001b[38;5;241m1\u001b[39m]]\n\u001b[0;32m---> 31\u001b[0m \u001b[43msolution\u001b[49m\u001b[43m(\u001b[49m\u001b[38;5;241;43m5\u001b[39;49m\u001b[43m,\u001b[49m\u001b[43m \u001b[49m\u001b[43mbuild_frame1\u001b[49m\u001b[43m)\u001b[49m\n\u001b[1;32m     32\u001b[0m solution(\u001b[38;5;241m5\u001b[39m, build_frame2)\n",
      "Input \u001b[0;32mIn [1]\u001b[0m, in \u001b[0;36msolution\u001b[0;34m(n, build_frame)\u001b[0m\n\u001b[1;32m     23\u001b[0m     \u001b[38;5;28;01mif\u001b[39;00m operate \u001b[38;5;241m==\u001b[39m \u001b[38;5;241m1\u001b[39m  :              \u001b[38;5;66;03m# 설치하는 경우\u001b[39;00m\n\u001b[1;32m     24\u001b[0m         result\u001b[38;5;241m.\u001b[39mappend([x, y, stuff])\u001b[38;5;66;03m# 일단 설치를 해본 후\u001b[39;00m\n\u001b[0;32m---> 25\u001b[0m         \u001b[38;5;28;01mif\u001b[39;00m \u001b[38;5;129;01mnot\u001b[39;00m \u001b[43mpossible\u001b[49m\u001b[43m(\u001b[49m\u001b[43mresult\u001b[49m\u001b[43m)\u001b[49m :   \u001b[38;5;66;03m# 가능한 구조물인지 확인\u001b[39;00m\n\u001b[1;32m     26\u001b[0m             result\u001b[38;5;241m.\u001b[39mremove([x, y, stuff])\n\u001b[1;32m     27\u001b[0m \u001b[38;5;28;01mreturn\u001b[39;00m \u001b[38;5;28msorted\u001b[39m(result)\n",
      "Input \u001b[0;32mIn [1]\u001b[0m, in \u001b[0;36mpossible\u001b[0;34m(result)\u001b[0m\n\u001b[1;32m      8\u001b[0m         \u001b[38;5;28;01mreturn\u001b[39;00m \u001b[38;5;28;01mFalse\u001b[39;00m \u001b[38;5;66;03m# 아니라면 False 반환\u001b[39;00m\n\u001b[1;32m      9\u001b[0m     \u001b[38;5;28;01melif\u001b[39;00m stuff \u001b[38;5;241m==\u001b[39m \u001b[38;5;241m1\u001b[39m : \u001b[38;5;66;03m# 설치된 것이 '보'인 경우\u001b[39;00m\n\u001b[0;32m---> 10\u001b[0m         \u001b[38;5;28;01mif\u001b[39;00m [x, y\u001b[38;5;241m-\u001b[39m\u001b[38;5;241m1\u001b[39m, \u001b[38;5;241m0\u001b[39m] \u001b[38;5;129;01min\u001b[39;00m result \u001b[38;5;129;01mor\u001b[39;00m [x\u001b[38;5;241m+\u001b[39m\u001b[38;5;241m1\u001b[39m, y\u001b[38;5;241m-\u001b[39m\u001b[38;5;241m1\u001b[39m, \u001b[38;5;241m0\u001b[39m] \u001b[38;5;129;01min\u001b[39;00m \u001b[43manswer\u001b[49m \u001b[38;5;129;01mor\u001b[39;00m ([x\u001b[38;5;241m-\u001b[39m\u001b[38;5;241m1\u001b[39m, y, \u001b[38;5;241m1\u001b[39m] \u001b[38;5;129;01min\u001b[39;00m answer \u001b[38;5;129;01mand\u001b[39;00m [x\u001b[38;5;241m+\u001b[39m\u001b[38;5;241m1\u001b[39m, y, \u001b[38;5;241m1\u001b[39m] \u001b[38;5;129;01min\u001b[39;00m answer) : \u001b[38;5;28;01mcontinue\u001b[39;00m\n\u001b[1;32m     11\u001b[0m         \u001b[38;5;28;01mreturn\u001b[39;00m \u001b[38;5;28;01mFalse\u001b[39;00m \u001b[38;5;66;03m# 아니라면 False 반환\u001b[39;00m\n\u001b[1;32m     12\u001b[0m \u001b[38;5;28;01mreturn\u001b[39;00m \u001b[38;5;28;01mTrue\u001b[39;00m\n",
      "\u001b[0;31mNameError\u001b[0m: name 'answer' is not defined"
     ]
    }
   ],
   "source": [
    "# 기둥과 보 설치\n",
    "\n",
    "def possible(result) : \n",
    "    for x, y, stuff in result : \n",
    "        if stuff == 0 : # 설치된 것이 '기둥'인 경우\n",
    "            # '바닥 위' 혹은 '보의 한쪽 끝부분 위' 혹은 '다른 기둥 위'라면 정상\n",
    "            if y == 0 or [x-1, y, 1] in result or [x, y, 1] in result or [x, y-1, 0] in result : continue\n",
    "            return False # 아니라면 False 반환\n",
    "        elif stuff == 1 : # 설치된 것이 '보'인 경우\n",
    "            if [x, y-1, 0] in result or [x+1, y-1, 0] in result or ([x-1, y, 1] in result and [x+1, y, 1] in result) : continue\n",
    "            return False # 아니라면 False 반환\n",
    "    return True\n",
    "\n",
    "\n",
    "def solution(n, build_frame) : \n",
    "    result = []\n",
    "    for frame in build_frame : \n",
    "        x, y, stuff, operate = frame\n",
    "        if operate == 0 :               # 삭제하는 경우\n",
    "            result.remove([x, y, stuff])# 일단 삭제를 해본 후\n",
    "            if not possible(result) :   # 가능한 구조물인지 확인\n",
    "                result.append([x, y, stuff])    # 가능한 구조물이 아니라면 다시 설치\n",
    "        if operate == 1  :              # 설치하는 경우\n",
    "            result.append([x, y, stuff])# 일단 설치를 해본 후\n",
    "            if not possible(result) :   # 가능한 구조물인지 확인\n",
    "                result.remove([x, y, stuff])\n",
    "    return sorted(result)\n",
    "\n",
    "build_frame1=[[1,0,0,1], [1,1,1,1], [2,1,0,1], [2,2,1,1], [5,0,0,1], [5,1,0,1], [4,2,1,1], [3,2,1,1]]\n",
    "build_frame2=[[0,0,0,1], [2,0,0,1], [4,0,0,1], [0,1,1,1], [1,1,1,1], [2,1,1,1], [3,1,1,1], [2,0,0,0], [1,1,1,0], [2,2,0,1]]\n",
    "solution(5, build_frame1)\n",
    "solution(5, build_frame2)"
   ]
  }
 ],
 "metadata": {
  "kernelspec": {
   "display_name": "Python 3.10.3 64-bit",
   "metadata": {
    "interpreter": {
     "hash": "98590ff4fe04c8543246b2a01debd3de3c5ca9b666f43f1fa87d5110c692004c"
    }
   },
   "name": "python3"
  },
  "language_info": {
   "codemirror_mode": {
    "name": "ipython",
    "version": 3
   },
   "file_extension": ".py",
   "mimetype": "text/x-python",
   "name": "python",
   "nbconvert_exporter": "python",
   "pygments_lexer": "ipython3",
   "version": "3.10.3"
  },
  "orig_nbformat": 2
 },
 "nbformat": 4,
 "nbformat_minor": 2
}