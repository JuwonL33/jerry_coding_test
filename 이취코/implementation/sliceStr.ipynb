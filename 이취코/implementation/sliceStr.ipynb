{
 "cells": [
  {
   "cell_type": "code",
   "execution_count": 9,
   "metadata": {},
   "outputs": [
    {
     "name": "stdout",
     "output_type": "stream",
     "text": [
      "n[1] : a\n",
      "n[3] : b\n",
      "n[6] : c\n",
      "[]\n",
      "0\n"
     ]
    }
   ],
   "source": [
    "# 문자열 자르기\n",
    "# https://school.programmers.co.kr/learn/courses/30/lessons/60057\n",
    "\n",
    "n = input()\n",
    "\n",
    "point = n[0]\n",
    "sum = 1\n",
    "arr = []\n",
    "\n",
    "    for i in range(1, len(n)-1) : \n",
    "        if n[i] == point : \n",
    "            sum += 1\n",
    "        else :  \n",
    "            if n[i] != point and sum > 1 : \n",
    "            arr.append(sum)\n",
    "            arr.append(point)  \n",
    "            point = n[i]\n",
    "            sum = 1\n",
    "\n",
    "    if n[i] != point and sum > 1 : \n",
    "        arr.append(sum)\n",
    "        arr.append(point)  \n",
    "\n",
    "\n",
    "\n",
    "print(arr)\n",
    "print(len(arr))"
   ]
  },
  {
   "cell_type": "code",
   "execution_count": 28,
   "metadata": {},
   "outputs": [
    {
     "data": {
      "text/plain": "7"
     },
     "execution_count": 28,
     "metadata": {},
     "output_type": "execute_result"
    }
   ],
   "source": [
    "def solution(s) : \n",
    "    # 중복이 안되는 문자열도 있기 때문에 처음 answer를 문자열의 길이로 초기화\n",
    "    answer = len(s)\n",
    "    # 1개 단위부터 압축 단위를 늘려가며 확인\n",
    "    for step in range(1, (len(s)//2)+1) : \n",
    "        compressed = \"\"\n",
    "        prev = s[0:step]                    # 0~step 까지의 문자열 추출\n",
    "        count = 1\n",
    "        # 단위 크기만큼 증가시키며 이전 문자열과 비교\n",
    "\n",
    "        for j in range(step, len(s), step) : \n",
    "            # 이전 상태와 동일하다면 압축 횟수 증가 \n",
    "            if prev == s[j:j+step] : # 0~1과 1~2가 같다면\n",
    "                count += 1\n",
    "            # 다른 문자열이 나온 경우\n",
    "            else : \n",
    "                compressed += str(count) + prev if count >= 2 else prev\n",
    "                prev = s[j:j+step]  # 다시 상태 초기화\n",
    "                count = 1           # 다시 상태 초기화\n",
    "            # 남은 문자열 처리\n",
    "\n",
    "        compressed += str(count)+prev if count >= 2 else prev\n",
    "\n",
    "        # 만들어지는 문자열이 가장 짧은게 정답\n",
    "        answer = min(answer, len(compressed))\n",
    "\n",
    "    return answer\n",
    "\n",
    "solution(\"aabbaccc\")"
   ]
  }
 ],
 "metadata": {
  "kernelspec": {
   "display_name": "Python 3.10.3 64-bit",
   "metadata": {
    "interpreter": {
     "hash": "98590ff4fe04c8543246b2a01debd3de3c5ca9b666f43f1fa87d5110c692004c"
    }
   },
   "name": "python3"
  },
  "language_info": {
   "codemirror_mode": {
    "name": "ipython",
    "version": 3
   },
   "file_extension": ".py",
   "mimetype": "text/x-python",
   "name": "python",
   "nbconvert_exporter": "python",
   "pygments_lexer": "ipython3",
   "version": "3.10.3"
  },
  "orig_nbformat": 2
 },
 "nbformat": 4,
 "nbformat_minor": 2
}