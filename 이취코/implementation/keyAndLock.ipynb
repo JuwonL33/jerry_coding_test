{
 "cells": [
  {
   "cell_type": "code",
   "execution_count": null,
   "metadata": {},
   "outputs": [],
   "source": [
    "# TODO : key를 회전 or 이동시켜 lock에 딱 맞게 끼워넣기.\n",
    "# 이 문제의 아이디어는 완전 탐색. 20x20일 땐 400번의 연산만 하면 되니까. \n",
    "# 2차원 리스트 90도 회전)\n",
    "def rotate_a_matrix_by_90_degree(a) : \n",
    "    n = len(a)\n",
    "    m = len(a[0])\n",
    "    result = [[0] * n for _ in range(m)] # 결과 리스트\n",
    "    for i in range(n) : \n",
    "            for j in range(m) : \n",
    "                    result[j][n-i-1] = a[i][j]\n",
    "    return result\n",
    "\n",
    "# 자물쇠 중간 부분이 모두 1인지 확인\n",
    "def check(new_lock) : \n",
    "    lock_length = len(new_lock) // 3\n",
    "    for i in range(lock_length, lock_length * 2) : \n",
    "        for j in range(lock_length, lock_length * 2) : \n",
    "            if new_lock[i][j] != 1 : \n",
    "                return False\n",
    "    return True\n",
    "\n",
    "def solution(key, lock):\n",
    "    n = len(lock)\n",
    "    m = len(key)\n",
    "    # 자물쇠 크기를 기존의 3배로 변환\n",
    "    new_lock = [[0] * (n*3) for _ in range(n*3)]\n",
    "    # 새 자물쇠 중앙부분에 기존 자물쇠 넣기\n",
    "    for i in range(n) :\n",
    "        for j in range(n) :\n",
    "            new_lock[i+n][j+n] = lock[i][j]\n",
    "            \n",
    "    # 4가지 방향에 대해 확인\n",
    "    for rotation in range(4) : \n",
    "        key = rotate_a_matrix_by_90_degree(key) # 열쇠 회전\n",
    "        for x in range(n*2) : \n",
    "            for y in range(n*2) : \n",
    "                # 자물쇠에 열쇠 끼워 넣기\n",
    "                for i in range(m) : \n",
    "                    for j in range(m) : \n",
    "                        new_lock[x+i][y+j] += key[i][j]\n",
    "                # 새 자물쇠에 열쇠가 정확히 들어맞는지 검사\n",
    "                if check(new_lock) == True : \n",
    "                    return True\n",
    "                # 자물쇠에서 열쇠 다시 빼기\n",
    "                for i in range(m) : \n",
    "                    for j in range(m) : \n",
    "                        new_lock[x+i][y+j] -= key[i][j]\n",
    "\n",
    "    return False"
   ]
  }
 ],
 "metadata": {
  "kernelspec": {
   "display_name": "Python 3.10.3 64-bit",
   "metadata": {
    "interpreter": {
     "hash": "98590ff4fe04c8543246b2a01debd3de3c5ca9b666f43f1fa87d5110c692004c"
    }
   },
   "name": "python3"
  },
  "language_info": {
   "name": "python",
   "nbconvert_exporter": "python",
   "version": "3.10.3-final"
  },
  "orig_nbformat": 2
 },
 "nbformat": 4,
 "nbformat_minor": 2
}