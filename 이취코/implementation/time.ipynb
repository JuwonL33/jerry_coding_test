{
 "cells": [
  {
   "cell_type": "code",
   "execution_count": 2,
   "metadata": {},
   "outputs": [
    {
     "name": "stdout",
     "output_type": "stream",
     "text": [
      "4725\n"
     ]
    }
   ],
   "source": [
    "# 시각 / implementation - 완전 탐색 : 완전 탐색 알고리즘은 가능한 경우의 수를 모두 검사해보는 탐색 방법.\n",
    "# 확인해야 할 전체 데이터 수가 100만개 이하일때 완전 탐색을 사용해야 한다\n",
    "# 전체 시간에 대한 계산은 시x분x초 즉 24x60x60 으로 계산하면 됨\n",
    "\n",
    "n = int(input())                                                                # 정수\n",
    "\n",
    "count = 0               # 3의 갯수\n",
    "for i in range(n+1) :\n",
    "    for j in range(60) :\n",
    "        for k in range(60) :\n",
    "            # 매 시각 안에 '3'이 포함되어 있으면 count 증가\n",
    "            if '3' in str(i) + str(j) + str(k) :\n",
    "                count += 1\n",
    "\n",
    "print(count)\n"
   ]
  }
 ],
 "metadata": {
  "kernelspec": {
   "display_name": "Python 3.10.3 64-bit",
   "metadata": {
    "interpreter": {
     "hash": "98590ff4fe04c8543246b2a01debd3de3c5ca9b666f43f1fa87d5110c692004c"
    }
   },
   "name": "python3"
  },
  "language_info": {
   "codemirror_mode": {
    "name": "ipython",
    "version": 3
   },
   "file_extension": ".py",
   "mimetype": "text/x-python",
   "name": "python",
   "nbconvert_exporter": "python",
   "pygments_lexer": "ipython3",
   "version": "3.10.3"
  },
  "orig_nbformat": 2
 },
 "nbformat": 4,
 "nbformat_minor": 2
}