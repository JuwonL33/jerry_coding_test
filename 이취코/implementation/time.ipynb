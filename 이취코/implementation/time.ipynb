{
 "cells": [
  {
   "cell_type": "code",
   "execution_count": null,
   "metadata": {},
   "outputs": [],
   "source": [
    "# 시각 / implementation - 완전 탐색 : 완전 탐색 알고리즘은 가능한 경우의 수를 모두 검사해보는 탐색 방법.\n",
    "# 확인해야 할 전체 데이터 수가 100만개 이하일때 완전 탐색을 사용해야 한다\n",
    "# 전체 시간에 대한 계산은 시x분x초 즉 24x60x60 으로 계산하면 됨\n",
    "\n",
    "n = int(input())                                                                # 정수\n",
    "\n",
    "\n"
   ]
  }
 ],
 "metadata": {
  "kernelspec": {
   "display_name": "Python 3.10.3 64-bit",
   "metadata": {
    "interpreter": {
     "hash": "98590ff4fe04c8543246b2a01debd3de3c5ca9b666f43f1fa87d5110c692004c"
    }
   },
   "name": "python3"
  },
  "language_info": {
   "name": "python",
   "nbconvert_exporter": "python",
   "version": "3.10.3-final"
  },
  "orig_nbformat": 2
 },
 "nbformat": 4,
 "nbformat_minor": 2
}