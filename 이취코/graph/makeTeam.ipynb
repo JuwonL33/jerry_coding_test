{
 "cells": [
  {
   "cell_type": "code",
   "execution_count": 1,
   "metadata": {},
   "outputs": [
    {
     "name": "stdout",
     "output_type": "stream",
     "text": [
      "NO\n",
      "NO\n",
      "YES\n"
     ]
    }
   ],
   "source": [
    "# 팀 결성\n",
    "# 서로소\n",
    "# 기존 서로소 집합 알고리즘에서 operation이라는 변수를 추가 -> If문으로 operation을 확인하는 부분만 추가해주면 되는 문제\n",
    " \n",
    "# 특정 원소가 속한 집합을 찾기\n",
    "def find_parent(parent, x) :\n",
    "    # 루트 노드가 아니라면 루트 노드를 찾을 때까지 재귀적으로 호출 -> 경로 압축 기법으로 소스코드 변경\n",
    "    if parent[x] != x : \n",
    "        parent[x] = find_parent(parent, parent[x])\n",
    "    return parent[x]\n",
    "\n",
    "# 두 원소가 속한 집합을 합치기\n",
    "def union_parent(parent, a, b) :\n",
    "    a = find_parent(parent, a)\n",
    "    b = find_parent(parent, b)\n",
    "    if a < b : \n",
    "        parent[b] = a\n",
    "    else : \n",
    "        parent[a] = b\n",
    "\n",
    "# 노드의 개수와 간선의 개수 입력받기\n",
    "n, m = map(int, input().split())\n",
    "parent = [0] * (n+1)                    # 부모 테이블 초기화\n",
    "\n",
    "# 부모 테이블 상에서, 부모를 자기 자신으로 초기화 \n",
    "for i in range(0, n+1) :\n",
    "    parent[i] = i\n",
    "\n",
    "# Union 연산 각각 수행\n",
    "for i in range(m) : \n",
    "    operation, a, b = map(int, input().split())             # 0 a b -> 0 : 팀합치기, 1 : 같은 팀 여부 확인\n",
    "    # 팀 합치기일 경우\n",
    "    if operation == 0 : \n",
    "        union_parent(parent, a, b)\n",
    "    # 같은 팀인지 확인\n",
    "    elif operation == 1 : \n",
    "        if find_parent(parent, a) == find_parent(parent, b) :\n",
    "            print('YES')\n",
    "        else : \n",
    "            print('NO')\n"
   ]
  }
 ],
 "metadata": {
  "kernelspec": {
   "display_name": "Python 3.10.3 64-bit",
   "metadata": {
    "interpreter": {
     "hash": "98590ff4fe04c8543246b2a01debd3de3c5ca9b666f43f1fa87d5110c692004c"
    }
   },
   "name": "python3"
  },
  "language_info": {
   "name": "python",
   "nbconvert_exporter": "python",
   "version": "3.10.3-final"
  },
  "orig_nbformat": 2
 },
 "nbformat": 4,
 "nbformat_minor": 2
}