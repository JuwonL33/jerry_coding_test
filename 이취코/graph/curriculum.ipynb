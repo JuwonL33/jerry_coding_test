{
 "cells": [
  {
   "cell_type": "code",
   "execution_count": 3,
   "metadata": {},
   "outputs": [
    {
     "name": "stdout",
     "output_type": "stream",
     "text": [
      "10\n",
      "20\n",
      "14\n",
      "18\n",
      "17\n"
     ]
    }
   ],
   "source": [
    "# 커리 큘럼\n",
    "# 위상정렬 Topology\n",
    "\n",
    "from collections import deque\n",
    "import copy\n",
    "\n",
    "# 노드의 개수와 간선의 개수 입력받기\n",
    "v = int(input())\n",
    "# 모든 노드에 대한 진입차수 0으로 초기화\n",
    "indegree = [0] * (v+1)\n",
    "# 각 노드에 연결된 간선 정보를 담기 위한 연결 리스트(그래프) 초기화\n",
    "graph = [[] for i in range(v+1)]\n",
    "# 각 강의 시간을 0으로 초기화\n",
    "time = [0] * (v+1)\n",
    "\n",
    "# 방향 그래프의 모든 간선 정보를 입력받기\n",
    "for i in range(1, v+1) : \n",
    "    data = list(map(int, input().split()))\n",
    "    time[i] = data[0]                               # 첫번째 수는 시간 정보\n",
    "    for x in data[1:-1] : \n",
    "        indegree[i] += 1\n",
    "        graph[x].append(i)\n",
    "\n",
    "# 위상 정렬 함수\n",
    "def topology_sort() : \n",
    "    result = copy.deepcopy(time)                    # 알고리즘 수행 결과를 담을 리스트\n",
    "    q = deque()                                     # 큐 기능을 위한 deque 라이브러리 사용\n",
    "\n",
    "    # 처음 시작할 때는 진입차수가 0인 노드를 큐에 삽입\n",
    "    for i in range(1, v+1) :\n",
    "        if indegree[i] == 0 :\n",
    "            q.append(i)\n",
    "\n",
    "    # 큐가 빌때까지 반복\n",
    "    while q : \n",
    "        # 큐에서 원소 꺼내기\n",
    "        now = q.popleft()\n",
    "        # 해당 원소와 연결된 노드들의 진입차수에서 1빼기\n",
    "        for i in graph[now] : \n",
    "            result[i] = max(result[i], result[now] + time[i])\n",
    "            indegree[i] -= 1\n",
    "            # 새롭게 진입차수가 0이 되는 노드를 큐에 삽입\n",
    "            if indegree[i] == 0 :\n",
    "                q.append(i)\n",
    "\n",
    "    # 위상 정렬 수행 결과 출력\n",
    "    for i in range(1, v+1) : \n",
    "        print(result[i])\n",
    "\n",
    "topology_sort()"
   ]
  }
 ],
 "metadata": {
  "kernelspec": {
   "display_name": "Python 3.10.3 64-bit",
   "metadata": {
    "interpreter": {
     "hash": "98590ff4fe04c8543246b2a01debd3de3c5ca9b666f43f1fa87d5110c692004c"
    }
   },
   "name": "python3"
  },
  "language_info": {
   "codemirror_mode": {
    "name": "ipython",
    "version": 3
   },
   "file_extension": ".py",
   "mimetype": "text/x-python",
   "name": "python",
   "nbconvert_exporter": "python",
   "pygments_lexer": "ipython3",
   "version": "3.10.3"
  },
  "orig_nbformat": 2
 },
 "nbformat": 4,
 "nbformat_minor": 2
}