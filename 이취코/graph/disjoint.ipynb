{
 "cells": [
  {
   "cell_type": "code",
   "execution_count": 2,
   "metadata": {},
   "outputs": [
    {
     "name": "stdout",
     "output_type": "stream",
     "text": [
      "각 원소가 속한 집합1 1 1 1 5 5 \n",
      "부모 테이블 : 1 1 2 1 5 5 "
     ]
    }
   ],
   "source": [
    "# 서로소 집합 알고리즘 소스코드\n",
    "# 서로소 집합 알고리즘으로 루트를 찾기 위해선, 재귀적으로 부모를 거슬러 올라가야 함\n",
    "\n",
    "# 특정 원소가 속한 집합을 찾기\n",
    "def find_parent(parent, x) :\n",
    "    # 루트 노드가 아니라면 루트 노드를 찾을 때까지 재귀적으로 호출 -> 경로 압축 기법으로 소스코드 변경\n",
    "    if parent[x] != x : \n",
    "        parent[x] = find_parent(parent, parent[x])\n",
    "    return parent[x]\n",
    "\n",
    "# 두 원소가 속한 집합을 합치기\n",
    "def union_parent(parent, a, b) :\n",
    "    a = find_parent(parent, a)\n",
    "    b = find_parent(parent, b)\n",
    "    if a < b : \n",
    "        parent[b] = a\n",
    "    else : \n",
    "        parent[a] = b\n",
    "\n",
    "# 노드의 개수와 간선의 개수 입력받기\n",
    "v, e = map(int, input().split())\n",
    "parent = [0] * (v+1)            # 부모 테이블 초기화\n",
    "\n",
    "# 부모 테이블 상에서, 부모를 자기 자신으로 초기화 \n",
    "for i in range(1, v+1) :\n",
    "    parent[i] = i\n",
    "\n",
    "# Union 연산 각각 수행\n",
    "for i in range(e) : \n",
    "    a, b = map(int, input().split())\n",
    "    union_parent(parent, a, b)\n",
    "\n",
    "# 각 원소가 속한 집합 출력\n",
    "print('각 원소가 속한 집합 : ', end='')\n",
    "for i in range(1, v+1) : \n",
    "    print(find_parent(parent, i), end = ' ')\n",
    "\n",
    "print()\n",
    "\n",
    "# 부모 테이블 내용 출력\n",
    "print('부모 테이블 : ', end='')\n",
    "for i in range(1, v+1) :\n",
    "    print(parent[i], end= ' ')\n"
   ]
  },
  {
   "cell_type": "code",
   "execution_count": null,
   "metadata": {},
   "outputs": [],
   "source": [
    "# 서로소 집합을 활용한 사이클 판별 소스 코드\n",
    "\n",
    "# 서로소 집합 알고리즘 소스코드\n",
    "# 서로소 집합 알고리즘으로 루트를 찾기 위해선, 재귀적으로 부모를 거슬러 올라가야 함\n",
    "\n",
    "# 특정 원소가 속한 집합을 찾기\n",
    "def find_parent(parent, x) :\n",
    "    # 루트 노드가 아니라면 루트 노드를 찾을 때까지 재귀적으로 호출 -> 경로 압축 기법으로 소스코드 변경\n",
    "    if parent[x] != x : \n",
    "        parent[x] = find_parent(parent, parent[x])\n",
    "    return parent[x]\n",
    "\n",
    "# 두 원소가 속한 집합을 합치기\n",
    "def union_parent(parent, a, b) :\n",
    "    a = find_parent(parent, a)\n",
    "    b = find_parent(parent, b)\n",
    "    if a < b : \n",
    "        parent[b] = a\n",
    "    else : \n",
    "        parent[a] = b\n",
    "\n",
    "# 노드의 개수와 간선의 개수 입력받기\n",
    "v, e = map(int, input().split())\n",
    "parent = [0] * (v+1)            # 부모 테이블 초기화\n",
    "\n",
    "# 부모 테이블 상에서, 부모를 자기 자신으로 초기화 \n",
    "for i in range(1, v+1) :\n",
    "    parent[i] = i\n",
    "\n",
    "cycle = False                   # 사이클 발생 여부\n",
    "\n",
    "for i in range(e) : \n",
    "    a, b = map(int, input().split())\n",
    "    # 사이클이 발생한 경우 종료\n",
    "    if find_parent(parent, a) == find_parent(parent, b) : \n",
    "        cycle = True\n",
    "        break\n",
    "    # 사이클이 발생하지 않으면 Union 진행\n",
    "    else : \n",
    "        union_parent(parent, a, b)\n",
    "\n",
    "if cycle : \n",
    "    print(\"사이클이 발생했습니다.\")\n",
    "else : print(\"사이클이 발생하지 않았습니다.\")"
   ]
  }
 ],
 "metadata": {
  "kernelspec": {
   "display_name": "Python 3.10.3 64-bit",
   "metadata": {
    "interpreter": {
     "hash": "98590ff4fe04c8543246b2a01debd3de3c5ca9b666f43f1fa87d5110c692004c"
    }
   },
   "name": "python3"
  },
  "language_info": {
   "codemirror_mode": {
    "name": "ipython",
    "version": 3
   },
   "file_extension": ".py",
   "mimetype": "text/x-python",
   "name": "python",
   "nbconvert_exporter": "python",
   "pygments_lexer": "ipython3",
   "version": "3.10.3"
  },
  "orig_nbformat": 2
 },
 "nbformat": 4,
 "nbformat_minor": 2
}