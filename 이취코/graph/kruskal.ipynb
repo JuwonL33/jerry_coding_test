{
 "cells": [
  {
   "cell_type": "code",
   "execution_count": 4,
   "metadata": {},
   "outputs": [
    {
     "name": "stdout",
     "output_type": "stream",
     "text": [
      "159\n"
     ]
    }
   ],
   "source": [
    "# 크루스칼 알고리즘\n",
    "\n",
    "def find_parent(parent, x) : \n",
    "    # 루트 노드가 아니라면 루트 노드를 찾을때까지 재귀 호출\n",
    "    if parent[x] != x : \n",
    "        parent[x] = find_parent(parent, parent[x])\n",
    "    return parent[x]\n",
    "\n",
    "# 두 원소가 속한 집합 찾기\n",
    "def union_parent(parent, a, b) : \n",
    "    a = find_parent(parent, a)\n",
    "    b = find_parent(parent, b) \n",
    "    if a < b : \n",
    "        parent[b] = a\n",
    "    else : \n",
    "        parent[a] = b\n",
    "\n",
    "# 노드의 개수와 간선(union의 연산) 개수 입력 받기\n",
    "v, e = map(int, input().split())\n",
    "parent = [0] * (v+1)        # 부모 테이블 초기화\n",
    "\n",
    "# 모든 간선을 담을 리스트와 최종 비용을 담을 변수\n",
    "edges = []\n",
    "result = 0\n",
    "\n",
    "# 부모 테이블 상에서, 부모를 자기 자신으로 초기화\n",
    "for i in range(1, v+1) :\n",
    "    parent[i] = i\n",
    "\n",
    "# 모든 간선에 대한 정보를 입력받기\n",
    "for _ in range(e) : \n",
    "    a, b, cost = map(int, input().split())\n",
    "    # 비용순으로 정렬하기 위해 튜플의 첫 원소를 비용으로 설정\n",
    "    edges.append((cost, a, b))\n",
    "\n",
    "# 간선을 비용순으로 정렬\n",
    "edges.sort()\n",
    "\n",
    "# 간선을 하나씩 확인하며\n",
    "for edge in edges : \n",
    "    cost, a, b = edge\n",
    "    # 사이클이 발생하지 않는 경우에만 집합에 포함\n",
    "    if find_parent(parent, a) != find_parent(parent, b) : \n",
    "        union_parent(parent, a, b)\n",
    "        result += cost\n",
    "    \n",
    "print(result)"
   ]
  }
 ],
 "metadata": {
  "kernelspec": {
   "display_name": "Python 3.10.3 64-bit",
   "metadata": {
    "interpreter": {
     "hash": "98590ff4fe04c8543246b2a01debd3de3c5ca9b666f43f1fa87d5110c692004c"
    }
   },
   "name": "python3"
  },
  "language_info": {
   "codemirror_mode": {
    "name": "ipython",
    "version": 3
   },
   "file_extension": ".py",
   "mimetype": "text/x-python",
   "name": "python",
   "nbconvert_exporter": "python",
   "pygments_lexer": "ipython3",
   "version": "3.10.3"
  },
  "orig_nbformat": 2
 },
 "nbformat": 4,
 "nbformat_minor": 2
}