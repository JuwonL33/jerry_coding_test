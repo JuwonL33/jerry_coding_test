{
 "cells": [
  {
   "cell_type": "code",
   "execution_count": 2,
   "metadata": {},
   "outputs": [
    {
     "ename": "IndexError",
     "evalue": "list index out of range",
     "output_type": "error",
     "traceback": [
      "\u001b[0;31m---------------------------------------------------------------------------\u001b[0m",
      "\u001b[0;31mIndexError\u001b[0m                                Traceback (most recent call last)",
      "Input \u001b[0;32mIn [2]\u001b[0m, in \u001b[0;36m<cell line: 14>\u001b[0;34m()\u001b[0m\n\u001b[1;32m     15\u001b[0m     \u001b[38;5;28;01mfor\u001b[39;00m j \u001b[38;5;129;01min\u001b[39;00m \u001b[38;5;28mrange\u001b[39m(array[i], m\u001b[38;5;241m+\u001b[39m\u001b[38;5;241m1\u001b[39m) :\n\u001b[1;32m     16\u001b[0m         \u001b[38;5;28;01mif\u001b[39;00m [j \u001b[38;5;241m-\u001b[39m array[i]] \u001b[38;5;241m!=\u001b[39m \u001b[38;5;241m10001\u001b[39m : \u001b[38;5;66;03m# (i-k) 원을 만드는 방법이 존재하는 경우\u001b[39;00m\n\u001b[0;32m---> 17\u001b[0m             d[j] \u001b[38;5;241m=\u001b[39m \u001b[38;5;28mmin\u001b[39m(\u001b[43md\u001b[49m\u001b[43m[\u001b[49m\u001b[43mj\u001b[49m\u001b[43m]\u001b[49m, d[j \u001b[38;5;241m-\u001b[39m array[i] \u001b[38;5;241m+\u001b[39m \u001b[38;5;241m1\u001b[39m])\n\u001b[1;32m     19\u001b[0m \u001b[38;5;66;03m# 계산된 결과 출력\u001b[39;00m\n\u001b[1;32m     20\u001b[0m \u001b[38;5;28;01mif\u001b[39;00m d[m] \u001b[38;5;241m==\u001b[39m \u001b[38;5;241m10001\u001b[39m : \u001b[38;5;66;03m# 최종적으로 M원을 만드는 방법이 없는 경우\u001b[39;00m\n",
      "\u001b[0;31mIndexError\u001b[0m: list index out of range"
     ]
    }
   ],
   "source": [
    "# 다이나믹 프로그래밍, 효율적인 화폐구성\n",
    "n, m = map(int, input().split())\n",
    "\n",
    "# n개의 화폐 정보 입력받기\n",
    "array = []\n",
    "for i in range(n) :\n",
    "    array.append(int(input()))\n",
    "\n",
    "# 한번 계산된 결과를 저장하기 위한 DP 테이블 초기화\n",
    "d = [10001 * (m+1)]\n",
    "\n",
    "# 다이나믹 프로그래밍 진행\n",
    "d[0] = 0\n",
    "for i in range(n) :\n",
    "    for j in range(array[i], m+1) :\n",
    "        if [j - array[i]] != 10001 : # (i-k) 원을 만드는 방법이 존재하는 경우\n",
    "            d[j] = min(d[j], d[j - array[i]] + 1)\n",
    "\n",
    "# 계산된 결과 출력\n",
    "if d[m] == 10001 : # 최종적으로 M원을 만드는 방법이 없는 경우\n",
    "    print(-1)\n",
    "else : \n",
    "    print(d[m])"
   ]
  }
 ],
 "metadata": {
  "kernelspec": {
   "display_name": "Python 3.10.3 64-bit",
   "metadata": {
    "interpreter": {
     "hash": "98590ff4fe04c8543246b2a01debd3de3c5ca9b666f43f1fa87d5110c692004c"
    }
   },
   "name": "python3"
  },
  "language_info": {
   "codemirror_mode": {
    "name": "ipython",
    "version": 3
   },
   "file_extension": ".py",
   "mimetype": "text/x-python",
   "name": "python",
   "nbconvert_exporter": "python",
   "pygments_lexer": "ipython3",
   "version": "3.10.3"
  },
  "orig_nbformat": 2
 },
 "nbformat": 4,
 "nbformat_minor": 2
}