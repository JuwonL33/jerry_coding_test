{
 "cells": [
  {
   "cell_type": "code",
   "execution_count": 1,
   "metadata": {},
   "outputs": [
    {
     "name": "stdout",
     "output_type": "stream",
     "text": [
      "3\n"
     ]
    }
   ],
   "source": [
    "# 재귀를 이용한 피보나치 수열 -> 비효율적\n",
    "# 숫자 커지면 이 생명 다 할때까지 구해도 못 구함\n",
    "\n",
    "def fibo(x) : \n",
    "    if x == 1 or x == 2 :\n",
    "        return 1\n",
    "    return fibo(x-1) + fibo(x-2)\n",
    "\n",
    "print(fibo(4))"
   ]
  },
  {
   "cell_type": "code",
   "execution_count": 6,
   "metadata": {},
   "outputs": [
    {
     "name": "stdout",
     "output_type": "stream",
     "text": [
      "f(6) f(5) f(4) f(3) f(2) f(1) f(2) f(3) f(4) "
     ]
    },
    {
     "data": {
      "text/plain": "8"
     },
     "execution_count": 6,
     "metadata": {},
     "output_type": "execute_result"
    }
   ],
   "source": [
    "# 피보나치 수열 코드 - 메모이제이션(Memoization) 기법 사용 -> Top-down 기법에 한정하여 사용하는 표현\n",
    "\n",
    "# 한번 계산된 결과를 메모이제이션 하기 위한 리스트 초기화\n",
    "\n",
    "d = [0] * 100\n",
    "\n",
    "# 피보나치 함수를 재귀함수로 구현 (탑다운)\n",
    "def fibo(x) : \n",
    "    print('f('  + str(x) +')', end = ' ')\n",
    "    # 종료 조건 (1 혹은 2일 때 1을 반환)\n",
    "    if x == 1 or x == 2 : \n",
    "        return 1\n",
    "    # 이미 계산한 적 있는 문제라면 그대로 반환\n",
    "    if d[x] != 0 :\n",
    "        return d[x]\n",
    "    # 계산하지 않은 문제라면 점화식에 따라 피보나치 결과 반환\n",
    "    d[x] = fibo(x-1) + fibo(x-2)\n",
    "    return d[x]\n",
    "\n",
    "fibo(6)"
   ]
  },
  {
   "cell_type": "code",
   "execution_count": 7,
   "metadata": {},
   "outputs": [
    {
     "name": "stdout",
     "output_type": "stream",
     "text": [
      "218922995834555169026\n"
     ]
    }
   ],
   "source": [
    "# Bottom-up 기법\n",
    "d = [0] * 100       # 계산된 결과를 저장하기 위한 DP 테이블 초기화 -> Bottom-up 기법에 한정된 표현\n",
    "\n",
    "# 첫 번째 피보나치 수와 두 번째 피보나치 수는 1\n",
    "d[1] = 1\n",
    "d[2] = 1\n",
    "n = 99\n",
    "\n",
    "# 피보나치 함수 반복문으로 구현\n",
    "for i in range(3, n+1) :\n",
    "    d[i] = d[i-1] + d[i-2]\n",
    "\n",
    "print(d[n])"
   ]
  }
 ],
 "metadata": {
  "kernelspec": {
   "display_name": "Python 3.10.3 64-bit",
   "metadata": {
    "interpreter": {
     "hash": "98590ff4fe04c8543246b2a01debd3de3c5ca9b666f43f1fa87d5110c692004c"
    }
   },
   "name": "python3"
  },
  "language_info": {
   "codemirror_mode": {
    "name": "ipython",
    "version": 3
   },
   "file_extension": ".py",
   "mimetype": "text/x-python",
   "name": "python",
   "nbconvert_exporter": "python",
   "pygments_lexer": "ipython3",
   "version": "3.10.3"
  },
  "orig_nbformat": 2
 },
 "nbformat": 4,
 "nbformat_minor": 2
}