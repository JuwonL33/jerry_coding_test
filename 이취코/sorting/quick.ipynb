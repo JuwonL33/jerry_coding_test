{
 "cells": [
  {
   "cell_type": "code",
   "execution_count": null,
   "metadata": {},
   "outputs": [
    {
     "ename": "IndexError",
     "evalue": "list index out of range",
     "output_type": "error",
     "traceback": [
      "\u001b[0;31m---------------------------------------------------------------------------\u001b[0m",
      "\u001b[0;31mIndexError\u001b[0m                                Traceback (most recent call last)",
      "Input \u001b[0;32mIn [3]\u001b[0m, in \u001b[0;36m<cell line: 29>\u001b[0;34m()\u001b[0m\n\u001b[1;32m     26\u001b[0m     quick_sort(array, start, right \u001b[38;5;241m-\u001b[39m \u001b[38;5;241m1\u001b[39m)\n\u001b[1;32m     27\u001b[0m     quick_sort(array, right\u001b[38;5;241m+\u001b[39m\u001b[38;5;241m1\u001b[39m, end)\n\u001b[0;32m---> 29\u001b[0m \u001b[43mquick_sort\u001b[49m\u001b[43m(\u001b[49m\u001b[43marray\u001b[49m\u001b[43m,\u001b[49m\u001b[43m \u001b[49m\u001b[38;5;241;43m0\u001b[39;49m\u001b[43m,\u001b[49m\u001b[43m \u001b[49m\u001b[38;5;28;43mlen\u001b[39;49m\u001b[43m(\u001b[49m\u001b[43marray\u001b[49m\u001b[43m)\u001b[49m\u001b[38;5;241;43m-\u001b[39;49m\u001b[38;5;241;43m1\u001b[39;49m\u001b[43m)\u001b[49m\n\u001b[1;32m     30\u001b[0m \u001b[38;5;28mprint\u001b[39m(array)\n",
      "Input \u001b[0;32mIn [3]\u001b[0m, in \u001b[0;36mquick_sort\u001b[0;34m(array, start, end)\u001b[0m\n\u001b[1;32m     25\u001b[0m \u001b[38;5;66;03m# 분할 이후 왼쪽 부분과 오른쪽 부분에서 각각 정렬 수행\u001b[39;00m\n\u001b[1;32m     26\u001b[0m quick_sort(array, start, right \u001b[38;5;241m-\u001b[39m \u001b[38;5;241m1\u001b[39m)\n\u001b[0;32m---> 27\u001b[0m \u001b[43mquick_sort\u001b[49m\u001b[43m(\u001b[49m\u001b[43marray\u001b[49m\u001b[43m,\u001b[49m\u001b[43m \u001b[49m\u001b[43mright\u001b[49m\u001b[38;5;241;43m+\u001b[39;49m\u001b[38;5;241;43m1\u001b[39;49m\u001b[43m,\u001b[49m\u001b[43m \u001b[49m\u001b[43mend\u001b[49m\u001b[43m)\u001b[49m\n",
      "Input \u001b[0;32mIn [3]\u001b[0m, in \u001b[0;36mquick_sort\u001b[0;34m(array, start, end)\u001b[0m\n\u001b[1;32m     25\u001b[0m \u001b[38;5;66;03m# 분할 이후 왼쪽 부분과 오른쪽 부분에서 각각 정렬 수행\u001b[39;00m\n\u001b[1;32m     26\u001b[0m quick_sort(array, start, right \u001b[38;5;241m-\u001b[39m \u001b[38;5;241m1\u001b[39m)\n\u001b[0;32m---> 27\u001b[0m \u001b[43mquick_sort\u001b[49m\u001b[43m(\u001b[49m\u001b[43marray\u001b[49m\u001b[43m,\u001b[49m\u001b[43m \u001b[49m\u001b[43mright\u001b[49m\u001b[38;5;241;43m+\u001b[39;49m\u001b[38;5;241;43m1\u001b[39;49m\u001b[43m,\u001b[49m\u001b[43m \u001b[49m\u001b[43mend\u001b[49m\u001b[43m)\u001b[49m\n",
      "Input \u001b[0;32mIn [3]\u001b[0m, in \u001b[0;36mquick_sort\u001b[0;34m(array, start, end)\u001b[0m\n\u001b[1;32m     19\u001b[0m     right \u001b[38;5;241m-\u001b[39m\u001b[38;5;241m=\u001b[39m \u001b[38;5;241m1\u001b[39m\n\u001b[1;32m     20\u001b[0m \u001b[38;5;28;01mif\u001b[39;00m left \u001b[38;5;241m>\u001b[39m right : \u001b[38;5;66;03m# 엇갈렸다면 작은 데이터와 피벗 데이터 교체 \u001b[39;00m\n\u001b[0;32m---> 21\u001b[0m     array[right], array[pivot] \u001b[38;5;241m=\u001b[39m array[pivot], \u001b[43marray\u001b[49m\u001b[43m[\u001b[49m\u001b[43mleft\u001b[49m\u001b[43m]\u001b[49m\n\u001b[1;32m     22\u001b[0m \u001b[38;5;28;01melse\u001b[39;00m : \u001b[38;5;66;03m# 엇갈리지 않았다면 작은 데이터와 큰 데이터 교체\u001b[39;00m\n\u001b[1;32m     23\u001b[0m     array[left], array[right] \u001b[38;5;241m=\u001b[39m array[right], array[left]\n",
      "\u001b[0;31mIndexError\u001b[0m: list index out of range"
     ]
    }
   ],
   "source": [
    "# 퀵 정렬\n",
    "\n",
    "array = [5, 7, 9, 0, 4, 2, 6, 3, 4, 8]\n",
    "\n",
    "def quick_sort(array, start, end) :\n",
    "    if start >= end :                   # 원소가 1개인 경우 종료\n",
    "        return\n",
    "\n",
    "    pivot = start\n",
    "    left = start + 1\n",
    "    right = end\n",
    "\n",
    "    while left <= right :\n",
    "        # 피벗보다 큰 데이터를 찾을 때까지 반복\n",
    "        while left <= end and array[left] <= array[pivot] :\n",
    "            left += 1\n",
    "        # 피벗보다 작은 데이터를 찾을 때까지 반복\n",
    "        while right > start and array[right] >= array[pivot] :\n",
    "            right -= 1\n",
    "        if left > right : # 엇갈렸다면 작은 데이터와 피벗 데이터 교체 \n",
    "            array[right], array[pivot] = array[pivot], array[left]\n",
    "        else : # 엇갈리지 않았다면 작은 데이터와 큰 데이터 교체\n",
    "            array[left], array[right] = array[right], array[left]\n",
    "\n",
    "    # 분할 이후 왼쪽 부분과 오른쪽 부분에서 각각 정렬 수행\n",
    "    quick_sort(array, start, right - 1)\n",
    "    quick_sort(array, right+1, end)\n",
    "\n",
    "quick_sort(array, 0, len(array)-1)\n",
    "print(array)\n"
   ]
  },
  {
   "cell_type": "code",
   "execution_count": 5,
   "metadata": {},
   "outputs": [
    {
     "name": "stdout",
     "output_type": "stream",
     "text": [
      "left_side :  [0, 3, 1, 2, 4]\n",
      "right_side :  [7, 9, 6, 8]\n",
      "left_side :  []\n",
      "right_side :  [3, 1, 2, 4]\n",
      "left_side :  [1, 2]\n",
      "right_side :  [4]\n",
      "left_side :  []\n",
      "right_side :  [2]\n",
      "left_side :  [6]\n",
      "right_side :  [9, 8]\n",
      "left_side :  [8]\n",
      "right_side :  []\n",
      "[0, 1, 2, 3, 4, 5, 6, 7, 8, 9]\n"
     ]
    }
   ],
   "source": [
    "# 파이썬의 장점을 살린 퀵 정렬 소스코드\n",
    "\n",
    "array = [5, 7, 9, 0, 3, 1, 6, 2, 4, 8]\n",
    "\n",
    "def quick_sort(array) :\n",
    "    # 리스트가 하나 이하의 원소만을 담고 있으면 종료 \n",
    "    if len(array) <= 1 :\n",
    "        return array\n",
    "    \n",
    "    pivot = array[0]    # 기준\n",
    "    tail = array[1:]    # 기준을 제외한 리스트\n",
    "\n",
    "    left_side = [x for x in tail if x <= pivot]     # 분할된 왼쪽 부분\n",
    "    right_side = [x for x in tail if x > pivot]     # 분할된 오른쪽 부분\n",
    "\n",
    "    print(\"left_side : \", left_side)\n",
    "    print(\"right_side : \", right_side)\n",
    "\n",
    "    # 분할 이후 왼쪽 부분과 오른쪽 부분에서 각각 정렬을 수행하고, 전체 리스트 반환\n",
    "    return quick_sort(left_side) + [pivot] + quick_sort(right_side)\n",
    "\n",
    "print(quick_sort(array))\n"
   ]
  }
 ],
 "metadata": {
  "kernelspec": {
   "display_name": "Python 3.10.3 64-bit",
   "metadata": {
    "interpreter": {
     "hash": "98590ff4fe04c8543246b2a01debd3de3c5ca9b666f43f1fa87d5110c692004c"
    }
   },
   "name": "python3"
  },
  "language_info": {
   "codemirror_mode": {
    "name": "ipython",
    "version": 3
   },
   "file_extension": ".py",
   "mimetype": "text/x-python",
   "name": "python",
   "nbconvert_exporter": "python",
   "pygments_lexer": "ipython3",
   "version": "3.10.3"
  },
  "orig_nbformat": 2
 },
 "nbformat": 4,
 "nbformat_minor": 2
}