{
 "cells": [
  {
   "cell_type": "code",
   "execution_count": 4,
   "metadata": {},
   "outputs": [
    {
     "name": "stdout",
     "output_type": "stream",
     "text": [
      "min_index :  0\n",
      "j :  1\n",
      "j :  2\n",
      "j :  3\n",
      "j :  4\n",
      "j :  5\n",
      "j :  6\n",
      "j :  7\n",
      "j :  8\n",
      "j :  9\n",
      "min_index :  1\n",
      "j :  2\n",
      "j :  3\n",
      "j :  4\n",
      "j :  5\n",
      "j :  6\n",
      "j :  7\n",
      "j :  8\n",
      "j :  9\n",
      "min_index :  2\n",
      "j :  3\n",
      "j :  4\n",
      "j :  5\n",
      "j :  6\n",
      "j :  7\n",
      "j :  8\n",
      "j :  9\n",
      "min_index :  3\n",
      "j :  4\n",
      "j :  5\n",
      "j :  6\n",
      "j :  7\n",
      "j :  8\n",
      "j :  9\n",
      "min_index :  4\n",
      "j :  5\n",
      "j :  6\n",
      "j :  7\n",
      "j :  8\n",
      "j :  9\n",
      "min_index :  5\n",
      "j :  6\n",
      "j :  7\n",
      "j :  8\n",
      "j :  9\n",
      "min_index :  6\n",
      "j :  7\n",
      "j :  8\n",
      "j :  9\n",
      "min_index :  7\n",
      "j :  8\n",
      "j :  9\n",
      "min_index :  8\n",
      "j :  9\n",
      "min_index :  9\n",
      "[0, 1, 2, 3, 4, 5, 6, 7, 8, 9]\n"
     ]
    }
   ],
   "source": [
    "# 선택정렬 소스 코드\n",
    "array = [7, 5, 9, 0, 3, 1, 6, 2, 4, 8]\n",
    "\n",
    "for i in range(len(array)) :\n",
    "    min_index = i\n",
    "    for j in range(i+1, len(array)) :\n",
    "        if array[min_index] > array[j] :\n",
    "            min_index = j\n",
    "    array[i], array[min_index] = array[min_index], array[i]     # 스왚\n",
    "\n",
    "print(array)"
   ]
  }
 ],
 "metadata": {
  "kernelspec": {
   "display_name": "Python 3.10.3 64-bit",
   "metadata": {
    "interpreter": {
     "hash": "98590ff4fe04c8543246b2a01debd3de3c5ca9b666f43f1fa87d5110c692004c"
    }
   },
   "name": "python3"
  },
  "language_info": {
   "codemirror_mode": {
    "name": "ipython",
    "version": 3
   },
   "file_extension": ".py",
   "mimetype": "text/x-python",
   "name": "python",
   "nbconvert_exporter": "python",
   "pygments_lexer": "ipython3",
   "version": "3.10.3"
  },
  "orig_nbformat": 2
 },
 "nbformat": 4,
 "nbformat_minor": 2
}