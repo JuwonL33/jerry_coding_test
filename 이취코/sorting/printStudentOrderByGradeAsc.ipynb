{
 "cells": [
  {
   "cell_type": "code",
   "execution_count": 4,
   "metadata": {},
   "outputs": [
    {
     "name": "stdout",
     "output_type": "stream",
     "text": [
      "[('홍길동', 95)]\n",
      "[('홍길동', 95), ('이순신', 77)]\n",
      "이순신 홍길동 "
     ]
    }
   ],
   "source": [
    "# 정렬, 성적이 낮은 순서로 학생 출력하기\n",
    "\n",
    "n = int(input())                    # 학생의 수\n",
    "array = []\n",
    "for i in range(n) :\n",
    "    input_data = input().split()\n",
    "    array.append((input_data[0], int(input_data[1])))\n",
    "    print(array)\n",
    "\n",
    "def setting(data) :\n",
    "    return data[1]\n",
    "\n",
    "array.sort(key=setting)\n",
    "\n",
    "for a in array :\n",
    "    print(a[0], end = ' ')"
   ]
  }
 ],
 "metadata": {
  "kernelspec": {
   "display_name": "Python 3.10.3 64-bit",
   "metadata": {
    "interpreter": {
     "hash": "98590ff4fe04c8543246b2a01debd3de3c5ca9b666f43f1fa87d5110c692004c"
    }
   },
   "name": "python3"
  },
  "language_info": {
   "codemirror_mode": {
    "name": "ipython",
    "version": 3
   },
   "file_extension": ".py",
   "mimetype": "text/x-python",
   "name": "python",
   "nbconvert_exporter": "python",
   "pygments_lexer": "ipython3",
   "version": "3.10.3"
  },
  "orig_nbformat": 2
 },
 "nbformat": 4,
 "nbformat_minor": 2
}