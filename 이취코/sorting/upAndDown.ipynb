{
 "cells": [
  {
   "cell_type": "code",
   "execution_count": 3,
   "metadata": {},
   "outputs": [
    {
     "name": "stdout",
     "output_type": "stream",
     "text": [
      "[27, 15, 12]\n"
     ]
    }
   ],
   "source": [
    "# 정렬, 위에서 아래로 \n",
    "\n",
    "n = int(input())                            # 수열에 속해있는 수열의 개수\n",
    "array = []                                  # 입력받는 n개의 수\n",
    "for i in range(n) :\n",
    "    array.append(int(input()))\n",
    "array.sort(reverse=True)\n",
    "\n",
    "for a in array :\n",
    "    print(a, end = ' ')"
   ]
  }
 ],
 "metadata": {
  "kernelspec": {
   "display_name": "Python 3.10.3 64-bit",
   "metadata": {
    "interpreter": {
     "hash": "98590ff4fe04c8543246b2a01debd3de3c5ca9b666f43f1fa87d5110c692004c"
    }
   },
   "name": "python3"
  },
  "language_info": {
   "codemirror_mode": {
    "name": "ipython",
    "version": 3
   },
   "file_extension": ".py",
   "mimetype": "text/x-python",
   "name": "python",
   "nbconvert_exporter": "python",
   "pygments_lexer": "ipython3",
   "version": "3.10.3"
  },
  "orig_nbformat": 2
 },
 "nbformat": 4,
 "nbformat_minor": 2
}