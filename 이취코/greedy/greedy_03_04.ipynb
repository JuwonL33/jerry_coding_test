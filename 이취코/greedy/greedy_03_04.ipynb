{
 "cells": [
  {
   "cell_type": "code",
   "execution_count": 1,
   "metadata": {},
   "outputs": [
    {
     "name": "stdout",
     "output_type": "stream",
     "text": [
      "8\n"
     ]
    }
   ],
   "source": [
    "# Greedy 만들 수 없는 금액\n",
    "\n",
    "n = int(input())                            # 동전 개수\n",
    "data = list(map(int, input().split()))\n",
    "data.sort()\n",
    "\n",
    "target = 1\n",
    "for x in data : \n",
    "    if target < x : \n",
    "        break\n",
    "    target += x\n",
    "\n",
    "print(target)"
   ]
  },
  {
   "cell_type": "code",
   "execution_count": 2,
   "metadata": {},
   "outputs": [
    {
     "name": "stdout",
     "output_type": "stream",
     "text": [
      "8\n"
     ]
    }
   ],
   "source": [
    "# Greedy 만들 수 없는 금액 - 20220720\n",
    "# 만들 수 없는 금액이 가장 큰 단위의 동전보다 하나 작은 값이라는 아이디어를 어떻게 떠올리지...?\n",
    "\n",
    "n = int(input())                                        # 동전의 개수\n",
    "data = list(map(int,input().split()))                   # 동전의 단위를 입력받아 리스트화\n",
    "data.sort()                                             # 동전 리스트를 오름차순으로 정렬\n",
    "\n",
    "target = 1                                              # 목표값을 1로 설정\n",
    "\n",
    "for x in data :                                         # 동전 리스트 안에 있는 동전을 for문을 태워서\n",
    "    if target < x :                                     # 목표값이 동전 단위보다 작으면\n",
    "        break                                           # 멈춘다.\n",
    "    target += x                                         # 목표값이 동전보다 크면 목표값에 동전단위를 더하기\n",
    "\n",
    "print(target)                                           # 타겟값 리턴"
   ]
  }
 ],
 "metadata": {
  "kernelspec": {
   "display_name": "Python 3.10.3 64-bit",
   "metadata": {
    "interpreter": {
     "hash": "98590ff4fe04c8543246b2a01debd3de3c5ca9b666f43f1fa87d5110c692004c"
    }
   },
   "name": "python3"
  },
  "language_info": {
   "codemirror_mode": {
    "name": "ipython",
    "version": 3
   },
   "file_extension": ".py",
   "mimetype": "text/x-python",
   "name": "python",
   "nbconvert_exporter": "python",
   "pygments_lexer": "ipython3",
   "version": "3.10.3"
  },
  "orig_nbformat": 2
 },
 "nbformat": 4,
 "nbformat_minor": 2
}