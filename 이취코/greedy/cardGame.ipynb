{
 "cells": [
  {
   "cell_type": "code",
   "execution_count": 10,
   "metadata": {},
   "outputs": [
    {
     "name": "stdout",
     "output_type": "stream",
     "text": [
      "3\n"
     ]
    }
   ],
   "source": [
    "# 숫자 카드 게임 - 내가 짠 코드 / sort() 이중배열 모두 걷어냄\n",
    "n, m = map(int, input().split())        # 행 * 열\n",
    "result = 0\n",
    "\n",
    "for i in range(n) :\n",
    "    data = list(map(int, input().split()))\n",
    "    min_number = min(data)\n",
    "    result = max(result, min_number)\n",
    "\n",
    "print(result)"
   ]
  },
  {
   "cell_type": "code",
   "execution_count": 8,
   "metadata": {},
   "outputs": [
    {
     "name": "stdout",
     "output_type": "stream",
     "text": [
      "2\n"
     ]
    }
   ],
   "source": [
    "# 숫자 카드 게임 - 예제 1 / min() 함수 이용\n",
    "n, m = map(int, input().split())        # 행 * 열\n",
    "result = 0\n",
    "\n",
    "for i in range(n) : \n",
    "    data = list(map(int, input().split()))\n",
    "    min_value = min(data)\n",
    "\n",
    "    result = max(result, min_value)\n",
    "\n",
    "print(result)"
   ]
  },
  {
   "cell_type": "code",
   "execution_count": 9,
   "metadata": {},
   "outputs": [
    {
     "name": "stdout",
     "output_type": "stream",
     "text": [
      "2\n"
     ]
    }
   ],
   "source": [
    "# 숫자 카드 게임 - 예제 2\n",
    "n, m = map(int, input().split())        # 행 * 열\n",
    "result = 0\n",
    "\n",
    "for i in range(n) :\n",
    "    data = list(map(int, input().split()))\n",
    "    min_value = 10001\n",
    "    for a in data : \n",
    "        min_value = min(min_value, a)\n",
    "    \n",
    "    result = max(result, min_value)\n",
    "\n",
    "print(result)"
   ]
  }
 ],
 "metadata": {
  "kernelspec": {
   "display_name": "Python 3.10.3 64-bit",
   "metadata": {
    "interpreter": {
     "hash": "98590ff4fe04c8543246b2a01debd3de3c5ca9b666f43f1fa87d5110c692004c"
    }
   },
   "name": "python3"
  },
  "language_info": {
   "codemirror_mode": {
    "name": "ipython",
    "version": 3
   },
   "file_extension": ".py",
   "mimetype": "text/x-python",
   "name": "python",
   "nbconvert_exporter": "python",
   "pygments_lexer": "ipython3",
   "version": "3.10.3"
  },
  "orig_nbformat": 2
 },
 "nbformat": 4,
 "nbformat_minor": 2
}