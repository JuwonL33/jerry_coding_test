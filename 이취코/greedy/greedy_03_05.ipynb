{
 "cells": [
  {
   "cell_type": "code",
   "execution_count": 17,
   "metadata": {},
   "outputs": [
    {
     "name": "stdout",
     "output_type": "stream",
     "text": [
      "25\n"
     ]
    }
   ],
   "source": [
    "# 볼링공 만들기\n",
    "\n",
    "n, m = map(int, input().split())            # n : 볼링공 개수, M : 공의 최대 무게\n",
    "data = list(map(int, input().split()))      # 볼링공의 무게를 담은 리스트\n",
    "\n",
    "# 1~10까지 무게를 담을 수 있는 리스트\n",
    "array = [0] * 11\n",
    "\n",
    "for x in data :                             # 각 무게에 해당하는 볼링공의 개수 카운트\n",
    "    array[x] += 1\n",
    "\n",
    "result = 0                                  # 볼링공을 고르는 경우의 수\n",
    "\n",
    "for i in range(1, m+1) :\n",
    "    n -= array[i]                           # 무게가 i인 볼링공 개수(A가 선택할 수 있는 개수) 제외\n",
    "    result += array[i] * n                  # B가 선택하는 경우의 수와 곱하기\n",
    "\n",
    "print(result) "
   ]
  },
  {
   "cell_type": "code",
   "execution_count": 2,
   "metadata": {},
   "outputs": [
    {
     "name": "stdout",
     "output_type": "stream",
     "text": [
      "25\n"
     ]
    }
   ],
   "source": [
    "# 볼링공 고르기 20220720\n",
    "# 경우의 수 = (전체 공 개수-자기자신의 무게를 뺀 수) * 공 무게\n",
    "\n",
    "n, m = map(int, input().split())            # n : 공의 게수, m : 공의 최대 무게\n",
    "data = list(map(int,input().split()))       # n개의 공의 무게를 리스트화\n",
    "\n",
    "array = [0] * 11                            # 1부터 10까지 공 무게 별로 몇개가 있는지 체크할 리스트 생성\n",
    "for x in data :                             # 1부터 10까지 공 무게 별로 몇개가 있는지 리스트화\n",
    "    array[x] += 1\n",
    "\n",
    "result = 0                                  # 결과값 초기화\n",
    "for i in range(1, m+1) : \n",
    "    n -= array[i]\n",
    "    result += array[i] * n\n",
    "\n",
    "print(result)"
   ]
  }
 ],
 "metadata": {
  "kernelspec": {
   "display_name": "Python 3.10.3 64-bit",
   "metadata": {
    "interpreter": {
     "hash": "98590ff4fe04c8543246b2a01debd3de3c5ca9b666f43f1fa87d5110c692004c"
    }
   },
   "name": "python3"
  },
  "language_info": {
   "codemirror_mode": {
    "name": "ipython",
    "version": 3
   },
   "file_extension": ".py",
   "mimetype": "text/x-python",
   "name": "python",
   "nbconvert_exporter": "python",
   "pygments_lexer": "ipython3",
   "version": "3.10.3-final"
  },
  "orig_nbformat": 2
 },
 "nbformat": 4,
 "nbformat_minor": 2
}