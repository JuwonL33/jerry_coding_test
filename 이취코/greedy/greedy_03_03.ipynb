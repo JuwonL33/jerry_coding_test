{
 "cells": [
  {
   "cell_type": "code",
   "execution_count": 1,
   "metadata": {},
   "outputs": [
    {
     "name": "stdout",
     "output_type": "stream",
     "text": [
      "1\n"
     ]
    }
   ],
   "source": [
    "# 그리디 - 문자열 뒤집기\n",
    "\n",
    "data = input()\n",
    "count0 = 0\n",
    "count1 = 0\n",
    "\n",
    "if data[0] == '1' :\n",
    "    count0 += 1\n",
    "else : \n",
    "    count1 += 1\n",
    "\n",
    "for i in range(len(data)-1) : \n",
    "    if data[i] != data[i+1] : \n",
    "        if data[i+1] == '1' : \n",
    "            count0 += 1\n",
    "        else : \n",
    "            count1 += 1\n",
    "\n",
    "print(min(count0, count1))"
   ]
  },
  {
   "cell_type": "code",
   "execution_count": 1,
   "metadata": {},
   "outputs": [
    {
     "name": "stdout",
     "output_type": "stream",
     "text": [
      "1\n"
     ]
    }
   ],
   "source": [
    "# 그리디 - 문자열 뒤집기 20220720\n",
    "\n",
    "data = input()                  # 0과 1로 이루어진 문자열\n",
    "count0 = 0                      # 0으로 바꿔야 하는 경우\n",
    "count1 = 0                      # 1로 바꿔야 하는 경우\n",
    "\n",
    "if data[0] == '1' :             # 문자열의 첫글자가 '1'이면 0으로 바꿔야 하므로\n",
    "    count0 += 1                 # count0을 1 증가시킴\n",
    "else :                          # 문자열의 첫글자가 '0'이면 1로 바꿔야 하므로\n",
    "    count1 += 1                 # count1을 1 증가시킴\n",
    "\n",
    "for i in range(len(data)-1) :   # i와 i+1을 비교하므로 length는 len(data)-1\n",
    "    if data[i] != data[i+1] :   # i와 i+1의 데이터가 서로 다를 때\n",
    "        if data[i+1] == '1' :   # i+1 데이터가 '1'이면 0으로 바꿔야 하므로\n",
    "            count0 += 1         # count0을 1증가시킴\n",
    "        else :                  # i+1 데이터가 '0'이면 1로 바꿔야 하므로\n",
    "            count1 += 1         # count1을 1증가시킴\n",
    "\n",
    "print(min(count0, count1))      # count0과 count1 중 더 작은 값을 리턴"
   ]
  }
 ],
 "metadata": {
  "kernelspec": {
   "display_name": "Python 3.10.3 64-bit",
   "metadata": {
    "interpreter": {
     "hash": "98590ff4fe04c8543246b2a01debd3de3c5ca9b666f43f1fa87d5110c692004c"
    }
   },
   "name": "python3"
  },
  "language_info": {
   "codemirror_mode": {
    "name": "ipython",
    "version": 3
   },
   "file_extension": ".py",
   "mimetype": "text/x-python",
   "name": "python",
   "nbconvert_exporter": "python",
   "pygments_lexer": "ipython3",
   "version": "3.10.3"
  },
  "orig_nbformat": 2
 },
 "nbformat": 4,
 "nbformat_minor": 2
}