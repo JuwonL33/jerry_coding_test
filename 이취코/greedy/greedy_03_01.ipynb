{
 "cells": [
  {
   "cell_type": "code",
   "execution_count": 2,
   "metadata": {},
   "outputs": [
    {
     "name": "stdout",
     "output_type": "stream",
     "text": [
      "2\n"
     ]
    }
   ],
   "source": [
    "# 모험가길드 - Greedy\n",
    "\n",
    "n = int(input())                            # 모험가의 수 \n",
    "data = list(map(int, input().split()))\n",
    "data.sort()\n",
    "\n",
    "result = 0                                  # 총 그룹의 수\n",
    "count = 0                                   # 현재 그룹에 포함된 모험가의 수\n",
    "\n",
    "for i in data : \n",
    "    count += 1                              # 현재 그룹에 해당 모험가 포함시키기\n",
    "    if count >= i :                         # 포함된 모험가의 수가 공포도보다 크거나 같다면\n",
    "        result += 1                         # 총 그룹 수 증가시키기\n",
    "        count = 0                           # 현재 그룹에 포함된 모험가의 수 초기화\n",
    "\n",
    "print(result)\n"
   ]
  },
  {
   "cell_type": "code",
   "execution_count": 3,
   "metadata": {},
   "outputs": [
    {
     "name": "stdout",
     "output_type": "stream",
     "text": [
      "2\n"
     ]
    }
   ],
   "source": [
    "# 모험가 길드 -> 나 혼자 풀기\n",
    "\n",
    "n = int(input())\n",
    "data = list(map(int, input().split()))\n",
    "data.sort()\n",
    "\n",
    "result = 0\n",
    "count = 0\n",
    "\n",
    "for i in data : \n",
    "    count += 1\n",
    "    if count >= i :\n",
    "        result += 1\n",
    "        count = 0\n",
    "\n",
    "print(result)"
   ]
  },
  {
   "cell_type": "code",
   "execution_count": 1,
   "metadata": {},
   "outputs": [
    {
     "name": "stdout",
     "output_type": "stream",
     "text": [
      "2\n"
     ]
    }
   ],
   "source": [
    "# 모험가 길드 20220720\n",
    "\n",
    "n = int(input())                                # 모험가의 수\n",
    "data = list(map(int, input().split()))          # 모험가의 수 대로 공포도 입력받아 리스트화\n",
    "data.sort()                                     # 공포도 오름차순으로 정렬\n",
    "\n",
    "count = 0                                       # 현재 그룹의 구성원 수\n",
    "result = 0                                      # 그룹의 수\n",
    "\n",
    "for d in data : \n",
    "    count += 1\n",
    "    if count >= d : \n",
    "        result += 1\n",
    "        count = 0\n",
    "\n",
    "print(result)"
   ]
  }
 ],
 "metadata": {
  "kernelspec": {
   "display_name": "Python 3.10.3 64-bit",
   "metadata": {
    "interpreter": {
     "hash": "98590ff4fe04c8543246b2a01debd3de3c5ca9b666f43f1fa87d5110c692004c"
    }
   },
   "name": "python3"
  },
  "language_info": {
   "codemirror_mode": {
    "name": "ipython",
    "version": 3
   },
   "file_extension": ".py",
   "mimetype": "text/x-python",
   "name": "python",
   "nbconvert_exporter": "python",
   "pygments_lexer": "ipython3",
   "version": "3.10.3"
  },
  "orig_nbformat": 2
 },
 "nbformat": 4,
 "nbformat_minor": 2
}