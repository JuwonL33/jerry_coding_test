{
 "cells": [
  {
   "cell_type": "code",
   "execution_count": 9,
   "metadata": {},
   "outputs": [
    {
     "name": "stdout",
     "output_type": "stream",
     "text": [
      "576\n"
     ]
    }
   ],
   "source": [
    "# 그리디 - 곱하기 혹은 더하기\n",
    "# 핵심 아이디어 - 0이거나 1인 경우엔 더하기, 그 외의 경우엔 모두 곱하기\n",
    "\n",
    "data = input()\n",
    "result = int(data[0])\n",
    "\n",
    "for i in range(1, len(data)) : \n",
    "    num = int(data[i])\n",
    "    if num <= 1 or result <= 1 : \n",
    "        result += num\n",
    "    else : \n",
    "        result *= num\n",
    "\n",
    "print(result)"
   ]
  },
  {
   "cell_type": "code",
   "execution_count": 11,
   "metadata": {},
   "outputs": [
    {
     "name": "stdout",
     "output_type": "stream",
     "text": [
      "210\n"
     ]
    }
   ],
   "source": [
    "# 그리디 - 곱하기 혹은 더하기\n",
    "# 핵심 아이디어 - 0이거나 1인 경우에 더하기, 그 외엔 모두 곱하기\n",
    "\n",
    "data = input()                      # string은 리스트화 가능\n",
    "result = int(data[0])\n",
    "\n",
    "for i in range(1, len(data)) : \n",
    "    num = int(data[i])\n",
    "    if num <= 1 or result <= 1 : \n",
    "        result += num\n",
    "    else : \n",
    "        result *= num\n",
    "\n",
    "print(result)"
   ]
  },
  {
   "cell_type": "code",
   "execution_count": 3,
   "metadata": {},
   "outputs": [
    {
     "name": "stdout",
     "output_type": "stream",
     "text": [
      "210\n"
     ]
    }
   ],
   "source": [
    "# 그리디 - 곱하기 혹은 더하기 20220720\n",
    "\n",
    "data = input()\n",
    "result = int(data[0])\n",
    "\n",
    "for i in range(1, len(data)) :\n",
    "    num = int(data[i])\n",
    "    if result <= 1 or num <= 1 : \n",
    "        result += num\n",
    "    else : \n",
    "        result *= num\n",
    "\n",
    "print(result)"
   ]
  }
 ],
 "metadata": {
  "kernelspec": {
   "display_name": "Python 3.10.3 64-bit",
   "metadata": {
    "interpreter": {
     "hash": "98590ff4fe04c8543246b2a01debd3de3c5ca9b666f43f1fa87d5110c692004c"
    }
   },
   "name": "python3"
  },
  "language_info": {
   "codemirror_mode": {
    "name": "ipython",
    "version": 3
   },
   "file_extension": ".py",
   "mimetype": "text/x-python",
   "name": "python",
   "nbconvert_exporter": "python",
   "pygments_lexer": "ipython3",
   "version": "3.10.3"
  },
  "orig_nbformat": 2
 },
 "nbformat": 4,
 "nbformat_minor": 2
}