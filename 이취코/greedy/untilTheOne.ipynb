{
 "cells": [
  {
   "cell_type": "code",
   "execution_count": 2,
   "metadata": {},
   "outputs": [
    {
     "name": "stdout",
     "output_type": "stream",
     "text": [
      "6\n"
     ]
    }
   ],
   "source": [
    "# Greedy 1이 될때까지\n",
    "\n",
    "n, k = map(int, input().split())    # n : 어떠한 수, k : 나눌 수\n",
    "result = 0\n",
    "\n",
    "# n이 k보다 크거나 같은 경우에는 최대한 k로 나누려 할 것\n",
    "while n >= k :\n",
    "    # n이 k로 나누어 떨어지지 않을 땐 떨어질 때까지 1을 빼기\n",
    "    while n % k != 0 :\n",
    "        n -= 1\n",
    "        result += 1\n",
    "    \n",
    "    # n을 k로 나누기\n",
    "    n //= k\n",
    "    result += 1\n",
    "\n",
    "# n이 k보다 작고 1보다 클 경우\n",
    "while n > 1 :\n",
    "    # 1을 뺀다\n",
    "    n -= 1\n",
    "    result += 1\n",
    "\n",
    "print(result)\n",
    "        "
   ]
  }
 ],
 "metadata": {
  "kernelspec": {
   "display_name": "Python 3.10.3 64-bit",
   "metadata": {
    "interpreter": {
     "hash": "98590ff4fe04c8543246b2a01debd3de3c5ca9b666f43f1fa87d5110c692004c"
    }
   },
   "name": "python3"
  },
  "language_info": {
   "codemirror_mode": {
    "name": "ipython",
    "version": 3
   },
   "file_extension": ".py",
   "mimetype": "text/x-python",
   "name": "python",
   "nbconvert_exporter": "python",
   "pygments_lexer": "ipython3",
   "version": "3.10.3"
  },
  "orig_nbformat": 2
 },
 "nbformat": 4,
 "nbformat_minor": 2
}