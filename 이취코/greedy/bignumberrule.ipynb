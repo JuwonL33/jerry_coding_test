{
 "cells": [
  {
   "cell_type": "code",
   "execution_count": 6,
   "metadata": {},
   "outputs": [
    {
     "name": "stdout",
     "output_type": "stream",
     "text": [
      "46\n"
     ]
    }
   ],
   "source": [
    "# Greedy 큰수의 법칙 / 단순버전\n",
    "N, M, K = map(int, input().split())     # N : 배열의 크기, M : 숫자가 더해지는 횟수, K : 특정 인덱스의 수가 연속으로 더해질 수 있는 횟수\n",
    "lst = list(map(int, input().split()))\n",
    "\n",
    "lst.sort()                              # 정렬\n",
    "sum = 0                                 # 합계\n",
    "\n",
    "first = lst[len(lst)-1]\n",
    "second = lst[len(lst)-2]\n",
    "\n",
    "while True :\n",
    "    for i in range(K) :\n",
    "        if M == 0 :\n",
    "            break                       # 숫자 더하는 횟수가 0이면 for문 탈출\n",
    "        sum += first\n",
    "        M -= 1\n",
    "    \n",
    "    if M == 0 :\n",
    "        break\n",
    "    sum += second\n",
    "    M -= 1\n",
    "\n",
    "print(sum)\n",
    "    "
   ]
  },
  {
   "cell_type": "code",
   "execution_count": 11,
   "metadata": {},
   "outputs": [
    {
     "name": "stdout",
     "output_type": "stream",
     "text": [
      "49\n"
     ]
    }
   ],
   "source": [
    "# Greedy 큰수의 법칙 / N의 크기가 커졌을 때 버전\n",
    "\n",
    "N, M, K = map(int, input().split())     # N : 배열의 크기, M : 숫자가 더해지는 횟수, K : 특정 인덱스의 수가 연속으로 더해질 수 있는 횟수\n",
    "lst = list(map(int, input().split()))\n",
    "\n",
    "lst.sort()                              # 정렬\n",
    "sum = 0                                 # 합계\n",
    "\n",
    "first = lst[N-1]\n",
    "second = lst[N-2]\n",
    "\n",
    "count = 0\n",
    "# 가장 큰 수를 더하는 횟수 계산\n",
    "count = int(M/(K+1)) * K\n",
    "count += M % (K+1)\n",
    "\n",
    "sum = 0\n",
    "sum += (count) * first                  # 가장 큰 수 더하기\n",
    "sum += (M - count) * second             # 그 다음으로 큰 수 더하기\n",
    "\n",
    "print(sum)"
   ]
  }
 ],
 "metadata": {
  "kernelspec": {
   "display_name": "Python 3.10.3 64-bit",
   "metadata": {
    "interpreter": {
     "hash": "98590ff4fe04c8543246b2a01debd3de3c5ca9b666f43f1fa87d5110c692004c"
    }
   },
   "name": "python3"
  },
  "language_info": {
   "codemirror_mode": {
    "name": "ipython",
    "version": 3
   },
   "file_extension": ".py",
   "mimetype": "text/x-python",
   "name": "python",
   "nbconvert_exporter": "python",
   "pygments_lexer": "ipython3",
   "version": "3.10.3"
  },
  "orig_nbformat": 2
 },
 "nbformat": 4,
 "nbformat_minor": 2
}