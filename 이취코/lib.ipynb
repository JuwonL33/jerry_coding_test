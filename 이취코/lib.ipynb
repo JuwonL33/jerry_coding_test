{
 "cells": [
  {
   "cell_type": "code",
   "execution_count": 3,
   "metadata": {},
   "outputs": [
    {
     "name": "stdout",
     "output_type": "stream",
     "text": [
      "[0, 0, 1, 1, 2, 2, 3, 4, 5, 5, 6, 7, 8, 9, 9]\n",
      "[0, 0, 1, 1, 2, 2, 3, 4, 5, 5, 6, 7, 8, 9, 9]\n",
      "[('바나나', 2), ('복숭아', 3), ('사과', 5)]\n"
     ]
    }
   ],
   "source": [
    "# sorted() 함수\n",
    "# input : list, dict\n",
    "# output : list (집합 자료형이나 딕셔너리 자료형을 입력받아도 결과는 리스트)\n",
    "\n",
    "array = [7, 5, 9, 0, 3, 1, 6, 2, 9, 1, 4, 8, 0, 5, 2]\n",
    "\n",
    "result = sorted(array)\n",
    "print(result)\n",
    "\n",
    "# sort() 함수, 리스트 객체의 내장함수이다.\n",
    "result2 = array.sort()\n",
    "print(array)\n",
    "\n",
    "# key를 활용한 소스 코드\n",
    "# sorted()나 sort()를 이용할 때 key 매개변수를 입력받을 수 있음\n",
    "# key 값으로는 하나의 함수가 들어가야 하며 이는 정렬 기준이 됨\n",
    "# data[1]은 array2의 튜플 데이터 중 두번째 값 즉 숫자값을 정렬 기준으로 삼겠다는 뜻\n",
    "\n",
    "array2 = [('바나나', 2), ('사과', 5), ('복숭아', 3)]\n",
    "\n",
    "def setting(data) :\n",
    "    return data[1]\n",
    "\n",
    "result3 = sorted(array2, key=setting)\n",
    "print(result3)"
   ]
  }
 ],
 "metadata": {
  "kernelspec": {
   "display_name": "Python 3.10.3 64-bit",
   "metadata": {
    "interpreter": {
     "hash": "98590ff4fe04c8543246b2a01debd3de3c5ca9b666f43f1fa87d5110c692004c"
    }
   },
   "name": "python3"
  },
  "language_info": {
   "codemirror_mode": {
    "name": "ipython",
    "version": 3
   },
   "file_extension": ".py",
   "mimetype": "text/x-python",
   "name": "python",
   "nbconvert_exporter": "python",
   "pygments_lexer": "ipython3",
   "version": "3.10.3"
  },
  "orig_nbformat": 2
 },
 "nbformat": 4,
 "nbformat_minor": 2
}