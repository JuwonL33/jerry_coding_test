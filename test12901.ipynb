# 2016년
# https://school.programmers.co.kr/learn/courses/30/lessons/12901?language=python3
import datetime

def solution(a, b):
    arr = ['SUN', 'MON', 'TUE', 'WED', 'THU', 'FRI', 'SAT']
    start = 5
    start_date, end_date = datetime.datetime(2016,1,1), datetime.datetime(2016,a,b)
    diff = end_date - start_date
    return arr[(start+diff.days)%7]

print(solution(5, 24))
