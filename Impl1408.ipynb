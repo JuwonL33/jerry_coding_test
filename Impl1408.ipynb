# 24
# https://www.acmicpc.net/problem/1408

from datetime import datetime

current_time = datetime.strptime(input(), '%H:%M:%S')
start_time = datetime.strptime(input(), '%H:%M:%S')

h, m, s = str(start_time-current_time).split(":")
h = "0"+h if len(h) == 1 else h
m = "0"+m if len(m) == 1 else m
s = s if len(s) == 1 else s
result = h + ":" + m + ":" + s

if len(result) > 8 : print(result[-8:])
else : print(result)
