# 추억 점수
# https://school.programmers.co.kr/learn/courses/30/lessons/176963?language=python3

def solution(name, yearning, photos):
    answer = []
    dic = dict()
    for i in zip(name, yearning) : 
        dic[i[0]] = i[1]
    
    for photo in range(len(photos)) : 
        cnt = 0
        for i in range(len(photos[photo])) : 
            if photos[photo][i] in list(dic.keys()) : 
                cnt += dic[photos[photo][i]]
        answer.append(cnt)
    return answer

print(solution(["may", "kein", "kain", "radi"],	[5, 10, 1, 3],	[["may", "kein", "kain", "radi"],["may", "kein", "brin", "deny"], ["kon", "kain", "may", "coni"]]))
print(solution(["kali", "mari", "don"],	[11, 1, 55],	[["kali", "mari", "don"], ["pony", "tom", "teddy"], ["con", "mona", "don"]]))
print(solution(["may", "kein", "kain", "radi"],	[5, 10, 1, 3],	[["may"],["kein", "deny", "may"], ["kon", "coni"]]))
