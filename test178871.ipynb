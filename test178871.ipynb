# 달리기 경주
# https://school.programmers.co.kr/learn/courses/30/lessons/178871?language=python3

def solution(players, callings):
    for call in callings : 
        per = players.index(call)
        if per != 0 : 
            players[per-1], players[per] = players[per], players[per-1]
        else : pass
    return players

print(solution(["mumu", "soe", "poe", "kai", "mine"], ["kai", "kai", "mine", "mine"]))
