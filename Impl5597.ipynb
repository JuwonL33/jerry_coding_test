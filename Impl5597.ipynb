# 과제 안 내신 분..?
# https://www.acmicpc.net/problem/5597

arr = [ i for i in range(1, 31) ]

for _ in range(28) : 
    n = int(input())
    arr.remove(n)
    
for a in arr : 
    print(a)
