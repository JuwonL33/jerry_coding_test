# 두 정수 사이의 합
# https://school.programmers.co.kr/learn/courses/30/lessons/12912

def solution(a, b) : return sum(i for i in range(min(a, b), max(a, b)+1)) if a != b else a

print(solution(3, 5))
print(solution(3, 3))
print(solution(5, 3))
